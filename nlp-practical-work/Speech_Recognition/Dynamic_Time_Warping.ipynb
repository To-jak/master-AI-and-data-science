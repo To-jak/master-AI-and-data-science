{
 "cells": [
  {
   "cell_type": "markdown",
   "metadata": {},
   "source": [
    "# IA315 Multimodal Dialogue: Dynamic Time Warping  \n",
    "  \n",
    "Thomas Jacquemin  \n",
    "MS IA 2019-2020"
   ]
  },
  {
   "cell_type": "code",
   "execution_count": 1,
   "metadata": {},
   "outputs": [],
   "source": [
    "import os\n",
    "import numpy as np\n",
    "import random\n",
    "\n",
    "from scipy.io import wavfile\n",
    "\n",
    "from sklearn.model_selection import KFold\n",
    "from sklearn.metrics import accuracy_score\n",
    "from sklearn.metrics import confusion_matrix\n",
    "\n",
    "import matplotlib.pyplot as plt"
   ]
  },
  {
   "cell_type": "markdown",
   "metadata": {},
   "source": [
    "How to calculate a measure of similarity between two sequences that takes into account the Time distortions? We will see in this notebook an implementation of  DTW (Dynamic Time Warping) which calculates the optimal path in the similarity matrix of two sequences"
   ]
  },
  {
   "cell_type": "markdown",
   "metadata": {},
   "source": [
    "## 1. Data  \n",
    "  \n",
    "The directory `DATA` contains three directories:\n",
    "\n",
    "* `SIG` contains 12 repetitions of numbers from 0 to 9 by speaker1 ($Fe = 8000$kHz). `SIG_Rep_5_Number_3.wav` is the recording corresponding to the fifth repetition of the number “3”.\n",
    "* `SIG_MIXED` contains 6 repetitions of the number by speaker1 (`SIG_MIXED_Rep_1:6`) and then by speaker2 (`SIG_MIXED_Rep_7:12`)."
   ]
  },
  {
   "cell_type": "markdown",
   "metadata": {},
   "source": [
    "## 2. Speech Feature Extraction  \n",
    "  \n",
    "We will Write a python script to calculate the cepstral parameterization associated with each pronunciation.  \n",
    "For each signal, the result of the analysis is a sequence of parameters that will be stored in a matrix\n",
    "according to the following convention:  \n",
    "  \n",
    "  $$number\\ of\\ cepstral\\ vectors \\begin{pmatrix}\n",
    "X_1 (1st\\ vector) ({line\\ vector}) \\\\\n",
    "X_2 (second\\ vector) \\\\\n",
    "\\vdots \\\\\n",
    "X_{lX} (last\\ vector) \n",
    "\\end{pmatrix}$$\n",
    "$$\\hspace{4cm} p$$"
   ]
  },
  {
   "cell_type": "code",
   "execution_count": 2,
   "metadata": {},
   "outputs": [],
   "source": [
    "def cepstral_representation(audio_signal, window_size, window_shift, p):\n",
    "    \n",
    "    cepstral_matrix = []\n",
    "    index = 0\n",
    "    while (index + window_size) <= len(audio_signal):\n",
    "        \n",
    "        # Get window signal\n",
    "        window = np.arange(index, index + window_size)\n",
    "        signal_window = audio_signal[window]\n",
    "        \n",
    "        # FFT\n",
    "        spectrum = np.fft.fft(signal_window)\n",
    "        \n",
    "        # Hanning Filter\n",
    "        spectrum_filtered = np.hanning(window_size) * spectrum\n",
    "        \n",
    "        # Take the log\n",
    "        realmin = np.finfo(np.double).tiny\n",
    "        log_spectrum = np.log(abs(spectrum_filtered + realmin))\n",
    "        \n",
    "        # iFFT\n",
    "        cepstrum = np.real(np.fft.ifft(log_spectrum))\n",
    "        \n",
    "        # Adding p points\n",
    "        cepstral_matrix.append(np.array(cepstrum[:p]))\n",
    "        \n",
    "        index += window_shift\n",
    "    \n",
    "    return np.array(cepstral_matrix)"
   ]
  },
  {
   "cell_type": "markdown",
   "metadata": {},
   "source": [
    "Regard to the parameters of the analysis, the following choices will be preferred :"
   ]
  },
  {
   "cell_type": "code",
   "execution_count": 3,
   "metadata": {},
   "outputs": [],
   "source": [
    "window_size = 256\n",
    "window_shift = 128\n",
    "p = 10"
   ]
  },
  {
   "cell_type": "markdown",
   "metadata": {},
   "source": [
    "## 3. Time alignment by dynamic programming  \n",
    "  \n",
    "We will now write a python function performing time alignment by dynamic programming between two sequences\n",
    "of vectors stored with the above convention.  \n",
    "  \n",
    "The function will process as follows:  \n",
    "  \n",
    "**Inputs**: The two vector sequences $(X_1, \\cdots , X_{lX})$ and $(Y_1, \\cdots , Y_{lY})$ stored in the two matrices, as well as a parameter $\\gamma$.  \n",
    "\n",
    "**Calculation of the similarity matrix**: Given the two vector sequences, this is the matrix $D(l_X \\times l_Y)$ such that $D(i, j) = ||X_i − Y_j||$.  \n",
    "  \n",
    "**Initialization of the cumulative distance matrix**: First row and column of the cumulative distance matrix $C(l_X \\times l_Y )$ such that $C(i, j)$ contains the cumulative distance along the minimum cumulative distance path joining the node $(i, j)$ at the initial node $(1, 1)$.  \n",
    "  \n",
    "**Calculation of the matrix of cumulative distances**:  **This is the dynamic programming part. We don't want to test all the possible deformation paths, and we rather obtain the optimal solution from intermediate solutions.  Theses optimal intermediate solutions are obtained through an iterative process which allows to calculate the minimum distance between each subsequence\n",
    "possible X, and each possible subsequence of Y. We calculate theses solutions for each index of the matrix, taking the optimal solution either from the left in the matrix, or above, or even following the diagonal.  \n",
    "we can use a “code” representing the three possible predecessors: 0 if we come from above, 1 if it's from the left and 2 in diagonal.**  \n",
    "  \n",
    "**Bactracking**: From the node $(l_X, l_Y )$, reconstruction of the optimal path (starting from the end).\n",
    "\n",
    "**Outputs**: The cumulative distance along the path of least cost and the alignment path."
   ]
  },
  {
   "cell_type": "code",
   "execution_count": 4,
   "metadata": {},
   "outputs": [],
   "source": [
    "def DTW(X, Y, gamma=1):\n",
    "    \n",
    "    shape = (len(X), len(Y))\n",
    "    # Similarity matrix\n",
    "    D = np.zeros(shape)\n",
    "    for i in range(len(X)):\n",
    "        for j in range(len(Y)):\n",
    "            D[i, j] = np.linalg.norm(X[i] - Y[j])**2\n",
    "            \n",
    "    # Cumulative distance matrix initialization\n",
    "    C = np.zeros(shape)\n",
    "    backtrack = np.zeros(shape)\n",
    "    C[0, 0] = D[0, 0]\n",
    "    backtrack[0, 0] = -1\n",
    "    # First column init\n",
    "    for i in range(1, len(X)):\n",
    "        C[i, 0] = D[i, 0] + C[i-1, 0]\n",
    "        backtrack[i, 0] = 0\n",
    "    # First line init\n",
    "    for j in range(1, len(Y)):\n",
    "        C[0, j] = D[0, j] + C[0, j-1]\n",
    "        backtrack[0, j] = 1\n",
    "        \n",
    "    # Dynamic cumulative distances matrix\n",
    "    for i in range(1, len(X)):\n",
    "        for j in range(1, len(Y)):\n",
    "            distances = [D[i, j] + C[i-1, j], D[i, j] + C[i, j-1], gamma * D[i, j] + C[i-1, j-1]]\n",
    "            C[i, j], backtrack[i, j] = min(distances), np.argmin(distances)\n",
    "            \n",
    "    # Backtracking path\n",
    "    path = []\n",
    "    i, j = len(X)-1, len(Y)-1\n",
    "    path.append([i, j])\n",
    "    while True:\n",
    "        last_node = backtrack[i, j]\n",
    "        if last_node == 0:\n",
    "            i -= 1\n",
    "        elif last_node == 1:\n",
    "            j -= 1\n",
    "        elif last_node == 2:\n",
    "            i -= 1\n",
    "            j -= 1\n",
    "        elif last_node == -1:\n",
    "            break\n",
    "        path.append([i, j])\n",
    "\n",
    "    # Reverse path\n",
    "    path = path[::-1]\n",
    "    \n",
    "    return C[len(X)-1, len(Y)-1], path, C, D"
   ]
  },
  {
   "cell_type": "markdown",
   "metadata": {},
   "source": [
    "### Quick test"
   ]
  },
  {
   "cell_type": "code",
   "execution_count": 5,
   "metadata": {},
   "outputs": [
    {
     "name": "stdout",
     "output_type": "stream",
     "text": [
      "Cumulative distance: 0.0 \n",
      "\n",
      "Optimal path: [[0, 0], [1, 1], [1, 2], [2, 3], [3, 3], [4, 4], [5, 4]] \n",
      "\n",
      "Cumulative distance matrix C: \n",
      " [[ 0.  1.  2. 11. 36.]\n",
      " [ 1.  0.  0.  4. 20.]\n",
      " [10.  4.  4.  0.  4.]\n",
      " [19.  8.  8.  0.  4.]\n",
      " [44. 24. 24.  4.  0.]\n",
      " [69. 40. 40.  8.  0.]] \n",
      "\n",
      "Distance matrix D: \n",
      " [[ 0.  1.  1.  9. 25.]\n",
      " [ 1.  0.  0.  4. 16.]\n",
      " [ 9.  4.  4.  0.  4.]\n",
      " [ 9.  4.  4.  0.  4.]\n",
      " [25. 16. 16.  4.  0.]\n",
      " [25. 16. 16.  4.  0.]] \n",
      "\n"
     ]
    }
   ],
   "source": [
    "Y = [1, 2, 2, 4, 6]\n",
    "X = [1, 2, 4, 4, 6, 6]\n",
    "distance, path, cumulative_matrix, distance_matrix = DTW(X, Y, gamma=2)\n",
    "\n",
    "print('Cumulative distance: {} \\n'.format(distance))\n",
    "print('Optimal path: {} \\n'.format(path))\n",
    "print('Cumulative distance matrix C: \\n {} \\n'.format(cumulative_matrix))\n",
    "print('Distance matrix D: \\n {} \\n'.format(distance_matrix))"
   ]
  },
  {
   "cell_type": "code",
   "execution_count": 6,
   "metadata": {},
   "outputs": [
    {
     "name": "stdout",
     "output_type": "stream",
     "text": [
      "Cumulative distance: 4.0 \n",
      "\n",
      "Optimal path: [[0, 0], [0, 1], [0, 2], [1, 2], [2, 3], [3, 3], [4, 4], [5, 4]] \n",
      "\n",
      "Cumulative distance matrix C: \n",
      " [[ 1.  1.  1.  5. 21.]\n",
      " [ 5.  2.  2.  3. 12.]\n",
      " [14.  6.  6.  2.  6.]\n",
      " [30. 15. 15.  3.  4.]\n",
      " [55. 31. 31.  7.  3.]\n",
      " [91. 56. 56. 16.  4.]] \n",
      "\n",
      "Distance matrix D: \n",
      " [[ 1.  0.  0.  4. 16.]\n",
      " [ 4.  1.  1.  1.  9.]\n",
      " [ 9.  4.  4.  0.  4.]\n",
      " [16.  9.  9.  1.  1.]\n",
      " [25. 16. 16.  4.  0.]\n",
      " [36. 25. 25.  9.  1.]] \n",
      "\n"
     ]
    }
   ],
   "source": [
    "Y = [1, 2, 2, 4, 6]\n",
    "X = [2, 3, 4, 5, 6, 7]\n",
    "distance, path, cumulative_matrix, distance_matrix = DTW(X, Y, gamma=2)\n",
    "\n",
    "print('Cumulative distance: {} \\n'.format(distance))\n",
    "print('Optimal path: {} \\n'.format(path))\n",
    "print('Cumulative distance matrix C: \\n {} \\n'.format(cumulative_matrix))\n",
    "print('Distance matrix D: \\n {} \\n'.format(distance_matrix))"
   ]
  },
  {
   "cell_type": "markdown",
   "metadata": {},
   "source": [
    "# 4. Application to speech data"
   ]
  },
  {
   "cell_type": "markdown",
   "metadata": {},
   "source": [
    "We can test the algorithm with the data presented in the first part.  \n",
    "First we can align a reference sequence (for example, the one corresponding to the first repetition of the first word) with all the others."
   ]
  },
  {
   "cell_type": "code",
   "execution_count": 7,
   "metadata": {},
   "outputs": [],
   "source": [
    "def get_coefs_from_file(path):\n",
    "    \"\"\"Directly get cepstral parameterization of\n",
    "       an audio signal given its file path\"\"\"\n",
    "    \n",
    "    _, audio_signal = wavfile.read(path)\n",
    "    return cepstral_representation(audio_signal, window_size, window_shift, p)\n",
    "\n",
    "# Our reference audio signal: 1st repetition of the number 0 \n",
    "data_folder = './Data/SIG/'\n",
    "reference_file = 'SIG_Rep_1_Number_0.wav'\n",
    "\n",
    "X = get_coefs_from_file(data_folder + reference_file)"
   ]
  },
  {
   "cell_type": "markdown",
   "metadata": {},
   "source": [
    "We can now align this sequence with all of the other files."
   ]
  },
  {
   "cell_type": "code",
   "execution_count": 8,
   "metadata": {},
   "outputs": [],
   "source": [
    "def align_reference_with_others(reference, data_folder, other_files, DTW, gamma):\n",
    "\n",
    "    distances = []\n",
    "\n",
    "    # We will track the number in the name of the audio file\n",
    "    # to display a different color for each number\n",
    "    numbers = []\n",
    "\n",
    "    for f in other_files:\n",
    "        if f == reference_file:\n",
    "            continue\n",
    "\n",
    "        number = int(f[-5])\n",
    "\n",
    "        Y = get_coefs_from_file(data_folder + f)\n",
    "\n",
    "        distance, _, _, _ = DTW(reference, Y, gamma)\n",
    "        distances.append(distance)\n",
    "        numbers.append(number)\n",
    "        \n",
    "    colors = {0: 'blue', 1: 'orange', 2: 'green', 3: 'red', 4: 'purple', 5: 'brown', 6: 'pink', 7: 'gray', 8: 'olive', 9: 'cyan'}\n",
    "\n",
    "    plt.figure(figsize=(10,6))\n",
    "    plt.bar(np.arange(len(distances)), distances, color=list(map(lambda x: colors[x], numbers)))\n",
    "    labels = list(colors.keys())\n",
    "    handles = [plt.Rectangle((0,0),1,1, color=colors[label]) for label in labels]\n",
    "    plt.legend(handles, labels)\n",
    "    plt.xlabel('Audio Signal')\n",
    "    plt.ylabel('Similarity Distance')\n",
    "    plt.show()"
   ]
  },
  {
   "cell_type": "code",
   "execution_count": 9,
   "metadata": {},
   "outputs": [
    {
     "data": {
      "image/png": "[encoded data removed]",
      "text/plain": [
       "<Figure size 720x432 with 1 Axes>"
      ]
     },
     "metadata": {
      "needs_background": "light"
     },
     "output_type": "display_data"
    }
   ],
   "source": [
    "files = os.listdir(data_folder)\n",
    "files.remove(reference_file)\n",
    "# Sorting files by number\n",
    "files.sort(key=lambda x: x[-5])\n",
    "\n",
    "align_reference_with_others(X, data_folder, files, DTW, gamma=2)"
   ]
  },
  {
   "cell_type": "markdown",
   "metadata": {},
   "source": [
    "It is very clear that the average distance between the reference audio file and those corresponding to the number 0 are much closer in terms of similarity distance (distances in blue in the graph). \n",
    "The discrimination performance is satisfactory, since the reference audio signal corresponds to the repetition of the number 0."
   ]
  },
  {
   "cell_type": "markdown",
   "metadata": {},
   "source": [
    "In the DTW algorithm, we had a `gamma` parameter which penalizes the diagonal direction in the dynamic evaluation of the next iteration of the optimal path. \n",
    "A low gamma favors the choice of the diagonal, and thus of the linearity in the correspondence of the sequences. This is not really a case that is often encountered in real data. A gamma below 1 can even make sequences look more similar than they really are: the discrimination criterion will be less effective."
   ]
  },
  {
   "cell_type": "code",
   "execution_count": 10,
   "metadata": {},
   "outputs": [
    {
     "data": {
      "image/png": "[encoded data removed]",
      "text/plain": [
       "<Figure size 720x432 with 1 Axes>"
      ]
     },
     "metadata": {
      "needs_background": "light"
     },
     "output_type": "display_data"
    }
   ],
   "source": [
    "align_reference_with_others(X, data_folder, files, DTW, gamma=0.01)"
   ]
  },
  {
   "cell_type": "markdown",
   "metadata": {},
   "source": [
    "On the other hand, a higher gamma will favour the exploration of distortions between the two signals. This can be a good thing, since words are not always pronounced at the same speed or in the same way. (But if it's too high we may favour these distortions too much, and we risk to have a poorer performance.)  \n",
    "  \n",
    "We will continue with `gamma = 2`."
   ]
  },
  {
   "cell_type": "markdown",
   "metadata": {},
   "source": [
    "**Note on the use of Euclidian distance for similarity:**  \n",
    "  \n",
    "Choosing the euclidan distance gives equal importance to all the features in the cepstral parametrization. This hypothesis may seem acceptable in view of the differences between aligned sequences corresponding to different repetitions of the same word, but maybe a proper weighting for the coefficient could improve the performance."
   ]
  },
  {
   "cell_type": "markdown",
   "metadata": {},
   "source": [
    "# 5. Evaluation of speech recognition"
   ]
  },
  {
   "cell_type": "markdown",
   "metadata": {},
   "source": [
    "We will try to evaluate the discrimination performance in different situations described by different protocols, to see if we can use a \"training\" set to predict and therefore recognize a new \"test\" audio signal."
   ]
  },
  {
   "cell_type": "code",
   "execution_count": 11,
   "metadata": {},
   "outputs": [],
   "source": [
    "def get_distances(x, X_train, DTW, gamma):\n",
    "    \"\"\" Get similarity distances computed with\n",
    "    Dynamic Time Wrapping method DTW (with gamma parameter)\n",
    "    between the cepstral parameterization of x and an entire training set\"\"\"\n",
    "    \n",
    "    distances = []\n",
    "    for y in X_train:\n",
    "        distance, _, _, _ = DTW(x, y, gamma)\n",
    "        distances.append(distance)\n",
    "    return np.array(distances)"
   ]
  },
  {
   "cell_type": "markdown",
   "metadata": {},
   "source": [
    "## Protocol 1  \n",
    "  \n",
    "The database is randomly divided in three subsets. Two of these subsets (2/3 of repetitions) are used for the training set and the remaining subset (1/3 of repetitions) is used for the test set. The procedure is repeated by rotating the test and training sets."
   ]
  },
  {
   "cell_type": "code",
   "execution_count": 12,
   "metadata": {},
   "outputs": [],
   "source": [
    "def run_protocol_1(DTW, gamma):\n",
    "    data_folder = './Data/SIG/'\n",
    "    files = os.listdir(data_folder)\n",
    "    random.shuffle(files)\n",
    "\n",
    "    X = np.array(list(map(lambda x: get_coefs_from_file(data_folder + x), files)))\n",
    "    y = np.array(list(map(lambda x: int(x[-5]), files)))\n",
    "    \n",
    "    kf = KFold(n_splits=3)\n",
    "\n",
    "    y_pred = []\n",
    "    current_fold = 1\n",
    "    for train_index, test_index in kf.split(X, y):\n",
    "        print('Kfold: {}/3'.format(current_fold))\n",
    "        X_train, X_test = X[train_index], X[test_index]\n",
    "        y_train, y_test = y[train_index], y[test_index]\n",
    "\n",
    "        fold_predictions = []\n",
    "        for x in X_test:\n",
    "            distances = get_distances(x, X_train, DTW, gamma)\n",
    "            prediction = y_train[np.argmin(distances)]\n",
    "            fold_predictions.append(prediction)\n",
    "        y_pred.extend(fold_predictions)\n",
    "        current_fold += 1\n",
    "        \n",
    "    return y, y_pred"
   ]
  },
  {
   "cell_type": "markdown",
   "metadata": {},
   "source": [
    "## Protocol 2  \n",
    "  \n",
    "A database containing only one pronunciation of each number is used as a training database. The remaining repetitions are used for the test set. This procedure aims at evaluating the generalization capabilities of the recognition system."
   ]
  },
  {
   "cell_type": "code",
   "execution_count": 13,
   "metadata": {},
   "outputs": [],
   "source": [
    "def run_protocol_2(DTW, gamma):\n",
    "    data_folder = './Data/SIG/'\n",
    "    files = os.listdir(data_folder)\n",
    "    \n",
    "    train_files = []\n",
    "    for number in range(10):\n",
    "        files.remove('SIG_Rep_1_Number_{}.wav'.format(number))\n",
    "        train_files.append('SIG_Rep_1_Number_{}.wav'.format(number))\n",
    "\n",
    "    X_train = np.array(list(map(lambda x: get_coefs_from_file(data_folder + x), train_files)))\n",
    "    y_train = np.array(list(map(lambda x: int(x[-5]), train_files)))\n",
    "    \n",
    "    X_test = np.array(list(map(lambda x: get_coefs_from_file(data_folder + x), files)))\n",
    "    y_test = np.array(list(map(lambda x: int(x[-5]), files)))\n",
    "    \n",
    "    y_pred = []\n",
    "    for x in X_test:\n",
    "        distances = get_distances(x, X_train, DTW, gamma)\n",
    "        prediction = y_train[np.argmin(distances)]\n",
    "        y_pred.append(prediction)\n",
    "        \n",
    "    return y_test, y_pred"
   ]
  },
  {
   "cell_type": "markdown",
   "metadata": {},
   "source": [
    "## Protocol 3  \n",
    "  \n",
    "The first half of the database of `SIGMIX` is used as a training database and the second half as the test database. The procedure is repeated by inversing the role of the two sets. This procedure aims at evaluating the generalization capabilities on a database containing data from the two speakers."
   ]
  },
  {
   "cell_type": "code",
   "execution_count": 14,
   "metadata": {},
   "outputs": [],
   "source": [
    "def run_protocol_3(DTW, gamma):\n",
    "    data_folder = './Data/SIGMIX/'\n",
    "    files = os.listdir(data_folder)\n",
    "    # Sorting files by repetition number\n",
    "    files.sort(key=lambda x: x[len('SIGMIX_Rep_')])\n",
    "    \n",
    "    # Splitting Train Test\n",
    "    half = len(files)//2\n",
    "    test_files = files[:half]\n",
    "    train_files = files[half:]\n",
    "    \n",
    "    y_true = np.array(list(map(lambda x: int(x[-5]), files)))\n",
    "    \n",
    "    X_train = np.array(list(map(lambda x: get_coefs_from_file(data_folder + x), train_files)))\n",
    "    y_train = np.array(list(map(lambda x: int(x[-5]), train_files)))\n",
    "    \n",
    "    X_test = np.array(list(map(lambda x: get_coefs_from_file(data_folder + x), test_files)))\n",
    "    y_test = np.array(list(map(lambda x: int(x[-5]), test_files)))\n",
    "    \n",
    "    y_pred = []\n",
    "    swap_train_test = False\n",
    "    while True:\n",
    "        print('First speaker: {} | Second speaker: {}\\n'.format('Test' if not swap_train_test else 'Train',\n",
    "                                                                'Train' if not swap_train_test else 'Test'))\n",
    "        for x in X_test:\n",
    "            distances = get_distances(x, X_train, DTW, gamma)\n",
    "            prediction = y_train[np.argmin(distances)]\n",
    "            y_pred.append(prediction)\n",
    "            \n",
    "        if swap_train_test == True:\n",
    "            break\n",
    "        swap_train_test = True\n",
    "        print('Swapping Test and Train sets\\n')\n",
    "        X_train, y_train, X_test, y_test = X_test, y_test, X_train, y_train \n",
    "        \n",
    "    return y_true, y_pred"
   ]
  },
  {
   "cell_type": "markdown",
   "metadata": {},
   "source": [
    "## Protocols analysis"
   ]
  },
  {
   "cell_type": "code",
   "execution_count": 15,
   "metadata": {},
   "outputs": [],
   "source": [
    "def evaluation_recognition(DTW_cback=DTW, gamma=1, protocol=1):\n",
    "    \n",
    "    print('==== Evaluation of Speech Recognition for protocol {} ====\\n'.format(protocol))\n",
    "    \n",
    "    if protocol == 1:\n",
    "        print('3 folds validation\\n')\n",
    "        y_true, y_pred = run_protocol_1(DTW_cback, gamma)\n",
    "        \n",
    "    elif protocol == 2:\n",
    "        print('Generalization (small training set: one rep for each number)\\n')\n",
    "        y_true, y_pred = run_protocol_2(DTW_cback, gamma)\n",
    "        \n",
    "    elif protocol == 3:\n",
    "        print('Generalization (data from two speakers)\\n')\n",
    "        y_true, y_pred = run_protocol_3(DTW_cback, gamma)\n",
    "        \n",
    "    else:\n",
    "        return\n",
    "    \n",
    "    conf_matrix = confusion_matrix(y_true, y_pred)\n",
    "    accuracy = accuracy_score(y_true, y_pred)\n",
    "    \n",
    "    print('==== Results ====\\n')\n",
    "    print('Accuracy Score: {}\\n\\n'.format(accuracy))\n",
    "    print('Confusion Matrix: \\n{}\\n'.format(conf_matrix))\n",
    "    \n",
    "    return conf_matrix, accuracy_score"
   ]
  },
  {
   "cell_type": "code",
   "execution_count": 16,
   "metadata": {
    "scrolled": false
   },
   "outputs": [
    {
     "name": "stdout",
     "output_type": "stream",
     "text": [
      "==== Evaluation of Speech Recognition for protocol 1 ====\n",
      "\n",
      "3 folds validation\n",
      "\n",
      "Kfold: 1/3\n",
      "Kfold: 2/3\n",
      "Kfold: 3/3\n",
      "==== Results ====\n",
      "\n",
      "Accuracy Score: 0.975\n",
      "\n",
      "\n",
      "Confusion Matrix: \n",
      "[[12  0  0  0  0  0  0  0  0  0]\n",
      " [ 0 12  0  0  0  0  0  0  0  0]\n",
      " [ 0  0 12  0  0  0  0  0  0  0]\n",
      " [ 0  0  0 11  0  0  0  0  0  1]\n",
      " [ 0  0  0  0 12  0  0  0  0  0]\n",
      " [ 0  0  0  0  0 12  0  0  0  0]\n",
      " [ 0  0  0  0  0  0 12  0  0  0]\n",
      " [ 0  0  0  0  0  0  0 12  0  0]\n",
      " [ 0  0  0  0  0  0  1  1 10  0]\n",
      " [ 0  0  0  0  0  0  0  0  0 12]]\n",
      "\n",
      "\n",
      "******************************************\n",
      "\n",
      "==== Evaluation of Speech Recognition for protocol 2 ====\n",
      "\n",
      "Generalization (small training set: one rep for each number)\n",
      "\n",
      "==== Results ====\n",
      "\n",
      "Accuracy Score: 0.6636363636363637\n",
      "\n",
      "\n",
      "Confusion Matrix: \n",
      "[[11  0  0  0  0  0  0  0  0  0]\n",
      " [ 0  9  0  0  0  0  0  0  0  2]\n",
      " [ 0  0  4  0  0  0  0  0  0  7]\n",
      " [ 0  0  0  9  0  0  0  0  0  2]\n",
      " [ 0  0  2  0  5  0  0  3  0  1]\n",
      " [ 0  0  0  0  0  9  0  2  0  0]\n",
      " [ 0  0  0  0  0  0 10  1  0  0]\n",
      " [ 0  0  0  0  0  6  0  5  0  0]\n",
      " [ 0  0  0  0  2  2  0  4  0  3]\n",
      " [ 0  0  0  0  0  0  0  0  0 11]]\n",
      "\n",
      "\n",
      "******************************************\n",
      "\n",
      "==== Evaluation of Speech Recognition for protocol 3 ====\n",
      "\n",
      "Generalization (data from two speakers)\n",
      "\n",
      "First speaker: Test | Second speaker: Train\n",
      "\n",
      "Swapping Test and Train sets\n",
      "\n",
      "First speaker: Train | Second speaker: Test\n",
      "\n",
      "==== Results ====\n",
      "\n",
      "Accuracy Score: 0.8583333333333333\n",
      "\n",
      "\n",
      "Confusion Matrix: \n",
      "[[10  0  0  0  0  0  0  0  0  2]\n",
      " [ 0 12  0  0  0  0  0  0  0  0]\n",
      " [ 0  1  8  0  0  0  0  0  0  3]\n",
      " [ 0  1  1 10  0  0  0  0  0  0]\n",
      " [ 0  0  0  0  9  0  0  1  1  1]\n",
      " [ 0  0  0  0  0 11  0  1  0  0]\n",
      " [ 0  0  0  0  0  0 12  0  0  0]\n",
      " [ 0  1  0  0  0  0  0 11  0  0]\n",
      " [ 0  0  0  0  0  0  1  0 11  0]\n",
      " [ 0  0  2  0  1  0  0  0  0  9]]\n",
      "\n"
     ]
    }
   ],
   "source": [
    "for protocol_number in [1, 2, 3]:\n",
    "    if(protocol_number != 1): print('\\n******************************************\\n')\n",
    "    evaluation_recognition(gamma=2, protocol=protocol_number)"
   ]
  },
  {
   "cell_type": "markdown",
   "metadata": {},
   "source": [
    "**Protocol 1**:\n",
    "  It can be seen that for the first evaluation protocol, the performance is very good. A gamma parameter of 2 gives 0.97% of accuracy. There is still some confusion for short single-syllable words.\n",
    "  \n",
    "**Protocol 2**:\n",
    "  The second protocol highlights the fact that when there is very little training data, performance drops drastically. The discriminant factor still requires a sufficient amount of data for the model to be generalized.\n",
    "  \n",
    "**Protocol 3**:\n",
    "  Finally, the last protocol shows that the recognition performance is not so bad for two speakers who pronounce the words at slightly different frequencies, with 85% of accuracy."
   ]
  },
  {
   "cell_type": "markdown",
   "metadata": {},
   "source": [
    "The algorithm works quite well, as long as there is enough data to align the sequence to be recognized with different types of sequences for the same word. However we are dealing here with very short words, we should look at what we would get on longer sequences and words. Finally, it should be noted that this technique is quite expensive in computing time (here we have predicted only 120 repetitions in a significant amount of time)."
   ]
  }
 ],
 "metadata": {
  "kernelspec": {
   "display_name": "Python 3",
   "language": "python",
   "name": "python3"
  },
  "language_info": {
   "codemirror_mode": {
    "name": "ipython",
    "version": 3
   },
   "file_extension": ".py",
   "mimetype": "text/x-python",
   "name": "python",
   "nbconvert_exporter": "python",
   "pygments_lexer": "ipython3",
   "version": "3.7.1"
  }
 },
 "nbformat": 4,
 "nbformat_minor": 2
}
