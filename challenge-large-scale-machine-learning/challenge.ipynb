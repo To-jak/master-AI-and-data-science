{
 "cells": [
  {
   "cell_type": "markdown",
   "metadata": {},
   "source": [
    "# Challenge Large Scale Machine Learning"
   ]
  },
  {
   "cell_type": "markdown",
   "metadata": {},
   "source": [
    "### Fusion of algorithms for face recognition\n",
    "\n",
    "The increasingly ubiquitous presence of biometric solutions and face recognition in particular in everyday life requires their adaptation for practical scenario. In the presence of several possible solutions, and if global decisions are to be made, each such single solution can be far less efficient than tailoring them to the complexity of an image.\n",
    "\n",
    "In this challenge, the goal is to build a fusion of algorithms in order to construct the best suited solution for comparison of a pair of images. This fusion will be driven by qualities computed on each image.\n",
    "\n",
    "Comparing of two images is done in two steps. 1st, a vector of features is computed for each image. 2nd, a simple function produces a vector of scores for a pair of images. The goal is to create a function that will compare a pair of images based on the information mentioned above, and decide whether two images belong to the same person.\n",
    "\n",
    "You are provided a label set of training data and a test set without labels. You should submit a .csv file with labels for each entry of this test set."
   ]
  },
  {
   "cell_type": "markdown",
   "metadata": {},
   "source": [
    "# The properties of the dataset:\n"
   ]
  },
  {
   "cell_type": "markdown",
   "metadata": {},
   "source": [
    "### Training data: \n"
   ]
  },
  {
   "cell_type": "markdown",
   "metadata": {},
   "source": [
    "The training set consist of two files, **xtrain_challenge.csv** and **ytrain_challenge.csv**.\n",
    "\n",
    "\n",
    "File **xtrain_challenge.csv** contains one observation per row which contains following entries based on a pair of images:\n",
    " * columns 1-13 - 13 qualities on first image;\n",
    " * columns 14-26 - 13 qualities on second image;\n",
    " * columns 27-37 - 11 matching scores between the two images.\n",
    "\n",
    "File **ytrain_challenge.csv** contains one line with each entry corresponding to one observation in **xtrain_challenge.csv**, maintaining the order, and has '1' if a pair of images belong to the same person and '0' otherwise.\n",
    "\n",
    "There are in total 1.068.504 training observations."
   ]
  },
  {
   "cell_type": "markdown",
   "metadata": {},
   "source": [
    "### Test data:"
   ]
  },
  {
   "cell_type": "markdown",
   "metadata": {},
   "source": [
    "File **xtest_challenge.csv** has the same structure as file **xtrain_challenge.csv**.\n",
    "\n",
    "There are in total 3.318.296 test observations."
   ]
  },
  {
   "cell_type": "markdown",
   "metadata": {},
   "source": [
    "## The performance criterion¶"
   ]
  },
  {
   "cell_type": "markdown",
   "metadata": {},
   "source": [
    "The performance criterion is the **prediction accuracy** on the test set, which is a value between 0 and 1, the higher the better."
   ]
  },
  {
   "cell_type": "markdown",
   "metadata": {},
   "source": [
    "# Training Data"
   ]
  },
  {
   "cell_type": "markdown",
   "metadata": {},
   "source": [
    "Training data, input (file **xtrain_challenge.csv**): https://www.dropbox.com/s/myvvtmw61eg5gk7/xtrain_challenge.csv\n",
    "\n",
    "Training data, output (file **ytrain_challenge.csv**): https://www.dropbox.com/s/cleumxob0dfzre4/ytrain_challenge.csv"
   ]
  },
  {
   "cell_type": "markdown",
   "metadata": {},
   "source": [
    "# Test Data "
   ]
  },
  {
   "cell_type": "markdown",
   "metadata": {},
   "source": [
    "Test data, input (file **xtest_challenge.csv**): https://www.dropbox.com/s/bfrx8b4mqythm4q/xtest_challenge.csv"
   ]
  },
  {
   "cell_type": "markdown",
   "metadata": {},
   "source": [
    "# Example submission"
   ]
  },
  {
   "cell_type": "code",
   "execution_count": 1,
   "metadata": {},
   "outputs": [],
   "source": [
    "%matplotlib inline\n",
    "import numpy as np\n",
    "import sys\n",
    "import os\n",
    "import matplotlib.pyplot as plt\n",
    "import math\n",
    "from sklearn.neighbors import KNeighborsClassifier"
   ]
  },
  {
   "cell_type": "markdown",
   "metadata": {},
   "source": [
    "## Load and investigate the data"
   ]
  },
  {
   "cell_type": "code",
   "execution_count": 2,
   "metadata": {},
   "outputs": [
    {
     "name": "stdout",
     "output_type": "stream",
     "text": [
      "[[ 1.000000e+00  0.000000e+00  0.000000e+00 -3.450000e+00 -1.314000e+01\n",
      "   1.330000e+00  2.700000e-01  9.900000e-01  2.010000e+00  2.126100e+02\n",
      "   4.740000e+01  0.000000e+00  0.000000e+00  1.000000e+00  0.000000e+00\n",
      "   0.000000e+00 -2.990000e+00 -1.661000e+01  1.910000e+00  1.600000e-01\n",
      "   8.100000e-01  3.800000e-01  1.778500e+02  3.002000e+01  0.000000e+00\n",
      "   0.000000e+00  6.190440e+03  6.451890e+03  7.382840e+03  6.075200e+03\n",
      "   1.029042e+04  6.839450e+03  6.782620e+03  7.594450e+03  6.711650e+03\n",
      "   6.664710e+03  6.688640e+03]\n",
      " [ 1.000000e+00  0.000000e+00  0.000000e+00 -2.670000e+00 -4.880000e+00\n",
      "   7.440000e+00  9.400000e-01  2.030000e+00  7.200000e-01  2.715300e+02\n",
      "   4.195000e+01  0.000000e+00  1.000000e-01  1.000000e+00  0.000000e+00\n",
      "   0.000000e+00  4.333000e+01 -2.209000e+01 -6.730000e+00  3.920000e+00\n",
      "   2.380000e+00  1.920000e+00  1.949800e+02  2.512000e+01  0.000000e+00\n",
      "   3.700000e-01  1.998000e+03  2.152790e+03  3.329340e+03  2.793190e+03\n",
      "   2.358420e+03  2.454090e+03  2.905300e+03  2.299960e+03  2.434240e+03\n",
      "   3.009290e+03  2.576670e+03]\n",
      " [ 1.000000e+00  0.000000e+00  0.000000e+00  2.460000e+00  7.300000e+00\n",
      "  -9.130000e+00  1.830000e+00  1.170000e+00  1.900000e-01  3.592600e+02\n",
      "   5.869000e+01  0.000000e+00  1.000000e+00  1.000000e+00  0.000000e+00\n",
      "   0.000000e+00 -4.500000e+00 -2.319000e+01  6.680000e+00  8.000000e-02\n",
      "   1.000000e-02  4.200000e-01  1.708300e+02  6.130000e+01  0.000000e+00\n",
      "   1.000000e+00  2.141670e+03  1.632990e+03  1.729660e+03  1.791570e+03\n",
      "   1.913130e+03  1.983230e+03  1.819050e+03  1.816750e+03  1.902280e+03\n",
      "   2.899050e+03  1.795840e+03]]\n",
      "[1. 0. 0. 0. 0. 0. 0. 0. 0. 0.]\n",
      "(100, 37)\n",
      "(100,)\n"
     ]
    }
   ],
   "source": [
    "# Load training data\n",
    "nrows_train = 49\n",
    "nrows_test = 51\n",
    "xtrain = np.loadtxt('xtrain_challenge.csv', delimiter=',', skiprows = 1, max_rows = nrows_train + nrows_test)\n",
    "ytrain = np.loadtxt('ytrain_challenge.csv', delimiter=',', skiprows = 1, max_rows = nrows_train + nrows_test)\n",
    "ytrain = np.array(ytrain).reshape(nrows_train + nrows_test)\n",
    "# Check the number of observations and properties\n",
    "print(xtrain[:3,])\n",
    "print(ytrain[:10])\n",
    "print(xtrain.shape)\n",
    "print(ytrain.shape)"
   ]
  },
  {
   "cell_type": "markdown",
   "metadata": {},
   "source": [
    "## Train a simple classifier"
   ]
  },
  {
   "cell_type": "code",
   "execution_count": 3,
   "metadata": {},
   "outputs": [
    {
     "data": {
      "text/plain": [
       "KNeighborsClassifier(algorithm='auto', leaf_size=30, metric='minkowski',\n",
       "           metric_params=None, n_jobs=None, n_neighbors=3, p=2,\n",
       "           weights='uniform')"
      ]
     },
     "execution_count": 3,
     "metadata": {},
     "output_type": "execute_result"
    }
   ],
   "source": [
    "# Train the classifier on a part of the data set\n",
    "clf = KNeighborsClassifier(n_neighbors=3)\n",
    "clf.fit(xtrain[:nrows_train], ytrain[:nrows_train], )"
   ]
  },
  {
   "cell_type": "code",
   "execution_count": 4,
   "metadata": {},
   "outputs": [
    {
     "data": {
      "text/plain": [
       "0.9803921568627451"
      ]
     },
     "execution_count": 4,
     "metadata": {},
     "output_type": "execute_result"
    }
   ],
   "source": [
    "# Check its on another part of the data set\n",
    "yvalid = clf.predict(xtrain[nrows_train:(nrows_train + nrows_test)])\n",
    "(yvalid == ytrain[nrows_train:(nrows_train + nrows_test)]).mean()"
   ]
  },
  {
   "cell_type": "markdown",
   "metadata": {},
   "source": [
    "## Prepare a file for submission"
   ]
  },
  {
   "cell_type": "code",
   "execution_count": 5,
   "metadata": {},
   "outputs": [
    {
     "name": "stdout",
     "output_type": "stream",
     "text": [
      "(3318296,)\n"
     ]
    }
   ],
   "source": [
    "# Load test data\n",
    "xtest = np.loadtxt('xtest_challenge.csv', delimiter=',', skiprows = 1)\n",
    "# Classify the provided test data\n",
    "ytest = clf.predict(xtest)\n",
    "print(ytest.shape)\n",
    "np.savetxt('ytest_challenge_student.csv', ytest, fmt = '%1.0d', delimiter=',')"
   ]
  }
 ],
 "metadata": {
  "kernelspec": {
   "display_name": "Python 3",
   "language": "python",
   "name": "python3"
  },
  "language_info": {
   "codemirror_mode": {
    "name": "ipython",
    "version": 3
   },
   "file_extension": ".py",
   "mimetype": "text/x-python",
   "name": "python",
   "nbconvert_exporter": "python",
   "pygments_lexer": "ipython3",
   "version": "3.7.1"
  },
  "toc": {
   "base_numbering": 1,
   "nav_menu": {},
   "number_sections": true,
   "sideBar": true,
   "skip_h1_title": false,
   "title_cell": "Table of Contents",
   "title_sidebar": "Contents",
   "toc_cell": false,
   "toc_position": {},
   "toc_section_display": true,
   "toc_window_display": false
  },
  "varInspector": {
   "cols": {
    "lenName": 16,
    "lenType": 16,
    "lenVar": 40
   },
   "kernels_config": {
    "python": {
     "delete_cmd_postfix": "",
     "delete_cmd_prefix": "del ",
     "library": "var_list.py",
     "varRefreshCmd": "print(var_dic_list())"
    },
    "r": {
     "delete_cmd_postfix": ") ",
     "delete_cmd_prefix": "rm(",
     "library": "var_list.r",
     "varRefreshCmd": "cat(var_dic_list()) "
    }
   },
   "types_to_exclude": [
    "module",
    "function",
    "builtin_function_or_method",
    "instance",
    "_Feature"
   ],
   "window_display": false
  }
 },
 "nbformat": 4,
 "nbformat_minor": 2
}
