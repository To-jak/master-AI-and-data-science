{
 "cells": [
  {
   "cell_type": "markdown",
   "metadata": {},
   "source": [
    "# Tries"
   ]
  },
  {
   "cell_type": "markdown",
   "metadata": {},
   "source": [
    "### Suffix trie construction"
   ]
  },
  {
   "cell_type": "code",
   "execution_count": 1,
   "metadata": {},
   "outputs": [],
   "source": [
    "class SuffixTrie:\n",
    "    def __init__(self, string):\n",
    "        self.root = {}\n",
    "        self.endSymbol = \"*\"\n",
    "        self.populateSuffixTrieFrom(string)\n",
    "\n",
    "    def populateSuffixTrieFrom(self, string):\n",
    "        for i in range(len(string)):\n",
    "            node = self.root\n",
    "            for j in range(i, len(string)):\n",
    "                letter = string[j]\n",
    "                if letter not in node:\n",
    "                    node[letter] = {}\n",
    "                node = node[letter]\n",
    "            node[self.endSymbol] = True\n",
    "\n",
    "    def contains(self, string):\n",
    "        node = self.root\n",
    "        for letter in string:\n",
    "            if letter not in node:\n",
    "                return False\n",
    "            node = node[letter]\n",
    "        return self.endSymbol in node"
   ]
  },
  {
   "cell_type": "code",
   "execution_count": 2,
   "metadata": {},
   "outputs": [],
   "source": [
    "test = {\"c\":{\"*\": True},\n",
    "        \"b\":{\n",
    "            \"c\":{\"*\": True},\n",
    "            \"a\":{\"b\":{\"c\":{\"*\": True}}},\n",
    "        },\n",
    "        \"a\": {\"b\": {\"c\": {\"*\": True}}},\n",
    "        }"
   ]
  },
  {
   "cell_type": "code",
   "execution_count": 3,
   "metadata": {},
   "outputs": [
    {
     "data": {
      "text/plain": [
       "True"
      ]
     },
     "execution_count": 3,
     "metadata": {},
     "output_type": "execute_result"
    }
   ],
   "source": [
    "trie = SuffixTrie(\"babc\")\n",
    "trie.root == test"
   ]
  },
  {
   "cell_type": "code",
   "execution_count": 4,
   "metadata": {},
   "outputs": [
    {
     "data": {
      "text/plain": [
       "True"
      ]
     },
     "execution_count": 4,
     "metadata": {},
     "output_type": "execute_result"
    }
   ],
   "source": [
    "trie.contains(\"abc\")"
   ]
  }
 ],
 "metadata": {
  "kernelspec": {
   "display_name": "Python 3",
   "language": "python",
   "name": "python3"
  },
  "language_info": {
   "codemirror_mode": {
    "name": "ipython",
    "version": 3
   },
   "file_extension": ".py",
   "mimetype": "text/x-python",
   "name": "python",
   "nbconvert_exporter": "python",
   "pygments_lexer": "ipython3",
   "version": "3.7.1"
  }
 },
 "nbformat": 4,
 "nbformat_minor": 2
}
