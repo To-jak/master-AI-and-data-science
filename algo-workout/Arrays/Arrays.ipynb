{
 "cells": [
  {
   "cell_type": "markdown",
   "metadata": {},
   "source": [
    "# Arrays"
   ]
  },
  {
   "cell_type": "markdown",
   "metadata": {},
   "source": [
    "## Three number sum\n",
    "\n",
    "Write a function that takes in a non-empty array of distinct integers and an integer representing a target sum. The function should return all triplets in the array that sum up to the target sum and return a two-dimensional array of all these triplets. The numbers in each triplet should be ordered in ascending order, and the triplets themselves should be ordered in ascending order with respect to the numbers they hold. If no three numbers sum up to the target sum, the function should return an empty array."
   ]
  },
  {
   "cell_type": "code",
   "execution_count": 1,
   "metadata": {},
   "outputs": [],
   "source": [
    "def threeNumberSum(array, target):\n",
    "    array.sort()\n",
    "    triplets = []\n",
    "    for i in range(len(array) - 2):\n",
    "        left = i + 1\n",
    "        right = len(array) - 1\n",
    "        while left < right:\n",
    "            triplet_sum = array[i] + array[left] + array[right]\n",
    "            if triplet_sum == target:\n",
    "                triplets.append([array[i], array[left], array[right]])\n",
    "                left += 1\n",
    "                right -= 1\n",
    "            elif triplet_sum < target:\n",
    "                left += 1\n",
    "            elif triplet_sum > target:\n",
    "                right -=1\n",
    "    return triplets"
   ]
  },
  {
   "cell_type": "code",
   "execution_count": 2,
   "metadata": {},
   "outputs": [
    {
     "name": "stdout",
     "output_type": "stream",
     "text": [
      "True\n"
     ]
    }
   ],
   "source": [
    "test_array = [12, 3, 1, 2, -6, 5, -8, 6]\n",
    "test_output = [[-8, 2, 6], [-8, 3, 5], [-6, 1, 5]]\n",
    "\n",
    "print(threeNumberSum(test_array, 0) == test_output)"
   ]
  },
  {
   "cell_type": "markdown",
   "metadata": {},
   "source": [
    "## Smallest difference"
   ]
  },
  {
   "cell_type": "code",
   "execution_count": 3,
   "metadata": {},
   "outputs": [],
   "source": [
    "def smallestDifference(arrayOne, arrayTwo):\n",
    "    arrayOne.sort()\n",
    "    arrayTwo.sort()\n",
    "    idxOne = 0\n",
    "    idxTwo = 0\n",
    "    smallest = float(\"inf\")\n",
    "    current = float(\"inf\")\n",
    "    smallestPair = []\n",
    "    while idxOne < len(arrayOne) and idxTwo < len(arrayTwo):\n",
    "        firstNum = arrayOne[idxOne]\n",
    "        secondNum = arrayTwo[idxTwo]\n",
    "        if firstNum < secondNum:\n",
    "            current = secondNum - firstNum\n",
    "            idxOne += 1\n",
    "        elif secondNum < firstNum:\n",
    "            current = firstNum - secondNum\n",
    "            idxTwo += 1\n",
    "        else:\n",
    "            return [firstNum, secondNum]\n",
    "        if smallest > current:\n",
    "            smallest = current\n",
    "            smallestPair = [firstNum, secondNum]\n",
    "    return smallestPair"
   ]
  },
  {
   "cell_type": "code",
   "execution_count": 4,
   "metadata": {},
   "outputs": [
    {
     "name": "stdout",
     "output_type": "stream",
     "text": [
      "True\n"
     ]
    }
   ],
   "source": [
    "test1, test2 = [-1, 5, 10, 20, 28, 3], [26, 134, 135, 15, 17]\n",
    "print(smallestDifference(test1, test2) == [28, 26])"
   ]
  },
  {
   "cell_type": "markdown",
   "metadata": {},
   "source": [
    "## Move element to end"
   ]
  },
  {
   "cell_type": "code",
   "execution_count": 5,
   "metadata": {},
   "outputs": [],
   "source": [
    "# O(n) time | O(1) space\n",
    "def moveElementToEnd1(array, toMove):\n",
    "    end_index = 0\n",
    "    for i in range(len(array)):\n",
    "        if array[i] == toMove:\n",
    "            continue\n",
    "        else:\n",
    "            array[end_index] = array[i]\n",
    "            end_index += 1\n",
    "    while end_index < len(array):\n",
    "        array[end_index] = toMove\n",
    "        end_index +=1\n",
    "\n",
    "    return array\n",
    "\n",
    "# O(n) time | O(1) space\n",
    "def moveElementToEnd2(array, toMove):\n",
    "    i = 0\n",
    "    j = len(array) - 1\n",
    "    while i < j:\n",
    "        while i < j and array[j] == toMove:\n",
    "            j -= 1\n",
    "        if array[i] == toMove:\n",
    "            array[i], array[j] = array[j], array[i]\n",
    "        i += 1\n",
    "    return array"
   ]
  },
  {
   "cell_type": "code",
   "execution_count": 6,
   "metadata": {},
   "outputs": [
    {
     "name": "stdout",
     "output_type": "stream",
     "text": [
      "True\n",
      "True\n"
     ]
    }
   ],
   "source": [
    "test = [2, 1, 2, 2, 2, 3, 4, 2]\n",
    "print(moveElementToEnd1(test, 2) == [1, 3, 4, 2, 2, 2, 2, 2])\n",
    "print(moveElementToEnd2(test, 2) == [1, 3, 4, 2, 2, 2, 2, 2])"
   ]
  },
  {
   "cell_type": "markdown",
   "metadata": {},
   "source": [
    "### Four numbers sum"
   ]
  },
  {
   "cell_type": "code",
   "execution_count": 7,
   "metadata": {},
   "outputs": [],
   "source": [
    "# O(n^2) time | O(n^2) space\n",
    "\n",
    "def fourNumberSum(array, targetSum):\n",
    "    allPairSums = {}\n",
    "    quadruplets = []\n",
    "    for i in range(0, len(array) - 1):\n",
    "        for j in range(i + 1, len(array)):\n",
    "            currentSum = array[i] + array[j]\n",
    "            if currentSum not in allPairSums:\n",
    "                allPairSums[currentSum] = [[array[i], array[j]]]\n",
    "            else:\n",
    "                allPairSums[currentSum].append([array[i], array[j]])\n",
    "\n",
    "    for i in range(0, len(array) - 1):\n",
    "        for j in range(i + 1, len(array)):\n",
    "            currentSum = array[i] + array[j]\n",
    "            difference = targetSum - currentSum\n",
    "            if difference in allPairSums:\n",
    "                for pair in allPairSums[difference]:\n",
    "                    possible_quadruplets = pair + [array[j], array[i]]\n",
    "                    if len(possible_quadruplets) == len(set(possible_quadruplets)):\n",
    "                        possible_quadruplets.sort()\n",
    "                        if possible_quadruplets not in quadruplets:\n",
    "                            quadruplets.append(possible_quadruplets)\n",
    "    return quadruplets"
   ]
  },
  {
   "cell_type": "code",
   "execution_count": 8,
   "metadata": {},
   "outputs": [
    {
     "data": {
      "text/plain": [
       "True"
      ]
     },
     "execution_count": 8,
     "metadata": {},
     "output_type": "execute_result"
    }
   ],
   "source": [
    "test = [7, 6, 4, -1, 1, 2]\n",
    "fourNumberSum(test, 16) == [[-1, 4, 6, 7], [1, 2, 6, 7]]"
   ]
  },
  {
   "cell_type": "code",
   "execution_count": 9,
   "metadata": {},
   "outputs": [],
   "source": [
    "# More elegant way to do it\n",
    "def fourNumberSum(array, targetSum):\n",
    "    allPairSums = {}\n",
    "    quadruplets = []\n",
    "    for i in range(1, len(array) - 1):\n",
    "        for j in range(i + 1, len(array)):\n",
    "            currentSum = array[i] + array[j]\n",
    "            difference = targetSum - currentSum\n",
    "            if difference in allPairSums:\n",
    "                for pair in allPairSums[difference]:\n",
    "                    quadruplets.append(pair + [array[i], array[j]])\n",
    "                    \n",
    "        for k in range(0, i):\n",
    "            currentSum = array[i] + array[k]\n",
    "            if currentSum not in allPairSums:\n",
    "                allPairSums[currentSum] = [[array[k], array[i]]]\n",
    "            else:\n",
    "                allPairSums[currentSum].append([array[k], array[i]])\n",
    "    return quadruplets"
   ]
  },
  {
   "cell_type": "code",
   "execution_count": 10,
   "metadata": {},
   "outputs": [
    {
     "data": {
      "text/plain": [
       "True"
      ]
     },
     "execution_count": 10,
     "metadata": {},
     "output_type": "execute_result"
    }
   ],
   "source": [
    "test = [7, 6, 4, -1, 1, 2]\n",
    "fourNumberSum(test, 16) == [[7, 6, 4, -1], [7, 6, 1, 2]]"
   ]
  },
  {
   "cell_type": "markdown",
   "metadata": {},
   "source": [
    "### Subarray sort"
   ]
  },
  {
   "cell_type": "code",
   "execution_count": 11,
   "metadata": {},
   "outputs": [],
   "source": [
    "def subarraySort(array):\n",
    "    min_out_of_order = float('inf')\n",
    "    max_out_of_order = float('-inf')\n",
    "    for i in range(len(array)):\n",
    "        num = array[i]\n",
    "        if isOutOfOrder(i, num, array):\n",
    "            min_out_of_order = min(min_out_of_order, num)\n",
    "            max_out_of_order = max(max_out_of_order, num)\n",
    "    if min_out_of_order == float('inf'):\n",
    "        return [-1, -1]\n",
    "    left = 0\n",
    "    while min_out_of_order >= array[left]:\n",
    "        left += 1\n",
    "    right = len(array) - 1\n",
    "    while max_out_of_order <= array[right]:\n",
    "        right -= 1\n",
    "    return [left, right]\n",
    "\n",
    "def isOutOfOrder(i, num, array):\n",
    "    if i == 0:\n",
    "        return num > array[i + 1]\n",
    "    if i == len(array) - 1:\n",
    "        return num < array[i - 1]\n",
    "    return num > array[i + 1] or num < array[i - 1]"
   ]
  },
  {
   "cell_type": "code",
   "execution_count": 12,
   "metadata": {},
   "outputs": [
    {
     "data": {
      "text/plain": [
       "True"
      ]
     },
     "execution_count": 12,
     "metadata": {},
     "output_type": "execute_result"
    }
   ],
   "source": [
    "test = [1, 2, 4, 7, 10, 11, 7, 12, 6, 7, 16, 18, 19]\n",
    "subarraySort(test) == [3, 9]"
   ]
  },
  {
   "cell_type": "markdown",
   "metadata": {},
   "source": [
    "### Largest range"
   ]
  },
  {
   "cell_type": "code",
   "execution_count": 13,
   "metadata": {},
   "outputs": [],
   "source": [
    "# O(n*log(n)) time | O(1) space\n",
    "def largestRange(array):\n",
    "    array.sort()\n",
    "\n",
    "    left = array[0]\n",
    "    right = array[0]\n",
    "    largest_range = [left, right]\n",
    "\n",
    "    for i in range(1, len(array)):\n",
    "        if array[i] == array[i - 1] + 1:\n",
    "            right = array[i]\n",
    "        elif array[i] > array[i - 1] + 1:\n",
    "            if right - left > largest_range[1] - largest_range [0]:\n",
    "                largest_range = [left, right]\n",
    "            right = array[i]\n",
    "            left = array[i]\n",
    "\n",
    "    if right - left > largest_range[1] - largest_range [0]:\n",
    "        largest_range = [left, right]\n",
    "\n",
    "    return largest_range"
   ]
  },
  {
   "cell_type": "code",
   "execution_count": 14,
   "metadata": {},
   "outputs": [
    {
     "data": {
      "text/plain": [
       "True"
      ]
     },
     "execution_count": 14,
     "metadata": {},
     "output_type": "execute_result"
    }
   ],
   "source": [
    "test = [1, 11, 3, 0, 15, 5, 2, 4, 10, 7, 12, 6]\n",
    "largestRange(test) == [0, 7]"
   ]
  },
  {
   "cell_type": "code",
   "execution_count": 15,
   "metadata": {},
   "outputs": [],
   "source": [
    "# O(n) time | O(n) space\n",
    "def largestRange(array):\n",
    "    bestRange = []\n",
    "    longestLength = 0\n",
    "    nums = {}\n",
    "    for num in array:\n",
    "        nums[num] = True\n",
    "    for num in array:\n",
    "        if not nums[num]:\n",
    "            continue\n",
    "        nums[num] = False\n",
    "        currentLength = 1\n",
    "        left = num - 1\n",
    "        right = num + 1\n",
    "        while left in nums:\n",
    "            nums[left] = False\n",
    "            currentLength += 1\n",
    "            left -= 1\n",
    "        while right in nums:\n",
    "            nums[right] = False\n",
    "            currentLength += 1\n",
    "            right += 1\n",
    "        if currentLength > longestLength:\n",
    "            longestLength = currentLength\n",
    "            bestRange = [left + 1, right - 1]\n",
    "    return bestRange"
   ]
  },
  {
   "cell_type": "code",
   "execution_count": 16,
   "metadata": {},
   "outputs": [
    {
     "data": {
      "text/plain": [
       "True"
      ]
     },
     "execution_count": 16,
     "metadata": {},
     "output_type": "execute_result"
    }
   ],
   "source": [
    "largestRange(test) == [0, 7]"
   ]
  },
  {
   "cell_type": "markdown",
   "metadata": {},
   "source": [
    "### Min rewards"
   ]
  },
  {
   "cell_type": "code",
   "execution_count": 17,
   "metadata": {},
   "outputs": [],
   "source": [
    "# O(n) time | O(n) space\n",
    "def minRewards(scores):\n",
    "    if len(scores) == 1:\n",
    "        return 1\n",
    "\n",
    "    rewards = [1 for score in scores]\n",
    "    local_mins = getLocalMins(scores)\n",
    "\n",
    "    for local_min in local_mins:\n",
    "\n",
    "        left = local_min - 1\n",
    "        while left >= 0 and scores[left] > scores[left + 1]:\n",
    "            rewards[left] = max(rewards[left + 1] + 1, rewards[left])\n",
    "            left -= 1\n",
    "\n",
    "        right = local_min + 1\n",
    "        while right <= len(scores) - 1 and scores[right] > scores[right - 1]:\n",
    "            rewards[right] = max(rewards[right - 1] + 1, rewards[right])\n",
    "            right += 1\n",
    "\n",
    "    return sum(rewards)\n",
    "\n",
    "def getLocalMins(scores):\n",
    "    local_mins = []\n",
    "    for i in range(len(scores)):\n",
    "        if i == 0 and scores[i + 1] > scores[i]:\n",
    "            local_mins.append(i)\n",
    "        elif i == len(scores) - 1 and scores[i - 1] > scores[i]:\n",
    "            local_mins.append(i)\n",
    "        elif scores[i - 1] > scores[i] and scores[i + 1] > scores[i]:\n",
    "            local_mins.append(i)\n",
    "    return local_mins"
   ]
  },
  {
   "cell_type": "code",
   "execution_count": 18,
   "metadata": {},
   "outputs": [
    {
     "data": {
      "text/plain": [
       "True"
      ]
     },
     "execution_count": 18,
     "metadata": {},
     "output_type": "execute_result"
    }
   ],
   "source": [
    "test = [8, 4, 2, 1, 3, 6, 7, 9, 5]\n",
    "minRewards(test) == 25"
   ]
  },
  {
   "cell_type": "code",
   "execution_count": 19,
   "metadata": {},
   "outputs": [],
   "source": [
    "# More clever\n",
    "def minRewards(scores):\n",
    "    rewards = [1 for _ in scores]\n",
    "    for i in range(1, len(scores)):\n",
    "        if scores[i] > scores[i - 1]:\n",
    "            rewards[i] = rewards[i - 1] + 1\n",
    "    for i in reversed((range(len(scores) - 1))):\n",
    "        if scores[i] > scores[i + 1]:\n",
    "            rewards[i] = max(rewards[i], rewards[i + 1] + 1)\n",
    "    return sum(rewards)"
   ]
  },
  {
   "cell_type": "code",
   "execution_count": 20,
   "metadata": {},
   "outputs": [
    {
     "data": {
      "text/plain": [
       "True"
      ]
     },
     "execution_count": 20,
     "metadata": {},
     "output_type": "execute_result"
    }
   ],
   "source": [
    "minRewards(test) == 25"
   ]
  },
  {
   "cell_type": "markdown",
   "metadata": {},
   "source": [
    "### Zigzag traverse"
   ]
  },
  {
   "cell_type": "code",
   "execution_count": 21,
   "metadata": {},
   "outputs": [],
   "source": [
    "def zigzagTraverse(array):\n",
    "    position = [0, 0]\n",
    "    height = len(array) - 1\n",
    "    width = len(array[0]) - 1\n",
    "    direction = 'down'\n",
    "    traverse_order = []\n",
    "    while position != [height, width]:\n",
    "        row = position[0]\n",
    "        col = position[1]\n",
    "        traverse_order.append(array[row][col])\n",
    "        position, direction = zigzag_move(row, col, direction, height, width)\n",
    "    traverse_order.append(array[height][width])\n",
    "    return traverse_order\n",
    "\n",
    "def zigzag_move(row, col, direction, height, width):\n",
    "\n",
    "    if direction == 'up':\n",
    "        if col == width: \n",
    "            row += 1\n",
    "            direction = 'down'\n",
    "        elif row == 0:\n",
    "            col += 1\n",
    "            direction = 'down'\n",
    "        else:\n",
    "            row -= 1\n",
    "            col += 1\n",
    "        return [row, col], direction\n",
    "\n",
    "    if direction == 'down':\n",
    "        if row == height: \n",
    "            col += 1\n",
    "            direction = 'up'\n",
    "        elif col == 0:\n",
    "            row += 1\n",
    "            direction = 'up'\n",
    "        else:\n",
    "            row += 1\n",
    "            col -= 1\n",
    "        return [row, col], direction"
   ]
  },
  {
   "cell_type": "code",
   "execution_count": 22,
   "metadata": {},
   "outputs": [
    {
     "data": {
      "text/plain": [
       "[1,\n",
       " 2,\n",
       " 3,\n",
       " 4,\n",
       " 5,\n",
       " 6,\n",
       " 7,\n",
       " 8,\n",
       " 9,\n",
       " 10,\n",
       " 11,\n",
       " 12,\n",
       " 13,\n",
       " 14,\n",
       " 15,\n",
       " 16,\n",
       " 17,\n",
       " 18,\n",
       " 19,\n",
       " 20,\n",
       " 21,\n",
       " 22,\n",
       " 23,\n",
       " 24,\n",
       " 25]"
      ]
     },
     "execution_count": 22,
     "metadata": {},
     "output_type": "execute_result"
    }
   ],
   "source": [
    "test = [[1, 3, 4, 10, 11], [2, 5, 9, 12, 19], [6, 8, 13, 18, 20], [7, 14, 17, 21, 24], [15, 16, 22, 23, 25]]\n",
    "zigzagTraverse(test)"
   ]
  }
 ],
 "metadata": {
  "kernelspec": {
   "display_name": "Python 3",
   "language": "python",
   "name": "python3"
  },
  "language_info": {
   "codemirror_mode": {
    "name": "ipython",
    "version": 3
   },
   "file_extension": ".py",
   "mimetype": "text/x-python",
   "name": "python",
   "nbconvert_exporter": "python",
   "pygments_lexer": "ipython3",
   "version": "3.7.1"
  }
 },
 "nbformat": 4,
 "nbformat_minor": 2
}
