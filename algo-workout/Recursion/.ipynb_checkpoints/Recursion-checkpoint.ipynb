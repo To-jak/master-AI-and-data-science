{
 "cells": [
  {
   "cell_type": "markdown",
   "metadata": {},
   "source": [
    "# Recursion"
   ]
  },
  {
   "cell_type": "markdown",
   "metadata": {},
   "source": [
    "## Nth Fibonacci"
   ]
  },
  {
   "cell_type": "markdown",
   "metadata": {},
   "source": [
    "The Fibonacci sequence is defined as follows: the first number of the sequence is 0, the second is 1, and the nth number is the sum of the (n-1)th and the (n-2)th numbers.  \n",
    "Write a function that takes an integer and return the nth Fibonacci number."
   ]
  },
  {
   "cell_type": "code",
   "execution_count": 1,
   "metadata": {},
   "outputs": [],
   "source": [
    "def getNthFib(n):\n",
    "    n_2 = 0\n",
    "    n_1 = 1\n",
    "\n",
    "    if(n == 1):\n",
    "        return n_2\n",
    "    if(n == 2):\n",
    "        return n_1\n",
    "\n",
    "    iteration = 3\n",
    "\n",
    "    while iteration < n:\n",
    "        next_fib = n_1 + n_2\n",
    "        n_2 = n_1\n",
    "        n_1 = next_fib\n",
    "        iteration +=1\n",
    "\n",
    "    return n_2 + n_1"
   ]
  },
  {
   "cell_type": "code",
   "execution_count": 2,
   "metadata": {},
   "outputs": [
    {
     "name": "stdout",
     "output_type": "stream",
     "text": [
      "34\n"
     ]
    }
   ],
   "source": [
    "print(getNthFib(10))"
   ]
  },
  {
   "cell_type": "markdown",
   "metadata": {},
   "source": [
    "## Product Sum"
   ]
  },
  {
   "cell_type": "markdown",
   "metadata": {},
   "source": [
    "Write a function that takes in a \"special\" array and returns its product sum. A \"special\" array is a non-empty array that contains either integers or other \"special\" arrays.  \n",
    "The product sum of a \"special\" array is the sum of its elements, where \"special\" arrays inside it should be summed themselves and then multiplied by their level of depth.  \n",
    "For example, the product sum of `[x, y]` is `x + y`; the product sum of `[x, [y, z]]` is `x + 2y + 2z`"
   ]
  },
  {
   "cell_type": "code",
   "execution_count": 3,
   "metadata": {},
   "outputs": [],
   "source": [
    "def productSum(array, coef=1):\n",
    "    if type(array) == int:\n",
    "        return array\n",
    "    else:\n",
    "        return coef * sum([productSum(sub_array, coef+1) for sub_array in array])"
   ]
  },
  {
   "cell_type": "code",
   "execution_count": 4,
   "metadata": {},
   "outputs": [
    {
     "data": {
      "text/plain": [
       "True"
      ]
     },
     "execution_count": 4,
     "metadata": {},
     "output_type": "execute_result"
    }
   ],
   "source": [
    "test = [5, 2, [7, -1], 3, [6, [-13, 8], 4]]\n",
    "\n",
    "productSum(test) == 12"
   ]
  },
  {
   "cell_type": "markdown",
   "metadata": {},
   "source": [
    "## Permutations"
   ]
  },
  {
   "cell_type": "code",
   "execution_count": 5,
   "metadata": {},
   "outputs": [],
   "source": [
    "# O(n²*n!) time | O(n*n!) space\n",
    "def getPermutations(array):\n",
    "    permutations = []\n",
    "    permutationHelper(array, permutations, [])\n",
    "    return permutations\n",
    "\n",
    "def permutationHelper(array, permutations, currentPermutation):\n",
    "    if len(array) == 1:\n",
    "        currentPermutation.append(array[0])\n",
    "        permutations.append(currentPermutation)\n",
    "\n",
    "    for i in range(len(array)):\n",
    "        newArray = array.copy()\n",
    "        newArray.pop(i)\n",
    "        newPermutation = currentPermutation.copy()\n",
    "        newPermutation.append(array[i])\n",
    "        permutationHelper(newArray, permutations, newPermutation)"
   ]
  },
  {
   "cell_type": "code",
   "execution_count": 6,
   "metadata": {},
   "outputs": [
    {
     "data": {
      "text/plain": [
       "[[1, 2, 3], [1, 3, 2], [2, 1, 3], [2, 3, 1], [3, 1, 2], [3, 2, 1]]"
      ]
     },
     "execution_count": 6,
     "metadata": {},
     "output_type": "execute_result"
    }
   ],
   "source": [
    "getPermutations([1, 2, 3])"
   ]
  },
  {
   "cell_type": "code",
   "execution_count": 7,
   "metadata": {},
   "outputs": [],
   "source": [
    "# O(n*n!) time | O(n*n!) space\n",
    "def getPermutations(array):\n",
    "    permutations = []\n",
    "    permutationsHelper(0, array, permutations)\n",
    "    return permutations\n",
    "\n",
    "def permutationsHelper(i, array, permutations):\n",
    "    if i == len(array) - 1:\n",
    "        permutations.append(array.copy())\n",
    "    else:\n",
    "        for j in range(i, len(array)):\n",
    "            swap(array, i, j)\n",
    "            permutationsHelper(i + 1, array, permutations)\n",
    "            swap(array, i, j)\n",
    "\n",
    "def swap(array, i, j):\n",
    "    array[i], array[j] = array[j], array[i]"
   ]
  },
  {
   "cell_type": "code",
   "execution_count": 8,
   "metadata": {
    "scrolled": true
   },
   "outputs": [
    {
     "data": {
      "text/plain": [
       "[[1, 2, 3], [1, 3, 2], [2, 1, 3], [2, 3, 1], [3, 2, 1], [3, 1, 2]]"
      ]
     },
     "execution_count": 8,
     "metadata": {},
     "output_type": "execute_result"
    }
   ],
   "source": [
    "getPermutations([1, 2, 3])"
   ]
  },
  {
   "cell_type": "markdown",
   "metadata": {},
   "source": [
    "## Powerset"
   ]
  },
  {
   "cell_type": "code",
   "execution_count": 5,
   "metadata": {},
   "outputs": [],
   "source": [
    "def powerset(array):\n",
    "    subsets = [[]]\n",
    "    for element in array:\n",
    "        for i in range(len(subsets)):\n",
    "            current_subset = subsets[i]\n",
    "            subsets.append(current_subset + [element])\n",
    "    return subsets"
   ]
  },
  {
   "cell_type": "code",
   "execution_count": 6,
   "metadata": {},
   "outputs": [
    {
     "data": {
      "text/plain": [
       "[[], [1], [2], [1, 2], [3], [1, 3], [2, 3], [1, 2, 3]]"
      ]
     },
     "execution_count": 6,
     "metadata": {},
     "output_type": "execute_result"
    }
   ],
   "source": [
    "powerset([1, 2, 3])"
   ]
  }
 ],
 "metadata": {
  "kernelspec": {
   "display_name": "Python 3",
   "language": "python",
   "name": "python3"
  },
  "language_info": {
   "codemirror_mode": {
    "name": "ipython",
    "version": 3
   },
   "file_extension": ".py",
   "mimetype": "text/x-python",
   "name": "python",
   "nbconvert_exporter": "python",
   "pygments_lexer": "ipython3",
   "version": "3.7.1"
  }
 },
 "nbformat": 4,
 "nbformat_minor": 2
}
