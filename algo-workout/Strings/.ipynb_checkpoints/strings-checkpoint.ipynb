{
 "cells": [
  {
   "cell_type": "markdown",
   "metadata": {},
   "source": [
    "# Strings"
   ]
  },
  {
   "cell_type": "markdown",
   "metadata": {},
   "source": [
    "## Palindrome Check\n",
    "  \n",
    "Write a function that takes in a non-empty string and that returns a boolean representing whether or not the string is a palindrome. A palindrome is dened as a string that is written the same forward and backward."
   ]
  },
  {
   "cell_type": "code",
   "execution_count": 1,
   "metadata": {},
   "outputs": [],
   "source": [
    "# Iterative solution\n",
    "def isPalindrome(string):\n",
    "    left = 0\n",
    "    right = len(string) - 1\n",
    "    while left < right:\n",
    "        if string[left] != string[right]:\n",
    "            return False\n",
    "        left += 1\n",
    "        right -= 1\n",
    "    return True"
   ]
  },
  {
   "cell_type": "code",
   "execution_count": 2,
   "metadata": {},
   "outputs": [
    {
     "name": "stdout",
     "output_type": "stream",
     "text": [
      "True\n"
     ]
    }
   ],
   "source": [
    "test_string = 'abcdcba'\n",
    "print(isPalindrome(test_string))"
   ]
  },
  {
   "cell_type": "markdown",
   "metadata": {},
   "source": [
    "## Caesar Cipher Encryptor\n",
    "\n",
    "Given a non-empty string of lowercase letters and a non-negative integer value representing a key, write a function that returns a new string obtained by shifting every letter in the input string by k positions in the alphabet, where k is the key. Note that letters should \"wrap\" around the alphabet; in other words, the letter \"z\" shifted by 1 returns the letter \"a\"."
   ]
  },
  {
   "cell_type": "code",
   "execution_count": 3,
   "metadata": {},
   "outputs": [],
   "source": [
    "def caesarCipherEncryptor(string, key):\n",
    "    ascii_translation = ord('a')\n",
    "    coded_string = []\n",
    "\n",
    "    for letter in string:\n",
    "        letter_code = ord(letter)\n",
    "        letter_code -= ascii_translation\n",
    "        letter_code += key\n",
    "        letter_code %= 26\n",
    "        letter_code += ascii_translation\n",
    "        coded_string.append(chr(letter_code))\n",
    "    return ''.join(coded_string)"
   ]
  },
  {
   "cell_type": "code",
   "execution_count": 4,
   "metadata": {},
   "outputs": [
    {
     "name": "stdout",
     "output_type": "stream",
     "text": [
      "True\n"
     ]
    }
   ],
   "source": [
    "test_string = 'xyz'\n",
    "print(caesarCipherEncryptor(test_string, 2) == 'zab')"
   ]
  },
  {
   "cell_type": "markdown",
   "metadata": {},
   "source": [
    "### Longest palindrome substring"
   ]
  },
  {
   "cell_type": "code",
   "execution_count": 5,
   "metadata": {},
   "outputs": [],
   "source": [
    "def longestPalindromicSubstring(string):\n",
    "    current_longest = [0, 1]\n",
    "    for i in range(1, len(string)):\n",
    "        even = isPalindrome(string, i - 1, i)\n",
    "        odd = isPalindrome(string, i - 1, i + 1)\n",
    "        longest = max(even, odd, key=lambda x: x[1] - x[0])\n",
    "        current_longest = max(current_longest, longest, key=lambda x: x[1] - x[0])\n",
    "    return string[current_longest[0] : current_longest[1]]\n",
    "\n",
    "def isPalindrome(string, left_idx, right_idx):\n",
    "    while left_idx >= 0 and right_idx < len(string):\n",
    "        if string[left_idx] != string[right_idx]:\n",
    "            break\n",
    "        left_idx -= 1\n",
    "        right_idx += 1\n",
    "    return [left_idx + 1, right_idx]"
   ]
  },
  {
   "cell_type": "code",
   "execution_count": 6,
   "metadata": {},
   "outputs": [
    {
     "data": {
      "text/plain": [
       "True"
      ]
     },
     "execution_count": 6,
     "metadata": {},
     "output_type": "execute_result"
    }
   ],
   "source": [
    "test_string = 'abaxyzzyxf'\n",
    "longestPalindromicSubstring(test_string) == 'xyzzyx'"
   ]
  },
  {
   "cell_type": "markdown",
   "metadata": {},
   "source": [
    "### Group anagrams"
   ]
  },
  {
   "cell_type": "code",
   "execution_count": 7,
   "metadata": {},
   "outputs": [],
   "source": [
    "def groupAnagrams(words):\n",
    "    anagrams = {}\n",
    "    for word in words:\n",
    "        word_number = get_word_number(word)\n",
    "        if word_number in anagrams:\n",
    "            anagrams[word_number].append(word)\n",
    "        else:\n",
    "            anagrams[word_number] = [word]\n",
    "    return anagrams.values()\n",
    "\n",
    "def get_word_number(word):\n",
    "    number = 0\n",
    "    for letter in word:\n",
    "        number += ord(letter)\n",
    "    return number"
   ]
  },
  {
   "cell_type": "code",
   "execution_count": 8,
   "metadata": {},
   "outputs": [
    {
     "data": {
      "text/plain": [
       "dict_values([['yo', 'oy'], ['act', 'tac', 'cat'], ['flop', 'olfp']])"
      ]
     },
     "execution_count": 8,
     "metadata": {},
     "output_type": "execute_result"
    }
   ],
   "source": [
    "test = [\"yo\",\"act\",\"flop\",\"tac\",\"cat\",\"oy\",\"olfp\"]\n",
    "groupAnagrams(test)"
   ]
  }
 ],
 "metadata": {
  "kernelspec": {
   "display_name": "Python 3",
   "language": "python",
   "name": "python3"
  },
  "language_info": {
   "codemirror_mode": {
    "name": "ipython",
    "version": 3
   },
   "file_extension": ".py",
   "mimetype": "text/x-python",
   "name": "python",
   "nbconvert_exporter": "python",
   "pygments_lexer": "ipython3",
   "version": "3.7.1"
  }
 },
 "nbformat": 4,
 "nbformat_minor": 2
}
