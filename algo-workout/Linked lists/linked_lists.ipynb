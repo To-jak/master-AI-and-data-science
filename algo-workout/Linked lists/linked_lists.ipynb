{
 "cells": [
  {
   "cell_type": "markdown",
   "metadata": {},
   "source": [
    "# Linked lists"
   ]
  },
  {
   "cell_type": "markdown",
   "metadata": {},
   "source": [
    "## Remove Kth node from end"
   ]
  },
  {
   "cell_type": "code",
   "execution_count": 1,
   "metadata": {},
   "outputs": [],
   "source": [
    "class LinkedList:\n",
    "    def __init__(self, value):\n",
    "        self.value = value\n",
    "        self.next = None\n",
    "\n",
    "# O(n) time | O(1) space\n",
    "def removeKthNodeFromEnd(head, k):\n",
    "    first_pointer = head\n",
    "    second_pointer = head\n",
    "    for _ in range(k):\n",
    "        first_pointer = first_pointer.next\n",
    "    if first_pointer is None:\n",
    "        head.value = head.next.value\n",
    "        head.next = head.next.next\n",
    "        return\n",
    "    while first_pointer.next is not None:\n",
    "        first_pointer = first_pointer.next\n",
    "        second_pointer = second_pointer.next\n",
    "    second_pointer.next = second_pointer.next.next"
   ]
  }
 ],
 "metadata": {
  "kernelspec": {
   "display_name": "Python 3",
   "language": "python",
   "name": "python3"
  },
  "language_info": {
   "codemirror_mode": {
    "name": "ipython",
    "version": 3
   },
   "file_extension": ".py",
   "mimetype": "text/x-python",
   "name": "python",
   "nbconvert_exporter": "python",
   "pygments_lexer": "ipython3",
   "version": "3.7.1"
  }
 },
 "nbformat": 4,
 "nbformat_minor": 2
}
