{
 "cells": [
  {
   "cell_type": "markdown",
   "metadata": {},
   "source": [
    "# Binary Trees"
   ]
  },
  {
   "cell_type": "code",
   "execution_count": 1,
   "metadata": {},
   "outputs": [],
   "source": [
    "class BinaryTree:\n",
    "    \n",
    "    def __init__(self, value):\n",
    "        self.value = value\n",
    "        self.left = None\n",
    "        self.right = None\n",
    "        \n",
    "    def insert(self, values, i=0):\n",
    "        if i >= len(values):\n",
    "            return\n",
    "        queue = [self]\n",
    "        while len(queue) > 0:\n",
    "            current = queue.pop(0)\n",
    "            if current.left is None:\n",
    "                current.left = BinaryTree(values[i])\n",
    "                break\n",
    "            queue.append(current.left)\n",
    "            if current.right is None:\n",
    "                current.right = BinaryTree(values[i])\n",
    "                break\n",
    "            queue.append(current.right)\n",
    "        self.insert(values, i + 1)\n",
    "        return self"
   ]
  },
  {
   "cell_type": "markdown",
   "metadata": {},
   "source": [
    "## Branch sums"
   ]
  },
  {
   "cell_type": "markdown",
   "metadata": {},
   "source": [
    "Write a function that takes in a Binary Tree and returns a list of its branch sums (ordered from leftmost branch sum to rightmost branch sum). A branch sum is the sum of all values in a Binary Tree branch. A Binary Tree branch is a path of nodes in a tree that starts at the root node and ends at any leaf node. Each Binary Tree node has a value stored in a property called \"value\" and two children nodes stored in properties called \"left\" and \"right,\" respectively. Children nodes can either be Binary Tree nodes themselves or the None (null) value."
   ]
  },
  {
   "cell_type": "code",
   "execution_count": 2,
   "metadata": {},
   "outputs": [],
   "source": [
    "def branchSums(root, sum=0, sums=None):\n",
    "\n",
    "    if sums is None:\n",
    "        sums = []\n",
    "\n",
    "    sum += root.value\n",
    "\n",
    "    if root.left is None and root.right is None:\n",
    "        sums.append(sum)\n",
    "\n",
    "    if root.left is not None:\n",
    "        branchSums(root.left, sum, sums)\n",
    "    if root.right is not None:\n",
    "        branchSums(root.right, sum, sums)\n",
    "\n",
    "    return sums"
   ]
  },
  {
   "cell_type": "code",
   "execution_count": 3,
   "metadata": {},
   "outputs": [
    {
     "name": "stdout",
     "output_type": "stream",
     "text": [
      "True\n"
     ]
    }
   ],
   "source": [
    "tree = BinaryTree(1).insert([2, 3, 4, 5, 6, 7, 8, 9, 10, 1, 1, 1])\n",
    "print(branchSums(tree) == [15, 16, 18, 9, 11, 11, 11])"
   ]
  },
  {
   "cell_type": "markdown",
   "metadata": {},
   "source": [
    "## Invert Binary Tree"
   ]
  },
  {
   "cell_type": "code",
   "execution_count": 4,
   "metadata": {},
   "outputs": [],
   "source": [
    "def invertBinaryTree(tree):\n",
    "    \n",
    "    if tree is None:\n",
    "        return None\n",
    "\n",
    "    tree.left, tree.right = invertBinaryTree(tree.right), invertBinaryTree(tree.left)\n",
    "\n",
    "    return tree"
   ]
  },
  {
   "cell_type": "markdown",
   "metadata": {},
   "source": [
    "### Max path sum in binary tree"
   ]
  },
  {
   "cell_type": "code",
   "execution_count": 5,
   "metadata": {},
   "outputs": [],
   "source": [
    "def maxPathSum(tree):\n",
    "    _, max_path_sum = findMaxPathSum(tree)\n",
    "    return max_path_sum\n",
    "\n",
    "def findMaxPathSum(tree):\n",
    "    if tree is None:\n",
    "        return (0, 0)\n",
    "\n",
    "    left_max_branch_sum, left_max_path_sum = findMaxPathSum(tree.left)\n",
    "    right_max_branch_sum, right_max_path_sum = findMaxPathSum(tree.right)\n",
    "    max_child_branch_sum = max(left_max_branch_sum, right_max_branch_sum)\n",
    "\n",
    "    value = tree.value\n",
    "    max_branch_sum = max(max_child_branch_sum + value, value)\n",
    "    max_root_sum = max(left_max_branch_sum + value + right_max_branch_sum, max_branch_sum)\n",
    "    max_path_sum = max(left_max_path_sum, right_max_path_sum, max_root_sum)\n",
    "\n",
    "    return (max_branch_sum, max_path_sum)"
   ]
  },
  {
   "cell_type": "code",
   "execution_count": 6,
   "metadata": {},
   "outputs": [
    {
     "data": {
      "text/plain": [
       "True"
      ]
     },
     "execution_count": 6,
     "metadata": {},
     "output_type": "execute_result"
    }
   ],
   "source": [
    "test = BinaryTree(1).insert([-10, -5, 30, 75, -20, -21, 5, 1, 3, -3, 100, 2, 100, 1, 100])\n",
    "maxPathSum(test) == 203"
   ]
  }
 ],
 "metadata": {
  "kernelspec": {
   "display_name": "Python 3",
   "language": "python",
   "name": "python3"
  },
  "language_info": {
   "codemirror_mode": {
    "name": "ipython",
    "version": 3
   },
   "file_extension": ".py",
   "mimetype": "text/x-python",
   "name": "python",
   "nbconvert_exporter": "python",
   "pygments_lexer": "ipython3",
   "version": "3.7.1"
  }
 },
 "nbformat": 4,
 "nbformat_minor": 2
}
