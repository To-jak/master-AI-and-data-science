{
 "cells": [
  {
   "cell_type": "markdown",
   "metadata": {},
   "source": [
    "# Dynamic Programming"
   ]
  },
  {
   "cell_type": "markdown",
   "metadata": {},
   "source": [
    "## Max subset sum no adjacent"
   ]
  },
  {
   "cell_type": "code",
   "execution_count": 1,
   "metadata": {},
   "outputs": [],
   "source": [
    "# O(n) time | O(1) space\n",
    "def maxSubsetSumNoAdjacent(array):\n",
    "\n",
    "    if len(array) == 0:\n",
    "        return 0\n",
    "    if len(array) < 3:\n",
    "        return max(array)\n",
    "\n",
    "    max_at_2_behind = array[0]\n",
    "    max_at_1_behind = max(array[1], array[0])\n",
    "    max_at_current = 0\n",
    "\n",
    "    for i in range(2, len(array)):\n",
    "        max_at_current = max(max_at_1_behind, array[i] + max_at_2_behind)\n",
    "        max_at_2_behind, max_at_1_behind = max_at_1_behind, max_at_current\n",
    "\n",
    "    return max_at_current"
   ]
  },
  {
   "cell_type": "code",
   "execution_count": 2,
   "metadata": {},
   "outputs": [
    {
     "data": {
      "text/plain": [
       "True"
      ]
     },
     "execution_count": 2,
     "metadata": {},
     "output_type": "execute_result"
    }
   ],
   "source": [
    "test_array = [75, 105, 120, 75, 90, 135]\n",
    "maxSubsetSumNoAdjacent(test_array) == 330"
   ]
  },
  {
   "cell_type": "markdown",
   "metadata": {},
   "source": [
    "## Number of ways to make change"
   ]
  },
  {
   "cell_type": "code",
   "execution_count": 3,
   "metadata": {},
   "outputs": [],
   "source": [
    "def numberOfWaysToMakeChange(n, denoms):\n",
    "    ways = [0 for _ in range(n+1)]\n",
    "    ways[0] = 1\n",
    "    for denom in denoms:\n",
    "        for target in range(1, n+1):\n",
    "            if denom <= target:\n",
    "                ways[target] += ways[target - denom]\n",
    "    return ways[n]"
   ]
  },
  {
   "cell_type": "code",
   "execution_count": 4,
   "metadata": {},
   "outputs": [
    {
     "data": {
      "text/plain": [
       "True"
      ]
     },
     "execution_count": 4,
     "metadata": {},
     "output_type": "execute_result"
    }
   ],
   "source": [
    "numberOfWaysToMakeChange(6, [1, 5]) == 2"
   ]
  },
  {
   "cell_type": "markdown",
   "metadata": {},
   "source": [
    "## Min number of coins for change"
   ]
  },
  {
   "cell_type": "code",
   "execution_count": 5,
   "metadata": {},
   "outputs": [],
   "source": [
    "def minNumberOfCoinsForChange(n, denoms):\n",
    "    min_nums = [float('inf') for _ in range(n+1)]\n",
    "    min_nums[0] = 0\n",
    "    for denom in denoms:\n",
    "        for target in range(1, n+1):\n",
    "            if denom <= target:\n",
    "                min_nums[target] = min(min_nums[target],\n",
    "                                       min_nums[target - denom] + 1)\n",
    "    return min_nums[n] if min_nums[n] != float('inf') else -1"
   ]
  },
  {
   "cell_type": "code",
   "execution_count": 6,
   "metadata": {},
   "outputs": [
    {
     "data": {
      "text/plain": [
       "True"
      ]
     },
     "execution_count": 6,
     "metadata": {},
     "output_type": "execute_result"
    }
   ],
   "source": [
    "minNumberOfCoinsForChange(7, [1, 5, 10]) == 3"
   ]
  },
  {
   "cell_type": "markdown",
   "metadata": {},
   "source": [
    "## Levenshtein distance"
   ]
  },
  {
   "cell_type": "code",
   "execution_count": 7,
   "metadata": {},
   "outputs": [],
   "source": [
    "#O(mn) time | O(min(m, n)) space\n",
    "def levenshteinDistance(str1, str2):\n",
    "    small = str1 if len(str1) <= len(str2) else str2\n",
    "    big = str2 if small == str1 else str1\n",
    "    \n",
    "    lastRow = [i for i in range(len(small) + 1)]\n",
    "    currentRow = [0 for i in range(len(small) + 1)]\n",
    "    \n",
    "    for i in range(1, len(big) + 1):\n",
    "        currentRow[0] = i\n",
    "        for j in range(1, len(small) + 1):\n",
    "            if big[i-1] == small[j-1]:\n",
    "                currentRow[j] = lastRow[j-1]\n",
    "            else:\n",
    "                currentRow[j] = 1 + min(lastRow[j],\n",
    "                                        lastRow[j-1],\n",
    "                                        currentRow[j-1])\n",
    "        for i in range(len(small) + 1):\n",
    "            lastRow[i] = currentRow[i]\n",
    "    return currentRow[-1]\n",
    "\n",
    "# Other trick using odd and even edit\n",
    "# O(nm) time | O(min(n, m)) space\n",
    "def levenshteinDistance2(str1, str2):\n",
    "    small = str1 if len(str1) < len(str2) else str2\n",
    "    big = str1 if len(str1) >= len(str2) else str2\n",
    "    evenEdits = [x for x in range(len(small) + 1)]\n",
    "    oddEdits = [None for x in range(len(small) + 1)]\n",
    "    for i in range(1, len(big) + 1):\n",
    "        if i % 2 == 1:\n",
    "            currentEdits = oddEdits\n",
    "            previousEdits = evenEdits\n",
    "        else:\n",
    "            currentEdits = evenEdits\n",
    "            previousEdits = oddEdits\n",
    "        currentEdits[0] = i\n",
    "        for j in range(1, len(small) + 1):\n",
    "            if big[i - 1] == small[j - 1]:\n",
    "                currentEdits[j] = previousEdits[j - 1]\n",
    "            else:\n",
    "                currentEdits[j] = 1 + min(\n",
    "                    previousEdits[j - 1], previousEdits[j], currentEdits[j - 1]\n",
    "                )\n",
    "    return evenEdits[-1] if len(big) % 2 == 0 else oddEdits[-1]"
   ]
  },
  {
   "cell_type": "code",
   "execution_count": 8,
   "metadata": {},
   "outputs": [
    {
     "data": {
      "text/plain": [
       "True"
      ]
     },
     "execution_count": 8,
     "metadata": {},
     "output_type": "execute_result"
    }
   ],
   "source": [
    "str1 = 'abc'\n",
    "str2 = 'yabd'\n",
    "levenshteinDistance(str1, str2) == 2"
   ]
  },
  {
   "cell_type": "code",
   "execution_count": 9,
   "metadata": {},
   "outputs": [
    {
     "data": {
      "text/plain": [
       "True"
      ]
     },
     "execution_count": 9,
     "metadata": {},
     "output_type": "execute_result"
    }
   ],
   "source": [
    "levenshteinDistance2(str1, str2) == 2"
   ]
  },
  {
   "cell_type": "markdown",
   "metadata": {},
   "source": [
    "## Max Sum Increasing Sub Sequence"
   ]
  },
  {
   "cell_type": "code",
   "execution_count": 10,
   "metadata": {},
   "outputs": [],
   "source": [
    "def maxSumIncreasingSubsequence(array):    \n",
    "    sums = [num for num in array]\n",
    "    sums[0] = array[0]\n",
    "    sequence = [-1 for num in array]\n",
    "    # Computing max sums at each idx\n",
    "    maxSumIdx = 0\n",
    "    for i in range(1, len(array)):\n",
    "        currentNum = array[i]\n",
    "        for j in range(0, i):\n",
    "            otherNum = array[j]\n",
    "            if otherNum < currentNum and currentNum + sums[j] >= sums[i]:\n",
    "                sums[i] = currentNum + sums[j]\n",
    "                sequence[i] = j\n",
    "        if sums[i] >= sums[maxSumIdx]:\n",
    "            maxSumIdx = i\n",
    "\n",
    "    # Building max sub sequence\n",
    "    lastIdxInSequence = sequence[maxSumIdx]\n",
    "    maxSequence = [array[maxSumIdx]]\n",
    "    while lastIdxInSequence != -1:\n",
    "        maxSequence.insert(0, array[lastIdxInSequence])\n",
    "        lastIdxInSequence = sequence[lastIdxInSequence]\n",
    "\n",
    "    return [sums[maxSumIdx], maxSequence]"
   ]
  },
  {
   "cell_type": "code",
   "execution_count": 11,
   "metadata": {},
   "outputs": [
    {
     "data": {
      "text/plain": [
       "True"
      ]
     },
     "execution_count": 11,
     "metadata": {},
     "output_type": "execute_result"
    }
   ],
   "source": [
    "maxSumIncreasingSubsequence([10, 70, 20, 30, 50, 11, 30]) == [110, [10, 20, 30, 50]]"
   ]
  },
  {
   "cell_type": "markdown",
   "metadata": {},
   "source": [
    "## Longest Common Subsequence"
   ]
  },
  {
   "cell_type": "code",
   "execution_count": 12,
   "metadata": {},
   "outputs": [],
   "source": [
    "# O(nm*min(n, m)) time | O((min(n, m))^2) space\n",
    "def longestCommonSubsequence(str1, str2):\n",
    "    small = str1 if len(str1) < len(str2) else str2\n",
    "    big = str1 if len(str1) >= len(str2) else str2\n",
    "    evenLcs = [[] for x in range(len(small) + 1)]\n",
    "    oddLcs = [[] for x in range(len(small) + 1)]\n",
    "    for i in range(1, len(big) + 1):\n",
    "        if i % 2 == 1:\n",
    "            currentLcs = oddLcs\n",
    "            previousLcs = evenLcs\n",
    "        else:\n",
    "            currentLcs = evenLcs\n",
    "            previousLcs = oddLcs\n",
    "        for j in range(1, len(small) + 1):\n",
    "            if big[i - 1] == small[j - 1]:\n",
    "                currentLcs[j] = previousLcs[j - 1] + [big[i - 1]]\n",
    "            else:\n",
    "                currentLcs[j] = max(previousLcs[j], currentLcs[j - 1], key=len)\n",
    "    return evenLcs[-1] if len(big) % 2 == 0 else oddLcs[-1]"
   ]
  },
  {
   "cell_type": "code",
   "execution_count": 13,
   "metadata": {},
   "outputs": [
    {
     "data": {
      "text/plain": [
       "['A', 'A', 'B', 'H', 'D', 'G', 'F']"
      ]
     },
     "execution_count": 13,
     "metadata": {},
     "output_type": "execute_result"
    }
   ],
   "source": [
    "longestCommonSubsequence(\"AABHIEGDGF\", \"XIAKANBHDGMPF\")"
   ]
  },
  {
   "cell_type": "markdown",
   "metadata": {},
   "source": [
    "### Min Number of Jumps"
   ]
  },
  {
   "cell_type": "code",
   "execution_count": 14,
   "metadata": {},
   "outputs": [],
   "source": [
    "#O(n^2) time | O(n) space\n",
    "def min_number_of_jumps(array):\n",
    "    jumps = [float('inf') for _ in array]\n",
    "    jumps[0] = 0\n",
    "    for i in range(1, len(array)):\n",
    "        for j in range(i):\n",
    "            if array[j] >= i-j:\n",
    "                jumps[i] = min(jumps[j]+1, jumps[i])\n",
    "    return jumps[-1]\n",
    "\n",
    "def min_number_of_jumps2(array):\n",
    "    steps = array[0]\n",
    "    max_reach = array[0]\n",
    "    jumps = 0\n",
    "    for i in range(1, len(array)-1):\n",
    "        max_reach = max(max_reach, array[i] + i)\n",
    "        steps -= 1\n",
    "        if steps == 0:\n",
    "            jumps += 1\n",
    "            steps = max_reach - i\n",
    "    return jumps+1"
   ]
  },
  {
   "cell_type": "code",
   "execution_count": 15,
   "metadata": {},
   "outputs": [
    {
     "data": {
      "text/plain": [
       "4"
      ]
     },
     "execution_count": 15,
     "metadata": {},
     "output_type": "execute_result"
    }
   ],
   "source": [
    "min_number_of_jumps([3, 4, 2, 1, 2, 3, 7, 1, 1, 1, 3])"
   ]
  },
  {
   "cell_type": "code",
   "execution_count": 16,
   "metadata": {},
   "outputs": [
    {
     "data": {
      "text/plain": [
       "4"
      ]
     },
     "execution_count": 16,
     "metadata": {},
     "output_type": "execute_result"
    }
   ],
   "source": [
    "min_number_of_jumps2([3, 4, 2, 1, 2, 3, 7, 1, 1, 1, 3])"
   ]
  }
 ],
 "metadata": {
  "kernelspec": {
   "display_name": "Python 3",
   "language": "python",
   "name": "python3"
  },
  "language_info": {
   "codemirror_mode": {
    "name": "ipython",
    "version": 3
   },
   "file_extension": ".py",
   "mimetype": "text/x-python",
   "name": "python",
   "nbconvert_exporter": "python",
   "pygments_lexer": "ipython3",
   "version": "3.7.1"
  }
 },
 "nbformat": 4,
 "nbformat_minor": 2
}
