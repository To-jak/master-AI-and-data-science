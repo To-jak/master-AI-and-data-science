{
 "cells": [
  {
   "cell_type": "markdown",
   "metadata": {},
   "source": [
    "# Heaps"
   ]
  },
  {
   "cell_type": "markdown",
   "metadata": {},
   "source": [
    "## Min heap construction"
   ]
  },
  {
   "cell_type": "code",
   "execution_count": 1,
   "metadata": {},
   "outputs": [],
   "source": [
    "class MinHeap:\n",
    "    def __init__(self, array):\n",
    "        self.heap = self.buildHeap(array)\n",
    "\n",
    "    def buildHeap(self, array):\n",
    "        firstParentIdx = (len(array) - 2) // 2\n",
    "        for currentIdx in reversed(range(firstParentIdx + 1)):\n",
    "            self.siftDown(currentIdx, array)\n",
    "        return array\n",
    "\n",
    "    def siftDown(self, currentIdx, heap):\n",
    "        childOneIdx = currentIdx * 2 + 1\n",
    "        while childOneIdx <= len(heap)-1:\n",
    "            childTwoIdx = currentIdx * 2 + 2 if currentIdx * 2 + 2 <= len(heap)-1 else -1\n",
    "            if childTwoIdx != -1 and heap[childTwoIdx] < heap[childOneIdx]:\n",
    "                idxToSwap = childTwoIdx\n",
    "            else:\n",
    "                idxToSwap = childOneIdx\n",
    "            if heap[idxToSwap] < heap[currentIdx]:\n",
    "                heap[currentIdx], heap[idxToSwap] = heap[idxToSwap], heap[currentIdx]\n",
    "                currentIdx = idxToSwap\n",
    "                childOneIdx = currentIdx * 2 + 1\n",
    "            else:\n",
    "                return\n",
    "\n",
    "    def siftUp(self, currentIdx):\n",
    "        parentIdx = (currentIdx - 1) // 2\n",
    "        while currentIdx > 0 and self.heap[currentIdx] < self.heap[parentIdx]:\n",
    "            self.heap[currentIdx], self.heap[parentIdx] = self.heap[parentIdx], self.heap[currentIdx]\n",
    "            currentIdx = parentIdx\n",
    "            parentIdx = (currentIdx - 1) // 2\n",
    "\n",
    "    def peek(self):\n",
    "        return self.heap[0]\n",
    "\n",
    "    def remove(self):\n",
    "        self.heap[0], self.heap[len(self.heap)-1] = self.heap[len(self.heap)-1], self.heap[0]\n",
    "        value = self.heap.pop()\n",
    "        self.siftDown(0, self.heap)\n",
    "        return value\n",
    "\n",
    "    def insert(self, value):\n",
    "        self.heap.append(value)\n",
    "        self.siftUp(len(self.heap) - 1)"
   ]
  },
  {
   "cell_type": "code",
   "execution_count": 2,
   "metadata": {},
   "outputs": [
    {
     "name": "stdout",
     "output_type": "stream",
     "text": [
      "[-5, 2, 6, 7, 8, 8, 24, 391, 24, 56, 12, 24, 48, 41]\n",
      "[-5, 2, 6, 7, 8, 8, 24, 391, 24, 56, 12, 24, 48, 41, 76]\n",
      "[2, 7, 6, 24, 8, 8, 24, 391, 76, 56, 12, 24, 48, 41]\n",
      "[6, 7, 8, 24, 8, 24, 24, 391, 76, 56, 12, 41, 48]\n",
      "[6, 7, 8, 24, 8, 24, 24, 391, 76, 56, 12, 41, 48, 87]\n"
     ]
    }
   ],
   "source": [
    "test_array = [48, 12, 24, 7, 8, -5, 24, 391, 24, 56, 2, 6, 8, 41]\n",
    "heap = MinHeap(test_array)\n",
    "print(heap.heap)\n",
    "heap.insert(76)\n",
    "print(heap.heap)\n",
    "heap.remove()\n",
    "print(heap.heap)\n",
    "heap.remove()\n",
    "print(heap.heap)\n",
    "heap.insert(87)\n",
    "print(heap.heap)"
   ]
  }
 ],
 "metadata": {
  "kernelspec": {
   "display_name": "Python 3",
   "language": "python",
   "name": "python3"
  },
  "language_info": {
   "codemirror_mode": {
    "name": "ipython",
    "version": 3
   },
   "file_extension": ".py",
   "mimetype": "text/x-python",
   "name": "python",
   "nbconvert_exporter": "python",
   "pygments_lexer": "ipython3",
   "version": "3.7.3"
  }
 },
 "nbformat": 4,
 "nbformat_minor": 2
}
