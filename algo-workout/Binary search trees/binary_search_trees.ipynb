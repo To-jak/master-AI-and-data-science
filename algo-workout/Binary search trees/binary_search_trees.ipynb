{
 "cells": [
  {
   "cell_type": "markdown",
   "metadata": {},
   "source": [
    "# Binary search trees"
   ]
  },
  {
   "cell_type": "markdown",
   "metadata": {},
   "source": [
    "## BST construction"
   ]
  },
  {
   "cell_type": "code",
   "execution_count": 1,
   "metadata": {},
   "outputs": [],
   "source": [
    "class BST:\n",
    "    def __init__(self, value):\n",
    "        self.value = value\n",
    "        self.left = None\n",
    "        self.right = None\n",
    "\n",
    "    def insert(self, value):\n",
    "        current_node = self\n",
    "        is_inserted = False\n",
    "        while is_inserted == False:\n",
    "            if current_node.value > value:\n",
    "                if current_node.left is not None:\n",
    "                    current_node = current_node.left\n",
    "                else:\n",
    "                    current_node.left = BST(value)\n",
    "                    is_inserted = True\n",
    "            if current_node.value <= value:\n",
    "                if current_node.right is not None:\n",
    "                    current_node = current_node.right\n",
    "                else:\n",
    "                    current_node.right = BST(value)\n",
    "                    is_inserted = True\n",
    "        return self\n",
    "\n",
    "    def contains(self, value):\n",
    "        current_node = self\n",
    "        while True:\n",
    "            if current_node is None:\n",
    "                return False\n",
    "            if current_node.value == value:\n",
    "                return True\n",
    "            elif value < current_node.value:\n",
    "                current_node = current_node.left\n",
    "            elif value > current_node.value:\n",
    "                current_node = current_node.right\n",
    "\n",
    "    def getMinValue(self):\n",
    "        current_node = self\n",
    "        while current_node.left is not None:\n",
    "            current_node = current_node.left\n",
    "        return current_node.value\n",
    "\n",
    "    def remove(self, value, parent_node=None):\n",
    "\n",
    "        current_node = self\n",
    "        is_removed = False\n",
    "\n",
    "        while is_removed == False:\n",
    "            if current_node is None:\n",
    "                is_removed = True\n",
    "            elif value < current_node.value:\n",
    "                parent_node, current_node = current_node, current_node.left\n",
    "            elif value > current_node.value:\n",
    "                parent_node, current_node = current_node, current_node.right\n",
    "            else:\n",
    "                if current_node.left is not None and current_node.right is not None:\n",
    "                    current_node.value = current_node.right.getMinValue()\n",
    "                    current_node.right.remove(current_node.value, current_node)\n",
    "                elif parent_node == None:\n",
    "                    return (current_node.left\n",
    "                            if current_node.left is not None\n",
    "                            else current_node.right)\n",
    "                elif current_node.left is not None:\n",
    "                    if parent_node.right == current_node:\n",
    "                        parent_node.right = current_node.left\n",
    "                        is_removed = True\n",
    "                    else:\n",
    "                        parent_node.left = current_node.left\n",
    "                        is_removed = True\n",
    "                elif current_node.right is not None:\n",
    "                    if parent_node.right == current_node:\n",
    "                        parent_node.right = current_node.right\n",
    "                        is_removed = True\n",
    "                    else:\n",
    "                        parent_node.left = current_node.right\n",
    "                        is_removed = True\n",
    "        return self"
   ]
  },
  {
   "cell_type": "markdown",
   "metadata": {},
   "source": [
    "## Validate BST"
   ]
  },
  {
   "cell_type": "code",
   "execution_count": 2,
   "metadata": {},
   "outputs": [],
   "source": [
    "def validateBst(tree, min_val=float(\"-inf\"), max_val=float('inf')):\n",
    "    if tree is None:\n",
    "        return True\n",
    "    \n",
    "    if tree.value >= min_val and tree.value < max_val:\n",
    "        return (validateBst(tree.left, min_val, tree.value)\n",
    "                and\n",
    "                validateBst(tree.right, tree.value, max_val))\n",
    "    else:\n",
    "        return False"
   ]
  },
  {
   "cell_type": "markdown",
   "metadata": {},
   "source": [
    "## BST traversal"
   ]
  },
  {
   "cell_type": "code",
   "execution_count": 3,
   "metadata": {},
   "outputs": [],
   "source": [
    "def inOrderTraverse(tree, array):\n",
    "    if tree is not None:\n",
    "        inOrderTraverse(tree.left, array)\n",
    "        array.append(tree.value)\n",
    "        inOrderTraverse(tree.right, array)\n",
    "    return array\n",
    "\n",
    "def preOrderTraverse(tree, array):\n",
    "    if tree is not None:\n",
    "        array.append(tree.value)\n",
    "        preOrderTraverse(tree.left, array)\n",
    "        preOrderTraverse(tree.right, array)\n",
    "    return array\n",
    "\n",
    "def postOrderTraverse(tree, array):\n",
    "    if tree is not None:\n",
    "        postOrderTraverse(tree.left, array)\n",
    "        postOrderTraverse(tree.right, array)\n",
    "        array.append(tree.value)\n",
    "    return array"
   ]
  },
  {
   "cell_type": "markdown",
   "metadata": {},
   "source": [
    "### Same BST"
   ]
  },
  {
   "cell_type": "code",
   "execution_count": 4,
   "metadata": {},
   "outputs": [],
   "source": [
    "def sameBsts(arrayOne, arrayTwo):\n",
    "    return areSameBsts(arrayOne, arrayTwo, 0, 0, float(\"-inf\"), float(\"inf\"))\n",
    "\n",
    "def areSameBsts(arrayOne, arrayTwo, rootIdxOne, rootIdxTwo, minVal, maxVal):\n",
    "    if rootIdxOne == -1 or rootIdxTwo == -1:\n",
    "        return rootIdxOne == rootIdxTwo\n",
    "\n",
    "    if arrayOne[rootIdxOne] != arrayTwo[rootIdxTwo]:\n",
    "        return False\n",
    "\n",
    "    leftRootIdxOne = getIdxOfFirstSmaller(arrayOne, rootIdxOne, minVal)\n",
    "    leftRootIdxTwo = getIdxOfFirstSmaller(arrayTwo, rootIdxTwo, minVal)\n",
    "    rightRootIdxOne = getIdxOfFirstBiggerOrEqual(arrayOne, rootIdxOne, maxVal)\n",
    "    rightRootIdxTwo = getIdxOfFirstBiggerOrEqual(arrayTwo, rootIdxTwo, maxVal)\n",
    "\n",
    "    currentValue = arrayOne[rootIdxOne]\n",
    "    leftAreSame = areSameBsts(arrayOne, arrayTwo, leftRootIdxOne, leftRootIdxTwo, minVal, currentValue)\n",
    "    rightAreSame = areSameBsts(arrayOne, arrayTwo, rightRootIdxOne, rightRootIdxTwo, currentValue, maxVal)\n",
    "    return leftAreSame and rightAreSame\n",
    "\n",
    "def getIdxOfFirstSmaller(array, startingIdx, minVal):\n",
    "# Find the index of the first smaller value after the startingIdx.\n",
    "# Make sure that this value is greater than or equal to the minVal,\n",
    "# which is the value of the previous parent node in the BST. If it\n",
    "# isn't, then that value is located in the left subtree of the\n",
    "# previous parent node.\n",
    "    for i in range(startingIdx + 1, len(array)):\n",
    "        if array[i] < array[startingIdx] and array[i] >= minVal:\n",
    "            return i\n",
    "    return -1\n",
    "\n",
    "def getIdxOfFirstBiggerOrEqual(array, startingIdx, maxVal):\n",
    "# Find the index of the first bigger/equal value after the startingIdx.\n",
    "# Make sure that this value is smaller than maxVal, which is the value\n",
    "# of the previous parent node in the BST. If it isn't, then that value\n",
    "# is located in the right subtree of the previous parent node.\n",
    "    for i in range(startingIdx + 1, len(array)):\n",
    "        if array[i] >= array[startingIdx] and array[i] < maxVal:\n",
    "            return i\n",
    "    return -1"
   ]
  },
  {
   "cell_type": "code",
   "execution_count": 5,
   "metadata": {},
   "outputs": [
    {
     "data": {
      "text/plain": [
       "True"
      ]
     },
     "execution_count": 5,
     "metadata": {},
     "output_type": "execute_result"
    }
   ],
   "source": [
    "sameBsts([10, 15, 8, 12, 94, 81, 5, 2, 11], [10, 8, 5, 15, 2, 12, 11, 94, 81])"
   ]
  },
  {
   "cell_type": "code",
   "execution_count": 6,
   "metadata": {},
   "outputs": [],
   "source": [
    "# Simpler solution but worse space complexity\n",
    "def sameBsts(arrayOne, arrayTwo):\n",
    "    if len(arrayOne) != len(arrayTwo):\n",
    "        return False\n",
    "    if len(arrayOne) == 0 and len(arrayTwo) == 0:\n",
    "        return True\n",
    "    if arrayOne[0] != arrayTwo[0]:\n",
    "        return False\n",
    "    \n",
    "    leftOne = getSmaller(arrayOne)\n",
    "    leftTwo = getSmaller(arrayTwo)\n",
    "    rightOne = getBiggerOrEqual(arrayOne)\n",
    "    rightTwo = getBiggerOrEqual(arrayTwo)\n",
    "    \n",
    "    return sameBsts(leftOne, leftTwo) and sameBsts(rightOne, rightTwo)\n",
    "\n",
    "def getSmaller(array):\n",
    "    smaller = []\n",
    "    for i in range(1, len(array)):\n",
    "        if array[i] < array[0]:\n",
    "            smaller.append(array[i])\n",
    "    return smaller\n",
    "\n",
    "def getBiggerOrEqual(array):\n",
    "    biggerOrEqual = []\n",
    "    for i in range(1, len(array)):\n",
    "        if array[i] >= array[0]:\n",
    "            biggerOrEqual.append(array[i])\n",
    "    return biggerOrEqual"
   ]
  },
  {
   "cell_type": "code",
   "execution_count": 7,
   "metadata": {},
   "outputs": [
    {
     "data": {
      "text/plain": [
       "True"
      ]
     },
     "execution_count": 7,
     "metadata": {},
     "output_type": "execute_result"
    }
   ],
   "source": [
    "sameBsts([10, 15, 8, 12, 94, 81, 5, 2, 11], [10, 8, 5, 15, 2, 12, 11, 94, 81])"
   ]
  }
 ],
 "metadata": {
  "kernelspec": {
   "display_name": "Python 3",
   "language": "python",
   "name": "python3"
  },
  "language_info": {
   "codemirror_mode": {
    "name": "ipython",
    "version": 3
   },
   "file_extension": ".py",
   "mimetype": "text/x-python",
   "name": "python",
   "nbconvert_exporter": "python",
   "pygments_lexer": "ipython3",
   "version": "3.7.1"
  }
 },
 "nbformat": 4,
 "nbformat_minor": 2
}
