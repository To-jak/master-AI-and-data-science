{
 "cells": [
  {
   "cell_type": "markdown",
   "metadata": {},
   "source": [
    "# Stacks"
   ]
  },
  {
   "cell_type": "markdown",
   "metadata": {},
   "source": [
    "### Min max stack construction"
   ]
  },
  {
   "cell_type": "code",
   "execution_count": 1,
   "metadata": {},
   "outputs": [],
   "source": [
    "class MinMaxStack:\n",
    "    def __init__(self):\n",
    "        self.stack = []\n",
    "        self.min = None\n",
    "        self.max = None\n",
    "\n",
    "    def peek(self):\n",
    "        number = self.stack[len(self.stack) - 1]\n",
    "        if number > self.max:\n",
    "            return self.max\n",
    "        if number < self.min:\n",
    "            return self.min\n",
    "        return number\n",
    "\n",
    "    def pop(self):\n",
    "        stack_top = self.stack.pop()\n",
    "        number_to_pop = stack_top\n",
    "        if stack_top < self.min:\n",
    "            number_to_pop = self.min\n",
    "            self.min = 2*number_to_pop - stack_top\n",
    "        if stack_top > self.max:\n",
    "            number_to_pop = self.max\n",
    "            self.max = 2*number_to_pop - stack_top\n",
    "        if len(self.stack) == 0:\n",
    "            self.min = None\n",
    "            self.max = None\n",
    "        return number_to_pop\n",
    "\n",
    "    def push(self, number):\n",
    "        if len(self.stack) == 0:\n",
    "            self.min = number\n",
    "            self.max = number\n",
    "        if number < self.min:\n",
    "            number_to_stack = 2*number - self.min\n",
    "            self.stack.append(number_to_stack)\n",
    "            self.min = number\n",
    "            return\n",
    "        if number > self.max:\n",
    "            number_to_stack = 2*number - self.max\n",
    "            self.stack.append(number_to_stack)\n",
    "            self.max = number\n",
    "            return\n",
    "        self.stack.append(number)\n",
    "\n",
    "    def getMin(self):\n",
    "        return self.min\n",
    "\n",
    "    def getMax(self):\n",
    "        return self.max"
   ]
  },
  {
   "cell_type": "code",
   "execution_count": 2,
   "metadata": {},
   "outputs": [
    {
     "data": {
      "text/plain": [
       "9"
      ]
     },
     "execution_count": 2,
     "metadata": {},
     "output_type": "execute_result"
    }
   ],
   "source": [
    "stack = MinMaxStack()\n",
    "stack.push(2)\n",
    "stack.push(7)\n",
    "stack.push(1)\n",
    "stack.push(8)\n",
    "stack.push(3)\n",
    "stack.push(9)\n",
    "stack.peek()"
   ]
  },
  {
   "cell_type": "markdown",
   "metadata": {},
   "source": [
    "## Balanced brackets"
   ]
  },
  {
   "cell_type": "code",
   "execution_count": 3,
   "metadata": {},
   "outputs": [],
   "source": [
    "def balancedBrackets(string):\n",
    "    opening_brackets = '({['\n",
    "    closing_brackets = ')}]'\n",
    "    matching_brackets = {'(':')', '{':'}', '[':']'}\n",
    "    opening_bracket_stack = []\n",
    "    for c in string:\n",
    "        if c in opening_brackets:\n",
    "            opening_bracket_stack.append(c)\n",
    "        if c in closing_brackets:\n",
    "            if len(opening_bracket_stack) == 0:\n",
    "                return False\n",
    "            opening_bracket = opening_bracket_stack.pop()\n",
    "            if matching_brackets[opening_bracket] != c:\n",
    "                return False\n",
    "    return len(opening_bracket_stack) == 0"
   ]
  },
  {
   "cell_type": "code",
   "execution_count": 4,
   "metadata": {},
   "outputs": [
    {
     "data": {
      "text/plain": [
       "True"
      ]
     },
     "execution_count": 4,
     "metadata": {},
     "output_type": "execute_result"
    }
   ],
   "source": [
    "test_bracekts = '([])(){}(())()()'\n",
    "balancedBrackets(test_bracekts) == True"
   ]
  }
 ],
 "metadata": {
  "kernelspec": {
   "display_name": "Python 3",
   "language": "python",
   "name": "python3"
  },
  "language_info": {
   "codemirror_mode": {
    "name": "ipython",
    "version": 3
   },
   "file_extension": ".py",
   "mimetype": "text/x-python",
   "name": "python",
   "nbconvert_exporter": "python",
   "pygments_lexer": "ipython3",
   "version": "3.7.1"
  }
 },
 "nbformat": 4,
 "nbformat_minor": 2
}
