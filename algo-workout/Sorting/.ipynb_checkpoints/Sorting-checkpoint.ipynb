{
 "cells": [
  {
   "cell_type": "markdown",
   "metadata": {},
   "source": [
    "# Sorting"
   ]
  },
  {
   "cell_type": "markdown",
   "metadata": {},
   "source": [
    "## Bubble Sort\n",
    "  \n",
    "Write a function that takes in an array of integers and returns a sorted version of that array. Use the Bubble Sort algorithm to sort the array."
   ]
  },
  {
   "cell_type": "code",
   "execution_count": 1,
   "metadata": {},
   "outputs": [],
   "source": [
    "def bubbleSort(array):\n",
    "    is_sorted = False\n",
    "    counter = 0\n",
    "    while is_sorted == False:\n",
    "        is_sorted = True\n",
    "        for i in range(len(array) - 1 - counter):\n",
    "            if array[i+1] < array[i]:\n",
    "                array[i+1], array[i] = array[i], array[i+1]\n",
    "                is_sorted = False\n",
    "        counter = counter + 1\n",
    "\n",
    "    return array\n",
    "\n",
    "def bubbleSort2(array):\n",
    "    is_sorted = True\n",
    "    for i in range(len(array) - 1):\n",
    "        for j in range(len(array) - 1 - i):\n",
    "            if array[j+1] < array[j]:\n",
    "                array[j+1], array[j] = array[j], array[j+1]\n",
    "                is_sorted = False\n",
    "        if is_sorted:\n",
    "            return array\n",
    "\n",
    "    return array"
   ]
  },
  {
   "cell_type": "code",
   "execution_count": 2,
   "metadata": {},
   "outputs": [
    {
     "name": "stdout",
     "output_type": "stream",
     "text": [
      "True\n",
      "True\n"
     ]
    }
   ],
   "source": [
    "test_array = [8, 5, 2, 9, 5, 6, 3]\n",
    "\n",
    "print(bubbleSort(test_array) == [2, 3, 5, 5, 6, 8, 9])\n",
    "print(bubbleSort2(test_array) == [2, 3, 5, 5, 6, 8, 9])"
   ]
  },
  {
   "cell_type": "markdown",
   "metadata": {},
   "source": [
    "## Insertion Sort\n",
    "\n",
    "Write a function that takes in an array of integers and returns a sorted version of that array. Use the Insertion Sort algorithm to sort the array."
   ]
  },
  {
   "cell_type": "code",
   "execution_count": 3,
   "metadata": {},
   "outputs": [],
   "source": [
    "def insertionSort(array):\n",
    "    for i in range(len(array)):\n",
    "        j = i\n",
    "        while j > 0 and array[j] < array[j-1]:\n",
    "            #swap\n",
    "            array[j], array[j-1] = array[j-1], array[j]\n",
    "            j -=1\n",
    "    return array"
   ]
  },
  {
   "cell_type": "code",
   "execution_count": 4,
   "metadata": {},
   "outputs": [
    {
     "name": "stdout",
     "output_type": "stream",
     "text": [
      "True\n"
     ]
    }
   ],
   "source": [
    "test_array = [8, 5, 2, 9, 5, 6, 3]\n",
    "print(insertionSort(test_array) == [2, 3, 5, 5, 6, 8, 9])"
   ]
  },
  {
   "cell_type": "markdown",
   "metadata": {},
   "source": [
    "## Selection Sort\n",
    "\n",
    "Write a function that takes in an array of integers and returns a sorted version of that array. Use the Selection Sort algorithm to sort the array.\n",
    "Sample input: [8, 5, 2, 9, 5, 6, 3]\n",
    "Sample output: [2, 3, 5, 5, 6, 8, 9]"
   ]
  },
  {
   "cell_type": "code",
   "execution_count": 1,
   "metadata": {},
   "outputs": [],
   "source": [
    "def selectionSort(array):\n",
    "    for i in range(len(array) - 1):\n",
    "        minimum_index = i\n",
    "        for j in range(i+1, len(array)):\n",
    "            if array[j] < array[minimum_index]:\n",
    "                minimum_index = j\n",
    "        array[i], array[minimum_index] = array[minimum_index], array[i]\n",
    "    return array"
   ]
  },
  {
   "cell_type": "code",
   "execution_count": 2,
   "metadata": {},
   "outputs": [
    {
     "name": "stdout",
     "output_type": "stream",
     "text": [
      "True\n"
     ]
    }
   ],
   "source": [
    "test_array = [8, 5, 2, 9, 5, 6, 3]\n",
    "print(selectionSort(test_array) == [2, 3, 5, 5, 6, 8, 9])"
   ]
  }
 ],
 "metadata": {
  "kernelspec": {
   "display_name": "Python 3",
   "language": "python",
   "name": "python3"
  },
  "language_info": {
   "codemirror_mode": {
    "name": "ipython",
    "version": 3
   },
   "file_extension": ".py",
   "mimetype": "text/x-python",
   "name": "python",
   "nbconvert_exporter": "python",
   "pygments_lexer": "ipython3",
   "version": "3.7.1"
  }
 },
 "nbformat": 4,
 "nbformat_minor": 2
}
