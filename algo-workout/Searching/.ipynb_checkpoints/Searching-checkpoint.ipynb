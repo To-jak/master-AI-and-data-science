{
 "cells": [
  {
   "cell_type": "markdown",
   "metadata": {},
   "source": [
    "# Searching"
   ]
  },
  {
   "cell_type": "markdown",
   "metadata": {},
   "source": [
    "## Binary search"
   ]
  },
  {
   "cell_type": "markdown",
   "metadata": {},
   "source": [
    "Write a function that takes in a sorted array of integers as well as a target integer. The function should use the Binary Search algorithm to nd if the target number is contained in the array and should return its index if it is, otherwise -1."
   ]
  },
  {
   "cell_type": "code",
   "execution_count": 1,
   "metadata": {},
   "outputs": [],
   "source": [
    "def binarySearch(array, target):\n",
    "\n",
    "    lower_index = 0\n",
    "    upper_index = len(array) - 1\n",
    "    middle_index = (upper_index + lower_index) // 2\n",
    "\n",
    "    while array[middle_index] != target:\n",
    "        if array[middle_index] > target:\n",
    "            upper_index = middle_index - 1\n",
    "        else:\n",
    "            lower_index = middle_index + 1\n",
    "\n",
    "        if(upper_index < lower_index):\n",
    "            return -1\n",
    "\n",
    "        middle_index = (upper_index + lower_index) // 2\n",
    "\n",
    "    return middle_index"
   ]
  },
  {
   "cell_type": "code",
   "execution_count": 2,
   "metadata": {},
   "outputs": [
    {
     "name": "stdout",
     "output_type": "stream",
     "text": [
      "True\n",
      "True\n"
     ]
    }
   ],
   "source": [
    "test_array =  [0, 1, 21, 33, 45, 45, 61, 71, 72, 73]\n",
    "\n",
    "print(binarySearch(test_array, 33) == 3)\n",
    "print(binarySearch(test_array, 42) == -1)"
   ]
  },
  {
   "cell_type": "markdown",
   "metadata": {},
   "source": [
    "## Find Three Largest Numbers"
   ]
  },
  {
   "cell_type": "markdown",
   "metadata": {},
   "source": [
    "Write a function that takes in an array of integers and returns a sorted array of the three largest integers in the input array. Note that the function should return duplicate integers if necessary; for example, it should return `[10, 10, 12]` for an input array of `[10, 5, 9, 10, 12]`."
   ]
  },
  {
   "cell_type": "code",
   "execution_count": 1,
   "metadata": {},
   "outputs": [],
   "source": [
    "import sys\n",
    "def findThreeLargestNumbers(array):\n",
    "\n",
    "    first_largest = -sys.maxsize - 1\n",
    "    second_largest = -sys.maxsize - 1\n",
    "    third_largest = -sys.maxsize - 1\n",
    "\n",
    "    for number in array:\n",
    "        if(number >= first_largest):\n",
    "            first_largest, second_largest, third_largest = number, first_largest, second_largest\n",
    "        elif(number >= second_largest):\n",
    "            second_largest, third_largest = number, second_largest\n",
    "        elif(number >= third_largest):\n",
    "            third_largest = number\n",
    "\n",
    "    return [third_largest, second_largest, first_largest]"
   ]
  },
  {
   "cell_type": "code",
   "execution_count": 2,
   "metadata": {},
   "outputs": [
    {
     "name": "stdout",
     "output_type": "stream",
     "text": [
      "True\n"
     ]
    }
   ],
   "source": [
    "test_array = [141, 1, 17, -7, -17, -27, 18, 541, 8, 7, 7]\n",
    "\n",
    "print(findThreeLargestNumbers(test_array) == [18, 141, 541])"
   ]
  },
  {
   "cell_type": "markdown",
   "metadata": {},
   "source": [
    "## Search in sorted matrix"
   ]
  },
  {
   "cell_type": "code",
   "execution_count": null,
   "metadata": {},
   "outputs": [],
   "source": [
    "# O(n + m) time | O(1) space\n",
    "def searchInSortedMatrix(matrix, target):\n",
    "    col = 0\n",
    "    row = len(matrix)-1\n",
    "    while col < len(matrix[0]) and row >=0:\n",
    "        if matrix[row][col] < target:\n",
    "            col += 1\n",
    "        elif matrix[row][col] > target:\n",
    "            row -= 1\n",
    "        else:\n",
    "            return [row, col]\n",
    "    return [-1, -1]"
   ]
  }
 ],
 "metadata": {
  "kernelspec": {
   "display_name": "Python 3",
   "language": "python",
   "name": "python3"
  },
  "language_info": {
   "codemirror_mode": {
    "name": "ipython",
    "version": 3
   },
   "file_extension": ".py",
   "mimetype": "text/x-python",
   "name": "python",
   "nbconvert_exporter": "python",
   "pygments_lexer": "ipython3",
   "version": "3.7.1"
  }
 },
 "nbformat": 4,
 "nbformat_minor": 2
}
