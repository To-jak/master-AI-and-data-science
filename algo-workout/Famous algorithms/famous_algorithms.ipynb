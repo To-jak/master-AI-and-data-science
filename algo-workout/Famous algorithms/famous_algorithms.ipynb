{
 "cells": [
  {
   "cell_type": "markdown",
   "metadata": {},
   "source": [
    "# Famous algorithms"
   ]
  },
  {
   "cell_type": "markdown",
   "metadata": {},
   "source": [
    "## Kadane's algorithm"
   ]
  },
  {
   "cell_type": "code",
   "execution_count": 4,
   "metadata": {},
   "outputs": [],
   "source": [
    "def kadanesAlgorithm(array):\n",
    "    global_max = array[0]\n",
    "    max_at_index = array[0]\n",
    "    for i in range(1, len(array)):\n",
    "        max_at_index = max(array[i], array[i] + max_at_index)\n",
    "        global_max = max(max_at_index, global_max)\n",
    "    return global_max"
   ]
  },
  {
   "cell_type": "code",
   "execution_count": 5,
   "metadata": {},
   "outputs": [
    {
     "data": {
      "text/plain": [
       "True"
      ]
     },
     "execution_count": 5,
     "metadata": {},
     "output_type": "execute_result"
    }
   ],
   "source": [
    "test_array = [3, 5, -9, 1, 3, -2, 3, 4, 7, 2, -9, 6, 3, 1, -5, 4]\n",
    "kadanesAlgorithm(test_array) == 19"
   ]
  },
  {
   "cell_type": "code",
   "execution_count": 14,
   "metadata": {},
   "outputs": [],
   "source": [
    "def kadanesAlgorithmArray(array):\n",
    "    best_start = 0\n",
    "    best_end = 1\n",
    "    best_sum = array[0]\n",
    "    current_start = 0\n",
    "    current_end = 1\n",
    "    current_sum = array[0]\n",
    "    \n",
    "    for i in range(1, len(array)):\n",
    "        current_end = i\n",
    "        if current_sum <= 0:\n",
    "            current_sum = array[i]\n",
    "            current_start = current_end\n",
    "        else:\n",
    "            current_sum += array[i]\n",
    "\n",
    "        if current_sum > best_sum:\n",
    "            best_sum = current_sum\n",
    "            best_start = current_start\n",
    "            best_end = current_end + 1\n",
    "            \n",
    "    return best_sum, array[best_start:best_end]"
   ]
  },
  {
   "cell_type": "code",
   "execution_count": 15,
   "metadata": {},
   "outputs": [
    {
     "data": {
      "text/plain": [
       "(19, [1, 3, -2, 3, 4, 7, 2, -9, 6, 3, 1])"
      ]
     },
     "execution_count": 15,
     "metadata": {},
     "output_type": "execute_result"
    }
   ],
   "source": [
    "kadanesAlgorithmArray(test_array)"
   ]
  }
 ],
 "metadata": {
  "kernelspec": {
   "display_name": "Python 3",
   "language": "python",
   "name": "python3"
  },
  "language_info": {
   "codemirror_mode": {
    "name": "ipython",
    "version": 3
   },
   "file_extension": ".py",
   "mimetype": "text/x-python",
   "name": "python",
   "nbconvert_exporter": "python",
   "pygments_lexer": "ipython3",
   "version": "3.7.3"
  }
 },
 "nbformat": 4,
 "nbformat_minor": 2
}
