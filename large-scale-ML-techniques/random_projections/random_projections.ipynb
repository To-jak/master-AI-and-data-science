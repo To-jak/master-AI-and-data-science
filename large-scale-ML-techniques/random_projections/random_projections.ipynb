{
 "cells": [
  {
   "cell_type": "markdown",
   "metadata": {},
   "source": [
    "# LAB: Random Projections"
   ]
  },
  {
   "cell_type": "markdown",
   "metadata": {},
   "source": [
    "\n",
    "#### Authors: R. M. Gower\n",
    "\n",
    "## Aim\n",
    "\n",
    "The aim of this material is to\n",
    "- to show that in practice dimension reduction can be used with no loss of accuracy on some problem\n",
    "- code efficient sparse random projections\n",
    "- apply sparse random projections together with knearestneighbors"
   ]
  },
  {
   "cell_type": "code",
   "execution_count": 3,
   "metadata": {},
   "outputs": [],
   "source": [
    "%matplotlib inline"
   ]
  },
  {
   "cell_type": "code",
   "execution_count": 4,
   "metadata": {},
   "outputs": [],
   "source": [
    "import numpy as np\n",
    "from scipy.linalg import norm\n",
    "import matplotlib.pyplot as plt\n",
    "import warnings\n",
    "warnings.filterwarnings('ignore')"
   ]
  },
  {
   "cell_type": "code",
   "execution_count": 5,
   "metadata": {},
   "outputs": [],
   "source": [
    "from sklearn.datasets import load_svmlight_file\n",
    "from sklearn.model_selection import train_test_split\n",
    "from sklearn.linear_model import LogisticRegression    #Logistic Regression\n",
    "from sklearn.neighbors import KNeighborsClassifier \n",
    "\n",
    "def get_data(dataname):\n",
    "    data = load_svmlight_file(dataname)\n",
    "    return data[0], data[1]"
   ]
  },
  {
   "cell_type": "markdown",
   "metadata": {},
   "source": [
    "## EXERCISE 1: \n",
    "\n",
    "Use LogisticRegression classifier of Scikit-learn to experimentally confirm the following corollary proven in class and test random sparse projections\n",
    "\n",
    "### Corollary of Range Space Preserving Theorem  \n",
    "\n",
    "Let \n",
    "$$ X^\\top = [x_1, \\ldots, x_n]\\in \\mathbb{R}^{n\\times d},$$\n",
    "be our data matrix and let\n",
    "$$  X X^\\top= [\\hat{x}_1, \\ldots, \\hat{x}_n]^\\top \\in \\mathbb{R}^{n\\times n}. $$\n",
    "We can find a solution to the following training problem\n",
    "$$ w^* \\in \\min_{w \\in \\mathbb{R}^d}  \\frac{1}{n}\\sum_{i=1}^n \\ell_i(\\langle x_i,w \\rangle) \\hspace{3cm} (I)$$\n",
    "by instead solving \n",
    "$$ \\hat{w}^* \\in \\min_{w \\in \\mathbb{R}^n}  \\frac{1}{n}\\sum_{i=1}^n \\ell_i(\\langle \\hat{x}_i,w \\rangle) \\hspace{3cm} (II)$$\n",
    "and  $ X ^\\top \\hat{w}^*$ is a solution to $(I)$\n",
    "\n",
    "**NOTE:** The matrix $X$ is transposed with respect to the data matrix defined in class and in the lectures ! Be careful with dimnensions!\n",
    "### End Corollary\n",
    "\n",
    "1) [2pts] Show that by setting the regularization parameter close to zero (C = 10^9) in LogisticRegression, the score obtained by training using $X$ and $XX^\\top$ is the same\n",
    "  \n",
    "2) [2pts] Compute a solution $w^*_1$  by directly solving (I).  Compare this $w^*_1$ to the recovered solution $X^T \\hat{w}^*$. Are they the same? Justify based on Corollary.\n",
    "\n",
    "3) [6pts] Using a random generated gaussian matrix $W \\in\\mathbb{R}^{d\\times r}$ , project the data matrix $X \\rightarrow XW$. Test for different values of r and\n",
    "apply logistic regression to the resulting projected matrix. Can you explain what you observe? "
   ]
  },
  {
   "cell_type": "code",
   "execution_count": 6,
   "metadata": {},
   "outputs": [
    {
     "name": "stdout",
     "output_type": "stream",
     "text": [
      "41 data points and 2000 features\n"
     ]
    }
   ],
   "source": [
    "# download the colon-cancer data set from \n",
    "# https://www.csie.ntu.edu.tw/~cjlin/libsvmtools/datasets/binary/colon-cancer.bz2\n",
    "# Unpack and place in the same folder as this python notebook\n",
    "dataname = \"colon-cancer\"  \n",
    "X, y = get_data(dataname)\n",
    "X_train, X_test, y_train, y_test = train_test_split(X, y, test_size=0.33, random_state=42)\n",
    "n, d = X_train.shape\n",
    "print('{n} data points and {d} features'.format(n = n,d =d))"
   ]
  },
  {
   "cell_type": "code",
   "execution_count": 7,
   "metadata": {},
   "outputs": [
    {
     "name": "stdout",
     "output_type": "stream",
     "text": [
      "Accuracy on the training set: 1.000\n",
      "Accuracy on the test set: 0.619\n"
     ]
    }
   ],
   "source": [
    "C0 = 10**9 # almost no regularization, since this is the inverse of the regularization parameter, i.e, C = 1/lambda\n",
    "log_reg = LogisticRegression(C = C0) # , multi_class = \"multinomial\"\n",
    "log_reg.fit(X_train, y_train)\n",
    "print('Accuracy on the training set: {:.3f}'.format(log_reg.score(X_train,y_train)))\n",
    "print('Accuracy on the test set: {:.3f}'.format(log_reg.score(X_test,y_test)))"
   ]
  },
  {
   "cell_type": "code",
   "execution_count": 8,
   "metadata": {},
   "outputs": [
    {
     "name": "stdout",
     "output_type": "stream",
     "text": [
      "After using X.X^T: 41 data points and 62 features\n",
      "Accuracy on the training set: 1.000\n",
      "Accuracy on the test set: 0.619\n"
     ]
    }
   ],
   "source": [
    "X_trainT, X_testT, y_trainT, y_testT = train_test_split(X.dot(X.T), y, test_size=0.33, random_state=42)\n",
    "n_T, d_T = X_trainT.shape\n",
    "print('After using X.X^T: {n} data points and {d} features'.format(n = n_T,d =d_T))\n",
    "\n",
    "log_regT = LogisticRegression(C = C0)\n",
    "log_regT.fit(X_trainT, y_train)\n",
    "print('Accuracy on the training set: {:.3f}'.format(log_regT.score(X_trainT,y_trainT)))\n",
    "print('Accuracy on the test set: {:.3f}'.format(log_regT.score(X_testT,y_testT)))"
   ]
  },
  {
   "cell_type": "markdown",
   "metadata": {},
   "source": [
    "**Observations**: we verified that the score obtained by training using $X$ and $XX^\\top$ is the same."
   ]
  },
  {
   "cell_type": "code",
   "execution_count": 9,
   "metadata": {},
   "outputs": [
    {
     "name": "stdout",
     "output_type": "stream",
     "text": [
      "Shape of w_1, first solution to (1): (2000, 1)\n",
      "Shape of w_hat, direct solution to (2): (62, 1)\n",
      "Shape of w_2, recovered solution to (1) with X^T.w_hat: (2000, 1)\n",
      "Are w_1 & w_2 the same ? False\n"
     ]
    }
   ],
   "source": [
    "### TODO ###   \n",
    "# 2)  Compute a solution $w^*_1$  by directly solving (I).  \n",
    "# Compare this $w^*_1$ to the recovered solution $X^\\top \\hat{w}^*$.\n",
    "# Are they the same? Justify based on Corollary.\n",
    "#############\n",
    "\n",
    "# First solution directly solving (1)\n",
    "w_1 = log_reg.coef_.T\n",
    "print('Shape of w_1, first solution to (1): {}'.format(w_1.shape))\n",
    "\n",
    "# Solution of (2)\n",
    "w_hat = log_regT.coef_.T\n",
    "print('Shape of w_hat, direct solution to (2): {}'.format(w_hat.shape))\n",
    "\n",
    "# Recovered solution\n",
    "w_2 = X.T.dot(w_hat)\n",
    "print('Shape of w_2, recovered solution to (1) with X^T.w_hat: {}'.format(w_2.shape))\n",
    "\n",
    "print('Are w_1 & w_2 the same ? {}'.format((w_1==w_2).all()))"
   ]
  },
  {
   "cell_type": "markdown",
   "metadata": {},
   "source": [
    "**Observations**: $w^*_1$ and $X^T \\hat{w}^*$ are not the same. For this problem, although the score for the prediction at the end is the same, the solution isn't unique. We find **a** solution with $w^*_1$ by directly solving (1)."
   ]
  },
  {
   "cell_type": "code",
   "execution_count": 10,
   "metadata": {},
   "outputs": [
    {
     "name": "stdout",
     "output_type": "stream",
     "text": [
      "project dimension    1 gives: (train, test) =  (0.6585, 0.5714)\n",
      "project dimension  101 gives: (train, test) =  (1.0000, 0.7143)\n",
      "project dimension  201 gives: (train, test) =  (1.0000, 0.6667)\n",
      "project dimension  301 gives: (train, test) =  (1.0000, 0.6190)\n",
      "project dimension  401 gives: (train, test) =  (1.0000, 0.6190)\n",
      "project dimension  501 gives: (train, test) =  (1.0000, 0.6190)\n",
      "project dimension  601 gives: (train, test) =  (1.0000, 0.6667)\n",
      "project dimension  701 gives: (train, test) =  (1.0000, 0.5714)\n",
      "project dimension  801 gives: (train, test) =  (1.0000, 0.6190)\n",
      "project dimension  901 gives: (train, test) =  (1.0000, 0.6190)\n",
      "project dimension 1001 gives: (train, test) =  (1.0000, 0.6190)\n",
      "project dimension 1101 gives: (train, test) =  (1.0000, 0.5714)\n",
      "project dimension 1201 gives: (train, test) =  (1.0000, 0.6190)\n",
      "project dimension 1301 gives: (train, test) =  (1.0000, 0.5714)\n",
      "project dimension 1401 gives: (train, test) =  (1.0000, 0.6190)\n",
      "project dimension 1501 gives: (train, test) =  (1.0000, 0.6190)\n",
      "project dimension 1601 gives: (train, test) =  (1.0000, 0.6190)\n",
      "project dimension 1701 gives: (train, test) =  (1.0000, 0.6190)\n",
      "project dimension 1801 gives: (train, test) =  (1.0000, 0.6190)\n",
      "project dimension 1901 gives: (train, test) =  (1.0000, 0.5714)\n",
      "Best score was for r =  101 with: (train, test) =  (1.0000, 0.7143)\n"
     ]
    },
    {
     "data": {
      "image/png": "[encoded data removed]",
      "text/plain": [
       "<Figure size 432x288 with 1 Axes>"
      ]
     },
     "metadata": {
      "needs_background": "light"
     },
     "output_type": "display_data"
    }
   ],
   "source": [
    "### TODO ### \n",
    "## Choose a range of different projected dimensions to test\n",
    "## Suggested range of projected dimensions:\n",
    "upperbnd = d\n",
    "project_dimensions = range(1,upperbnd,int((upperbnd )/20))\n",
    "\n",
    "#############\n",
    "from sklearn import random_projection\n",
    "\n",
    "test_accuracy = []\n",
    "training_accuracy = []\n",
    "s = 20\n",
    "for r in project_dimensions: \n",
    "    ### TODO ###   \n",
    "    # 3)    project the data matrix $X \\rightarrow XW$ using Gaussian and fit, \n",
    "    #      transform and score using Logstic Regression\n",
    "    # trainscore =  ??\n",
    "    \n",
    "    # Gaussian random projection\n",
    "    transformer = random_projection.GaussianRandomProjection(r, random_state=42)\n",
    "    X_new = transformer.fit_transform(X)\n",
    "    \n",
    "    # Train/Test split\n",
    "    X_train_new, X_test_new, y_train_new, y_test_new = train_test_split(X_new, y, test_size=0.33, random_state=42)\n",
    "    \n",
    "    # Logistic Regression\n",
    "    log_reg_new = LogisticRegression(C = C0) # , multi_class = \"multinomial\"\n",
    "    log_reg_new.fit(X_train_new, y_train_new)\n",
    "    \n",
    "    # Train score\n",
    "    trainscore = log_reg_new.score(X_train_new,y_train_new)\n",
    "    training_accuracy.append(trainscore)\n",
    "    \n",
    "    # Testscore\n",
    "    testscore= log_reg_new.score(X_test_new,y_test_new)\n",
    "    test_accuracy.append(testscore)\n",
    "    #############\n",
    "    print (\"project dimension %4d gives: (train, test) =  (%.4f, %.4f)\" % (r, trainscore,testscore))\n",
    "# coef_recover= log_regt.coef_.dot(X_train.transpose())\n",
    "\n",
    "plt.plot(project_dimensions,training_accuracy, label='Accuracy of the training set')\n",
    "plt.plot(project_dimensions,test_accuracy, label='Accuracy of the test set')\n",
    "plt.ylabel('Accuracy')\n",
    "plt.xlabel('Projected Dimension')\n",
    "plt.legend()\n",
    "index_max = np.argmax(test_accuracy)\n",
    "print(\"Best score was for r =%5d with: (train, test) =  (%.4f, %.4f)\"% (project_dimensions[index_max], training_accuracy[index_max],test_accuracy[index_max]))"
   ]
  },
  {
   "cell_type": "markdown",
   "metadata": {},
   "source": [
    "**Observations**: we can observe that the accuracy on the test set varies a lot, even globally decreases, for a gaussian random projection. That is not really a surprise: the JL Lemma states that the embedding dimension needs to be $r = O(10^4)$. Here $d = 2000$, that is to say $d < 10^4$. JL lemma is useless here. However there is a lot of r for which we find the score using the $XX^\\top$ technique for the training.\n"
   ]
  },
  {
   "cell_type": "markdown",
   "metadata": {},
   "source": [
    "## Exercise 2:\n",
    "\n",
    "In class we used \n",
    "$$ X \\rightarrow W^\\top X $$\n",
    "But here it is instead\n",
    "$$ X \\rightarrow X W $$\n",
    "\n",
    "\n",
    "\n",
    "Now we will train a model using a large text based data set. For this you need to code the following random transform $W \\in \\mathbb{R}^{d \\times r}$ that takes a sparsity parameter $s$ as an input and outputs a matrix\n",
    "\n",
    "$$ W_{ij}  = \\sqrt{\\frac{s}{r}}\n",
    "\\begin{cases}\n",
    "1 \\quad & \\mbox{with probability }\\frac{1}{2s} \\\\\n",
    "0 \\quad & \\mbox{with probability }1-\\frac{1}{s} \\\\\n",
    "-1 \\quad & \\mbox{with probability }\\frac{1}{2s} \n",
    "\\end{cases}$$\n",
    "\n",
    "* Code a function Generate_Sparse_Transform$(s,r,d)$ that takes an input  \n",
    "   * sparsity parameter  $s$\n",
    "   * input dimension $d \\in \\mathbb{N}$\n",
    "   * lower dimensional projected dimension $r \\in \\mathbb{N}$\n",
    "and gives as outputs the matrix $W$ stored in an efficient sparse format such as the CSC formart (see scipy.sparse.csc_matrix)\n",
    "\n",
    "* Code a function Apply_Sparse_Transform$(R,X)$ that takes an input\n",
    "   * the random transform $W$ as generated by  Generate\\_sparse\\_transform$(s,r,d)$\n",
    "   * a given data matrix $X \\in \\mathbb{R}^{n\\times d}$\n",
    "the output will be $XW$.\n",
    "\n",
    "\n",
    "*Note* if you have not implemented this efficiently, you will probably run out of memory!  \n",
    "\n",
    "\n",
    "We will test if random projections are able to preserve pairwise distances by applying K-Neighrest Neighbors to projected data.\n",
    "\n",
    "1) [6pts] Code the above two functions (their stub is provided below)\n",
    "\n",
    "\n",
    "2) [1pt] Load the data set X. Then fit, transform and score sklearn's KNeighborsClassifier on this data, where \n",
    "$X = $ {anthracyclineTaxaneChemotherapy, sector.scale}. Below you will find how to load this data.\n",
    "\n",
    "3) [3pts] Repeat the previous step, but first randomly project that data using X -> XW. Repeat this test for different values of the sparsity parameter s and projected dimension parameter r. What can you conclude? \n",
    "\n",
    "*Hint* As a rule of thumb $s = \\sqrt{r}$, $s= \\log(r)$ or simply $s=20$ often works well.\n"
   ]
  },
  {
   "cell_type": "code",
   "execution_count": 11,
   "metadata": {},
   "outputs": [],
   "source": [
    "import scipy\n",
    "from sklearn.utils.extmath import safe_sparse_dot   ## <-- I recommend using this function\n",
    "from sklearn.utils.random import sample_without_replacement  ## <-- I recommend using this function\n",
    "from scipy.sparse import csc_matrix, issparse\n",
    "\n",
    "def GenerateSparseTransform(s,r,d):\n",
    "    ### TODO ### \n",
    "    ##  Implement this function. Make sure that W is a sparse matrix!\n",
    "    #############\n",
    "    W = np.sqrt(s/r)*np.random.choice([1, 0, -1], (d,r), p=[1/(2*s), 1 - 1/s, 1/(2*s)])\n",
    "    W = csc_matrix(W)\n",
    "    return W\n",
    "\n",
    "def ApplySparseTransform(W,X_):\n",
    "#     W   : Sparse randomly generated matrix of size d by r\n",
    "#     X_  : Data matrix to be compressed, of size n by d\n",
    "#    NOTE: The dimensions of W and X_ are such that the product X_*W is defined (which is different that what we used in class)\n",
    "    ### TODO ### \n",
    "    ##  Implement this function. Make sure that W is a sparse matrix!\n",
    "    #############\n",
    "    \n",
    "    if not issparse(W):\n",
    "        raise Exception(\"W is not a sparse matrix.\")\n",
    "        \n",
    "    Xtransformed = safe_sparse_dot(X_, W)\n",
    "    return Xtransformed"
   ]
  },
  {
   "cell_type": "markdown",
   "metadata": {},
   "source": [
    "## Load and test easier data set *anthracyclineTaxaneChemotherapy*"
   ]
  },
  {
   "cell_type": "code",
   "execution_count": 44,
   "metadata": {},
   "outputs": [],
   "source": [
    "from sklearn.datasets import fetch_openml\n",
    "chemo = fetch_openml(name='anthracyclineTaxaneChemotherapy')"
   ]
  },
  {
   "cell_type": "code",
   "execution_count": 45,
   "metadata": {},
   "outputs": [],
   "source": [
    "X = chemo.data\n",
    "y = chemo.target"
   ]
  },
  {
   "cell_type": "markdown",
   "metadata": {},
   "source": [
    "### if fetch_openml fails  \n",
    "**ALTERNATIVE HACK for loading the data**\n",
    "  \n",
    "* downloard the data from data set in arff format from: https://www.openml.org/d/1085\n",
    " \n",
    "* place data in the same folder as this notebook and run the code in the next cell"
   ]
  },
  {
   "cell_type": "code",
   "execution_count": 14,
   "metadata": {},
   "outputs": [],
   "source": [
    "## ALTERNATIVE HACK for loading anthracyclineTaxaneChemotherapy ## \n",
    "from scipy.io import arff\n",
    "dataset = arff.loadarff('phpCLGrjq.arff')\n",
    "import pandas as pd\n",
    "Xdf = pd.DataFrame(dataset[0])\n",
    "Xy = Xdf.as_matrix()\n",
    "n_rows, n_cols = Xy.shape\n",
    "X = Xy[:,:-1]\n",
    "X = np.float_(X)\n",
    "y = Xy[:,-1]\n",
    "y = (np.int_(y))*2-3"
   ]
  },
  {
   "cell_type": "code",
   "execution_count": 46,
   "metadata": {},
   "outputs": [
    {
     "name": "stdout",
     "output_type": "stream",
     "text": [
      "127 training data points and 61359 features\n"
     ]
    }
   ],
   "source": [
    "# split test and training. Only use 20% of data for testing because data set is small. \n",
    "X_train, X_test, y_train, y_test = train_test_split(X, y, test_size=0.20, random_state=42) \n",
    "n, d = X_train.shape\n",
    "print('{n} training data points and {d} features'.format(n = n,d =d))"
   ]
  },
  {
   "cell_type": "code",
   "execution_count": 47,
   "metadata": {},
   "outputs": [
    {
     "name": "stdout",
     "output_type": "stream",
     "text": [
      "project dim 61359 gives: (train, test) =  (0.8425, 0.5625)\n"
     ]
    }
   ],
   "source": [
    "# 2) fit, transform and score the knn Classifier\n",
    "n_neighbors =2 # <-- use this number of neighbours\n",
    "knn = KNeighborsClassifier(n_neighbors=n_neighbors)\n",
    "\n",
    "knn.fit(X_train,y_train)\n",
    "trainscore = knn.score(X_train, y_train)\n",
    "training_accuracy.append(trainscore)\n",
    "testscore = knn.score(X_test, y_test)\n",
    "test_accuracy.append(knn.score(X_test, y_test))\n",
    "print (\"project dim %5d gives: (train, test) =  (%.4f, %.4f)\" % (d, trainscore,testscore))"
   ]
  },
  {
   "cell_type": "markdown",
   "metadata": {},
   "source": [
    "### Projected dimension r variation"
   ]
  },
  {
   "cell_type": "code",
   "execution_count": 48,
   "metadata": {},
   "outputs": [
    {
     "name": "stdout",
     "output_type": "stream",
     "text": [
      "project dim    30 gives: (train, test) =  (0.7953, 0.5000)\n",
      "project dim   408 gives: (train, test) =  (0.8268, 0.5625)\n",
      "project dim   786 gives: (train, test) =  (0.8346, 0.5625)\n",
      "project dim  1164 gives: (train, test) =  (0.8268, 0.5625)\n",
      "project dim  1542 gives: (train, test) =  (0.8504, 0.5938)\n",
      "project dim  1920 gives: (train, test) =  (0.8268, 0.5625)\n",
      "project dim  2298 gives: (train, test) =  (0.8425, 0.5938)\n",
      "project dim  2676 gives: (train, test) =  (0.8268, 0.5625)\n",
      "project dim  3054 gives: (train, test) =  (0.8504, 0.5938)\n",
      "project dim  3432 gives: (train, test) =  (0.8425, 0.5938)\n",
      "Best score was for r = 1542 with: (train, test) =  (0.8504, 0.5938)\n"
     ]
    },
    {
     "data": {
      "image/png": "[encoded data removed]",
      "text/plain": [
       "<Figure size 432x288 with 1 Axes>"
      ]
     },
     "metadata": {
      "needs_background": "light"
     },
     "output_type": "display_data"
    }
   ],
   "source": [
    "test_accuracy = []\n",
    "training_accuracy = []\n",
    "n_neighbors =2  #< -- I recommend 2 neighbors\n",
    "\n",
    "## Suggested range of projected dimensions:\n",
    "upperbnd = int(min(30*n,d/2))\n",
    "minbnd = int(max(n/20,d/2000))\n",
    "project_dimensions = range(minbnd,upperbnd,int((upperbnd -minbnd)/10))\n",
    "\n",
    "knn = KNeighborsClassifier(n_neighbors=n_neighbors)\n",
    "    \n",
    "for r in project_dimensions:  \n",
    "    W = GenerateSparseTransform(s =20, r= r,d = d) # function coded above\n",
    "    Xt_train = ApplySparseTransform(W,X_train)  # function coded above\n",
    "    Xt_test =  ApplySparseTransform(W,X_test)  # function coded above\n",
    "    knn.fit(Xt_train,y_train)\n",
    "    trainscore = knn.score(Xt_train, y_train)\n",
    "    training_accuracy.append(trainscore)\n",
    "    testscore = knn.score(Xt_test, y_test)\n",
    "    test_accuracy.append(knn.score(Xt_test, y_test))\n",
    "    print (\"project dim %5d gives: (train, test) =  (%.4f, %.4f)\" % (r, trainscore,testscore))\n",
    "\n",
    "list_proj_dims = list(project_dimensions)\n",
    "plt.plot(list_proj_dims,training_accuracy, label='Accuracy of the training set')\n",
    "plt.plot(list_proj_dims,test_accuracy, label='Accuracy of the test set')\n",
    "plt.ylabel('Accuracy')\n",
    "plt.xlabel('Projected Dimension')\n",
    "plt.legend()\n",
    "index_max = np.argmax(test_accuracy)\n",
    "print(\"Best score was for r =%5d with: (train, test) =  (%.4f, %.4f)\"% (list_proj_dims[index_max], training_accuracy[index_max],test_accuracy[index_max]))"
   ]
  },
  {
   "cell_type": "markdown",
   "metadata": {},
   "source": [
    "## Load and test HARDER data set *sector.scale*  \n",
    "**(only try this data set after successfully testing the anthracyclineTaxaneChemotherapy data set)**"
   ]
  },
  {
   "cell_type": "code",
   "execution_count": 18,
   "metadata": {},
   "outputs": [
    {
     "name": "stdout",
     "output_type": "stream",
     "text": [
      "6412 data points and 55197 features\n"
     ]
    }
   ],
   "source": [
    "# Download the data set from:\n",
    "# https://www.csie.ntu.edu.tw/~cjlin/libsvmtools/datasets/multiclass/sector/sector.scale.bz2\n",
    "# place data in the same folder as this python notebook\n",
    "dataname = \"sector.scale\"  \n",
    "X, y = get_data(dataname)\n",
    "n, d = X.shape\n",
    "print('{n} data points and {d} features'.format(n = n,d =d))"
   ]
  },
  {
   "cell_type": "code",
   "execution_count": 19,
   "metadata": {},
   "outputs": [
    {
     "name": "stdout",
     "output_type": "stream",
     "text": [
      "4296 trainig data points and 55197 features\n"
     ]
    }
   ],
   "source": [
    "# split test and training \n",
    "X_train, X_test, y_train, y_test = train_test_split(X, y, test_size=0.33, random_state=42)\n",
    "n, d = X_train.shape\n",
    "print('{n} trainig data points and {d} features'.format(n = n,d =d))"
   ]
  },
  {
   "cell_type": "code",
   "execution_count": 20,
   "metadata": {},
   "outputs": [],
   "source": [
    "### TODO ### \n",
    "## repeat the same experiments for this larger data set\n",
    "## HINT: Only test project dimensions r <= int(min(2*n,d/2))\n",
    "#############"
   ]
  },
  {
   "cell_type": "markdown",
   "metadata": {},
   "source": [
    "### Projected dimension r variation"
   ]
  },
  {
   "cell_type": "code",
   "execution_count": 21,
   "metadata": {},
   "outputs": [
    {
     "name": "stdout",
     "output_type": "stream",
     "text": [
      "project dim   214 gives: (train, test) =  (1.0000, 0.7732)\n",
      "project dim  1051 gives: (train, test) =  (1.0000, 0.8648)\n",
      "project dim  1888 gives: (train, test) =  (1.0000, 0.8752)\n",
      "project dim  2725 gives: (train, test) =  (1.0000, 0.8776)\n",
      "project dim  3562 gives: (train, test) =  (1.0000, 0.8790)\n",
      "project dim  4399 gives: (train, test) =  (1.0000, 0.8809)\n",
      "project dim  5236 gives: (train, test) =  (1.0000, 0.8785)\n",
      "project dim  6073 gives: (train, test) =  (1.0000, 0.8819)\n",
      "project dim  6910 gives: (train, test) =  (1.0000, 0.8785)\n",
      "project dim  7747 gives: (train, test) =  (1.0000, 0.8804)\n",
      "project dim  8584 gives: (train, test) =  (1.0000, 0.8809)\n",
      "Best score was for r = 6073 with: (train, test) =  (1.0000, 0.8819)\n"
     ]
    },
    {
     "data": {
      "image/png": "[encoded data removed]",
      "text/plain": [
       "<Figure size 432x288 with 1 Axes>"
      ]
     },
     "metadata": {
      "needs_background": "light"
     },
     "output_type": "display_data"
    }
   ],
   "source": [
    "test_accuracy = []\n",
    "training_accuracy = []\n",
    "n_neighbors =1   ## <-- I recommend using this\n",
    "knn = KNeighborsClassifier(n_neighbors=n_neighbors)\n",
    "\n",
    "upperbnd = int(min(2*n,d/2))\n",
    "minbnd = int(max(n/20,d/2000))\n",
    "project_dimensions = range(minbnd,upperbnd,int((upperbnd -minbnd)/10))\n",
    "\n",
    "for r in project_dimensions:  \n",
    "    ### TODO ###   \n",
    "    # 3)    project the data matrix $X \\rightarrow XW$ using Gaussian and fit, \n",
    "    #      transform and score using knn\n",
    "    W = GenerateSparseTransform(s =20, r= r,d = d) # function coded above\n",
    "    Xt_train = ApplySparseTransform(W,X_train)  # function coded above\n",
    "    Xt_test =  ApplySparseTransform(W,X_test)  # function coded above\n",
    "    knn.fit(Xt_train,y_train)\n",
    "    trainscore = knn.score(Xt_train, y_train)\n",
    "    training_accuracy.append(trainscore)\n",
    "    testscore = knn.score(Xt_test, y_test)\n",
    "    test_accuracy.append(knn.score(Xt_test, y_test))\n",
    "    print (\"project dim %5d gives: (train, test) =  (%.4f, %.4f)\" % (r, trainscore,testscore))\n",
    "\n",
    "list_proj_dims = list(project_dimensions)\n",
    "plt.plot(list_proj_dims,training_accuracy, label='Accuracy of the training set')\n",
    "plt.plot(list_proj_dims,test_accuracy, label='Accuracy of the test set')\n",
    "plt.ylabel('Accuracy')\n",
    "plt.xlabel('Projected Dimension')\n",
    "plt.legend()\n",
    "index_max = np.argmax(test_accuracy)\n",
    "print(\"Best score was for r =%5d with: (train, test) =  (%.4f, %.4f)\"% (list_proj_dims[index_max], training_accuracy[index_max],test_accuracy[index_max]))"
   ]
  },
  {
   "cell_type": "markdown",
   "metadata": {},
   "source": [
    "**Observations**:  We see that here random projections are able to preserve pairwise distances by applying K-Neighrest Neighbors to projected data, as the accuracy of the KNeighborsClassifier is around the score obtained without projecting the data.  \n",
    "  \n",
    "The sparse matrix format makes possible to compute the results, although it takes quite a long time.  \n",
    "  \n",
    "For the harder data set sector.scale, r variation confirms that from a certain value of the projected dimension, the accuracy will not increase significantly since we capture almost all the variability of data. The distance between datapoints can be preserved after begin embedded in a low dimensional space, upto a certain precision, with the condition that we have a r high enough."
   ]
  },
  {
   "cell_type": "markdown",
   "metadata": {},
   "source": [
    "## Bonus question\n",
    "\n",
    "Using the Jonhson-Lindenstrauss Lemma, we can have an estimate for the projected dimension using\n",
    "\n",
    "$$r = \\frac{1}{\\epsilon^2}\\log(n/\\delta) $$\n",
    "\n",
    "1) Write a function for calculating this given suggested project dimension r. \n",
    "2) Test for each of the above data sets with \\epsilon = 0.05 = \\delta and compare to your results. "
   ]
  },
  {
   "cell_type": "code",
   "execution_count": 43,
   "metadata": {},
   "outputs": [],
   "source": [
    "def JLLemma_projected_dim(n, eps, delta):\n",
    "    return int( 1/eps**2 * np.log(n/delta) )"
   ]
  },
  {
   "cell_type": "markdown",
   "metadata": {},
   "source": [
    "## data set *anthracyclineTaxaneChemotherapy*"
   ]
  },
  {
   "cell_type": "code",
   "execution_count": 23,
   "metadata": {},
   "outputs": [],
   "source": [
    "from sklearn.datasets import fetch_openml\n",
    "chemo = fetch_openml(name='anthracyclineTaxaneChemotherapy')"
   ]
  },
  {
   "cell_type": "code",
   "execution_count": 24,
   "metadata": {},
   "outputs": [],
   "source": [
    "X = chemo.data\n",
    "y = chemo.target"
   ]
  },
  {
   "cell_type": "code",
   "execution_count": 49,
   "metadata": {},
   "outputs": [
    {
     "name": "stdout",
     "output_type": "stream",
     "text": [
      "127 training data points and 61359 features\n"
     ]
    }
   ],
   "source": [
    "# split test and training. Only use 20% of data for testing because data set is small. \n",
    "X_train, X_test, y_train, y_test = train_test_split(X, y, test_size=0.20, random_state=42) \n",
    "n, d = X_train.shape\n",
    "print('{n} training data points and {d} features'.format(n = n,d =d))"
   ]
  },
  {
   "cell_type": "code",
   "execution_count": 51,
   "metadata": {},
   "outputs": [
    {
     "name": "stdout",
     "output_type": "stream",
     "text": [
      "Jonhson-Lindenstrauss Lemma estimated dimension: 3135\n",
      "project dim  3135 gives: (train, test) =  (0.8189, 0.5938)\n"
     ]
    }
   ],
   "source": [
    "n_neighbors =2  #< -- I recommend 2 neighbors\n",
    "\n",
    "knn = KNeighborsClassifier(n_neighbors=n_neighbors)\n",
    "\n",
    "r = JLLemma_projected_dim(n, 0.05, 0.05) # Jonhson-Lindenstrauss Lemma estimated dimension\n",
    "print('Jonhson-Lindenstrauss Lemma estimated dimension: {}'.format(r))\n",
    "\n",
    "W = GenerateSparseTransform(s =20, r= r,d = d) # function coded above\n",
    "Xt_train = ApplySparseTransform(W,X_train)  # function coded above\n",
    "Xt_test =  ApplySparseTransform(W,X_test)  # function coded above\n",
    "knn.fit(Xt_train,y_train)\n",
    "trainscore = knn.score(Xt_train, y_train)\n",
    "testscore = knn.score(Xt_test, y_test)\n",
    "print (\"project dim %5d gives: (train, test) =  (%.4f, %.4f)\" % (r, trainscore,testscore))"
   ]
  },
  {
   "cell_type": "markdown",
   "metadata": {},
   "source": [
    "## HARDER data set sector.scale"
   ]
  },
  {
   "cell_type": "code",
   "execution_count": 40,
   "metadata": {},
   "outputs": [
    {
     "name": "stdout",
     "output_type": "stream",
     "text": [
      "6412 data points and 55197 features\n"
     ]
    }
   ],
   "source": [
    "# Download the data set from:\n",
    "# https://www.csie.ntu.edu.tw/~cjlin/libsvmtools/datasets/multiclass/sector/sector.scale.bz2\n",
    "# place data in the same folder as this python notebook\n",
    "dataname = \"sector.scale\"  \n",
    "X, y = get_data(dataname)\n",
    "n, d = X.shape\n",
    "print('{n} data points and {d} features'.format(n = n,d =d))"
   ]
  },
  {
   "cell_type": "code",
   "execution_count": 41,
   "metadata": {},
   "outputs": [
    {
     "name": "stdout",
     "output_type": "stream",
     "text": [
      "4296 trainig data points and 55197 features\n"
     ]
    }
   ],
   "source": [
    "# split test and training \n",
    "X_train, X_test, y_train, y_test = train_test_split(X, y, test_size=0.33, random_state=42)\n",
    "n, d = X_train.shape\n",
    "print('{n} trainig data points and {d} features'.format(n = n,d =d))"
   ]
  },
  {
   "cell_type": "code",
   "execution_count": 42,
   "metadata": {},
   "outputs": [
    {
     "name": "stdout",
     "output_type": "stream",
     "text": [
      "project dim  4544 gives: (train, test) =  (1.0000, 0.8790)\n"
     ]
    }
   ],
   "source": [
    "n_neighbors =1  #< -- I recommend using this\n",
    "\n",
    "knn = KNeighborsClassifier(n_neighbors=n_neighbors)\n",
    "\n",
    "r = JLLemma_projected_dim(n, 0.05, 0.05) # Jonhson-Lindenstrauss Lemma estimated dimension\n",
    "\n",
    "W = GenerateSparseTransform(s =20, r= r,d = d) # function coded above\n",
    "Xt_train = ApplySparseTransform(W,X_train)  # function coded above\n",
    "Xt_test =  ApplySparseTransform(W,X_test)  # function coded above\n",
    "knn.fit(Xt_train,y_train)\n",
    "trainscore = knn.score(Xt_train, y_train)\n",
    "testscore = knn.score(Xt_test, y_test)\n",
    "print (\"project dim %5d gives: (train, test) =  (%.4f, %.4f)\" % (r, trainscore,testscore))"
   ]
  },
  {
   "cell_type": "markdown",
   "metadata": {},
   "source": [
    "**Observations**: Jonhson-Lindenstrauss Lemma estimated dimensions are close to the ones where accuracy score seems to stabilise. JL lemma stands for a projected dimension $r = O(\\epsilon^{-2} log(n))$  "
   ]
  }
 ],
 "metadata": {
  "anaconda-cloud": {},
  "kernelspec": {
   "display_name": "Python 3",
   "language": "python",
   "name": "python3"
  },
  "language_info": {
   "codemirror_mode": {
    "name": "ipython",
    "version": 3
   },
   "file_extension": ".py",
   "mimetype": "text/x-python",
   "name": "python",
   "nbconvert_exporter": "python",
   "pygments_lexer": "ipython3",
   "version": "3.7.3"
  }
 },
 "nbformat": 4,
 "nbformat_minor": 1
}
