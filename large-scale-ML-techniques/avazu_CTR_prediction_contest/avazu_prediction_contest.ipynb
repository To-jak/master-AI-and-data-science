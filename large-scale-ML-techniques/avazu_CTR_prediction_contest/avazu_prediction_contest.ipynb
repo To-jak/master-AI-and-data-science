{
  "nbformat": 4,
  "nbformat_minor": 0,
  "metadata": {
    "kernelspec": {
      "display_name": "Python 3",
      "language": "python",
      "name": "python3"
    },
    "language_info": {
      "codemirror_mode": {
        "name": "ipython",
        "version": 3
      },
      "file_extension": ".py",
      "mimetype": "text/x-python",
      "name": "python",
      "nbconvert_exporter": "python",
      "pygments_lexer": "ipython3",
      "version": "3.7.2"
    },
    "colab": {
      "name": "TP1-avazu-blank.ipynb",
      "provenance": [],
      "collapsed_sections": [],
      "toc_visible": true,
      "machine_shape": "hm"
    }
  },
  "cells": [
    {
      "cell_type": "markdown",
      "metadata": {
        "id": "5BnGYg5FYcTb",
        "colab_type": "text"
      },
      "source": [
        "<h1><center>Practice of Large Scale Machine Learning - TP1 Avazu<center></h1>\n",
        "<h2><center>IA317<center></h2>\n"
      ]
    },
    {
      "cell_type": "markdown",
      "metadata": {
        "id": "N2QU9Lk5YcTk",
        "colab_type": "text"
      },
      "source": [
        "#Introduction\n",
        "\n",
        "In online advertising, click-through rate (CTR) is a very important metric for evaluating ad performance. As a result, click prediction systems are essential and widely used for sponsored search and real-time bidding. The goal of this TP is to build and test prediction models on 11 days of Avazu data.\n",
        "\n",
        "#### For any remark or suggestion, please feel free to contact us at: \n",
        "#### pascal.bianchi@telecom-paris.fr\n",
        "#### nidham.gazagnadou@telecom-paris.fr\n",
        "#### kevin.elgui@telecom-paris.fr"
      ]
    },
    {
      "cell_type": "code",
      "metadata": {
        "id": "z2yZusf12lgP",
        "colab_type": "code",
        "outputId": "c5cf8411-a914-42d4-b924-e50d1f632083",
        "colab": {
          "base_uri": "https://localhost:8080/",
          "height": 122
        }
      },
      "source": [
        "import sys\n",
        "import os\n",
        "from google.colab import drive\n",
        "\n",
        "drive.mount('/content/gdrive')\n",
        "root_path = 'gdrive/My Drive/Colab Notebooks/tp_avazu'  # your new root path\n",
        "\n",
        "sys.path.append(os.path.join(root_path, 'notebooks')) # for importing from utils.py"
      ],
      "execution_count": 0,
      "outputs": [
        {
          "output_type": "stream",
          "text": [
            "Go to this URL in a browser: https://accounts.google.com/o/oauth2/auth?client_id=947318989803-6bn6qk8qdgf4n4g3pfee6491hc0brc4i.apps.googleusercontent.com&redirect_uri=urn%3aietf%3awg%3aoauth%3a2.0%3aoob&response_type=code&scope=email%20https%3a%2f%2fwww.googleapis.com%2fauth%2fdocs.test%20https%3a%2f%2fwww.googleapis.com%2fauth%2fdrive%20https%3a%2f%2fwww.googleapis.com%2fauth%2fdrive.photos.readonly%20https%3a%2f%2fwww.googleapis.com%2fauth%2fpeopleapi.readonly\n",
            "\n",
            "Enter your authorization code:\n",
            "··········\n",
            "Mounted at /content/gdrive\n"
          ],
          "name": "stdout"
        }
      ]
    },
    {
      "cell_type": "markdown",
      "metadata": {
        "id": "vxsbsRu7YcTo",
        "colab_type": "text"
      },
      "source": [
        "<font color=\"red\">**Question:**\n",
        "    Import the needed packages: numpy, pandas etc..\n",
        "</font>"
      ]
    },
    {
      "cell_type": "code",
      "metadata": {
        "id": "T60UC4foYcTr",
        "colab_type": "code",
        "colab": {}
      },
      "source": [
        "import numpy as np\n",
        "import pandas as pd\n",
        "import matplotlib.pyplot as plt\n",
        "import seaborn as sns\n",
        "import datetime\n",
        "%matplotlib inline"
      ],
      "execution_count": 0,
      "outputs": []
    },
    {
      "cell_type": "code",
      "metadata": {
        "id": "Fz9emRwgHPNC",
        "colab_type": "code",
        "colab": {}
      },
      "source": [
        "## Try to run de cell\n",
        "from utils import plotlift"
      ],
      "execution_count": 0,
      "outputs": []
    },
    {
      "cell_type": "markdown",
      "metadata": {
        "id": "1xrsFhCiYcT5",
        "colab_type": "text"
      },
      "source": [
        "# The dataset"
      ]
    },
    {
      "cell_type": "markdown",
      "metadata": {
        "id": "eOZWhU4lYcT9",
        "colab_type": "text"
      },
      "source": [
        "<font color=\"red\">**Question:**\n",
        "    Load the data *'data_tp/train-1000000'* into a pandas DataFrame. Use the function 'os.path.join()' to indicate the full path. Then, display the first lines with the \".head()\" method.\n",
        "    <br>\n",
        "</font>\n",
        "**Remark**: the features meaning is available at https://www.kaggle.com/c/avazu-ctr-prediction/data"
      ]
    },
    {
      "cell_type": "code",
      "metadata": {
        "id": "tWvQXG4uYcUB",
        "colab_type": "code",
        "colab": {}
      },
      "source": [
        "df = pd.read_csv(os.path.join(root_path, 'data/train-1000000'))"
      ],
      "execution_count": 0,
      "outputs": []
    },
    {
      "cell_type": "code",
      "metadata": {
        "id": "uLSo2y32YcUK",
        "colab_type": "code",
        "outputId": "88af43bf-edd9-4ff2-bb2b-4d725565d3df",
        "colab": {
          "base_uri": "https://localhost:8080/",
          "height": 224
        }
      },
      "source": [
        "df.head() # Fill here"
      ],
      "execution_count": 0,
      "outputs": [
        {
          "output_type": "execute_result",
          "data": {
            "text/html": [
              "<div>\n",
              "<style scoped>\n",
              "    .dataframe tbody tr th:only-of-type {\n",
              "        vertical-align: middle;\n",
              "    }\n",
              "\n",
              "    .dataframe tbody tr th {\n",
              "        vertical-align: top;\n",
              "    }\n",
              "\n",
              "    .dataframe thead th {\n",
              "        text-align: right;\n",
              "    }\n",
              "</style>\n",
              "<table border=\"1\" class=\"dataframe\">\n",
              "  <thead>\n",
              "    <tr style=\"text-align: right;\">\n",
              "      <th></th>\n",
              "      <th>id</th>\n",
              "      <th>click</th>\n",
              "      <th>hour</th>\n",
              "      <th>C1</th>\n",
              "      <th>banner_pos</th>\n",
              "      <th>site_id</th>\n",
              "      <th>site_domain</th>\n",
              "      <th>site_category</th>\n",
              "      <th>app_id</th>\n",
              "      <th>app_domain</th>\n",
              "      <th>app_category</th>\n",
              "      <th>device_id</th>\n",
              "      <th>device_ip</th>\n",
              "      <th>device_model</th>\n",
              "      <th>device_type</th>\n",
              "      <th>device_conn_type</th>\n",
              "      <th>C14</th>\n",
              "      <th>C15</th>\n",
              "      <th>C16</th>\n",
              "      <th>C17</th>\n",
              "      <th>C18</th>\n",
              "      <th>C19</th>\n",
              "      <th>C20</th>\n",
              "      <th>C21</th>\n",
              "    </tr>\n",
              "  </thead>\n",
              "  <tbody>\n",
              "    <tr>\n",
              "      <th>0</th>\n",
              "      <td>3.983206e+18</td>\n",
              "      <td>0</td>\n",
              "      <td>14102915</td>\n",
              "      <td>1005</td>\n",
              "      <td>1</td>\n",
              "      <td>e151e245</td>\n",
              "      <td>7e091613</td>\n",
              "      <td>f028772b</td>\n",
              "      <td>ecad2386</td>\n",
              "      <td>7801e8d9</td>\n",
              "      <td>07d7df22</td>\n",
              "      <td>a99f214a</td>\n",
              "      <td>fb6566d3</td>\n",
              "      <td>be87996b</td>\n",
              "      <td>1</td>\n",
              "      <td>2</td>\n",
              "      <td>4687</td>\n",
              "      <td>320</td>\n",
              "      <td>50</td>\n",
              "      <td>423</td>\n",
              "      <td>2</td>\n",
              "      <td>39</td>\n",
              "      <td>100148</td>\n",
              "      <td>32</td>\n",
              "    </tr>\n",
              "    <tr>\n",
              "      <th>1</th>\n",
              "      <td>7.756884e+18</td>\n",
              "      <td>0</td>\n",
              "      <td>14103007</td>\n",
              "      <td>1002</td>\n",
              "      <td>0</td>\n",
              "      <td>cb809abf</td>\n",
              "      <td>74acf31a</td>\n",
              "      <td>50e219e0</td>\n",
              "      <td>ecad2386</td>\n",
              "      <td>7801e8d9</td>\n",
              "      <td>07d7df22</td>\n",
              "      <td>9b7af851</td>\n",
              "      <td>ac5a4a77</td>\n",
              "      <td>7e6190f3</td>\n",
              "      <td>0</td>\n",
              "      <td>0</td>\n",
              "      <td>17894</td>\n",
              "      <td>320</td>\n",
              "      <td>50</td>\n",
              "      <td>2039</td>\n",
              "      <td>2</td>\n",
              "      <td>39</td>\n",
              "      <td>100077</td>\n",
              "      <td>32</td>\n",
              "    </tr>\n",
              "    <tr>\n",
              "      <th>2</th>\n",
              "      <td>6.941774e+17</td>\n",
              "      <td>0</td>\n",
              "      <td>14102711</td>\n",
              "      <td>1005</td>\n",
              "      <td>0</td>\n",
              "      <td>85f751fd</td>\n",
              "      <td>c4e18dd6</td>\n",
              "      <td>50e219e0</td>\n",
              "      <td>e9739828</td>\n",
              "      <td>df32afa9</td>\n",
              "      <td>cef3e649</td>\n",
              "      <td>a99f214a</td>\n",
              "      <td>748e298a</td>\n",
              "      <td>3c55fad5</td>\n",
              "      <td>1</td>\n",
              "      <td>0</td>\n",
              "      <td>22684</td>\n",
              "      <td>320</td>\n",
              "      <td>50</td>\n",
              "      <td>2619</td>\n",
              "      <td>1</td>\n",
              "      <td>163</td>\n",
              "      <td>100055</td>\n",
              "      <td>71</td>\n",
              "    </tr>\n",
              "    <tr>\n",
              "      <th>3</th>\n",
              "      <td>2.664154e+18</td>\n",
              "      <td>1</td>\n",
              "      <td>14102903</td>\n",
              "      <td>1005</td>\n",
              "      <td>0</td>\n",
              "      <td>85f751fd</td>\n",
              "      <td>c4e18dd6</td>\n",
              "      <td>50e219e0</td>\n",
              "      <td>a5184c22</td>\n",
              "      <td>b8d325c3</td>\n",
              "      <td>0f2161f8</td>\n",
              "      <td>a99f214a</td>\n",
              "      <td>a50da3d4</td>\n",
              "      <td>c5cc73c1</td>\n",
              "      <td>1</td>\n",
              "      <td>0</td>\n",
              "      <td>23222</td>\n",
              "      <td>320</td>\n",
              "      <td>50</td>\n",
              "      <td>2676</td>\n",
              "      <td>0</td>\n",
              "      <td>35</td>\n",
              "      <td>100176</td>\n",
              "      <td>221</td>\n",
              "    </tr>\n",
              "    <tr>\n",
              "      <th>4</th>\n",
              "      <td>1.480510e+19</td>\n",
              "      <td>0</td>\n",
              "      <td>14102902</td>\n",
              "      <td>1005</td>\n",
              "      <td>1</td>\n",
              "      <td>791b5571</td>\n",
              "      <td>fd13bc73</td>\n",
              "      <td>f028772b</td>\n",
              "      <td>ecad2386</td>\n",
              "      <td>7801e8d9</td>\n",
              "      <td>07d7df22</td>\n",
              "      <td>a99f214a</td>\n",
              "      <td>d5f88679</td>\n",
              "      <td>a5bce124</td>\n",
              "      <td>1</td>\n",
              "      <td>0</td>\n",
              "      <td>8330</td>\n",
              "      <td>320</td>\n",
              "      <td>50</td>\n",
              "      <td>761</td>\n",
              "      <td>3</td>\n",
              "      <td>175</td>\n",
              "      <td>100081</td>\n",
              "      <td>23</td>\n",
              "    </tr>\n",
              "  </tbody>\n",
              "</table>\n",
              "</div>"
            ],
            "text/plain": [
              "             id  click      hour    C1  banner_pos  ...   C17 C18  C19     C20  C21\n",
              "0  3.983206e+18      0  14102915  1005           1  ...   423   2   39  100148   32\n",
              "1  7.756884e+18      0  14103007  1002           0  ...  2039   2   39  100077   32\n",
              "2  6.941774e+17      0  14102711  1005           0  ...  2619   1  163  100055   71\n",
              "3  2.664154e+18      1  14102903  1005           0  ...  2676   0   35  100176  221\n",
              "4  1.480510e+19      0  14102902  1005           1  ...   761   3  175  100081   23\n",
              "\n",
              "[5 rows x 24 columns]"
            ]
          },
          "metadata": {
            "tags": []
          },
          "execution_count": 6
        }
      ]
    },
    {
      "cell_type": "markdown",
      "metadata": {
        "id": "Cbg9-3qRYcUQ",
        "colab_type": "text"
      },
      "source": [
        "<font color=\"red\">**Question:**\n",
        "    What is the 'click' frequency in the dataset?\n",
        "    <br>\n",
        "    Hint: 'click' is a binary output (0 or 1)\n",
        "</font>"
      ]
    },
    {
      "cell_type": "code",
      "metadata": {
        "id": "l-1q2lVuYcUS",
        "colab_type": "code",
        "outputId": "cc9588d0-20ed-4111-8fa4-81d9984ab178",
        "colab": {
          "base_uri": "https://localhost:8080/",
          "height": 68
        }
      },
      "source": [
        "df['click'].value_counts(normalize=True) # Fill here"
      ],
      "execution_count": 0,
      "outputs": [
        {
          "output_type": "execute_result",
          "data": {
            "text/plain": [
              "0    0.830029\n",
              "1    0.169971\n",
              "Name: click, dtype: float64"
            ]
          },
          "metadata": {
            "tags": []
          },
          "execution_count": 7
        }
      ]
    },
    {
      "cell_type": "markdown",
      "metadata": {
        "id": "OTyZBmSrKR1z",
        "colab_type": "text"
      },
      "source": [
        "Your answer here\n",
        "\n",
        "The click frequency is around 17 clicks for 100 ads."
      ]
    },
    {
      "cell_type": "markdown",
      "metadata": {
        "id": "6dFgRBOeYcUY",
        "colab_type": "text"
      },
      "source": [
        "We note that the Avazu dataset is very unbalanced. The 'click' class represents less than a fifth of the whole database. We already know that a classifier always predicting 'click'=0 will have good preformances in terms of error rate (around 0.17). The ROC and lift curves will be better performance metrics."
      ]
    },
    {
      "cell_type": "markdown",
      "metadata": {
        "id": "BFGwt6vTYcUa",
        "colab_type": "text"
      },
      "source": [
        "<font color=\"red\">**Question:**\n",
        "    What are the categorical features? Using the 'df.nunique()' method, compute the number of distincts values for each of these features.\n",
        "</font>"
      ]
    },
    {
      "cell_type": "code",
      "metadata": {
        "id": "2eLXMTTkYcUb",
        "colab_type": "code",
        "outputId": "f727bd4c-8aab-4505-e11a-49162944da38",
        "colab": {
          "base_uri": "https://localhost:8080/",
          "height": 187
        }
      },
      "source": [
        "df.loc[:,df.dtypes == 'object'].nunique() # Fill here"
      ],
      "execution_count": 0,
      "outputs": [
        {
          "output_type": "execute_result",
          "data": {
            "text/plain": [
              "site_id            2651\n",
              "site_domain        2871\n",
              "site_category        22\n",
              "app_id             3157\n",
              "app_domain          198\n",
              "app_category         26\n",
              "device_id        150501\n",
              "device_ip        555248\n",
              "device_model       5168\n",
              "dtype: int64"
            ]
          },
          "metadata": {
            "tags": []
          },
          "execution_count": 19
        }
      ]
    },
    {
      "cell_type": "markdown",
      "metadata": {
        "colab_type": "text",
        "id": "0lirn-2rfmn_"
      },
      "source": [
        "Your answer here\n",
        "\n",
        "Wee can see above all the categorical features with the `df.dtypes == 'object'` operation."
      ]
    },
    {
      "cell_type": "markdown",
      "metadata": {
        "id": "OGJwlJ6VYcUj",
        "colab_type": "text"
      },
      "source": [
        "<font color=\"red\">**Question:**\n",
        "    If one does a dummy encoding of all categorical variables, what would be the dimension of the model?\n",
        "    In other words: what would be the dimension of our big feature vector encoded with dummies. \n",
        "    <br>\n",
        "    Hint: if you have just 1 feature with 3 categories A, B and C, you would have a vector of dimension 3 (or 2 if you use drop_first=True).\n",
        "</font>"
      ]
    },
    {
      "cell_type": "code",
      "metadata": {
        "id": "DL2wN3tXYcUk",
        "colab_type": "code",
        "outputId": "90935d29-201e-41c2-966c-aee0038ce5d5",
        "colab": {
          "base_uri": "https://localhost:8080/",
          "height": 34
        }
      },
      "source": [
        "df.loc[:,df.dtypes == 'object'].nunique().values.sum()"
      ],
      "execution_count": 0,
      "outputs": [
        {
          "output_type": "execute_result",
          "data": {
            "text/plain": [
              "719842"
            ]
          },
          "metadata": {
            "tags": []
          },
          "execution_count": 20
        }
      ]
    },
    {
      "cell_type": "markdown",
      "metadata": {
        "colab_type": "text",
        "id": "4sfr6kkTfn1_"
      },
      "source": [
        "Your answer here\n",
        "\n",
        "We would get a 719842 dimension vector (with no drop first) for a dummy encoding of all categorical variables."
      ]
    },
    {
      "cell_type": "markdown",
      "metadata": {
        "id": "_PYpWlX6YcUq",
        "colab_type": "text"
      },
      "source": [
        "<font color=\"red\">**Question:**\n",
        "    Analyze the 'hour' column: which format is used? How can we transform/simply this feature?\n",
        "</font>"
      ]
    },
    {
      "cell_type": "code",
      "metadata": {
        "id": "zfbvfYBfYcUr",
        "colab_type": "code",
        "outputId": "943b33fb-3421-4a64-eab0-b585c8d28cb9",
        "colab": {
          "base_uri": "https://localhost:8080/",
          "height": 221
        }
      },
      "source": [
        "print(df['hour'].head()) # Fill here\n",
        "print(df['hour'].tail()) # Fill here"
      ],
      "execution_count": 0,
      "outputs": [
        {
          "output_type": "stream",
          "text": [
            "0    14102915\n",
            "1    14103007\n",
            "2    14102711\n",
            "3    14102903\n",
            "4    14102902\n",
            "Name: hour, dtype: int64\n",
            "999995    14102602\n",
            "999996    14102101\n",
            "999997    14102318\n",
            "999998    14102908\n",
            "999999    14102600\n",
            "Name: hour, dtype: int64\n"
          ],
          "name": "stdout"
        }
      ]
    },
    {
      "cell_type": "markdown",
      "metadata": {
        "colab_type": "text",
        "id": "Wyc_XCRmfoWk"
      },
      "source": [
        "Your answer here\n",
        "\n",
        "Currently, the format is YYMMDDHH. We could use datetime which provides classes to manipulate dates and times in a simple way to transform it. Then we could easily extract separatly the day of the week and the hour for example."
      ]
    },
    {
      "cell_type": "markdown",
      "metadata": {
        "id": "oTQo-GPRYcUw",
        "colab_type": "text"
      },
      "source": [
        "<font color=\"red\">**Question:**\n",
        "    Run and understand the following script.\n",
        "</font>"
      ]
    },
    {
      "cell_type": "code",
      "metadata": {
        "id": "kOKSh2RjYcUz",
        "colab_type": "code",
        "outputId": "2de2170b-de3f-4c3f-95e2-23d6c3233c51",
        "colab": {
          "base_uri": "https://localhost:8080/",
          "height": 34
        }
      },
      "source": [
        "import datetime\n",
        "\n",
        "def datesplit(originalDate):\n",
        "    originalDate = str(originalDate)\n",
        "    \n",
        "    year = int(\"20\" + originalDate[0:2])\n",
        "    month = int(originalDate[2:4])\n",
        "    day = int(originalDate[4:6])\n",
        "    hour = int(originalDate[6:8])\n",
        "    \n",
        "    return datetime.datetime(year, month, day, hour)\n",
        "\n",
        "# Exemple :\n",
        "datesplit(14102915).weekday(), datesplit(14102915).hour"
      ],
      "execution_count": 0,
      "outputs": [
        {
          "output_type": "execute_result",
          "data": {
            "text/plain": [
              "(2, 15)"
            ]
          },
          "metadata": {
            "tags": []
          },
          "execution_count": 11
        }
      ]
    },
    {
      "cell_type": "markdown",
      "metadata": {
        "id": "CrRiyg01YcU4",
        "colab_type": "text"
      },
      "source": [
        "<font color=\"red\">**Question:**\n",
        "    Using the \".apply( ... )\" method, create a 'weekday' for the day of the week. Then, replace the 'hour' column by the hour.\n",
        "</font>"
      ]
    },
    {
      "cell_type": "markdown",
      "metadata": {
        "id": "hFhI2HFgYcU6",
        "colab_type": "text"
      },
      "source": [
        "To answer this question you have to understand that applies takes a function as argument\n",
        "<br>\n",
        "\"lambda x: ... \" is used to create local unamed function of x\n",
        "<br>\n",
        "Check the documentation: https://docs.python.org/3/tutorial/controlflow.html#lambda-expressions"
      ]
    },
    {
      "cell_type": "code",
      "metadata": {
        "id": "nDWxoncVYcU7",
        "colab_type": "code",
        "colab": {}
      },
      "source": [
        "df['weekday'] = df['hour'].apply(lambda x: datesplit(x).weekday()) # Fill here\n",
        "df['hour'] = df['hour'].apply(lambda x: datesplit(x).hour) # Fill here"
      ],
      "execution_count": 0,
      "outputs": []
    },
    {
      "cell_type": "markdown",
      "metadata": {
        "id": "t7e9LOv6YcU_",
        "colab_type": "text"
      },
      "source": [
        "<font color=\"red\">**Question:**\n",
        "    Using the \".groupby( ... )\" method, visualize the influence of the hour and of the day on the 'click' frequency (take the \".mean()\"!). To do so, plot 'click' vs 'hour' and 'click' vs 'weekday' curves.\n",
        "    <br>\n",
        "    Precise the name of the axes.\n",
        "</font>"
      ]
    },
    {
      "cell_type": "code",
      "metadata": {
        "id": "fLJVdQ-6YcVA",
        "colab_type": "code",
        "outputId": "6f0439b8-10ab-400a-b6a3-123c7f973850",
        "colab": {
          "base_uri": "https://localhost:8080/",
          "height": 51
        }
      },
      "source": [
        "print(df.groupby(['hour'])['click']) # Fill here for the influence of the hour\n",
        "print(df.groupby(['weekday'])['click']) # Fill here for the influence of the day"
      ],
      "execution_count": 0,
      "outputs": [
        {
          "output_type": "stream",
          "text": [
            "<pandas.core.groupby.generic.SeriesGroupBy object at 0x7fdcb02dbc88>\n",
            "<pandas.core.groupby.generic.SeriesGroupBy object at 0x7fdcb02dbd68>\n"
          ],
          "name": "stdout"
        }
      ]
    },
    {
      "cell_type": "code",
      "metadata": {
        "id": "QD2kpLa-YcVF",
        "colab_type": "code",
        "outputId": "f5aa6049-3b47-4c2e-a44e-7fae52179a75",
        "colab": {
          "base_uri": "https://localhost:8080/",
          "height": 279
        }
      },
      "source": [
        "plt.figure()\n",
        "plt.plot(df.groupby(['hour']).mean()['click']); # Fill here for the influence of the hour\n",
        "plt.xlabel('Hour')\n",
        "plt.ylabel('Click frequency')\n",
        "plt.show()"
      ],
      "execution_count": 0,
      "outputs": [
        {
          "output_type": "display_data",
          "data": {
            "image/png": "[encoded data removed]",
            "text/plain": [
              "<Figure size 432x288 with 1 Axes>"
            ]
          },
          "metadata": {
            "tags": []
          }
        }
      ]
    },
    {
      "cell_type": "code",
      "metadata": {
        "id": "o3fFdYYTYcVW",
        "colab_type": "code",
        "outputId": "61b364f7-061a-491d-a45e-3dd370d9f280",
        "colab": {
          "base_uri": "https://localhost:8080/",
          "height": 281
        }
      },
      "source": [
        "plt.figure()\n",
        "plt.plot(df.groupby(['weekday']).mean()['click']); # Fill here for the influence of the day\n",
        "plt.xlabel('week day')\n",
        "plt.ylabel('Click frequency')\n",
        "plt.show()"
      ],
      "execution_count": 0,
      "outputs": [
        {
          "output_type": "display_data",
          "data": {
            "image/png": "[encoded data removed]",
            "text/plain": [
              "<Figure size 432x288 with 1 Axes>"
            ]
          },
          "metadata": {
            "tags": []
          }
        }
      ]
    },
    {
      "cell_type": "markdown",
      "metadata": {
        "id": "Aw0uqHqTYcVd",
        "colab_type": "text"
      },
      "source": [
        "# Preliminary work and first model"
      ]
    },
    {
      "cell_type": "markdown",
      "metadata": {
        "id": "6hlQCIDoYcVf",
        "colab_type": "text"
      },
      "source": [
        "Start by understanding the features with few modalities:\n",
        "'hour', 'weekday', 'C1', 'banner_pos', 'site_category', 'app_category', 'device_type', 'device_conn_type', 'C15', 'C16', 'C18', 'C21'."
      ]
    },
    {
      "cell_type": "markdown",
      "metadata": {
        "id": "pl8OmuiOYcVg",
        "colab_type": "text"
      },
      "source": [
        "<font color=\"red\">**Question:**\n",
        "    For instance, inspect the columns 'C15' (dimension of the advert) and 'site_category': visualize the clicks mean.\n",
        "</font>"
      ]
    },
    {
      "cell_type": "code",
      "metadata": {
        "id": "T0_3X-c3YcVi",
        "colab_type": "code",
        "outputId": "ac6129cd-cefd-4cbd-ac76-e1d4cff6c42a",
        "colab": {
          "base_uri": "https://localhost:8080/",
          "height": 187
        }
      },
      "source": [
        "df.groupby(['C15']).mean()['click'] # Fill here: inspect 'C15' using '.groupby'"
      ],
      "execution_count": 0,
      "outputs": [
        {
          "output_type": "execute_result",
          "data": {
            "text/plain": [
              "C15\n",
              "120     0.033708\n",
              "216     0.129612\n",
              "300     0.360537\n",
              "320     0.158767\n",
              "480     0.285714\n",
              "728     0.054144\n",
              "768     0.375000\n",
              "1024    0.166667\n",
              "Name: click, dtype: float64"
            ]
          },
          "metadata": {
            "tags": []
          },
          "execution_count": 67
        }
      ]
    },
    {
      "cell_type": "code",
      "metadata": {
        "id": "BjHI9kpZYcVm",
        "colab_type": "code",
        "outputId": "30d3a48b-19d8-4159-b8b1-0ecea1101de8",
        "colab": {
          "base_uri": "https://localhost:8080/",
          "height": 425
        }
      },
      "source": [
        "df.groupby(['site_category']).mean()['click'] # Fill here: inspect 'site_category' using '.groupby'"
      ],
      "execution_count": 0,
      "outputs": [
        {
          "output_type": "execute_result",
          "data": {
            "text/plain": [
              "site_category\n",
              "0569f928    0.053613\n",
              "28905ebd    0.208076\n",
              "335d28a8    0.089824\n",
              "3e814130    0.284245\n",
              "42a36e14    0.225806\n",
              "50e219e0    0.128597\n",
              "5378d028    0.000000\n",
              "70fb0e29    0.144737\n",
              "72722551    0.059172\n",
              "75fa27f6    0.111305\n",
              "76b2941d    0.035756\n",
              "8fd0aea4    0.015873\n",
              "9ccfa2ea    0.000000\n",
              "a818d37a    0.000000\n",
              "bcf865d9    0.000000\n",
              "c0dd3be3    0.128655\n",
              "c706e647    0.000000\n",
              "da34532e    0.000000\n",
              "dedf689d    0.530449\n",
              "e787de0e    0.000000\n",
              "f028772b    0.179719\n",
              "f66779e6    0.034564\n",
              "Name: click, dtype: float64"
            ]
          },
          "metadata": {
            "tags": []
          },
          "execution_count": 68
        }
      ]
    },
    {
      "cell_type": "markdown",
      "metadata": {
        "id": "MLfdMT-qYcVr",
        "colab_type": "text"
      },
      "source": [
        "<font color=\"red\">**Question:**\n",
        "    Some site categories have a null click rate. Why? Display the 'count()' of each modality.\n",
        "    <br><br>\n",
        "    Hint: you can use the method \".value_counts()\"\n",
        "</font>"
      ]
    },
    {
      "cell_type": "code",
      "metadata": {
        "id": "0FkctWqDYcVt",
        "colab_type": "code",
        "outputId": "58bc49b5-3973-4411-b29a-9d4871f74e61",
        "colab": {
          "base_uri": "https://localhost:8080/",
          "height": 680
        }
      },
      "source": [
        "df.groupby(['site_category'])['click'].value_counts() # Fill here"
      ],
      "execution_count": 0,
      "outputs": [
        {
          "output_type": "execute_result",
          "data": {
            "text/plain": [
              "site_category  click\n",
              "0569f928       0           406\n",
              "               1            23\n",
              "28905ebd       0        144146\n",
              "               1         37874\n",
              "335d28a8       0          3050\n",
              "               1           301\n",
              "3e814130       0         54159\n",
              "               1         21508\n",
              "42a36e14       0            48\n",
              "               1            14\n",
              "50e219e0       0        356335\n",
              "               1         52586\n",
              "5378d028       0            11\n",
              "70fb0e29       0           520\n",
              "               1            88\n",
              "72722551       0           636\n",
              "               1            40\n",
              "75fa27f6       0          3561\n",
              "               1           446\n",
              "76b2941d       0          2481\n",
              "               1            92\n",
              "8fd0aea4       0           186\n",
              "               1             3\n",
              "9ccfa2ea       0             5\n",
              "a818d37a       0            81\n",
              "bcf865d9       0            16\n",
              "c0dd3be3       0           894\n",
              "               1           132\n",
              "c706e647       0             1\n",
              "da34532e       0             1\n",
              "dedf689d       1           331\n",
              "               0           293\n",
              "e787de0e       0            28\n",
              "f028772b       0        257026\n",
              "               1         56313\n",
              "f66779e6       0          6145\n",
              "               1           220\n",
              "Name: click, dtype: int64"
            ]
          },
          "metadata": {
            "tags": []
          },
          "execution_count": 69
        }
      ]
    },
    {
      "cell_type": "markdown",
      "metadata": {
        "id": "ru25QWd0YcVy",
        "colab_type": "text"
      },
      "source": [
        "It is practical to visualize both columns in parallel:"
      ]
    },
    {
      "cell_type": "code",
      "metadata": {
        "id": "9JwsJNMGYcV0",
        "colab_type": "code",
        "outputId": "17fee22d-5389-4f44-d534-3c64ccc5d0ee",
        "colab": {
          "base_uri": "https://localhost:8080/",
          "height": 762
        }
      },
      "source": [
        "col = 'site_category'\n",
        "a = pd.DataFrame([df.groupby(col).mean()['click'], df.groupby(col).count()['click']]).transpose()\n",
        "a.columns = ['mean', 'count']\n",
        "a.sort_values(by='count', ascending=False)"
      ],
      "execution_count": 0,
      "outputs": [
        {
          "output_type": "execute_result",
          "data": {
            "text/html": [
              "<div>\n",
              "<style scoped>\n",
              "    .dataframe tbody tr th:only-of-type {\n",
              "        vertical-align: middle;\n",
              "    }\n",
              "\n",
              "    .dataframe tbody tr th {\n",
              "        vertical-align: top;\n",
              "    }\n",
              "\n",
              "    .dataframe thead th {\n",
              "        text-align: right;\n",
              "    }\n",
              "</style>\n",
              "<table border=\"1\" class=\"dataframe\">\n",
              "  <thead>\n",
              "    <tr style=\"text-align: right;\">\n",
              "      <th></th>\n",
              "      <th>mean</th>\n",
              "      <th>count</th>\n",
              "    </tr>\n",
              "    <tr>\n",
              "      <th>site_category</th>\n",
              "      <th></th>\n",
              "      <th></th>\n",
              "    </tr>\n",
              "  </thead>\n",
              "  <tbody>\n",
              "    <tr>\n",
              "      <th>50e219e0</th>\n",
              "      <td>0.128597</td>\n",
              "      <td>408921.0</td>\n",
              "    </tr>\n",
              "    <tr>\n",
              "      <th>f028772b</th>\n",
              "      <td>0.179719</td>\n",
              "      <td>313339.0</td>\n",
              "    </tr>\n",
              "    <tr>\n",
              "      <th>28905ebd</th>\n",
              "      <td>0.208076</td>\n",
              "      <td>182020.0</td>\n",
              "    </tr>\n",
              "    <tr>\n",
              "      <th>3e814130</th>\n",
              "      <td>0.284245</td>\n",
              "      <td>75667.0</td>\n",
              "    </tr>\n",
              "    <tr>\n",
              "      <th>f66779e6</th>\n",
              "      <td>0.034564</td>\n",
              "      <td>6365.0</td>\n",
              "    </tr>\n",
              "    <tr>\n",
              "      <th>75fa27f6</th>\n",
              "      <td>0.111305</td>\n",
              "      <td>4007.0</td>\n",
              "    </tr>\n",
              "    <tr>\n",
              "      <th>335d28a8</th>\n",
              "      <td>0.089824</td>\n",
              "      <td>3351.0</td>\n",
              "    </tr>\n",
              "    <tr>\n",
              "      <th>76b2941d</th>\n",
              "      <td>0.035756</td>\n",
              "      <td>2573.0</td>\n",
              "    </tr>\n",
              "    <tr>\n",
              "      <th>c0dd3be3</th>\n",
              "      <td>0.128655</td>\n",
              "      <td>1026.0</td>\n",
              "    </tr>\n",
              "    <tr>\n",
              "      <th>72722551</th>\n",
              "      <td>0.059172</td>\n",
              "      <td>676.0</td>\n",
              "    </tr>\n",
              "    <tr>\n",
              "      <th>dedf689d</th>\n",
              "      <td>0.530449</td>\n",
              "      <td>624.0</td>\n",
              "    </tr>\n",
              "    <tr>\n",
              "      <th>70fb0e29</th>\n",
              "      <td>0.144737</td>\n",
              "      <td>608.0</td>\n",
              "    </tr>\n",
              "    <tr>\n",
              "      <th>0569f928</th>\n",
              "      <td>0.053613</td>\n",
              "      <td>429.0</td>\n",
              "    </tr>\n",
              "    <tr>\n",
              "      <th>8fd0aea4</th>\n",
              "      <td>0.015873</td>\n",
              "      <td>189.0</td>\n",
              "    </tr>\n",
              "    <tr>\n",
              "      <th>a818d37a</th>\n",
              "      <td>0.000000</td>\n",
              "      <td>81.0</td>\n",
              "    </tr>\n",
              "    <tr>\n",
              "      <th>42a36e14</th>\n",
              "      <td>0.225806</td>\n",
              "      <td>62.0</td>\n",
              "    </tr>\n",
              "    <tr>\n",
              "      <th>e787de0e</th>\n",
              "      <td>0.000000</td>\n",
              "      <td>28.0</td>\n",
              "    </tr>\n",
              "    <tr>\n",
              "      <th>bcf865d9</th>\n",
              "      <td>0.000000</td>\n",
              "      <td>16.0</td>\n",
              "    </tr>\n",
              "    <tr>\n",
              "      <th>5378d028</th>\n",
              "      <td>0.000000</td>\n",
              "      <td>11.0</td>\n",
              "    </tr>\n",
              "    <tr>\n",
              "      <th>9ccfa2ea</th>\n",
              "      <td>0.000000</td>\n",
              "      <td>5.0</td>\n",
              "    </tr>\n",
              "    <tr>\n",
              "      <th>c706e647</th>\n",
              "      <td>0.000000</td>\n",
              "      <td>1.0</td>\n",
              "    </tr>\n",
              "    <tr>\n",
              "      <th>da34532e</th>\n",
              "      <td>0.000000</td>\n",
              "      <td>1.0</td>\n",
              "    </tr>\n",
              "  </tbody>\n",
              "</table>\n",
              "</div>"
            ],
            "text/plain": [
              "                   mean     count\n",
              "site_category                    \n",
              "50e219e0       0.128597  408921.0\n",
              "f028772b       0.179719  313339.0\n",
              "28905ebd       0.208076  182020.0\n",
              "3e814130       0.284245   75667.0\n",
              "f66779e6       0.034564    6365.0\n",
              "75fa27f6       0.111305    4007.0\n",
              "335d28a8       0.089824    3351.0\n",
              "76b2941d       0.035756    2573.0\n",
              "c0dd3be3       0.128655    1026.0\n",
              "72722551       0.059172     676.0\n",
              "dedf689d       0.530449     624.0\n",
              "70fb0e29       0.144737     608.0\n",
              "0569f928       0.053613     429.0\n",
              "8fd0aea4       0.015873     189.0\n",
              "a818d37a       0.000000      81.0\n",
              "42a36e14       0.225806      62.0\n",
              "e787de0e       0.000000      28.0\n",
              "bcf865d9       0.000000      16.0\n",
              "5378d028       0.000000      11.0\n",
              "9ccfa2ea       0.000000       5.0\n",
              "c706e647       0.000000       1.0\n",
              "da34532e       0.000000       1.0"
            ]
          },
          "metadata": {
            "tags": []
          },
          "execution_count": 70
        }
      ]
    },
    {
      "cell_type": "markdown",
      "metadata": {
        "colab_type": "text",
        "id": "a07QsALahvnV"
      },
      "source": [
        "Your answer here\n",
        "\n",
        "**Observation**: we observe that some sites don't have any click. That explains why the click rate is null for these sites."
      ]
    },
    {
      "cell_type": "markdown",
      "metadata": {
        "id": "5iAVEnE4YcV5",
        "colab_type": "text"
      },
      "source": [
        "<font color=\"red\">**Question:**\n",
        "    Divide the dataset into a training and test set with sklearn (use the following options: test_size=0.1, random_state=100).\n",
        "    <br>\n",
        "    Warning: do not use 'id' as a feature.\n",
        "</font>"
      ]
    },
    {
      "cell_type": "code",
      "metadata": {
        "id": "7Mc0hmCsYcV7",
        "colab_type": "code",
        "colab": {}
      },
      "source": [
        "from sklearn.model_selection import train_test_split\n",
        "X = df.drop(columns=['id', 'click'])\n",
        "y = df['click']\n",
        "Xtrain, Xtest, ytrain, ytest = train_test_split(X, y, test_size=0.1, random_state=100)"
      ],
      "execution_count": 0,
      "outputs": []
    },
    {
      "cell_type": "markdown",
      "metadata": {
        "id": "y94Vsm-wYcV_",
        "colab_type": "text"
      },
      "source": [
        "# First work on a reduced number of features"
      ]
    },
    {
      "cell_type": "markdown",
      "metadata": {
        "id": "HffuIJthYcV_",
        "colab_type": "text"
      },
      "source": [
        "<font color=\"red\">**Question:**\n",
        "    Put in a list the selected columns: 'hour', 'weekday', 'C1', 'banner_pos', 'site_category', 'app_category', 'device_type', 'device_conn_type', 'C15', 'C16', 'C18', 'C21'.\n",
        "</font>"
      ]
    },
    {
      "cell_type": "code",
      "metadata": {
        "id": "b87fxoxuYcWB",
        "colab_type": "code",
        "colab": {}
      },
      "source": [
        "some_columns = ['hour', 'weekday', 'C1', 'banner_pos', 'site_category', 'app_category', \n",
        "                'device_type', 'device_conn_type', 'C15', 'C16', 'C18', 'C21']"
      ],
      "execution_count": 0,
      "outputs": []
    },
    {
      "cell_type": "markdown",
      "metadata": {
        "id": "bZQ0i2YMYcWD",
        "colab_type": "text"
      },
      "source": [
        "<font color=\"red\"> - Importer CategoricalEncoder de sklearn.preprocessing.  \n",
        "- Fitter le CategoricalEncoder sur les données de train restreintes aux colonnes ci-dessus.  \n",
        "- Transformer les données de train et de test en dummies.\n",
        "</font>"
      ]
    },
    {
      "cell_type": "markdown",
      "metadata": {
        "id": "bLD-KxNcYcWF",
        "colab_type": "text"
      },
      "source": [
        "<font color=\"red\">**Question:**\n",
        "    <br>\n",
        "    - Import OneHotEncoder from sklearn.preprocessing\n",
        "    <br>\n",
        "    - Transform the training and the test data restricted to the selected columns\n",
        "</font>"
      ]
    },
    {
      "cell_type": "code",
      "metadata": {
        "id": "GDx0mpYYYcWG",
        "colab_type": "code",
        "colab": {}
      },
      "source": [
        "from sklearn.preprocessing import OneHotEncoder\n",
        "ohe = OneHotEncoder(handle_unknown='ignore').fit(Xtrain[some_columns])\n",
        "Xtrain_oh = ohe.transform(Xtrain[some_columns]) # fit the transformation of Xtrain restricted to selected columns\n",
        "Xtest_oh = ohe.transform(Xtest[some_columns]) # and transform Xtest restricted to selected columns"
      ],
      "execution_count": 0,
      "outputs": []
    },
    {
      "cell_type": "markdown",
      "metadata": {
        "id": "FN5GjuyzYcWI",
        "colab_type": "text"
      },
      "source": [
        "<font color=\"red\">**Question:**\n",
        "    What is the new number of features?\n",
        "</font>"
      ]
    },
    {
      "cell_type": "code",
      "metadata": {
        "id": "Syvv31BuYcWL",
        "colab_type": "code",
        "outputId": "75f06f5d-9a89-4e6c-99bc-546cf6a86ee8",
        "colab": {
          "base_uri": "https://localhost:8080/",
          "height": 34
        }
      },
      "source": [
        "Xtrain_oh.shape[1]"
      ],
      "execution_count": 0,
      "outputs": [
        {
          "output_type": "execute_result",
          "data": {
            "text/plain": [
              "183"
            ]
          },
          "metadata": {
            "tags": []
          },
          "execution_count": 74
        }
      ]
    },
    {
      "cell_type": "markdown",
      "metadata": {
        "colab_type": "text",
        "id": "X2JQVVfTi4Zs"
      },
      "source": [
        "Your answer here\n",
        "\n",
        "There are 183 features."
      ]
    },
    {
      "cell_type": "markdown",
      "metadata": {
        "id": "HUWRg9VaYcWQ",
        "colab_type": "text"
      },
      "source": [
        "<font color=\"red\">**Question:**\n",
        "    Visualize the first row of the design matrix you have got. Do not forget to convert it into a \"numpy.array\" using the method \".toarray()\".\n",
        "</font>"
      ]
    },
    {
      "cell_type": "code",
      "metadata": {
        "id": "KteEhxlwYcWR",
        "colab_type": "code",
        "outputId": "e37fb052-0852-4569-d86a-350192d2f182",
        "colab": {
          "base_uri": "https://localhost:8080/",
          "height": 204
        }
      },
      "source": [
        "Xtrain_oh.toarray()[0]"
      ],
      "execution_count": 0,
      "outputs": [
        {
          "output_type": "execute_result",
          "data": {
            "text/plain": [
              "array([0., 0., 0., 0., 0., 0., 0., 0., 0., 0., 1., 0., 0., 0., 0., 0., 0.,\n",
              "       0., 0., 0., 0., 0., 0., 0., 1., 0., 0., 0., 0., 0., 0., 0., 0., 0.,\n",
              "       0., 0., 1., 0., 0., 1., 0., 0., 0., 0., 0., 0., 0., 0., 0., 0., 1.,\n",
              "       0., 0., 0., 0., 0., 0., 0., 0., 0., 0., 0., 0., 0., 0., 0., 0., 0.,\n",
              "       0., 0., 1., 0., 0., 0., 0., 0., 0., 0., 0., 0., 0., 0., 0., 0., 0.,\n",
              "       0., 0., 0., 0., 0., 0., 0., 0., 0., 0., 0., 1., 0., 0., 0., 1., 0.,\n",
              "       0., 0., 0., 1., 0., 0., 0., 0., 0., 0., 1., 0., 0., 0., 0., 0., 0.,\n",
              "       1., 0., 0., 0., 0., 0., 0., 0., 0., 0., 0., 0., 0., 0., 0., 0., 0.,\n",
              "       0., 0., 0., 0., 0., 0., 0., 0., 0., 1., 0., 0., 0., 0., 0., 0., 0.,\n",
              "       0., 0., 0., 0., 0., 0., 0., 0., 0., 0., 0., 0., 0., 0., 0., 0., 0.,\n",
              "       0., 0., 0., 0., 0., 0., 0., 0., 0., 0., 0., 0., 0.])"
            ]
          },
          "metadata": {
            "tags": []
          },
          "execution_count": 75
        }
      ]
    },
    {
      "cell_type": "markdown",
      "metadata": {
        "id": "GcIpiLHYYcWU",
        "colab_type": "text"
      },
      "source": [
        "<font color=\"red\">**Question:**\n",
        "    Import and fit a logistic regression model on your the encoded data.\n",
        "</font>"
      ]
    },
    {
      "cell_type": "code",
      "metadata": {
        "id": "r8a0SxavYcWV",
        "colab_type": "code",
        "outputId": "c6ee9bee-48a4-4e1f-d240-55f7f70cb9a2",
        "colab": {
          "base_uri": "https://localhost:8080/",
          "height": 136
        }
      },
      "source": [
        "from sklearn.linear_model import LogisticRegression\n",
        "lr = LogisticRegression(random_state=100)\n",
        "lr.fit(Xtrain_oh, ytrain)"
      ],
      "execution_count": 0,
      "outputs": [
        {
          "output_type": "stream",
          "text": [
            "/usr/local/lib/python3.6/dist-packages/sklearn/linear_model/logistic.py:432: FutureWarning: Default solver will be changed to 'lbfgs' in 0.22. Specify a solver to silence this warning.\n",
            "  FutureWarning)\n"
          ],
          "name": "stderr"
        },
        {
          "output_type": "execute_result",
          "data": {
            "text/plain": [
              "LogisticRegression(C=1.0, class_weight=None, dual=False, fit_intercept=True,\n",
              "                   intercept_scaling=1, l1_ratio=None, max_iter=100,\n",
              "                   multi_class='warn', n_jobs=None, penalty='l2',\n",
              "                   random_state=100, solver='warn', tol=0.0001, verbose=0,\n",
              "                   warm_start=False)"
            ]
          },
          "metadata": {
            "tags": []
          },
          "execution_count": 76
        }
      ]
    },
    {
      "cell_type": "markdown",
      "metadata": {
        "id": "0iuQIQj-YcWZ",
        "colab_type": "text"
      },
      "source": [
        "<font color=\"red\">**Question:**\n",
        "    With '.predict' and 'predict_proba', display the hard and soft decision you get on test data.\n",
        "</font>"
      ]
    },
    {
      "cell_type": "code",
      "metadata": {
        "id": "TYiTfHIWYcWa",
        "colab_type": "code",
        "colab": {}
      },
      "source": [
        "hard = lr.predict(Xtest_oh)\n",
        "soft = lr.predict_proba(Xtest_oh)[:, 1]"
      ],
      "execution_count": 0,
      "outputs": []
    },
    {
      "cell_type": "markdown",
      "metadata": {
        "id": "npfzy9N3YcWc",
        "colab_type": "text"
      },
      "source": [
        "<font color=\"red\">**Question:**\n",
        "    Compute the probability of error using sklearn.metrics 'accuracy_score' function. Comment.\n",
        "</font>"
      ]
    },
    {
      "cell_type": "code",
      "metadata": {
        "id": "hIB33gPiYcWd",
        "colab_type": "code",
        "outputId": "98c6ae6b-c4bb-4879-f5ac-c3e668f5f2d2",
        "colab": {
          "base_uri": "https://localhost:8080/",
          "height": 34
        }
      },
      "source": [
        "from sklearn.metrics import accuracy_score\n",
        "accuracy_score(ytest, hard) # Fill here"
      ],
      "execution_count": 0,
      "outputs": [
        {
          "output_type": "execute_result",
          "data": {
            "text/plain": [
              "0.83043"
            ]
          },
          "metadata": {
            "tags": []
          },
          "execution_count": 78
        }
      ]
    },
    {
      "cell_type": "markdown",
      "metadata": {
        "colab_type": "text",
        "id": "Pdi72JJUoYb_"
      },
      "source": [
        "Your answer here\n",
        "\n",
        "The accuracy score isn't bad, but beware: the dataset is unbalacend. We should look at other metrics, like the area under the log loss, or the area under the ROC curve.   "
      ]
    },
    {
      "cell_type": "markdown",
      "metadata": {
        "id": "ER4oZTUjYcWf",
        "colab_type": "text"
      },
      "source": [
        "<font color=\"red\">**Question:**\n",
        "    Plot the ROC curve. Then compute the log loss and the Area Under the Curve ROC.\n",
        "</font>"
      ]
    },
    {
      "cell_type": "code",
      "metadata": {
        "id": "Mj-LeKtqYcWf",
        "colab_type": "code",
        "outputId": "2c071655-6f2b-4487-b45f-33d63b3f6a22",
        "colab": {
          "base_uri": "https://localhost:8080/",
          "height": 322
        }
      },
      "source": [
        "from sklearn.metrics import roc_curve\n",
        "\n",
        "false_pos_rate, true_pos_rate, _ = roc_curve(ytest, soft)\n",
        "plt.plot(false_pos_rate, true_pos_rate)\n",
        "\n",
        "plt.grid()\n",
        "plt.plot([0, 1], [0, 1], 'r--')\n",
        "plt.xlabel('False Positive Rate', fontsize=16)\n",
        "plt.ylabel('True Positive Rate', fontsize=16)\n",
        "plt.title('ROC curve', fontsize=20)"
      ],
      "execution_count": 0,
      "outputs": [
        {
          "output_type": "execute_result",
          "data": {
            "text/plain": [
              "Text(0.5, 1.0, 'ROC curve')"
            ]
          },
          "metadata": {
            "tags": []
          },
          "execution_count": 79
        },
        {
          "output_type": "display_data",
          "data": {
            "image/png": "[encoded data removed]",
            "text/plain": [
              "<Figure size 432x288 with 1 Axes>"
            ]
          },
          "metadata": {
            "tags": []
          }
        }
      ]
    },
    {
      "cell_type": "code",
      "metadata": {
        "id": "RNxlXhDhYcWi",
        "colab_type": "code",
        "outputId": "a66758cc-2ecb-456c-d78f-cdaa4f2cb352",
        "colab": {
          "base_uri": "https://localhost:8080/",
          "height": 34
        }
      },
      "source": [
        "from sklearn.metrics import log_loss , roc_auc_score\n",
        "\n",
        "log_loss(ytest, soft), roc_auc_score(ytest, soft)"
      ],
      "execution_count": 0,
      "outputs": [
        {
          "output_type": "execute_result",
          "data": {
            "text/plain": [
              "(0.42512042343317613, 0.6762982820621418)"
            ]
          },
          "metadata": {
            "tags": []
          },
          "execution_count": 80
        }
      ]
    },
    {
      "cell_type": "markdown",
      "metadata": {
        "id": "KPbreB3bYcWl",
        "colab_type": "text"
      },
      "source": [
        "<font color=\"red\">**Question:**\n",
        "    Import the 'plot_lift' function from 'utils.py' and plot the lift curve. What is the lift of the first fifth of the population identified by the test?\n",
        "</font>"
      ]
    },
    {
      "cell_type": "code",
      "metadata": {
        "id": "0VxLpfo9YcWl",
        "colab_type": "code",
        "outputId": "f3aba692-aca0-4c27-e8da-23d9b773b0e7",
        "colab": {
          "base_uri": "https://localhost:8080/",
          "height": 322
        }
      },
      "source": [
        "from utils import plotlift\n",
        "\n",
        "plotlift(ytest, soft)\n",
        "# The following line just plots a vertical line for you to answer the second part of the question\n",
        "plt.axvline(x=0.2, linestyle='--', color='r') # Fill here\n",
        "\n",
        "plt.xlabel('Proportion of the dataset', fontsize=16)\n",
        "plt.ylabel('Lift', fontsize=16)\n",
        "plt.title('Lift curve', fontsize=20)\n",
        "plt.plot()"
      ],
      "execution_count": 0,
      "outputs": [
        {
          "output_type": "execute_result",
          "data": {
            "text/plain": [
              "[]"
            ]
          },
          "metadata": {
            "tags": []
          },
          "execution_count": 81
        },
        {
          "output_type": "display_data",
          "data": {
            "image/png": "[encoded data removed]",
            "text/plain": [
              "<Figure size 432x288 with 1 Axes>"
            ]
          },
          "metadata": {
            "tags": []
          }
        }
      ]
    },
    {
      "cell_type": "markdown",
      "metadata": {
        "colab_type": "text",
        "id": "WM_lg75foaLV"
      },
      "source": [
        "Your answer here\n",
        "\n",
        "The lift of the first fifth of the population identified by the test is around ~1.75."
      ]
    },
    {
      "cell_type": "markdown",
      "metadata": {
        "id": "cF3oNg2BYcWo",
        "colab_type": "text"
      },
      "source": [
        "# Complete model"
      ]
    },
    {
      "cell_type": "markdown",
      "metadata": {
        "id": "guGisntUYcWo",
        "colab_type": "text"
      },
      "source": [
        "As an example, we now focus on the 'site_id' column.\n",
        "\n",
        "<font color=\"red\">**Question:**\n",
        "    <br>\n",
        "    - For each modality, compute the number of occurrences in the dataset and the average of clicks for this modality \n",
        "    <br>\n",
        "    - With 'sns.joiplot', represent the set of points (count, mean) for each modality\n",
        "</font>"
      ]
    },
    {
      "cell_type": "code",
      "metadata": {
        "id": "EWjvCk-JYcWp",
        "colab_type": "code",
        "colab": {}
      },
      "source": [
        "import seaborn as sns"
      ],
      "execution_count": 0,
      "outputs": []
    },
    {
      "cell_type": "code",
      "metadata": {
        "id": "T__2itFfYcWr",
        "colab_type": "code",
        "outputId": "4dd9e056-4508-4770-a442-ef7b12bb1531",
        "colab": {
          "base_uri": "https://localhost:8080/",
          "height": 865
        }
      },
      "source": [
        "col = 'site_id'\n",
        "a = pd.DataFrame([df.groupby(col).mean()['click'], df.groupby(col).count()['click']]).transpose()\n",
        "a.columns = ['mean', 'n_val']\n",
        "sns.jointplot(a['n_val'], a['mean'], alpha=0.25);\n",
        "thres = 10000\n",
        "sns.jointplot(a[a['n_val']<thres]['n_val'], a[a['n_val']<thres]['mean'], alpha=0.25);"
      ],
      "execution_count": 0,
      "outputs": [
        {
          "output_type": "display_data",
          "data": {
            "image/png": "[encoded data removed]",
            "text/plain": [
              "<Figure size 432x432 with 3 Axes>"
            ]
          },
          "metadata": {
            "tags": []
          }
        },
        {
          "output_type": "display_data",
          "data": {
            "image/png": "[encoded data removed]",
            "text/plain": [
              "<Figure size 432x432 with 3 Axes>"
            ]
          },
          "metadata": {
            "tags": []
          }
        }
      ]
    },
    {
      "cell_type": "markdown",
      "metadata": {
        "id": "g8_LIRbIYcWt",
        "colab_type": "text"
      },
      "source": [
        "<font color=\"red\">**Question:**\n",
        "    In the above commands, what does the alpha parameter stand for?\n",
        "</font>"
      ]
    },
    {
      "cell_type": "markdown",
      "metadata": {
        "colab_type": "text",
        "id": "4BBai06xp8eh"
      },
      "source": [
        "Your answer here\n",
        "\n",
        "The alpha parameter stands for the opacity value of the points. Therefore higher opacity actually means that many points overlap."
      ]
    },
    {
      "cell_type": "markdown",
      "metadata": {
        "id": "HNp0HTLAYcWv",
        "colab_type": "text"
      },
      "source": [
        "Several sites with a lot of occurrences in the dataset have a click frequency very different from the mean. It is relevant to keep the column 'site_id' at least for the modalities for which 'count' is very high.\n",
        "\n",
        "<font color=\"red\">**Question:**\n",
        "    Do the same work on the 'device_id' column. What do you notice? What could be the isolated point?\n",
        "</font>"
      ]
    },
    {
      "cell_type": "code",
      "metadata": {
        "id": "bLhTwP7yYcWw",
        "colab_type": "code",
        "outputId": "dbb60617-a28a-40f0-ca97-be652e580315",
        "colab": {
          "base_uri": "https://localhost:8080/",
          "height": 865
        }
      },
      "source": [
        "col = 'device_id' # Fill here\n",
        "a = pd.DataFrame([df.groupby(col).mean()['click'], df.groupby(col).count()['click']]).transpose()\n",
        "a.columns = ['mean', 'n_val']\n",
        "sns.jointplot(a['n_val'], a['mean'], alpha=0.25);\n",
        "thres = 10000\n",
        "sns.jointplot(a[a['n_val']<thres]['n_val'], a[a['n_val']<thres]['mean'], alpha=0.25);"
      ],
      "execution_count": 0,
      "outputs": [
        {
          "output_type": "display_data",
          "data": {
            "image/png": "[encoded data removed]",
            "text/plain": [
              "<Figure size 432x432 with 3 Axes>"
            ]
          },
          "metadata": {
            "tags": []
          }
        },
        {
          "output_type": "display_data",
          "data": {
            "image/png": "[encoded data removed]",
            "text/plain": [
              "<Figure size 432x432 with 3 Axes>"
            ]
          },
          "metadata": {
            "tags": []
          }
        }
      ]
    },
    {
      "cell_type": "markdown",
      "metadata": {
        "colab_type": "text",
        "id": "HxFRNmVyqI3v"
      },
      "source": [
        "Your answer here\n",
        "\n",
        "The unique spot values corresponds to people whose device hide or block the users information. The website associates a standard ID to all these users. That's why the unique spot value have a big n value."
      ]
    },
    {
      "cell_type": "markdown",
      "metadata": {
        "id": "q3_evYNkYcWy",
        "colab_type": "text"
      },
      "source": [
        "<font color=\"red\">**Question**:   \n",
        "    In the column df['device_id'], spot the value V corresponding to the largest number of 'count' (using '.value_counts' method). Create a new column df['user'] defined as follows:\n",
        "</font>\n",
        "$$\n",
        "\\text{user} = \\left\\{\\begin{array}[h]{ll} \\text{device_ip + device_model} & \\text{if device_id = V}\\\\ \\text{device_id} & \\text{else.}\\end{array}\\right.\n",
        "$$"
      ]
    },
    {
      "cell_type": "code",
      "metadata": {
        "id": "6_KH9aypYcWz",
        "colab_type": "code",
        "colab": {}
      },
      "source": [
        "V = df['device_id'].value_counts().idxmax() # Fill here\n",
        "\n",
        "df['user'] = (df['device_ip'] + df['device_model']) * (df['device_id']==V) + df['device_id'] * (df['device_id']!=V)"
      ],
      "execution_count": 0,
      "outputs": []
    },
    {
      "cell_type": "markdown",
      "metadata": {
        "id": "9irHlnubYcW2",
        "colab_type": "text"
      },
      "source": [
        "<font color=\"red\">**Question**:\n",
        "    Drop the following columns: 'device_id', 'device_model' and 'device_ip'\n",
        "</font>"
      ]
    },
    {
      "cell_type": "code",
      "metadata": {
        "id": "0EfKNjkIYcW3",
        "colab_type": "code",
        "colab": {}
      },
      "source": [
        "df = df.drop(columns=['device_id', 'device_model', 'device_ip'])"
      ],
      "execution_count": 0,
      "outputs": []
    },
    {
      "cell_type": "markdown",
      "metadata": {
        "id": "Re0avpAtYcW7",
        "colab_type": "text"
      },
      "source": [
        "<font color=\"red\">**Question**:\n",
        "    One could look at the similarity between 'site_id' and 'site_domain'. Merge those columns into a new 'site' column (using the '+' operator)  and delete the old 'site_id' and 'site_domain' columns.\n",
        "</font>"
      ]
    },
    {
      "cell_type": "code",
      "metadata": {
        "id": "RPrMudxPYcW7",
        "colab_type": "code",
        "colab": {}
      },
      "source": [
        "df['site'] = df['site_id'] + df['site_domain']\n",
        "df = df.drop(columns=['site_id', 'site_domain'])"
      ],
      "execution_count": 0,
      "outputs": []
    },
    {
      "cell_type": "markdown",
      "metadata": {
        "id": "qBWWV6pnYcW_",
        "colab_type": "text"
      },
      "source": [
        "<font color=\"red\">**Question**:\n",
        "    Once again, split the modified DataFrame 'df' into a train and a test set (with options: test_size=0.1 and random_state=100).\n",
        "    <br>\n",
        "    Warning: do not use 'id' as a feature.\n",
        "</font>"
      ]
    },
    {
      "cell_type": "code",
      "metadata": {
        "id": "XmJrvxlEYcXA",
        "colab_type": "code",
        "colab": {}
      },
      "source": [
        "X = df.drop(columns=['id', 'click'])\n",
        "y = df['click']\n",
        "Xtrain, Xtest, ytrain, ytest = train_test_split(X, y, test_size=0.1, random_state=100)"
      ],
      "execution_count": 0,
      "outputs": []
    },
    {
      "cell_type": "code",
      "metadata": {
        "id": "yyHeZjZWMaTq",
        "colab_type": "code",
        "outputId": "b4ccf511-2eaf-43f6-d575-4f11990fd264",
        "colab": {
          "base_uri": "https://localhost:8080/",
          "height": 34
        }
      },
      "source": [
        "Xtrain.shape"
      ],
      "execution_count": 0,
      "outputs": [
        {
          "output_type": "execute_result",
          "data": {
            "text/plain": [
              "(900000, 20)"
            ]
          },
          "metadata": {
            "tags": []
          },
          "execution_count": 89
        }
      ]
    },
    {
      "cell_type": "markdown",
      "metadata": {
        "id": "b7zoMXC5YcXC",
        "colab_type": "text"
      },
      "source": [
        "<font color=\"red\">**Question**:\n",
        "    Define a OneHotEncoder and then, 'fit_transform' the train set.\n",
        "</font>"
      ]
    },
    {
      "cell_type": "code",
      "metadata": {
        "id": "U4RSRj7LYcXC",
        "colab_type": "code",
        "colab": {}
      },
      "source": [
        "ohe = OneHotEncoder(handle_unknown='ignore')\n",
        "Xtrain_oh = ohe.fit_transform(Xtrain) # Fill here"
      ],
      "execution_count": 0,
      "outputs": []
    },
    {
      "cell_type": "markdown",
      "metadata": {
        "id": "9p2yNLblYcXF",
        "colab_type": "text"
      },
      "source": [
        "<font color=\"red\">**Question**:\n",
        "    Transform the test set. If an error occurs, analyze it and try to solve it by modifying the parameter \"handle_unkown\" of the OneHotEncoder. \n",
        "    <br>\n",
        "    Explain your the problem you encouter and how you solved it. \n",
        "</font>"
      ]
    },
    {
      "cell_type": "code",
      "metadata": {
        "id": "7MeYRj1IYcXG",
        "colab_type": "code",
        "colab": {}
      },
      "source": [
        "Xtest_oh = ohe.transform(Xtest) # Fill here"
      ],
      "execution_count": 0,
      "outputs": []
    },
    {
      "cell_type": "markdown",
      "metadata": {
        "colab_type": "text",
        "id": "zKXtU2rBwAd-"
      },
      "source": [
        "Your answer here\n",
        "\n",
        "The test dataset could have some categorical features that the train data set doesn't know after fitting on the train set. We ignore these features."
      ]
    },
    {
      "cell_type": "markdown",
      "metadata": {
        "id": "lrihsX2dYcXH",
        "colab_type": "text"
      },
      "source": [
        "<font color=\"red\">**Question**:\n",
        "    What is the new number of features?\n",
        "</font>"
      ]
    },
    {
      "cell_type": "code",
      "metadata": {
        "id": "8HF2CHhxYcXI",
        "colab_type": "code",
        "outputId": "4909ddc3-cf58-45f3-c52e-f1b41d7612b5",
        "colab": {
          "base_uri": "https://localhost:8080/",
          "height": 34
        }
      },
      "source": [
        "Xtrain_oh.shape[1]"
      ],
      "execution_count": 0,
      "outputs": [
        {
          "output_type": "execute_result",
          "data": {
            "text/plain": [
              "713334"
            ]
          },
          "metadata": {
            "tags": []
          },
          "execution_count": 92
        }
      ]
    },
    {
      "cell_type": "markdown",
      "metadata": {
        "colab_type": "text",
        "id": "lZ9kHweWwDEt"
      },
      "source": [
        "Your answer here\n",
        "\n",
        "The new number of features is 713334"
      ]
    },
    {
      "cell_type": "markdown",
      "metadata": {
        "id": "KTjjUA6JYcXJ",
        "colab_type": "text"
      },
      "source": [
        "<font color=\"red\">**Question**:\n",
        "    How many modalities have been seen more than a 100 times?\n",
        "</font>"
      ]
    },
    {
      "cell_type": "code",
      "metadata": {
        "id": "Egt0JgByYcXK",
        "colab_type": "code",
        "outputId": "9ee02442-8d56-4d63-d106-41d43e01615d",
        "colab": {
          "base_uri": "https://localhost:8080/",
          "height": 34
        }
      },
      "source": [
        "# The following 'n_ones' vector below gives the number of '1' in each column/modality of the Xtrain_oh design matrix.\n",
        "n_ones = np.array(Xtrain_oh.sum(axis=0))\n",
        "\n",
        "nb_useful_modalities = sum(np.array(n_ones>100)[0]) # Fill here using 'n_ones'\n",
        "print(nb_useful_modalities)"
      ],
      "execution_count": 0,
      "outputs": [
        {
          "output_type": "stream",
          "text": [
            "1971\n"
          ],
          "name": "stdout"
        }
      ]
    },
    {
      "cell_type": "markdown",
      "metadata": {
        "colab_type": "text",
        "id": "3bNDd-2dwD3_"
      },
      "source": [
        "Your answer here\n",
        "\n",
        "1971 have been seen more than 100 times."
      ]
    },
    {
      "cell_type": "markdown",
      "metadata": {
        "id": "U0h74pNxYcXN",
        "colab_type": "text"
      },
      "source": [
        "The list 'cols_to_keep' below is used to store the indices of the modalities seen more than a 100 times. \n",
        "\n",
        "<font color=\"red\">**Question**:\n",
        "    How does the `enumerate` function work?\n",
        "</font>"
      ]
    },
    {
      "cell_type": "code",
      "metadata": {
        "id": "_YknbprTYcXO",
        "colab_type": "code",
        "colab": {}
      },
      "source": [
        "useful = np.array(n_ones>100)[0]\n",
        "cols_to_keep = [i for i,b in enumerate(useful) if b]"
      ],
      "execution_count": 0,
      "outputs": []
    },
    {
      "cell_type": "markdown",
      "metadata": {
        "colab_type": "text",
        "id": "xMCS7vM9yjt0"
      },
      "source": [
        "Your answer here\n",
        "\n",
        "Enumerate() method adds a counter to an iterable. Here we can store the index of a column with the counter, if the column is specified as \"usefull\"."
      ]
    },
    {
      "cell_type": "markdown",
      "metadata": {
        "id": "X0fiY2NBYcXP",
        "colab_type": "text"
      },
      "source": [
        "<font color=\"red\">**Question**:\n",
        "    Using only our restriction on the 'cols_to_keep' columns, retrain a logistic regression model and compare its performance in terms of 'log_loss' and 'roc_auc_curve'.\n",
        "</font>"
      ]
    },
    {
      "cell_type": "code",
      "metadata": {
        "id": "ajFA_JMJYcXR",
        "colab_type": "code",
        "outputId": "ff58e69e-4d06-452f-94f4-c73cf7314a40",
        "colab": {
          "base_uri": "https://localhost:8080/",
          "height": 85
        }
      },
      "source": [
        "lr = LogisticRegression()\n",
        "lr.fit(Xtrain_oh[:, cols_to_keep], ytrain)\n",
        "hard = lr.predict(Xtest_oh[:, cols_to_keep])\n",
        "soft = lr.predict_proba(Xtest_oh[:, cols_to_keep])[:, 1]\n",
        "\n",
        "print(accuracy_score(ytest, hard)) # Fill here\n",
        "print(log_loss(ytest, soft), roc_auc_score(ytest, soft))"
      ],
      "execution_count": 0,
      "outputs": [
        {
          "output_type": "stream",
          "text": [
            "/usr/local/lib/python3.6/dist-packages/sklearn/linear_model/logistic.py:432: FutureWarning: Default solver will be changed to 'lbfgs' in 0.22. Specify a solver to silence this warning.\n",
            "  FutureWarning)\n"
          ],
          "name": "stderr"
        },
        {
          "output_type": "stream",
          "text": [
            "0.83373\n",
            "0.40115384962973016 0.7385969297244755\n"
          ],
          "name": "stdout"
        }
      ]
    },
    {
      "cell_type": "markdown",
      "metadata": {
        "id": "lahZdWm6YcXT",
        "colab_type": "text"
      },
      "source": [
        "# Gradient Boosting Decision Trees"
      ]
    },
    {
      "cell_type": "markdown",
      "metadata": {
        "id": "RkeyRzzmYcXU",
        "colab_type": "text"
      },
      "source": [
        "<font color=\"red\">**Question**:\n",
        "    <br>\n",
        "    - Import GradientBoostingClassifier from scikit learn. \n",
        "    <br>\n",
        "    - Initialize it using 50 estimators and a learning rate of 0.8. Set 'verbose=True' to monitor the progress of the training step.\n",
        "    <br>\n",
        "    - Fit it on the same columns 'cols_to_keep' of Xtrain_oh than for the previous logistic regression.\n",
        "    <br>\n",
        "    - Evaluate its performance as in the previous step.\n",
        "</font>"
      ]
    },
    {
      "cell_type": "code",
      "metadata": {
        "id": "H8XZdPUXYcXV",
        "colab_type": "code",
        "colab": {}
      },
      "source": [
        "from sklearn.ensemble import GradientBoostingClassifier\n",
        "gb = GradientBoostingClassifier(n_estimators=50, learning_rate=0.8, verbose=True) # Fill here"
      ],
      "execution_count": 0,
      "outputs": []
    },
    {
      "cell_type": "code",
      "metadata": {
        "id": "et4JbJETYcXb",
        "colab_type": "code",
        "outputId": "6acbe532-a50b-4290-8384-dfed823e7c7c",
        "colab": {
          "base_uri": "https://localhost:8080/",
          "height": 442
        }
      },
      "source": [
        "gb.fit(Xtrain_oh[:, cols_to_keep], ytrain)"
      ],
      "execution_count": 0,
      "outputs": [
        {
          "output_type": "stream",
          "text": [
            "      Iter       Train Loss   Remaining Time \n",
            "         1           0.8743            4.03m\n",
            "         2           0.8646            3.87m\n",
            "         3           0.8583            3.83m\n",
            "         4           0.8535            3.71m\n",
            "         5           0.8503            3.65m\n",
            "         6           0.8464            3.55m\n",
            "         7           0.8441            3.49m\n",
            "         8           0.8418            3.43m\n",
            "         9           0.8404            3.36m\n",
            "        10           0.8383            3.26m\n",
            "        20           0.8282            2.42m\n",
            "        30           0.8234            1.61m\n",
            "        40           0.8190           48.35s\n",
            "        50           0.8163            0.00s\n"
          ],
          "name": "stdout"
        },
        {
          "output_type": "execute_result",
          "data": {
            "text/plain": [
              "GradientBoostingClassifier(criterion='friedman_mse', init=None,\n",
              "                           learning_rate=0.8, loss='deviance', max_depth=3,\n",
              "                           max_features=None, max_leaf_nodes=None,\n",
              "                           min_impurity_decrease=0.0, min_impurity_split=None,\n",
              "                           min_samples_leaf=1, min_samples_split=2,\n",
              "                           min_weight_fraction_leaf=0.0, n_estimators=50,\n",
              "                           n_iter_no_change=None, presort='auto',\n",
              "                           random_state=None, subsample=1.0, tol=0.0001,\n",
              "                           validation_fraction=0.1, verbose=True,\n",
              "                           warm_start=False)"
            ]
          },
          "metadata": {
            "tags": []
          },
          "execution_count": 98
        }
      ]
    },
    {
      "cell_type": "code",
      "metadata": {
        "id": "2mD8vNR-YcXd",
        "colab_type": "code",
        "outputId": "1c34b7e4-4b22-45a3-c7de-4c063eaf8718",
        "colab": {
          "base_uri": "https://localhost:8080/",
          "height": 34
        }
      },
      "source": [
        "soft = gb.predict_proba(Xtest_oh[:, cols_to_keep])[:, 1]\n",
        "log_loss(ytest, soft), roc_auc_score(ytest, soft)"
      ],
      "execution_count": 0,
      "outputs": [
        {
          "output_type": "execute_result",
          "data": {
            "text/plain": [
              "(0.40916235348642266, 0.7252328290988748)"
            ]
          },
          "metadata": {
            "tags": []
          },
          "execution_count": 99
        }
      ]
    },
    {
      "cell_type": "markdown",
      "metadata": {
        "id": "LwRasRUrYcXe",
        "colab_type": "text"
      },
      "source": [
        "<font color=\"red\">**Question**:\n",
        "    What does the 'gb.estimators_' output?\n",
        "</font>"
      ]
    },
    {
      "cell_type": "code",
      "metadata": {
        "id": "93aySiwVYcXf",
        "colab_type": "code",
        "outputId": "ac95c5d4-6d57-469a-bf7b-8b49e474f6e8",
        "colab": {
          "base_uri": "https://localhost:8080/",
          "height": 1000
        }
      },
      "source": [
        "gb.estimators_"
      ],
      "execution_count": 0,
      "outputs": [
        {
          "output_type": "execute_result",
          "data": {
            "text/plain": [
              "array([[DecisionTreeRegressor(criterion='friedman_mse', max_depth=3, max_features=None,\n",
              "                      max_leaf_nodes=None, min_impurity_decrease=0.0,\n",
              "                      min_impurity_split=None, min_samples_leaf=1,\n",
              "                      min_samples_split=2, min_weight_fraction_leaf=0.0,\n",
              "                      presort='auto',\n",
              "                      random_state=RandomState(MT19937) at 0x7F96E630FA98,\n",
              "                      splitter='best')],\n",
              "       [DecisionTreeRegressor(criterion='friedman_mse', max_depth=3, max_features=None,\n",
              "                      max_leaf_nodes=None, min_impurity_decrease=0.0,\n",
              "                      min_impurity_split=None, min_samples_leaf=1,\n",
              "                      min_samples_split=2, min_weight_fraction_leaf=0.0,\n",
              "                      presort='auto',\n",
              "                      random_state=RandomState(MT19937) at 0x7F96E630FA98,\n",
              "                      splitter='best')],\n",
              "       [DecisionTreeRegressor(criterion='friedman_mse', max_depth=3, max_features=None,\n",
              "                      max_leaf_nodes=None, min_impurity_decrease=0.0,\n",
              "                      min_impurity_split=None, min_samples_leaf=1,\n",
              "                      min_samples_split=2, min_weight_fraction_leaf=0.0,\n",
              "                      presort='auto',\n",
              "                      random_state=RandomState(MT19937) at 0x7F96E630FA98,\n",
              "                      splitter='best')],\n",
              "       [DecisionTreeRegressor(criterion='friedman_mse', max_depth=3, max_features=None,\n",
              "                      max_leaf_nodes=None, min_impurity_decrease=0.0,\n",
              "                      min_impurity_split=None, min_samples_leaf=1,\n",
              "                      min_samples_split=2, min_weight_fraction_leaf=0.0,\n",
              "                      presort='auto',\n",
              "                      random_state=RandomState(MT19937) at 0x7F96E630FA98,\n",
              "                      splitter='best')],\n",
              "       [DecisionTreeRegressor(criterion='friedman_mse', max_depth=3, max_features=None,\n",
              "                      max_leaf_nodes=None, min_impurity_decrease=0.0,\n",
              "                      min_impurity_split=None, min_samples_leaf=1,\n",
              "                      min_samples_split=2, min_weight_fraction_leaf=0.0,\n",
              "                      presort='auto',\n",
              "                      random_state=RandomState(MT19937) at 0x7F96E630FA98,\n",
              "                      splitter='best')],\n",
              "       [DecisionTreeRegressor(criterion='friedman_mse', max_depth=3, max_features=None,\n",
              "                      max_leaf_nodes=None, min_impurity_decrease=0.0,\n",
              "                      min_impurity_split=None, min_samples_leaf=1,\n",
              "                      min_samples_split=2, min_weight_fraction_leaf=0.0,\n",
              "                      presort='auto',\n",
              "                      random_state=RandomState(MT19937) at 0x7F96E630FA98,\n",
              "                      splitter='best')],\n",
              "       [DecisionTreeRegressor(criterion='friedman_mse', max_depth=3, max_features=None,\n",
              "                      max_leaf_nodes=None, min_impurity_decrease=0.0,\n",
              "                      min_impurity_split=None, min_samples_leaf=1,\n",
              "                      min_samples_split=2, min_weight_fraction_leaf=0.0,\n",
              "                      presort='auto',\n",
              "                      random_state=RandomState(MT19937) at 0x7F96E630FA98,\n",
              "                      splitter='best')],\n",
              "       [DecisionTreeRegressor(criterion='friedman_mse', max_depth=3, max_features=None,\n",
              "                      max_leaf_nodes=None, min_impurity_decrease=0.0,\n",
              "                      min_impurity_split=None, min_samples_leaf=1,\n",
              "                      min_samples_split=2, min_weight_fraction_leaf=0.0,\n",
              "                      presort='auto',\n",
              "                      random_state=RandomState(MT19937) at 0x7F96E630FA98,\n",
              "                      splitter='best')],\n",
              "       [DecisionTreeRegressor(criterion='friedman_mse', max_depth=3, max_features=None,\n",
              "                      max_leaf_nodes=None, min_impurity_decrease=0.0,\n",
              "                      min_impurity_split=None, min_samples_leaf=1,\n",
              "                      min_samples_split=2, min_weight_fraction_leaf=0.0,\n",
              "                      presort='auto',\n",
              "                      random_state=RandomState(MT19937) at 0x7F96E630FA98,\n",
              "                      splitter='best')],\n",
              "       [DecisionTreeRegressor(criterion='friedman_mse', max_depth=3, max_features=None,\n",
              "                      max_leaf_nodes=None, min_impurity_decrease=0.0,\n",
              "                      min_impurity_split=None, min_samples_leaf=1,\n",
              "                      min_samples_split=2, min_weight_fraction_leaf=0.0,\n",
              "                      presort='auto',\n",
              "                      random_state=RandomState(MT19937) at 0x7F96E630FA98,\n",
              "                      splitter='best')],\n",
              "       [DecisionTreeRegressor(criterion='friedman_mse', max_depth=3, max_features=None,\n",
              "                      max_leaf_nodes=None, min_impurity_decrease=0.0,\n",
              "                      min_impurity_split=None, min_samples_leaf=1,\n",
              "                      min_samples_split=2, min_weight_fraction_leaf=0.0,\n",
              "                      presort='auto',\n",
              "                      random_state=RandomState(MT19937) at 0x7F96E630FA98,\n",
              "                      splitter='best')],\n",
              "       [DecisionTreeRegressor(criterion='friedman_mse', max_depth=3, max_features=None,\n",
              "                      max_leaf_nodes=None, min_impurity_decrease=0.0,\n",
              "                      min_impurity_split=None, min_samples_leaf=1,\n",
              "                      min_samples_split=2, min_weight_fraction_leaf=0.0,\n",
              "                      presort='auto',\n",
              "                      random_state=RandomState(MT19937) at 0x7F96E630FA98,\n",
              "                      splitter='best')],\n",
              "       [DecisionTreeRegressor(criterion='friedman_mse', max_depth=3, max_features=None,\n",
              "                      max_leaf_nodes=None, min_impurity_decrease=0.0,\n",
              "                      min_impurity_split=None, min_samples_leaf=1,\n",
              "                      min_samples_split=2, min_weight_fraction_leaf=0.0,\n",
              "                      presort='auto',\n",
              "                      random_state=RandomState(MT19937) at 0x7F96E630FA98,\n",
              "                      splitter='best')],\n",
              "       [DecisionTreeRegressor(criterion='friedman_mse', max_depth=3, max_features=None,\n",
              "                      max_leaf_nodes=None, min_impurity_decrease=0.0,\n",
              "                      min_impurity_split=None, min_samples_leaf=1,\n",
              "                      min_samples_split=2, min_weight_fraction_leaf=0.0,\n",
              "                      presort='auto',\n",
              "                      random_state=RandomState(MT19937) at 0x7F96E630FA98,\n",
              "                      splitter='best')],\n",
              "       [DecisionTreeRegressor(criterion='friedman_mse', max_depth=3, max_features=None,\n",
              "                      max_leaf_nodes=None, min_impurity_decrease=0.0,\n",
              "                      min_impurity_split=None, min_samples_leaf=1,\n",
              "                      min_samples_split=2, min_weight_fraction_leaf=0.0,\n",
              "                      presort='auto',\n",
              "                      random_state=RandomState(MT19937) at 0x7F96E630FA98,\n",
              "                      splitter='best')],\n",
              "       [DecisionTreeRegressor(criterion='friedman_mse', max_depth=3, max_features=None,\n",
              "                      max_leaf_nodes=None, min_impurity_decrease=0.0,\n",
              "                      min_impurity_split=None, min_samples_leaf=1,\n",
              "                      min_samples_split=2, min_weight_fraction_leaf=0.0,\n",
              "                      presort='auto',\n",
              "                      random_state=RandomState(MT19937) at 0x7F96E630FA98,\n",
              "                      splitter='best')],\n",
              "       [DecisionTreeRegressor(criterion='friedman_mse', max_depth=3, max_features=None,\n",
              "                      max_leaf_nodes=None, min_impurity_decrease=0.0,\n",
              "                      min_impurity_split=None, min_samples_leaf=1,\n",
              "                      min_samples_split=2, min_weight_fraction_leaf=0.0,\n",
              "                      presort='auto',\n",
              "                      random_state=RandomState(MT19937) at 0x7F96E630FA98,\n",
              "                      splitter='best')],\n",
              "       [DecisionTreeRegressor(criterion='friedman_mse', max_depth=3, max_features=None,\n",
              "                      max_leaf_nodes=None, min_impurity_decrease=0.0,\n",
              "                      min_impurity_split=None, min_samples_leaf=1,\n",
              "                      min_samples_split=2, min_weight_fraction_leaf=0.0,\n",
              "                      presort='auto',\n",
              "                      random_state=RandomState(MT19937) at 0x7F96E630FA98,\n",
              "                      splitter='best')],\n",
              "       [DecisionTreeRegressor(criterion='friedman_mse', max_depth=3, max_features=None,\n",
              "                      max_leaf_nodes=None, min_impurity_decrease=0.0,\n",
              "                      min_impurity_split=None, min_samples_leaf=1,\n",
              "                      min_samples_split=2, min_weight_fraction_leaf=0.0,\n",
              "                      presort='auto',\n",
              "                      random_state=RandomState(MT19937) at 0x7F96E630FA98,\n",
              "                      splitter='best')],\n",
              "       [DecisionTreeRegressor(criterion='friedman_mse', max_depth=3, max_features=None,\n",
              "                      max_leaf_nodes=None, min_impurity_decrease=0.0,\n",
              "                      min_impurity_split=None, min_samples_leaf=1,\n",
              "                      min_samples_split=2, min_weight_fraction_leaf=0.0,\n",
              "                      presort='auto',\n",
              "                      random_state=RandomState(MT19937) at 0x7F96E630FA98,\n",
              "                      splitter='best')],\n",
              "       [DecisionTreeRegressor(criterion='friedman_mse', max_depth=3, max_features=None,\n",
              "                      max_leaf_nodes=None, min_impurity_decrease=0.0,\n",
              "                      min_impurity_split=None, min_samples_leaf=1,\n",
              "                      min_samples_split=2, min_weight_fraction_leaf=0.0,\n",
              "                      presort='auto',\n",
              "                      random_state=RandomState(MT19937) at 0x7F96E630FA98,\n",
              "                      splitter='best')],\n",
              "       [DecisionTreeRegressor(criterion='friedman_mse', max_depth=3, max_features=None,\n",
              "                      max_leaf_nodes=None, min_impurity_decrease=0.0,\n",
              "                      min_impurity_split=None, min_samples_leaf=1,\n",
              "                      min_samples_split=2, min_weight_fraction_leaf=0.0,\n",
              "                      presort='auto',\n",
              "                      random_state=RandomState(MT19937) at 0x7F96E630FA98,\n",
              "                      splitter='best')],\n",
              "       [DecisionTreeRegressor(criterion='friedman_mse', max_depth=3, max_features=None,\n",
              "                      max_leaf_nodes=None, min_impurity_decrease=0.0,\n",
              "                      min_impurity_split=None, min_samples_leaf=1,\n",
              "                      min_samples_split=2, min_weight_fraction_leaf=0.0,\n",
              "                      presort='auto',\n",
              "                      random_state=RandomState(MT19937) at 0x7F96E630FA98,\n",
              "                      splitter='best')],\n",
              "       [DecisionTreeRegressor(criterion='friedman_mse', max_depth=3, max_features=None,\n",
              "                      max_leaf_nodes=None, min_impurity_decrease=0.0,\n",
              "                      min_impurity_split=None, min_samples_leaf=1,\n",
              "                      min_samples_split=2, min_weight_fraction_leaf=0.0,\n",
              "                      presort='auto',\n",
              "                      random_state=RandomState(MT19937) at 0x7F96E630FA98,\n",
              "                      splitter='best')],\n",
              "       [DecisionTreeRegressor(criterion='friedman_mse', max_depth=3, max_features=None,\n",
              "                      max_leaf_nodes=None, min_impurity_decrease=0.0,\n",
              "                      min_impurity_split=None, min_samples_leaf=1,\n",
              "                      min_samples_split=2, min_weight_fraction_leaf=0.0,\n",
              "                      presort='auto',\n",
              "                      random_state=RandomState(MT19937) at 0x7F96E630FA98,\n",
              "                      splitter='best')],\n",
              "       [DecisionTreeRegressor(criterion='friedman_mse', max_depth=3, max_features=None,\n",
              "                      max_leaf_nodes=None, min_impurity_decrease=0.0,\n",
              "                      min_impurity_split=None, min_samples_leaf=1,\n",
              "                      min_samples_split=2, min_weight_fraction_leaf=0.0,\n",
              "                      presort='auto',\n",
              "                      random_state=RandomState(MT19937) at 0x7F96E630FA98,\n",
              "                      splitter='best')],\n",
              "       [DecisionTreeRegressor(criterion='friedman_mse', max_depth=3, max_features=None,\n",
              "                      max_leaf_nodes=None, min_impurity_decrease=0.0,\n",
              "                      min_impurity_split=None, min_samples_leaf=1,\n",
              "                      min_samples_split=2, min_weight_fraction_leaf=0.0,\n",
              "                      presort='auto',\n",
              "                      random_state=RandomState(MT19937) at 0x7F96E630FA98,\n",
              "                      splitter='best')],\n",
              "       [DecisionTreeRegressor(criterion='friedman_mse', max_depth=3, max_features=None,\n",
              "                      max_leaf_nodes=None, min_impurity_decrease=0.0,\n",
              "                      min_impurity_split=None, min_samples_leaf=1,\n",
              "                      min_samples_split=2, min_weight_fraction_leaf=0.0,\n",
              "                      presort='auto',\n",
              "                      random_state=RandomState(MT19937) at 0x7F96E630FA98,\n",
              "                      splitter='best')],\n",
              "       [DecisionTreeRegressor(criterion='friedman_mse', max_depth=3, max_features=None,\n",
              "                      max_leaf_nodes=None, min_impurity_decrease=0.0,\n",
              "                      min_impurity_split=None, min_samples_leaf=1,\n",
              "                      min_samples_split=2, min_weight_fraction_leaf=0.0,\n",
              "                      presort='auto',\n",
              "                      random_state=RandomState(MT19937) at 0x7F96E630FA98,\n",
              "                      splitter='best')],\n",
              "       [DecisionTreeRegressor(criterion='friedman_mse', max_depth=3, max_features=None,\n",
              "                      max_leaf_nodes=None, min_impurity_decrease=0.0,\n",
              "                      min_impurity_split=None, min_samples_leaf=1,\n",
              "                      min_samples_split=2, min_weight_fraction_leaf=0.0,\n",
              "                      presort='auto',\n",
              "                      random_state=RandomState(MT19937) at 0x7F96E630FA98,\n",
              "                      splitter='best')],\n",
              "       [DecisionTreeRegressor(criterion='friedman_mse', max_depth=3, max_features=None,\n",
              "                      max_leaf_nodes=None, min_impurity_decrease=0.0,\n",
              "                      min_impurity_split=None, min_samples_leaf=1,\n",
              "                      min_samples_split=2, min_weight_fraction_leaf=0.0,\n",
              "                      presort='auto',\n",
              "                      random_state=RandomState(MT19937) at 0x7F96E630FA98,\n",
              "                      splitter='best')],\n",
              "       [DecisionTreeRegressor(criterion='friedman_mse', max_depth=3, max_features=None,\n",
              "                      max_leaf_nodes=None, min_impurity_decrease=0.0,\n",
              "                      min_impurity_split=None, min_samples_leaf=1,\n",
              "                      min_samples_split=2, min_weight_fraction_leaf=0.0,\n",
              "                      presort='auto',\n",
              "                      random_state=RandomState(MT19937) at 0x7F96E630FA98,\n",
              "                      splitter='best')],\n",
              "       [DecisionTreeRegressor(criterion='friedman_mse', max_depth=3, max_features=None,\n",
              "                      max_leaf_nodes=None, min_impurity_decrease=0.0,\n",
              "                      min_impurity_split=None, min_samples_leaf=1,\n",
              "                      min_samples_split=2, min_weight_fraction_leaf=0.0,\n",
              "                      presort='auto',\n",
              "                      random_state=RandomState(MT19937) at 0x7F96E630FA98,\n",
              "                      splitter='best')],\n",
              "       [DecisionTreeRegressor(criterion='friedman_mse', max_depth=3, max_features=None,\n",
              "                      max_leaf_nodes=None, min_impurity_decrease=0.0,\n",
              "                      min_impurity_split=None, min_samples_leaf=1,\n",
              "                      min_samples_split=2, min_weight_fraction_leaf=0.0,\n",
              "                      presort='auto',\n",
              "                      random_state=RandomState(MT19937) at 0x7F96E630FA98,\n",
              "                      splitter='best')],\n",
              "       [DecisionTreeRegressor(criterion='friedman_mse', max_depth=3, max_features=None,\n",
              "                      max_leaf_nodes=None, min_impurity_decrease=0.0,\n",
              "                      min_impurity_split=None, min_samples_leaf=1,\n",
              "                      min_samples_split=2, min_weight_fraction_leaf=0.0,\n",
              "                      presort='auto',\n",
              "                      random_state=RandomState(MT19937) at 0x7F96E630FA98,\n",
              "                      splitter='best')],\n",
              "       [DecisionTreeRegressor(criterion='friedman_mse', max_depth=3, max_features=None,\n",
              "                      max_leaf_nodes=None, min_impurity_decrease=0.0,\n",
              "                      min_impurity_split=None, min_samples_leaf=1,\n",
              "                      min_samples_split=2, min_weight_fraction_leaf=0.0,\n",
              "                      presort='auto',\n",
              "                      random_state=RandomState(MT19937) at 0x7F96E630FA98,\n",
              "                      splitter='best')],\n",
              "       [DecisionTreeRegressor(criterion='friedman_mse', max_depth=3, max_features=None,\n",
              "                      max_leaf_nodes=None, min_impurity_decrease=0.0,\n",
              "                      min_impurity_split=None, min_samples_leaf=1,\n",
              "                      min_samples_split=2, min_weight_fraction_leaf=0.0,\n",
              "                      presort='auto',\n",
              "                      random_state=RandomState(MT19937) at 0x7F96E630FA98,\n",
              "                      splitter='best')],\n",
              "       [DecisionTreeRegressor(criterion='friedman_mse', max_depth=3, max_features=None,\n",
              "                      max_leaf_nodes=None, min_impurity_decrease=0.0,\n",
              "                      min_impurity_split=None, min_samples_leaf=1,\n",
              "                      min_samples_split=2, min_weight_fraction_leaf=0.0,\n",
              "                      presort='auto',\n",
              "                      random_state=RandomState(MT19937) at 0x7F96E630FA98,\n",
              "                      splitter='best')],\n",
              "       [DecisionTreeRegressor(criterion='friedman_mse', max_depth=3, max_features=None,\n",
              "                      max_leaf_nodes=None, min_impurity_decrease=0.0,\n",
              "                      min_impurity_split=None, min_samples_leaf=1,\n",
              "                      min_samples_split=2, min_weight_fraction_leaf=0.0,\n",
              "                      presort='auto',\n",
              "                      random_state=RandomState(MT19937) at 0x7F96E630FA98,\n",
              "                      splitter='best')],\n",
              "       [DecisionTreeRegressor(criterion='friedman_mse', max_depth=3, max_features=None,\n",
              "                      max_leaf_nodes=None, min_impurity_decrease=0.0,\n",
              "                      min_impurity_split=None, min_samples_leaf=1,\n",
              "                      min_samples_split=2, min_weight_fraction_leaf=0.0,\n",
              "                      presort='auto',\n",
              "                      random_state=RandomState(MT19937) at 0x7F96E630FA98,\n",
              "                      splitter='best')],\n",
              "       [DecisionTreeRegressor(criterion='friedman_mse', max_depth=3, max_features=None,\n",
              "                      max_leaf_nodes=None, min_impurity_decrease=0.0,\n",
              "                      min_impurity_split=None, min_samples_leaf=1,\n",
              "                      min_samples_split=2, min_weight_fraction_leaf=0.0,\n",
              "                      presort='auto',\n",
              "                      random_state=RandomState(MT19937) at 0x7F96E630FA98,\n",
              "                      splitter='best')],\n",
              "       [DecisionTreeRegressor(criterion='friedman_mse', max_depth=3, max_features=None,\n",
              "                      max_leaf_nodes=None, min_impurity_decrease=0.0,\n",
              "                      min_impurity_split=None, min_samples_leaf=1,\n",
              "                      min_samples_split=2, min_weight_fraction_leaf=0.0,\n",
              "                      presort='auto',\n",
              "                      random_state=RandomState(MT19937) at 0x7F96E630FA98,\n",
              "                      splitter='best')],\n",
              "       [DecisionTreeRegressor(criterion='friedman_mse', max_depth=3, max_features=None,\n",
              "                      max_leaf_nodes=None, min_impurity_decrease=0.0,\n",
              "                      min_impurity_split=None, min_samples_leaf=1,\n",
              "                      min_samples_split=2, min_weight_fraction_leaf=0.0,\n",
              "                      presort='auto',\n",
              "                      random_state=RandomState(MT19937) at 0x7F96E630FA98,\n",
              "                      splitter='best')],\n",
              "       [DecisionTreeRegressor(criterion='friedman_mse', max_depth=3, max_features=None,\n",
              "                      max_leaf_nodes=None, min_impurity_decrease=0.0,\n",
              "                      min_impurity_split=None, min_samples_leaf=1,\n",
              "                      min_samples_split=2, min_weight_fraction_leaf=0.0,\n",
              "                      presort='auto',\n",
              "                      random_state=RandomState(MT19937) at 0x7F96E630FA98,\n",
              "                      splitter='best')],\n",
              "       [DecisionTreeRegressor(criterion='friedman_mse', max_depth=3, max_features=None,\n",
              "                      max_leaf_nodes=None, min_impurity_decrease=0.0,\n",
              "                      min_impurity_split=None, min_samples_leaf=1,\n",
              "                      min_samples_split=2, min_weight_fraction_leaf=0.0,\n",
              "                      presort='auto',\n",
              "                      random_state=RandomState(MT19937) at 0x7F96E630FA98,\n",
              "                      splitter='best')],\n",
              "       [DecisionTreeRegressor(criterion='friedman_mse', max_depth=3, max_features=None,\n",
              "                      max_leaf_nodes=None, min_impurity_decrease=0.0,\n",
              "                      min_impurity_split=None, min_samples_leaf=1,\n",
              "                      min_samples_split=2, min_weight_fraction_leaf=0.0,\n",
              "                      presort='auto',\n",
              "                      random_state=RandomState(MT19937) at 0x7F96E630FA98,\n",
              "                      splitter='best')],\n",
              "       [DecisionTreeRegressor(criterion='friedman_mse', max_depth=3, max_features=None,\n",
              "                      max_leaf_nodes=None, min_impurity_decrease=0.0,\n",
              "                      min_impurity_split=None, min_samples_leaf=1,\n",
              "                      min_samples_split=2, min_weight_fraction_leaf=0.0,\n",
              "                      presort='auto',\n",
              "                      random_state=RandomState(MT19937) at 0x7F96E630FA98,\n",
              "                      splitter='best')],\n",
              "       [DecisionTreeRegressor(criterion='friedman_mse', max_depth=3, max_features=None,\n",
              "                      max_leaf_nodes=None, min_impurity_decrease=0.0,\n",
              "                      min_impurity_split=None, min_samples_leaf=1,\n",
              "                      min_samples_split=2, min_weight_fraction_leaf=0.0,\n",
              "                      presort='auto',\n",
              "                      random_state=RandomState(MT19937) at 0x7F96E630FA98,\n",
              "                      splitter='best')],\n",
              "       [DecisionTreeRegressor(criterion='friedman_mse', max_depth=3, max_features=None,\n",
              "                      max_leaf_nodes=None, min_impurity_decrease=0.0,\n",
              "                      min_impurity_split=None, min_samples_leaf=1,\n",
              "                      min_samples_split=2, min_weight_fraction_leaf=0.0,\n",
              "                      presort='auto',\n",
              "                      random_state=RandomState(MT19937) at 0x7F96E630FA98,\n",
              "                      splitter='best')],\n",
              "       [DecisionTreeRegressor(criterion='friedman_mse', max_depth=3, max_features=None,\n",
              "                      max_leaf_nodes=None, min_impurity_decrease=0.0,\n",
              "                      min_impurity_split=None, min_samples_leaf=1,\n",
              "                      min_samples_split=2, min_weight_fraction_leaf=0.0,\n",
              "                      presort='auto',\n",
              "                      random_state=RandomState(MT19937) at 0x7F96E630FA98,\n",
              "                      splitter='best')]], dtype=object)"
            ]
          },
          "metadata": {
            "tags": []
          },
          "execution_count": 100
        }
      ]
    },
    {
      "cell_type": "markdown",
      "metadata": {
        "colab_type": "text",
        "id": "XR6NDWxJ3_et"
      },
      "source": [
        "Your answer here\n",
        "\n",
        "gb.estimators_ outputs the final list of all the estimators of each boosting stage after training."
      ]
    },
    {
      "cell_type": "markdown",
      "metadata": {
        "id": "ti_dNmw8YcXi",
        "colab_type": "text"
      },
      "source": [
        "We now try to use the 'gb' classifier to generate features that will be relevant inputs for the logistic regression.\n",
        "\n",
        "<font color=\"red\">**Question**:\n",
        "    With the 'gb.apply()' method, generate a transformation 'leafs_train' of the training set 'Xtrain_oh[:, cols_to_keep]' for which the n-th column corresponds to the number of the leaf returned by the estimator n.\n",
        "</font>"
      ]
    },
    {
      "cell_type": "code",
      "metadata": {
        "id": "cmJhb7tcYcXi",
        "colab_type": "code",
        "colab": {}
      },
      "source": [
        "# Test here the gb.apply method on Xtrain[:, cols_to_keep]\n",
        "leafs_train = gb.apply(Xtrain_oh[:, cols_to_keep])\n",
        "leafs_test = gb.apply(Xtest_oh[:, cols_to_keep])"
      ],
      "execution_count": 0,
      "outputs": []
    },
    {
      "cell_type": "markdown",
      "metadata": {
        "id": "f88rLF6fYcXk",
        "colab_type": "text"
      },
      "source": [
        "After your applied gb.apply on Xtrain_oh[:, cols_to_keep], remember that we have only one class to predict (click = 0 or 1). So, do not forget to slice your output with [:, :, 0] in order to keep, firstly, all the samples, and secondly all your 50 estimators.\n",
        "\n",
        "Hint: you can have a look at the dimensions of your output with .shape !"
      ]
    },
    {
      "cell_type": "code",
      "metadata": {
        "id": "jiZ-Q28JYcXk",
        "colab_type": "code",
        "colab": {}
      },
      "source": [
        "leafs_train = pd.DataFrame(leafs_train[:, :, 0]) # Fill here\n",
        "leafs_test = pd.DataFrame(leafs_test[:, :, 0])"
      ],
      "execution_count": 0,
      "outputs": []
    },
    {
      "cell_type": "markdown",
      "metadata": {
        "id": "qzp8_EGTYcXm",
        "colab_type": "text"
      },
      "source": [
        "<font color=\"red\">**Question**:\n",
        "    Encode these new features into dummies.\n",
        "</font>"
      ]
    },
    {
      "cell_type": "code",
      "metadata": {
        "id": "9NJku301YcXn",
        "colab_type": "code",
        "outputId": "226b0134-864c-4de8-8c8f-2d14a0802c78",
        "colab": {
          "base_uri": "https://localhost:8080/",
          "height": 105
        }
      },
      "source": [
        "ohe = OneHotEncoder() # Fill here an argument if needed\n",
        "leafs_train_oh = ohe.fit_transform(leafs_train) # Fill here\n",
        "leafs_test_oh = ohe.transform(leafs_test)"
      ],
      "execution_count": 0,
      "outputs": [
        {
          "output_type": "stream",
          "text": [
            "/usr/local/lib/python3.6/dist-packages/sklearn/preprocessing/_encoders.py:415: FutureWarning: The handling of integer data will change in version 0.22. Currently, the categories are determined based on the range [0, max(values)], while in the future they will be determined based on the unique values.\n",
            "If you want the future behaviour and silence this warning, you can specify \"categories='auto'\".\n",
            "In case you used a LabelEncoder before this OneHotEncoder to convert the categories to integers, then you can now use the OneHotEncoder directly.\n",
            "  warnings.warn(msg, FutureWarning)\n"
          ],
          "name": "stderr"
        }
      ]
    },
    {
      "cell_type": "markdown",
      "metadata": {
        "id": "2HLSbinZYcXp",
        "colab_type": "text"
      },
      "source": [
        "<font color=\"red\">**Question**:\n",
        "    With the \"hstack\" function, create a new matrix of features by concatenating horizontally our new features \"leafs_train_oh\" and \"leafs_test_oh\", and previous features used for logistic regression (e.g. in \"Xtrain_oh[:, cols_to_keep]\").\n",
        "</font>\n",
        "<br><br>\n",
        "**Remark**: we use \"hstack\" from scipy.sparse (and not from numpy) because the output of our OneHotEncoder is a sparse array. You can verify it with the command \"type(Xtrain_oh)\"."
      ]
    },
    {
      "cell_type": "code",
      "metadata": {
        "id": "wjhhFyZvYcXp",
        "colab_type": "code",
        "colab": {}
      },
      "source": [
        "from scipy.sparse import csr_matrix, hstack\n",
        "\n",
        "Xtrain_concat = hstack([Xtrain_oh[:, cols_to_keep], leafs_train_oh]) # Fill here\n",
        "Xtest_concat = hstack([Xtest_oh[:, cols_to_keep], leafs_test_oh])"
      ],
      "execution_count": 0,
      "outputs": []
    },
    {
      "cell_type": "markdown",
      "metadata": {
        "id": "xU9nmnoAYcXr",
        "colab_type": "text"
      },
      "source": [
        "<font color=\"red\">**Question**:\n",
        "    Run a logistic regression on the new features and evaluate its performance as before. \n",
        "    <br>\n",
        "    Warning: be patient, fitting should take about 5 minutes on Google Colab.\n",
        "</font>"
      ]
    },
    {
      "cell_type": "code",
      "metadata": {
        "id": "GENT6fHnYcXs",
        "colab_type": "code",
        "outputId": "99dfe5b8-767b-4573-cb16-da85d9dcb717",
        "colab": {
          "base_uri": "https://localhost:8080/",
          "height": 85
        }
      },
      "source": [
        "lr = LogisticRegression(random_state=100)\n",
        "lr.fit(Xtrain_concat, ytrain)\n",
        "hard = lr.predict(Xtest_concat)\n",
        "soft = lr.predict_proba(Xtest_concat)[:, 1]\n",
        "\n",
        "print(accuracy_score(ytest, hard)) # Fill here\n",
        "print(log_loss(ytest, soft), roc_auc_score(ytest, soft))"
      ],
      "execution_count": 0,
      "outputs": [
        {
          "output_type": "stream",
          "text": [
            "/usr/local/lib/python3.6/dist-packages/sklearn/linear_model/logistic.py:432: FutureWarning: Default solver will be changed to 'lbfgs' in 0.22. Specify a solver to silence this warning.\n",
            "  FutureWarning)\n"
          ],
          "name": "stderr"
        },
        {
          "output_type": "stream",
          "text": [
            "0.83404\n",
            "0.39994382201821915 0.7417501720272122\n"
          ],
          "name": "stdout"
        }
      ]
    },
    {
      "cell_type": "markdown",
      "metadata": {
        "id": "0ZtUqINfYcX2",
        "colab_type": "text"
      },
      "source": [
        "<font color=\"red\">**Question**:\n",
        "    <br>\n",
        "    - Import XGBClassifier from xgboost package.\n",
        "    <br>\n",
        "    - Initialize it using the same number of estimators and learning rate as before. Set the 'n_jobs' to -1.\n",
        "    <br>\n",
        "    - Fit it on the same columns 'cols_to_keep' of Xtrain_oh than for the previous logistic regression.\n",
        "    <br>\n",
        "    - Evaluate its performance and compare it to the GradientBoosting classifier of scikit learn. How is the error? Does it take more time to run?\n",
        "</font>"
      ]
    },
    {
      "cell_type": "code",
      "metadata": {
        "id": "n2SeSnz_YcX3",
        "colab_type": "code",
        "outputId": "ab6917a2-4191-4cb4-9ad2-48f72cff4e42",
        "colab": {
          "base_uri": "https://localhost:8080/",
          "height": 935
        }
      },
      "source": [
        "from xgboost import XGBClassifier\n",
        "\n",
        "xgb = XGBClassifier(n_estimators=50, learning_rate=0.8, n_jobs=-1, verbosity=2)\n",
        "%time xgb.fit(Xtrain_oh[:, cols_to_keep], ytrain)\n",
        "\n",
        "hard = xgb.predict(Xtest_oh[:, cols_to_keep])\n",
        "soft = xgb.predict_proba(Xtest_oh[:, cols_to_keep])[:, 1]\n",
        "\n",
        "print(accuracy_score(ytest, hard)) # Fill here\n",
        "print(log_loss(ytest, soft), roc_auc_score(ytest, soft))"
      ],
      "execution_count": 0,
      "outputs": [
        {
          "output_type": "stream",
          "text": [
            "[15:41:57] INFO: /workspace/src/tree/updater_prune.cc:74: tree pruning end, 1 roots, 14 extra nodes, 0 pruned nodes, max_depth=3\n",
            "[15:41:57] INFO: /workspace/src/tree/updater_prune.cc:74: tree pruning end, 1 roots, 14 extra nodes, 0 pruned nodes, max_depth=3\n",
            "[15:41:57] INFO: /workspace/src/tree/updater_prune.cc:74: tree pruning end, 1 roots, 14 extra nodes, 0 pruned nodes, max_depth=3\n",
            "[15:41:57] INFO: /workspace/src/tree/updater_prune.cc:74: tree pruning end, 1 roots, 14 extra nodes, 0 pruned nodes, max_depth=3\n",
            "[15:41:58] INFO: /workspace/src/tree/updater_prune.cc:74: tree pruning end, 1 roots, 14 extra nodes, 0 pruned nodes, max_depth=3\n",
            "[15:41:58] INFO: /workspace/src/tree/updater_prune.cc:74: tree pruning end, 1 roots, 14 extra nodes, 0 pruned nodes, max_depth=3\n",
            "[15:41:58] INFO: /workspace/src/tree/updater_prune.cc:74: tree pruning end, 1 roots, 14 extra nodes, 0 pruned nodes, max_depth=3\n",
            "[15:41:58] INFO: /workspace/src/tree/updater_prune.cc:74: tree pruning end, 1 roots, 12 extra nodes, 0 pruned nodes, max_depth=3\n",
            "[15:41:59] INFO: /workspace/src/tree/updater_prune.cc:74: tree pruning end, 1 roots, 10 extra nodes, 0 pruned nodes, max_depth=3\n",
            "[15:41:59] INFO: /workspace/src/tree/updater_prune.cc:74: tree pruning end, 1 roots, 14 extra nodes, 0 pruned nodes, max_depth=3\n",
            "[15:41:59] INFO: /workspace/src/tree/updater_prune.cc:74: tree pruning end, 1 roots, 14 extra nodes, 0 pruned nodes, max_depth=3\n",
            "[15:41:59] INFO: /workspace/src/tree/updater_prune.cc:74: tree pruning end, 1 roots, 10 extra nodes, 0 pruned nodes, max_depth=3\n",
            "[15:41:59] INFO: /workspace/src/tree/updater_prune.cc:74: tree pruning end, 1 roots, 14 extra nodes, 0 pruned nodes, max_depth=3\n",
            "[15:42:00] INFO: /workspace/src/tree/updater_prune.cc:74: tree pruning end, 1 roots, 14 extra nodes, 0 pruned nodes, max_depth=3\n",
            "[15:42:00] INFO: /workspace/src/tree/updater_prune.cc:74: tree pruning end, 1 roots, 14 extra nodes, 0 pruned nodes, max_depth=3\n",
            "[15:42:00] INFO: /workspace/src/tree/updater_prune.cc:74: tree pruning end, 1 roots, 14 extra nodes, 0 pruned nodes, max_depth=3\n",
            "[15:42:00] INFO: /workspace/src/tree/updater_prune.cc:74: tree pruning end, 1 roots, 14 extra nodes, 0 pruned nodes, max_depth=3\n",
            "[15:42:01] INFO: /workspace/src/tree/updater_prune.cc:74: tree pruning end, 1 roots, 12 extra nodes, 0 pruned nodes, max_depth=3\n",
            "[15:42:01] INFO: /workspace/src/tree/updater_prune.cc:74: tree pruning end, 1 roots, 12 extra nodes, 0 pruned nodes, max_depth=3\n",
            "[15:42:01] INFO: /workspace/src/tree/updater_prune.cc:74: tree pruning end, 1 roots, 12 extra nodes, 0 pruned nodes, max_depth=3\n",
            "[15:42:01] INFO: /workspace/src/tree/updater_prune.cc:74: tree pruning end, 1 roots, 14 extra nodes, 0 pruned nodes, max_depth=3\n",
            "[15:42:02] INFO: /workspace/src/tree/updater_prune.cc:74: tree pruning end, 1 roots, 14 extra nodes, 0 pruned nodes, max_depth=3\n",
            "[15:42:02] INFO: /workspace/src/tree/updater_prune.cc:74: tree pruning end, 1 roots, 14 extra nodes, 0 pruned nodes, max_depth=3\n",
            "[15:42:02] INFO: /workspace/src/tree/updater_prune.cc:74: tree pruning end, 1 roots, 14 extra nodes, 0 pruned nodes, max_depth=3\n",
            "[15:42:02] INFO: /workspace/src/tree/updater_prune.cc:74: tree pruning end, 1 roots, 14 extra nodes, 0 pruned nodes, max_depth=3\n",
            "[15:42:03] INFO: /workspace/src/tree/updater_prune.cc:74: tree pruning end, 1 roots, 14 extra nodes, 0 pruned nodes, max_depth=3\n",
            "[15:42:03] INFO: /workspace/src/tree/updater_prune.cc:74: tree pruning end, 1 roots, 14 extra nodes, 0 pruned nodes, max_depth=3\n",
            "[15:42:03] INFO: /workspace/src/tree/updater_prune.cc:74: tree pruning end, 1 roots, 14 extra nodes, 0 pruned nodes, max_depth=3\n",
            "[15:42:03] INFO: /workspace/src/tree/updater_prune.cc:74: tree pruning end, 1 roots, 10 extra nodes, 0 pruned nodes, max_depth=3\n",
            "[15:42:04] INFO: /workspace/src/tree/updater_prune.cc:74: tree pruning end, 1 roots, 14 extra nodes, 0 pruned nodes, max_depth=3\n",
            "[15:42:04] INFO: /workspace/src/tree/updater_prune.cc:74: tree pruning end, 1 roots, 14 extra nodes, 0 pruned nodes, max_depth=3\n",
            "[15:42:04] INFO: /workspace/src/tree/updater_prune.cc:74: tree pruning end, 1 roots, 14 extra nodes, 0 pruned nodes, max_depth=3\n",
            "[15:42:04] INFO: /workspace/src/tree/updater_prune.cc:74: tree pruning end, 1 roots, 14 extra nodes, 0 pruned nodes, max_depth=3\n",
            "[15:42:04] INFO: /workspace/src/tree/updater_prune.cc:74: tree pruning end, 1 roots, 12 extra nodes, 0 pruned nodes, max_depth=3\n",
            "[15:42:05] INFO: /workspace/src/tree/updater_prune.cc:74: tree pruning end, 1 roots, 12 extra nodes, 0 pruned nodes, max_depth=3\n",
            "[15:42:05] INFO: /workspace/src/tree/updater_prune.cc:74: tree pruning end, 1 roots, 14 extra nodes, 0 pruned nodes, max_depth=3\n",
            "[15:42:05] INFO: /workspace/src/tree/updater_prune.cc:74: tree pruning end, 1 roots, 14 extra nodes, 0 pruned nodes, max_depth=3\n",
            "[15:42:05] INFO: /workspace/src/tree/updater_prune.cc:74: tree pruning end, 1 roots, 14 extra nodes, 0 pruned nodes, max_depth=3\n",
            "[15:42:06] INFO: /workspace/src/tree/updater_prune.cc:74: tree pruning end, 1 roots, 12 extra nodes, 0 pruned nodes, max_depth=3\n",
            "[15:42:06] INFO: /workspace/src/tree/updater_prune.cc:74: tree pruning end, 1 roots, 14 extra nodes, 0 pruned nodes, max_depth=3\n",
            "[15:42:06] INFO: /workspace/src/tree/updater_prune.cc:74: tree pruning end, 1 roots, 14 extra nodes, 0 pruned nodes, max_depth=3\n",
            "[15:42:06] INFO: /workspace/src/tree/updater_prune.cc:74: tree pruning end, 1 roots, 14 extra nodes, 0 pruned nodes, max_depth=3\n",
            "[15:42:07] INFO: /workspace/src/tree/updater_prune.cc:74: tree pruning end, 1 roots, 14 extra nodes, 0 pruned nodes, max_depth=3\n",
            "[15:42:07] INFO: /workspace/src/tree/updater_prune.cc:74: tree pruning end, 1 roots, 14 extra nodes, 0 pruned nodes, max_depth=3\n",
            "[15:42:07] INFO: /workspace/src/tree/updater_prune.cc:74: tree pruning end, 1 roots, 14 extra nodes, 0 pruned nodes, max_depth=3\n",
            "[15:42:07] INFO: /workspace/src/tree/updater_prune.cc:74: tree pruning end, 1 roots, 14 extra nodes, 0 pruned nodes, max_depth=3\n",
            "[15:42:08] INFO: /workspace/src/tree/updater_prune.cc:74: tree pruning end, 1 roots, 12 extra nodes, 0 pruned nodes, max_depth=3\n",
            "[15:42:08] INFO: /workspace/src/tree/updater_prune.cc:74: tree pruning end, 1 roots, 14 extra nodes, 0 pruned nodes, max_depth=3\n",
            "[15:42:08] INFO: /workspace/src/tree/updater_prune.cc:74: tree pruning end, 1 roots, 12 extra nodes, 0 pruned nodes, max_depth=3\n",
            "[15:42:08] INFO: /workspace/src/tree/updater_prune.cc:74: tree pruning end, 1 roots, 14 extra nodes, 0 pruned nodes, max_depth=3\n",
            "CPU times: user 53.3 s, sys: 444 ms, total: 53.8 s\n",
            "Wall time: 18 s\n",
            "0.83298\n",
            "0.40789665716135876 0.7244454605414952\n"
          ],
          "name": "stdout"
        }
      ]
    },
    {
      "cell_type": "markdown",
      "metadata": {
        "id": "55dxXIaDYcX6",
        "colab_type": "text"
      },
      "source": [
        "<font color=\"red\">**Question**:\n",
        "    Increase the number of estimators and visualize the impact on performance. You might have to adapt the learning rate. On Google Colab, here are the approximate training times<br> \n",
        "    - nb_estimators=256  and lr=0.8 ~  4 min<br>\n",
        "    - nb_estimators=512  and lr=0.6 ~  8 min<br>\n",
        "    - nb_estimators=1024 and lr=0.5 ~ 16 min\n",
        "</font>"
      ]
    },
    {
      "cell_type": "code",
      "metadata": {
        "id": "Ggzx0320YcX7",
        "colab_type": "code",
        "outputId": "f400dae7-a35d-4875-9a8d-c509106e6d82",
        "colab": {
          "base_uri": "https://localhost:8080/",
          "height": 85
        }
      },
      "source": [
        "xgb = XGBClassifier(n_estimators=256, learning_rate=0.8, n_jobs=-1)\n",
        "%time xgb.fit(Xtrain_oh[:, cols_to_keep], ytrain)\n",
        "\n",
        "hard = xgb.predict(Xtest_oh[:, cols_to_keep])\n",
        "soft = xgb.predict_proba(Xtest_oh[:, cols_to_keep])[:, 1]\n",
        "\n",
        "print(accuracy_score(ytest, hard)) # Fill here\n",
        "print(log_loss(ytest, soft), roc_auc_score(ytest, soft))"
      ],
      "execution_count": 0,
      "outputs": [
        {
          "output_type": "stream",
          "text": [
            "CPU times: user 4min 8s, sys: 265 ms, total: 4min 8s\n",
            "Wall time: 1min 6s\n",
            "0.83391\n",
            "0.40059393350575 0.739887335347806\n"
          ],
          "name": "stdout"
        }
      ]
    },
    {
      "cell_type": "markdown",
      "metadata": {
        "id": "CdGiGxdHYcX-",
        "colab_type": "text"
      },
      "source": [
        "# Features hashing and random forest"
      ]
    },
    {
      "cell_type": "markdown",
      "metadata": {
        "id": "Xl78yaijYcX_",
        "colab_type": "text"
      },
      "source": [
        "We restart with raw features before dummy encoding: Xtrain, Xtest.\n",
        "\n",
        "<font color=\"red\">**Question**:\n",
        "    Display again the number of modalities per feature in Xtrain. Use '.nunique()'\n",
        "</font>"
      ]
    },
    {
      "cell_type": "code",
      "metadata": {
        "id": "Pq6zsDXsYcYA",
        "colab_type": "code",
        "outputId": "5b63eee7-ebe2-4163-b15d-8afad6b44f46",
        "colab": {
          "base_uri": "https://localhost:8080/",
          "height": 374
        }
      },
      "source": [
        "# Fill here\n",
        "Xtrain.nunique()"
      ],
      "execution_count": 0,
      "outputs": [
        {
          "output_type": "execute_result",
          "data": {
            "text/plain": [
              "hour                    24\n",
              "C1                       7\n",
              "banner_pos               7\n",
              "site_category           22\n",
              "app_id                3054\n",
              "app_domain             196\n",
              "app_category            26\n",
              "device_type              5\n",
              "device_conn_type         4\n",
              "C14                   2225\n",
              "C15                      8\n",
              "C16                      9\n",
              "C17                    420\n",
              "C18                      4\n",
              "C19                     66\n",
              "C20                    163\n",
              "C21                     60\n",
              "weekday                  7\n",
              "user                701585\n",
              "site                  5442\n",
              "dtype: int64"
            ]
          },
          "metadata": {
            "tags": []
          },
          "execution_count": 109
        }
      ]
    },
    {
      "cell_type": "markdown",
      "metadata": {
        "id": "qIcJGDaxYcYC",
        "colab_type": "text"
      },
      "source": [
        "We want to define a transformation which regroups the least frequent modalities into a label 'isRare'. In order to do so, we decide to define our own Transformer.\n",
        "\n",
        "<font color=\"red\">**Question**:\n",
        "    Understand the different steps of 'fit' and 'transform'.\n",
        "</font>"
      ]
    },
    {
      "cell_type": "code",
      "metadata": {
        "id": "a7rJE9cSYcYC",
        "colab_type": "code",
        "colab": {}
      },
      "source": [
        "from sklearn.base import BaseEstimator, TransformerMixin\n",
        "\n",
        "class MergeRareTransformer(BaseEstimator, TransformerMixin):\n",
        "    \n",
        "    def __init__(self, col_names, threshold):\n",
        "        self.col_names = col_names\n",
        "        self.threshold = threshold\n",
        "\n",
        "    def fit(self, X, y=None):\n",
        "\n",
        "        X = pd.DataFrame(X)\n",
        "        counts_dict_list = []\n",
        "        ################## READ THIS #########################\n",
        "        for i in range(len(self.col_names)):\n",
        "            \n",
        "            serie = X[self.col_names[i]].value_counts()  # Série des counts de chaque modalité\n",
        "            rare_indexes = serie[serie<self.threshold[i]].index  # A quoi correspondent ces indices ?\n",
        "            frequent_indexes = serie[serie>=self.threshold[i]].index  # A quoi correspondent ces indices ?\n",
        "            dico = {x:'isRare' for x in rare_indexes}\n",
        "            dico.update({x: str(x) for x in frequent_indexes})\n",
        "            counts_dict_list.append(dico)   # Quel est le dictionnaire obtenu ?\n",
        "            \n",
        "        ######################################################\n",
        "            \n",
        "        self.counts_dict_list_ = counts_dict_list\n",
        "        return self\n",
        "\n",
        "    def transform(self, X):\n",
        "\n",
        "        Xt = pd.DataFrame()\n",
        "        ################## READ THIS #########################\n",
        "        for col, count_dict in zip(self.col_names, self.counts_dict_list_):\n",
        "            Xt[col] = X[col].apply(lambda x:count_dict[x] if x in count_dict else 'isRare')\n",
        "            # A quoi sert le \"else 'isRare'\" dans la transformation de la colonne ?\n",
        "        ######################################################\n",
        "\n",
        "        return Xt\n"
      ],
      "execution_count": 0,
      "outputs": []
    },
    {
      "cell_type": "markdown",
      "metadata": {
        "id": "IJqAjGMkYcYE",
        "colab_type": "text"
      },
      "source": [
        "<font color=\"red\">**Question:**\n",
        "    <br>\n",
        "    - Fit and transform the training set. To do so, merge all mmodalities occuring at least 20 times in each column.\n",
        "    <br>\n",
        "    - Transform the test set.\n",
        "</font>"
      ]
    },
    {
      "cell_type": "code",
      "metadata": {
        "id": "cO4wJxgOYcYF",
        "colab_type": "code",
        "colab": {}
      },
      "source": [
        "mg = MergeRareTransformer(col_names=Xtrain.columns, threshold=[20]*len(Xtrain.columns))\n",
        "Xtrain_mg = mg.fit_transform(Xtrain) # Fill here with fit_transform\n",
        "Xtest_mg = mg.transform(Xtest)"
      ],
      "execution_count": 0,
      "outputs": []
    },
    {
      "cell_type": "markdown",
      "metadata": {
        "id": "M0X1rEVJYcYI",
        "colab_type": "text"
      },
      "source": [
        "<font color=\"red\">**Question:**\n",
        "   How many elements of the column Xtrain_mg['app_domain'] are now labeled as 'rare'? Use the '.value_counts()' method.\n",
        "</font>"
      ]
    },
    {
      "cell_type": "code",
      "metadata": {
        "id": "5A3oL0BgYcYI",
        "colab_type": "code",
        "outputId": "bb50b145-b13c-40e8-88d2-de5178e8974f",
        "colab": {
          "base_uri": "https://localhost:8080/",
          "height": 935
        }
      },
      "source": [
        "# Fill here\n",
        "Xtrain_mg['app_domain'].value_counts()"
      ],
      "execution_count": 0,
      "outputs": [
        {
          "output_type": "execute_result",
          "data": {
            "text/plain": [
              "7801e8d9    606390\n",
              "2347f47a    116467\n",
              "ae637522     41928\n",
              "5c5a694b     25289\n",
              "82e27996     16869\n",
              "d9b5648e     15709\n",
              "0e8616ad     14784\n",
              "b9528b13     14284\n",
              "b8d325c3     11953\n",
              "aefc06bd      6644\n",
              "df32afa9      6412\n",
              "33da2e74      5911\n",
              "6f7ca2ba      4990\n",
              "5b9c592b      2448\n",
              "885c7f3f      1468\n",
              "5c620f04      1419\n",
              "45a51db4      1219\n",
              "b5f3b24a      1093\n",
              "813f3323       544\n",
              "0654b444       514\n",
              "isRare         513\n",
              "ad63ec9b       388\n",
              "c6824def       306\n",
              "15ec7f39       275\n",
              "a8b0bf20       266\n",
              "99b4c806       219\n",
              "828da833       185\n",
              "448ca2e3       167\n",
              "f2f777fb       157\n",
              "43cf4f06       149\n",
              "47464e95        99\n",
              "d6feb1a4        95\n",
              "2b627705        89\n",
              "1ea19ec4        72\n",
              "db829551        69\n",
              "6a0a3a9d        59\n",
              "18eb4e75        56\n",
              "0d79ee56        53\n",
              "9ec164d3        51\n",
              "e5d5313f        46\n",
              "b12ff13e        42\n",
              "27ee373d        36\n",
              "b408d42a        30\n",
              "5ac0b939        28\n",
              "1ed56ded        27\n",
              "bb6bcbae        27\n",
              "3feeed1e        26\n",
              "63f57be0        25\n",
              "15c23f8e        25\n",
              "7eec2ab0        24\n",
              "7a9371fa        21\n",
              "dcdba109        20\n",
              "afdf1f54        20\n",
              "Name: app_domain, dtype: int64"
            ]
          },
          "metadata": {
            "tags": []
          },
          "execution_count": 112
        }
      ]
    },
    {
      "cell_type": "markdown",
      "metadata": {
        "id": "4YqrBBiSYcYK",
        "colab_type": "text"
      },
      "source": [
        "<font color=\"red\">**Question:**\n",
        "   In the new train set, display the number of modalities for each feature.\n",
        "</font>"
      ]
    },
    {
      "cell_type": "code",
      "metadata": {
        "id": "g_jA_EBDYcYL",
        "colab_type": "code",
        "outputId": "3b3b9d2a-36b3-45a4-a947-e2167016fa4c",
        "colab": {
          "base_uri": "https://localhost:8080/",
          "height": 374
        }
      },
      "source": [
        "# Fill here\n",
        "Xtrain_mg.nunique()"
      ],
      "execution_count": 0,
      "outputs": [
        {
          "output_type": "execute_result",
          "data": {
            "text/plain": [
              "hour                  24\n",
              "C1                     7\n",
              "banner_pos             7\n",
              "site_category         18\n",
              "app_id               613\n",
              "app_domain            53\n",
              "app_category          19\n",
              "device_type            5\n",
              "device_conn_type       4\n",
              "C14                 1339\n",
              "C15                    8\n",
              "C16                    9\n",
              "C17                  381\n",
              "C18                    4\n",
              "C19                   63\n",
              "C20                  148\n",
              "C21                   60\n",
              "weekday                7\n",
              "user                 901\n",
              "site                 889\n",
              "dtype: int64"
            ]
          },
          "metadata": {
            "tags": []
          },
          "execution_count": 113
        }
      ]
    },
    {
      "cell_type": "markdown",
      "metadata": {
        "id": "0W2O7eoxYcYO",
        "colab_type": "text"
      },
      "source": [
        "Modalities are arbitrary object, such as '234', 'isRare', etc. We will now transorm them into integers with the hashing trick.\n",
        "\n",
        "<font color=\"red\">**Question:**\n",
        "   To better understand how the 'hash' function is working, apply it to a string of your choice.\n",
        "</font>"
      ]
    },
    {
      "cell_type": "code",
      "metadata": {
        "id": "4Xn6l5okYcYP",
        "colab_type": "code",
        "outputId": "2aeffc86-ee2f-4f81-ba7b-523b68c55065",
        "colab": {
          "base_uri": "https://localhost:8080/",
          "height": 34
        }
      },
      "source": [
        "import hashlib\n",
        "hash('test_string') # Fill here"
      ],
      "execution_count": 0,
      "outputs": [
        {
          "output_type": "execute_result",
          "data": {
            "text/plain": [
              "-8946049807052614811"
            ]
          },
          "metadata": {
            "tags": []
          },
          "execution_count": 114
        }
      ]
    },
    {
      "cell_type": "markdown",
      "metadata": {
        "id": "m0xFTKrSYcYT",
        "colab_type": "text"
      },
      "source": [
        "<font color=\"red\">**Question:**\n",
        "   Create two new datasets 'Xtrain_ha' and 'Xtest_ha' containing the output of the hashing process. Use the '.apply' method to transform iteratively the columns by mapping to each value its remainder in the euclidean division of the hash by 1000000. \n",
        "   Example:\n",
        "</font>\n",
        "</font>\n",
        "<p>\n",
        "<center>\n",
        "2060777048690<font color=\"red\">918393</font>  -->  918393\n",
        "</center>\n",
        "Remark: do not forget that the function 'hash' has to take a string as input."
      ]
    },
    {
      "cell_type": "code",
      "metadata": {
        "id": "Su-b4TJKYcYT",
        "colab_type": "code",
        "colab": {}
      },
      "source": [
        "Xtrain_ha = pd.DataFrame()\n",
        "Xtest_ha = pd.DataFrame()\n",
        "for col in Xtrain_mg.columns:\n",
        "    Xtrain_ha[col] = Xtrain_mg[col].apply(lambda x: hash(str(x)) % 1000000) # Fill here defining a lambda function\n",
        "    Xtest_ha[col] = Xtest_mg[col].apply(lambda x: hash(str(x)) % 1000000)"
      ],
      "execution_count": 0,
      "outputs": []
    },
    {
      "cell_type": "markdown",
      "metadata": {
        "id": "uvVesMxDYcYV",
        "colab_type": "text"
      },
      "source": [
        "<font color=\"red\">**Question:**\n",
        "   Visualize the content of the DataFrames you have obtained.\n",
        "</font>"
      ]
    },
    {
      "cell_type": "code",
      "metadata": {
        "id": "lJAHncnZYcYW",
        "colab_type": "code",
        "outputId": "2e776fbe-b8ea-4964-f7f1-1638061ee33c",
        "colab": {
          "base_uri": "https://localhost:8080/",
          "height": 439
        }
      },
      "source": [
        "# Fill here\n",
        "Xtrain_ha"
      ],
      "execution_count": 0,
      "outputs": [
        {
          "output_type": "execute_result",
          "data": {
            "text/html": [
              "<div>\n",
              "<style scoped>\n",
              "    .dataframe tbody tr th:only-of-type {\n",
              "        vertical-align: middle;\n",
              "    }\n",
              "\n",
              "    .dataframe tbody tr th {\n",
              "        vertical-align: top;\n",
              "    }\n",
              "\n",
              "    .dataframe thead th {\n",
              "        text-align: right;\n",
              "    }\n",
              "</style>\n",
              "<table border=\"1\" class=\"dataframe\">\n",
              "  <thead>\n",
              "    <tr style=\"text-align: right;\">\n",
              "      <th></th>\n",
              "      <th>hour</th>\n",
              "      <th>C1</th>\n",
              "      <th>banner_pos</th>\n",
              "      <th>site_category</th>\n",
              "      <th>app_id</th>\n",
              "      <th>app_domain</th>\n",
              "      <th>app_category</th>\n",
              "      <th>device_type</th>\n",
              "      <th>device_conn_type</th>\n",
              "      <th>C14</th>\n",
              "      <th>C15</th>\n",
              "      <th>C16</th>\n",
              "      <th>C17</th>\n",
              "      <th>C18</th>\n",
              "      <th>C19</th>\n",
              "      <th>C20</th>\n",
              "      <th>C21</th>\n",
              "      <th>weekday</th>\n",
              "      <th>user</th>\n",
              "      <th>site</th>\n",
              "    </tr>\n",
              "  </thead>\n",
              "  <tbody>\n",
              "    <tr>\n",
              "      <th>92438</th>\n",
              "      <td>901254</td>\n",
              "      <td>884293</td>\n",
              "      <td>335895</td>\n",
              "      <td>819782</td>\n",
              "      <td>259134</td>\n",
              "      <td>941036</td>\n",
              "      <td>507120</td>\n",
              "      <td>701460</td>\n",
              "      <td>652693</td>\n",
              "      <td>286324</td>\n",
              "      <td>926372</td>\n",
              "      <td>350901</td>\n",
              "      <td>799381</td>\n",
              "      <td>558659</td>\n",
              "      <td>510139</td>\n",
              "      <td>545684</td>\n",
              "      <td>979554</td>\n",
              "      <td>558659</td>\n",
              "      <td>408680</td>\n",
              "      <td>629937</td>\n",
              "    </tr>\n",
              "    <tr>\n",
              "      <th>60898</th>\n",
              "      <td>956935</td>\n",
              "      <td>180464</td>\n",
              "      <td>558659</td>\n",
              "      <td>819782</td>\n",
              "      <td>799630</td>\n",
              "      <td>360345</td>\n",
              "      <td>580186</td>\n",
              "      <td>335895</td>\n",
              "      <td>685078</td>\n",
              "      <td>286324</td>\n",
              "      <td>926372</td>\n",
              "      <td>350901</td>\n",
              "      <td>799381</td>\n",
              "      <td>558659</td>\n",
              "      <td>510139</td>\n",
              "      <td>545684</td>\n",
              "      <td>979554</td>\n",
              "      <td>335895</td>\n",
              "      <td>408680</td>\n",
              "      <td>629937</td>\n",
              "    </tr>\n",
              "    <tr>\n",
              "      <th>556199</th>\n",
              "      <td>701460</td>\n",
              "      <td>180464</td>\n",
              "      <td>558659</td>\n",
              "      <td>820122</td>\n",
              "      <td>108019</td>\n",
              "      <td>941036</td>\n",
              "      <td>712250</td>\n",
              "      <td>335895</td>\n",
              "      <td>685078</td>\n",
              "      <td>920455</td>\n",
              "      <td>926372</td>\n",
              "      <td>350901</td>\n",
              "      <td>249302</td>\n",
              "      <td>558659</td>\n",
              "      <td>36056</td>\n",
              "      <td>545684</td>\n",
              "      <td>800663</td>\n",
              "      <td>558659</td>\n",
              "      <td>408680</td>\n",
              "      <td>983396</td>\n",
              "    </tr>\n",
              "    <tr>\n",
              "      <th>193129</th>\n",
              "      <td>493025</td>\n",
              "      <td>180464</td>\n",
              "      <td>335895</td>\n",
              "      <td>820122</td>\n",
              "      <td>108019</td>\n",
              "      <td>941036</td>\n",
              "      <td>712250</td>\n",
              "      <td>335895</td>\n",
              "      <td>558659</td>\n",
              "      <td>156948</td>\n",
              "      <td>926372</td>\n",
              "      <td>350901</td>\n",
              "      <td>678342</td>\n",
              "      <td>558659</td>\n",
              "      <td>822755</td>\n",
              "      <td>501340</td>\n",
              "      <td>704930</td>\n",
              "      <td>335895</td>\n",
              "      <td>408680</td>\n",
              "      <td>175022</td>\n",
              "    </tr>\n",
              "    <tr>\n",
              "      <th>231985</th>\n",
              "      <td>146915</td>\n",
              "      <td>180464</td>\n",
              "      <td>558659</td>\n",
              "      <td>297943</td>\n",
              "      <td>108019</td>\n",
              "      <td>941036</td>\n",
              "      <td>712250</td>\n",
              "      <td>335895</td>\n",
              "      <td>558659</td>\n",
              "      <td>800201</td>\n",
              "      <td>926372</td>\n",
              "      <td>350901</td>\n",
              "      <td>799381</td>\n",
              "      <td>558659</td>\n",
              "      <td>510139</td>\n",
              "      <td>520689</td>\n",
              "      <td>979554</td>\n",
              "      <td>133139</td>\n",
              "      <td>408680</td>\n",
              "      <td>696605</td>\n",
              "    </tr>\n",
              "    <tr>\n",
              "      <th>...</th>\n",
              "      <td>...</td>\n",
              "      <td>...</td>\n",
              "      <td>...</td>\n",
              "      <td>...</td>\n",
              "      <td>...</td>\n",
              "      <td>...</td>\n",
              "      <td>...</td>\n",
              "      <td>...</td>\n",
              "      <td>...</td>\n",
              "      <td>...</td>\n",
              "      <td>...</td>\n",
              "      <td>...</td>\n",
              "      <td>...</td>\n",
              "      <td>...</td>\n",
              "      <td>...</td>\n",
              "      <td>...</td>\n",
              "      <td>...</td>\n",
              "      <td>...</td>\n",
              "      <td>...</td>\n",
              "      <td>...</td>\n",
              "    </tr>\n",
              "    <tr>\n",
              "      <th>864087</th>\n",
              "      <td>68033</td>\n",
              "      <td>180464</td>\n",
              "      <td>335895</td>\n",
              "      <td>297943</td>\n",
              "      <td>108019</td>\n",
              "      <td>941036</td>\n",
              "      <td>712250</td>\n",
              "      <td>335895</td>\n",
              "      <td>558659</td>\n",
              "      <td>898900</td>\n",
              "      <td>926372</td>\n",
              "      <td>350901</td>\n",
              "      <td>799381</td>\n",
              "      <td>558659</td>\n",
              "      <td>510139</td>\n",
              "      <td>545684</td>\n",
              "      <td>979554</td>\n",
              "      <td>652693</td>\n",
              "      <td>408680</td>\n",
              "      <td>821414</td>\n",
              "    </tr>\n",
              "    <tr>\n",
              "      <th>778087</th>\n",
              "      <td>493025</td>\n",
              "      <td>180464</td>\n",
              "      <td>558659</td>\n",
              "      <td>819782</td>\n",
              "      <td>888484</td>\n",
              "      <td>360345</td>\n",
              "      <td>507120</td>\n",
              "      <td>335895</td>\n",
              "      <td>558659</td>\n",
              "      <td>412010</td>\n",
              "      <td>926372</td>\n",
              "      <td>350901</td>\n",
              "      <td>745998</td>\n",
              "      <td>558659</td>\n",
              "      <td>510139</td>\n",
              "      <td>108198</td>\n",
              "      <td>190194</td>\n",
              "      <td>335895</td>\n",
              "      <td>408680</td>\n",
              "      <td>629937</td>\n",
              "    </tr>\n",
              "    <tr>\n",
              "      <th>210755</th>\n",
              "      <td>344007</td>\n",
              "      <td>180464</td>\n",
              "      <td>558659</td>\n",
              "      <td>820122</td>\n",
              "      <td>108019</td>\n",
              "      <td>941036</td>\n",
              "      <td>712250</td>\n",
              "      <td>335895</td>\n",
              "      <td>558659</td>\n",
              "      <td>565303</td>\n",
              "      <td>926372</td>\n",
              "      <td>350901</td>\n",
              "      <td>812736</td>\n",
              "      <td>558659</td>\n",
              "      <td>144264</td>\n",
              "      <td>545684</td>\n",
              "      <td>467073</td>\n",
              "      <td>685078</td>\n",
              "      <td>408680</td>\n",
              "      <td>718182</td>\n",
              "    </tr>\n",
              "    <tr>\n",
              "      <th>56088</th>\n",
              "      <td>42674</td>\n",
              "      <td>180464</td>\n",
              "      <td>335895</td>\n",
              "      <td>213515</td>\n",
              "      <td>108019</td>\n",
              "      <td>941036</td>\n",
              "      <td>712250</td>\n",
              "      <td>335895</td>\n",
              "      <td>558659</td>\n",
              "      <td>796638</td>\n",
              "      <td>926372</td>\n",
              "      <td>350901</td>\n",
              "      <td>967135</td>\n",
              "      <td>558659</td>\n",
              "      <td>510139</td>\n",
              "      <td>501340</td>\n",
              "      <td>190194</td>\n",
              "      <td>685078</td>\n",
              "      <td>408680</td>\n",
              "      <td>605188</td>\n",
              "    </tr>\n",
              "    <tr>\n",
              "      <th>824840</th>\n",
              "      <td>133139</td>\n",
              "      <td>180464</td>\n",
              "      <td>558659</td>\n",
              "      <td>297943</td>\n",
              "      <td>108019</td>\n",
              "      <td>941036</td>\n",
              "      <td>712250</td>\n",
              "      <td>335895</td>\n",
              "      <td>558659</td>\n",
              "      <td>286324</td>\n",
              "      <td>926372</td>\n",
              "      <td>350901</td>\n",
              "      <td>799381</td>\n",
              "      <td>558659</td>\n",
              "      <td>510139</td>\n",
              "      <td>520689</td>\n",
              "      <td>979554</td>\n",
              "      <td>335895</td>\n",
              "      <td>408680</td>\n",
              "      <td>696605</td>\n",
              "    </tr>\n",
              "  </tbody>\n",
              "</table>\n",
              "<p>900000 rows × 20 columns</p>\n",
              "</div>"
            ],
            "text/plain": [
              "          hour      C1  banner_pos  ...  weekday    user    site\n",
              "92438   901254  884293      335895  ...   558659  408680  629937\n",
              "60898   956935  180464      558659  ...   335895  408680  629937\n",
              "556199  701460  180464      558659  ...   558659  408680  983396\n",
              "193129  493025  180464      335895  ...   335895  408680  175022\n",
              "231985  146915  180464      558659  ...   133139  408680  696605\n",
              "...        ...     ...         ...  ...      ...     ...     ...\n",
              "864087   68033  180464      335895  ...   652693  408680  821414\n",
              "778087  493025  180464      558659  ...   335895  408680  629937\n",
              "210755  344007  180464      558659  ...   685078  408680  718182\n",
              "56088    42674  180464      335895  ...   685078  408680  605188\n",
              "824840  133139  180464      558659  ...   335895  408680  696605\n",
              "\n",
              "[900000 rows x 20 columns]"
            ]
          },
          "metadata": {
            "tags": []
          },
          "execution_count": 116
        }
      ]
    },
    {
      "cell_type": "markdown",
      "metadata": {
        "id": "4Xt7l9rvYcYX",
        "colab_type": "text"
      },
      "source": [
        "<font color=\"red\">**Question:**\n",
        "    <br>\n",
        "    - Train a RandomForestClassifier on Xtrain_ha and evaluate its performance on Xtest_ha. Chose 256 estimators, min_samples_leaf=20 and verbose=1 in order to monitor the fitting step. (If you have enough time, try later with 1024 estimators and min_samples_leaf=20).\n",
        "    <br>\n",
        "    - How do you fix 'n_jobs'? \n",
        "</font>"
      ]
    },
    {
      "cell_type": "code",
      "metadata": {
        "id": "1CtFMlwKYcYX",
        "colab_type": "code",
        "outputId": "cf3bd50d-fc4a-4da5-c300-c55c1652c3ad",
        "colab": {
          "base_uri": "https://localhost:8080/",
          "height": 204
        }
      },
      "source": [
        "from sklearn.ensemble import RandomForestClassifier # Fill here\n",
        "rf = RandomForestClassifier(n_estimators=256, min_samples_leaf=20, verbose=1, n_jobs=-1)\n",
        "rf.fit(Xtrain_ha, ytrain)"
      ],
      "execution_count": 0,
      "outputs": [
        {
          "output_type": "stream",
          "text": [
            "[Parallel(n_jobs=-1)]: Using backend ThreadingBackend with 4 concurrent workers.\n",
            "[Parallel(n_jobs=-1)]: Done  42 tasks      | elapsed:   39.8s\n",
            "[Parallel(n_jobs=-1)]: Done 192 tasks      | elapsed:  3.0min\n",
            "[Parallel(n_jobs=-1)]: Done 256 out of 256 | elapsed:  4.0min finished\n"
          ],
          "name": "stderr"
        },
        {
          "output_type": "execute_result",
          "data": {
            "text/plain": [
              "RandomForestClassifier(bootstrap=True, class_weight=None, criterion='gini',\n",
              "                       max_depth=None, max_features='auto', max_leaf_nodes=None,\n",
              "                       min_impurity_decrease=0.0, min_impurity_split=None,\n",
              "                       min_samples_leaf=20, min_samples_split=2,\n",
              "                       min_weight_fraction_leaf=0.0, n_estimators=256,\n",
              "                       n_jobs=-1, oob_score=False, random_state=None, verbose=1,\n",
              "                       warm_start=False)"
            ]
          },
          "metadata": {
            "tags": []
          },
          "execution_count": 117
        }
      ]
    },
    {
      "cell_type": "code",
      "metadata": {
        "id": "h170ZelZYcYa",
        "colab_type": "code",
        "outputId": "eb442b3b-8ab2-499e-ac15-c696b2b412f5",
        "colab": {
          "base_uri": "https://localhost:8080/",
          "height": 102
        }
      },
      "source": [
        "soft = rf.predict_proba(Xtest_ha)[:, 1]\n",
        "log_loss(ytest, soft), roc_auc_score(ytest, soft)"
      ],
      "execution_count": 0,
      "outputs": [
        {
          "output_type": "stream",
          "text": [
            "[Parallel(n_jobs=4)]: Using backend ThreadingBackend with 4 concurrent workers.\n",
            "[Parallel(n_jobs=4)]: Done  42 tasks      | elapsed:    0.4s\n",
            "[Parallel(n_jobs=4)]: Done 192 tasks      | elapsed:    1.8s\n",
            "[Parallel(n_jobs=4)]: Done 256 out of 256 | elapsed:    2.5s finished\n"
          ],
          "name": "stderr"
        },
        {
          "output_type": "execute_result",
          "data": {
            "text/plain": [
              "(0.40078070984989944, 0.7415469395064065)"
            ]
          },
          "metadata": {
            "tags": []
          },
          "execution_count": 118
        }
      ]
    },
    {
      "cell_type": "markdown",
      "metadata": {
        "id": "3V1PmiFGYcYb",
        "colab_type": "text"
      },
      "source": [
        "<font color=\"red\">**Question:**\n",
        "   Compare with xgboost performance on the same hashed dataset, with n_estimators=256, n_jobs=-1, learning_rate=1.0. (If you have enough time try n_estimators=1024, n_jobs=-1, learning_rate=0.5, it will perform better than a Random Forest of 1024 trees).\n",
        "</font>"
      ]
    },
    {
      "cell_type": "code",
      "metadata": {
        "id": "efxpo945YcYc",
        "colab_type": "code",
        "outputId": "6f7a29f8-618a-4668-f488-4650384827c0",
        "colab": {
          "base_uri": "https://localhost:8080/",
          "height": 68
        }
      },
      "source": [
        "from xgboost import XGBClassifier\n",
        "xgb = XGBClassifier(n_estimators=256, learning_rate=0.1, n_jobs=-1) # Fill here\n",
        "\n",
        "%time xgb.fit(Xtrain_ha, ytrain) # the '%time' command will return the execution time of the fitting step\n",
        "\n",
        "soft = xgb.predict_proba(Xtest_ha)[:, 1]\n",
        "log_loss(ytest, soft), roc_auc_score(ytest, soft)"
      ],
      "execution_count": 0,
      "outputs": [
        {
          "output_type": "stream",
          "text": [
            "CPU times: user 5min 20s, sys: 184 ms, total: 5min 20s\n",
            "Wall time: 1min 20s\n"
          ],
          "name": "stdout"
        },
        {
          "output_type": "execute_result",
          "data": {
            "text/plain": [
              "(0.41259298133645206, 0.7158785168205304)"
            ]
          },
          "metadata": {
            "tags": []
          },
          "execution_count": 119
        }
      ]
    },
    {
      "cell_type": "markdown",
      "metadata": {
        "id": "sQEvD6v9YcYf",
        "colab_type": "text"
      },
      "source": [
        "<font color=\"red\">**Question:**\n",
        "    Plot the ROC and the lift curves for the obtained classifier (xgboost on hashed data). What is the lift of the first fifth of the population identified by the test?\n",
        "</font>"
      ]
    },
    {
      "cell_type": "code",
      "metadata": {
        "id": "BTaxpNu8YcYg",
        "colab_type": "code",
        "outputId": "bb87fafd-69f0-4f6a-ad06-2026b35e1801",
        "colab": {
          "base_uri": "https://localhost:8080/",
          "height": 322
        }
      },
      "source": [
        "# Plot the ROC curve here\n",
        "false_pos_rate, true_pos_rate, _ = roc_curve(ytest, soft)\n",
        "plt.plot(false_pos_rate, true_pos_rate)\n",
        "\n",
        "plt.grid()\n",
        "plt.plot([0, 1], [0, 1], 'r--')\n",
        "plt.xlabel('False Positive Rate', fontsize=16)\n",
        "plt.ylabel('True Positive Rate', fontsize=16)\n",
        "plt.title('ROC curve', fontsize=20)"
      ],
      "execution_count": 0,
      "outputs": [
        {
          "output_type": "execute_result",
          "data": {
            "text/plain": [
              "Text(0.5, 1.0, 'ROC curve')"
            ]
          },
          "metadata": {
            "tags": []
          },
          "execution_count": 120
        },
        {
          "output_type": "display_data",
          "data": {
            "image/png": "[encoded data removed]",
            "text/plain": [
              "<Figure size 432x288 with 1 Axes>"
            ]
          },
          "metadata": {
            "tags": []
          }
        }
      ]
    },
    {
      "cell_type": "code",
      "metadata": {
        "id": "t5X212VxYcYf",
        "colab_type": "code",
        "outputId": "8e442d88-d8ea-427b-89d0-09bb0ad4c071",
        "colab": {
          "base_uri": "https://localhost:8080/",
          "height": 322
        }
      },
      "source": [
        "# Plot the lift curve here\n",
        "plotlift(ytest, soft)\n",
        "# The following line just plots a vertical line for you to answer the second part of the question\n",
        "plt.axvline(x=0.2, linestyle='--', color='r') # Fill here\n",
        "\n",
        "plt.xlabel('Proportion of the dataset', fontsize=16)\n",
        "plt.ylabel('Lift', fontsize=16)\n",
        "plt.title('Lift curve', fontsize=20)\n",
        "plt.plot()"
      ],
      "execution_count": 0,
      "outputs": [
        {
          "output_type": "execute_result",
          "data": {
            "text/plain": [
              "[]"
            ]
          },
          "metadata": {
            "tags": []
          },
          "execution_count": 121
        },
        {
          "output_type": "display_data",
          "data": {
            "image/png": "[encoded data removed]",
            "text/plain": [
              "<Figure size 432x288 with 1 Axes>"
            ]
          },
          "metadata": {
            "tags": []
          }
        }
      ]
    },
    {
      "cell_type": "markdown",
      "metadata": {
        "colab_type": "text",
        "id": "drSyzM_M8YJk"
      },
      "source": [
        "Your answer here\n",
        "\n",
        "With this technique, the lift is now around ~2 for the fisrt fifth of the population."
      ]
    },
    {
      "cell_type": "markdown",
      "metadata": {
        "id": "bs1_k3-hYcYj",
        "colab_type": "text"
      },
      "source": [
        "Hashing produces columns of integers arbitrarily ordered. One can wonder if adding more columns hashed in a different fashion would lead to better performance. \n",
        "\n",
        "<font color=\"red\">**Question:**\n",
        "    Add hashed columns by recursively hashing the previous ones: complete the following code. \n",
        "</font>"
      ]
    },
    {
      "cell_type": "code",
      "metadata": {
        "id": "q2X9YoNvYcYj",
        "colab_type": "code",
        "colab": {}
      },
      "source": [
        "Xtrain_haha = pd.DataFrame(Xtrain_ha).copy()\n",
        "Xtest_haha = pd.DataFrame(Xtest_ha).copy()\n",
        "\n",
        "n_hash = 3\n",
        "cols = Xtrain_ha.columns\n",
        "for l in range(n_hash):\n",
        "    for col in cols:\n",
        "        Xtrain_haha[col + '-hash'] = Xtrain_haha[col].apply(lambda x: hash(str(x)) % 1000000)\n",
        "        Xtest_haha[col + '-hash'] = Xtest_haha[col].apply(lambda x: hash(str(x)) % 1000000)\n",
        "    cols = [col + '-hash' for col in cols]"
      ],
      "execution_count": 0,
      "outputs": []
    },
    {
      "cell_type": "markdown",
      "metadata": {
        "id": "OgdtITAfYcYq",
        "colab_type": "text"
      },
      "source": [
        "<font color=\"red\">**Question:**\n",
        "    Evaluate the performance of a random forest and/or an xgboost clasifier (chose 256 estimators first and learning rate of 1.0 for xgboost) on these enlarged dataset. Is the performance better than when hasing features once?\n",
        "</font>"
      ]
    },
    {
      "cell_type": "code",
      "metadata": {
        "id": "DOk1idKAYcYr",
        "colab_type": "code",
        "outputId": "fadf2bad-bbf5-43f3-f427-29c5aa1a2dd9",
        "colab": {
          "base_uri": "https://localhost:8080/",
          "height": 170
        }
      },
      "source": [
        "# Fill here\n",
        "rf = RandomForestClassifier(n_estimators=256, min_samples_leaf=20, verbose=1, n_jobs=-1)\n",
        "rf.fit(Xtrain_haha, ytrain)\n",
        "\n",
        "soft = rf.predict_proba(Xtest_haha)[:, 1]\n",
        "log_loss(ytest, soft), roc_auc_score(ytest, soft)"
      ],
      "execution_count": 0,
      "outputs": [
        {
          "output_type": "stream",
          "text": [
            "[Parallel(n_jobs=-1)]: Using backend ThreadingBackend with 4 concurrent workers.\n",
            "[Parallel(n_jobs=-1)]: Done  42 tasks      | elapsed:  1.1min\n",
            "[Parallel(n_jobs=-1)]: Done 192 tasks      | elapsed:  5.0min\n",
            "[Parallel(n_jobs=-1)]: Done 256 out of 256 | elapsed:  6.7min finished\n",
            "[Parallel(n_jobs=4)]: Using backend ThreadingBackend with 4 concurrent workers.\n",
            "[Parallel(n_jobs=4)]: Done  42 tasks      | elapsed:    0.6s\n",
            "[Parallel(n_jobs=4)]: Done 192 tasks      | elapsed:    2.5s\n",
            "[Parallel(n_jobs=4)]: Done 256 out of 256 | elapsed:    3.3s finished\n"
          ],
          "name": "stderr"
        },
        {
          "output_type": "execute_result",
          "data": {
            "text/plain": [
              "(0.39896424062958946, 0.7442141109942513)"
            ]
          },
          "metadata": {
            "tags": []
          },
          "execution_count": 123
        }
      ]
    },
    {
      "cell_type": "code",
      "metadata": {
        "id": "QW3nb8YKYcYt",
        "colab_type": "code",
        "outputId": "4619aeb4-8842-4cef-8e89-0b7d9c90fa0f",
        "colab": {
          "base_uri": "https://localhost:8080/",
          "height": 68
        }
      },
      "source": [
        "# Fill here\n",
        "xgb = XGBClassifier(n_estimators=256, learning_rate=0.1, n_jobs=-1) # Fill here\n",
        "\n",
        "%time xgb.fit(Xtrain_haha, ytrain) # the '%time' command will return the execution time of the fitting step\n",
        "\n",
        "soft = xgb.predict_proba(Xtest_haha)[:, 1]\n",
        "log_loss(ytest, soft), roc_auc_score(ytest, soft)"
      ],
      "execution_count": 0,
      "outputs": [
        {
          "output_type": "stream",
          "text": [
            "CPU times: user 15min 30s, sys: 1.49 s, total: 15min 31s\n",
            "Wall time: 3min 55s\n"
          ],
          "name": "stdout"
        },
        {
          "output_type": "execute_result",
          "data": {
            "text/plain": [
              "(0.40894882679702715, 0.725239541045734)"
            ]
          },
          "metadata": {
            "tags": []
          },
          "execution_count": 124
        }
      ]
    },
    {
      "cell_type": "markdown",
      "metadata": {
        "colab_type": "text",
        "id": "xusvruj8NWTp"
      },
      "source": [
        "Your answer here\n",
        "\n",
        "After multiple hashing, the log loss is smaller and we obtained a larger area under the ROC curve: the performance has been improved!"
      ]
    },
    {
      "cell_type": "markdown",
      "metadata": {
        "id": "7CxxdsyAYcYu",
        "colab_type": "text"
      },
      "source": [
        "Good job! :-) "
      ]
    },
    {
      "cell_type": "markdown",
      "metadata": {
        "colab_type": "text",
        "id": "3NTILkwg8fFQ"
      },
      "source": [
        "<font color=\"red\">**Bonus Question:**\n",
        "    If you have enough time (about 2 hours ...), try to fit both random forest and xgboost models with 1024 estimators (and a learning rate of 0.5 for xgboost) on these enlarged datasets.<br>\n",
        "    - Which one performs better?<br> \n",
        "    - Can you see the improvement due to the addition of more hashed features?\n",
        "</font>"
      ]
    },
    {
      "cell_type": "code",
      "metadata": {
        "id": "MO88fPXO8-9E",
        "colab_type": "code",
        "colab": {}
      },
      "source": [
        "# Fill here"
      ],
      "execution_count": 0,
      "outputs": []
    },
    {
      "cell_type": "markdown",
      "metadata": {
        "collapsed": true,
        "id": "gmT_UJvZIIWT",
        "colab_type": "text"
      },
      "source": [
        "# Field-aware Factorization Machines\n",
        "<br>\n",
        "<font color=\"red\">\n",
        "Display the names of the columns of the matrix Xtrain_ha\n",
        "</font>"
      ]
    },
    {
      "cell_type": "code",
      "metadata": {
        "id": "gLVRw6AtIIWU",
        "colab_type": "code",
        "outputId": "a1246d84-4dfc-45d9-8428-30bd19d60f71",
        "colab": {
          "base_uri": "https://localhost:8080/",
          "height": 85
        }
      },
      "source": [
        "Xtrain_ha.columns"
      ],
      "execution_count": 0,
      "outputs": [
        {
          "output_type": "execute_result",
          "data": {
            "text/plain": [
              "Index(['hour', 'C1', 'banner_pos', 'site_category', 'app_id', 'app_domain',\n",
              "       'app_category', 'device_type', 'device_conn_type', 'C14', 'C15', 'C16',\n",
              "       'C17', 'C18', 'C19', 'C20', 'C21', 'weekday', 'user', 'site'],\n",
              "      dtype='object')"
            ]
          },
          "metadata": {
            "tags": []
          },
          "execution_count": 125
        }
      ]
    },
    {
      "cell_type": "markdown",
      "metadata": {
        "id": "jePx6DkuIIWU",
        "colab_type": "text"
      },
      "source": [
        "<font color=\"red\">\n",
        "Create a list of lists of the columns. The n-th sub-list is composed of the names of the columns of the n-th field.</font>"
      ]
    },
    {
      "cell_type": "code",
      "metadata": {
        "id": "Xw5rYhwJIIWV",
        "colab_type": "code",
        "colab": {}
      },
      "source": [
        "fields = []\n",
        "fields.append(['hour', 'weekday'])\n",
        "fields.append(['banner_pos', 'C1', 'C14', 'C15', 'C16', 'C17', 'C18', 'C19', 'C20', 'C21'])\n",
        "fields.append(['app_id', 'app_domain', 'app_category'])\n",
        "fields.append(['user', 'device_type', 'device_conn_type'])\n",
        "fields.append(['site', 'site_category'])\n"
      ],
      "execution_count": 0,
      "outputs": []
    },
    {
      "cell_type": "markdown",
      "metadata": {
        "id": "ZUu2FXaSIIWW",
        "colab_type": "text"
      },
      "source": [
        "<font color=\"red\">\n",
        "With the enumerate function, let generate a dictionary which associates each column name with its field.\n"
      ]
    },
    {
      "cell_type": "code",
      "metadata": {
        "id": "tWzYMksxIIWX",
        "colab_type": "code",
        "colab": {}
      },
      "source": [
        "dicFields = { name_col : i  for i,f in enumerate(fields) for name_col in f}"
      ],
      "execution_count": 0,
      "outputs": []
    },
    {
      "cell_type": "markdown",
      "metadata": {
        "id": "o2Scxx_CIIWZ",
        "colab_type": "text"
      },
      "source": [
        "We need to make sure that two different columns have different modalities. For this, we add in front of each modality a characteristic string of the column.\n",
        "\n",
        "<font color=\"red\">Perform this transformation with the apply method</font>\n"
      ]
    },
    {
      "cell_type": "code",
      "metadata": {
        "id": "Y253v6YBIIWa",
        "colab_type": "code",
        "colab": {}
      },
      "source": [
        "Xtrain_ffm = pd.DataFrame()\n",
        "Xtest_ffm = pd.DataFrame()\n",
        "for col in Xtrain_ha.columns:\n",
        "    Xtrain_ffm[col] = Xtrain_ha[col].apply(lambda x: hash(col)%10000 + x)\n",
        "    Xtest_ffm[col] = Xtest_ha[col].apply(lambda x: hash(col)%10000 + x)"
      ],
      "execution_count": 0,
      "outputs": []
    },
    {
      "cell_type": "markdown",
      "metadata": {
        "id": "yrhsnGjIIIWb",
        "colab_type": "text"
      },
      "source": [
        "With np.unique, we create the list of all the modalities appearing in all the columns."
      ]
    },
    {
      "cell_type": "code",
      "metadata": {
        "id": "7fcTcK4rIIWb",
        "colab_type": "code",
        "colab": {}
      },
      "source": [
        "allvals = []\n",
        "allcols_ffm = [col for f in fields for col in f]  # Toutes les colonnes appartenant à l'un des champ\n",
        "for col in allcols_ffm:\n",
        "    allvals.append(np.unique(Xtrain_ffm[col]))\n",
        "allvals= [val for sublist in allvals for val in sublist]"
      ],
      "execution_count": 0,
      "outputs": []
    },
    {
      "cell_type": "markdown",
      "metadata": {
        "id": "OBLCa95zIIWc",
        "colab_type": "text"
      },
      "source": [
        "<font color=\"red\">\n",
        "Using enumerate method, create a dictionary that at each value associates its rank in the allvals list.</font>"
      ]
    },
    {
      "cell_type": "code",
      "metadata": {
        "id": "TlcO1vu0IIWc",
        "colab_type": "code",
        "colab": {}
      },
      "source": [
        "dicFeat = {val:i for i,val in enumerate(allvals)}"
      ],
      "execution_count": 0,
      "outputs": []
    },
    {
      "cell_type": "markdown",
      "metadata": {
        "id": "qS4cP1SgIIWd",
        "colab_type": "text"
      },
      "source": [
        "We build dataframe from dicFeat as follows:\n",
        "in each \"col\" column, the value \"x\" is replaced by the string \"f: v: 1\", where f is the field associated with the column and v is the index of the modality x.\n",
        "<font color=\"red\">\n",
        "Study the following code</font>"
      ]
    },
    {
      "cell_type": "code",
      "metadata": {
        "id": "FLXawWuYIIWd",
        "colab_type": "code",
        "colab": {}
      },
      "source": [
        "for col in allcols_ffm:\n",
        "    f = dicFields[col]\n",
        "    Xtrain_ffm[col] = Xtrain_ffm[col].apply(lambda x:\"{}:{}:1\".format(f,dicFeat[x]) if x in dicFeat else \"\")\n",
        "    Xtest_ffm[col] = Xtest_ffm[col].apply(lambda x:\"{}:{}:1\".format(f,dicFeat[x]) if x in dicFeat else \"\")"
      ],
      "execution_count": 0,
      "outputs": []
    },
    {
      "cell_type": "markdown",
      "metadata": {
        "id": "O8jnU8x8IIWe",
        "colab_type": "text"
      },
      "source": [
        "<font color=\"red\">For the two resulting dataframes, concatenate on the left the corresponding ytrain (or ytest) click column</font>"
      ]
    },
    {
      "cell_type": "code",
      "metadata": {
        "id": "6vVXBrtVIIWe",
        "colab_type": "code",
        "colab": {}
      },
      "source": [
        "yXtrain_ffm = pd.concat([ytrain.apply(str), Xtrain_ffm] , axis=1)\n",
        "yXtest_ffm = pd.concat([ytest.apply(str), Xtest_ffm], axis=1)"
      ],
      "execution_count": 0,
      "outputs": []
    },
    {
      "cell_type": "markdown",
      "metadata": {
        "id": "2yKP8AdSIIWf",
        "colab_type": "text"
      },
      "source": [
        "<font color=\"red\">What does the following cell produce?</font>"
      ]
    },
    {
      "cell_type": "code",
      "metadata": {
        "id": "vlCgqefuIIWg",
        "colab_type": "code",
        "outputId": "502ecfe8-3065-4160-c5a1-0633519af99c",
        "colab": {
          "base_uri": "https://localhost:8080/",
          "height": 34
        }
      },
      "source": [
        "train_w = yXtrain_ffm.apply(lambda row:' '.join(row.values),axis=1).values\n",
        "test_w = yXtest_ffm.apply(lambda row:' '.join(row.values),axis=1).values\n",
        "len(train_w), len(test_w)"
      ],
      "execution_count": 0,
      "outputs": [
        {
          "output_type": "execute_result",
          "data": {
            "text/plain": [
              "(900000, 100000)"
            ]
          },
          "metadata": {
            "tags": []
          },
          "execution_count": 133
        }
      ]
    },
    {
      "cell_type": "markdown",
      "metadata": {
        "id": "7VI0cKgcIIWm",
        "colab_type": "text"
      },
      "source": [
        "<font color=\"red\">Write the above dataframe in a text file</font>"
      ]
    },
    {
      "cell_type": "code",
      "metadata": {
        "id": "9XurGp7WmdXU",
        "colab_type": "code",
        "outputId": "6de76db5-764e-46b4-d690-50cdf6585415",
        "colab": {
          "base_uri": "https://localhost:8080/",
          "height": 34
        }
      },
      "source": [
        "%cd '/content/gdrive/My Drive/Colab Notebooks/tp_avazu/notebooks/libffm-master/'"
      ],
      "execution_count": 0,
      "outputs": [
        {
          "output_type": "stream",
          "text": [
            "/content/gdrive/My Drive/Colab Notebooks/tp_avazu/notebooks/libffm-master\n"
          ],
          "name": "stdout"
        }
      ]
    },
    {
      "cell_type": "code",
      "metadata": {
        "id": "fdJFgYQuIIWo",
        "colab_type": "code",
        "colab": {}
      },
      "source": [
        "train_file = open('train.txt','w')\n",
        "for item in train_w:\n",
        "    train_file.write(\"%s\\n\" % item)\n",
        "train_file.close()\n",
        "\n",
        "# Faire de même pour le test set\n",
        "test_file = open('test.txt','w')\n",
        "for item in test_w:\n",
        "    test_file.write(\"%s\\n\" % item)\n",
        "test_file.close()"
      ],
      "execution_count": 0,
      "outputs": []
    },
    {
      "cell_type": "markdown",
      "metadata": {
        "id": "Z3-j2EGuIIWo",
        "colab_type": "text"
      },
      "source": [
        "To learn the FFM model, we use the LibFFM library https://www.csie.ntu.edu.tw/~cjlin/libffm/\n",
        "In the notebooks / directory there are two executables: ffm-train and ffm-predict.\n",
        "In jupyter notebook, the exclamation point! allows to launch a bash command.\n",
        "The use is as follows:\n",
        "\n",
        "-   `ffm-train'\n",
        "\n",
        "    usage: ffm-train [options] training_set_file [model_file]\n",
        "\n",
        "    options:  \n",
        "    -l <lambda>: set regularization parameter (default 0.00002)  \n",
        "    -k <factor>: set number of latent factors (default 4)  \n",
        "    -t <iteration>: set number of iterations (default 15)  \n",
        "    -r <eta>: set learning rate (default 0.2)  \n",
        "    -s <nr_threads>: set number of threads (default 1)  \n",
        "    -p <path>: set path to the validation set  \n",
        "    --quiet: quiet model (no output)  \n",
        "    --no-norm: disable instance-wise normalization  \n",
        "    --auto-stop: stop at the iteration that achieves the best validation loss (must be used with -p)  \n",
        "<br>\n",
        "<font color=\"red\">Learn the model. We can :\n",
        "- use an regularizer of 0.00001\n",
        "- use a learning rate of 0.05\n",
        "- use of the order of 15 latent factors\n",
        "- carry out the order of 30 iterations\n",
        "- with the -p option, change the test file to validation parameters\n",
        "- activate the --autostop mode\n",
        "</font> "
      ]
    },
    {
      "cell_type": "code",
      "metadata": {
        "id": "eK7RJrLwrwPv",
        "colab_type": "code",
        "outputId": "79aec624-be41-42c7-fb28-d278485af067",
        "colab": {
          "base_uri": "https://localhost:8080/",
          "height": 408
        }
      },
      "source": [
        "!chmod u+x ./ffm-train\n",
        "!./ffm-train -l 0.00001 -r 0.05 -k 15 -t 30 --auto-stop -p test.txt train.txt model.txt"
      ],
      "execution_count": 0,
      "outputs": [
        {
          "output_type": "stream",
          "text": [
            "First check if the text file has already been converted to binary format (0.0 seconds)\n",
            "Binary file NOT found. Convert text file to binary file (4.3 seconds)\n",
            "First check if the text file has already been converted to binary format (0.0 seconds)\n",
            "Binary file NOT found. Convert text file to binary file (0.5 seconds)\n",
            "iter   tr_logloss   va_logloss      tr_time\n",
            "   1      0.41002      0.40354          4.7\n",
            "   2      0.40249      0.40047          9.4\n",
            "   3      0.40047      0.39907         13.8\n",
            "   4      0.39927      0.39886         18.3\n",
            "   5      0.39840      0.39797         22.7\n",
            "   6      0.39777      0.39750         27.1\n",
            "   7      0.39721      0.39715         31.5\n",
            "   8      0.39669      0.39701         35.9\n",
            "   9      0.39631      0.39682         40.3\n",
            "  10      0.39593      0.39669         44.7\n",
            "  11      0.39560      0.39655         49.1\n",
            "  12      0.39527      0.39644         53.5\n",
            "  13      0.39499      0.39632         57.9\n",
            "  14      0.39470      0.39627         62.3\n",
            "  15      0.39446      0.39609         66.7\n",
            "  16      0.39421      0.39604         71.1\n",
            "  17      0.39396      0.39605\n",
            "Auto-stop. Use model at 16th iteration.\n"
          ],
          "name": "stdout"
        }
      ]
    },
    {
      "cell_type": "markdown",
      "metadata": {
        "id": "ksgNKsj8IIWs",
        "colab_type": "text"
      },
      "source": [
        "The use of ffm-predict is: ffm-predict filename-test file-name-model file-in-which-write-the-prediction \n",
        "<font color=\"red\">Perform the prediction</font>"
      ]
    },
    {
      "cell_type": "code",
      "metadata": {
        "id": "8J6KBW8OIIWs",
        "colab_type": "code",
        "outputId": "d0f21cf8-2b8d-4488-8c3e-52d4a0174c93",
        "colab": {
          "base_uri": "https://localhost:8080/",
          "height": 34
        }
      },
      "source": [
        "!chmod u+x ./ffm-predict\n",
        "!./ffm-predict test.txt model.txt prediction.txt"
      ],
      "execution_count": 0,
      "outputs": [
        {
          "output_type": "stream",
          "text": [
            "logloss = 0.39604\n"
          ],
          "name": "stdout"
        }
      ]
    },
    {
      "cell_type": "markdown",
      "metadata": {
        "id": "pp02SsNnIIWt",
        "colab_type": "text"
      },
      "source": [
        "\n",
        "\n",
        "```\n",
        "# Ce texte est au format code\n",
        "```\n",
        "\n",
        "<font color=\"red\">Compute the log_loss and area under the roc curve (ROC AUC).</font>"
      ]
    },
    {
      "cell_type": "code",
      "metadata": {
        "id": "nFFrqJyZIIWu",
        "colab_type": "code",
        "colab": {}
      },
      "source": [
        "ffm_pred = pd.read_csv('./prediction.txt', header=None)\n",
        "ypred_ffm_soft = ffm_pred.values"
      ],
      "execution_count": 0,
      "outputs": []
    },
    {
      "cell_type": "code",
      "metadata": {
        "id": "6cU3EumMiqPC",
        "colab_type": "code",
        "outputId": "cf6c2bdb-cbb9-400c-dee2-5d50a581bfd7",
        "colab": {
          "base_uri": "https://localhost:8080/",
          "height": 34
        }
      },
      "source": [
        "log_loss(ytest, ypred_ffm_soft), roc_auc_score(ytest, ypred_ffm_soft)"
      ],
      "execution_count": 0,
      "outputs": [
        {
          "output_type": "execute_result",
          "data": {
            "text/plain": [
              "(0.3960355836758428, 0.7495094915826116)"
            ]
          },
          "metadata": {
            "tags": []
          },
          "execution_count": 139
        }
      ]
    },
    {
      "cell_type": "markdown",
      "metadata": {
        "collapsed": true,
        "colab_type": "text",
        "id": "vqR8fOOBOqxx"
      },
      "source": [
        "# Blending"
      ]
    },
    {
      "cell_type": "markdown",
      "metadata": {
        "colab_type": "text",
        "id": "7-3iP_FwOqxw"
      },
      "source": [
        "<font color=\"red\">\n",
        "Split Xtrain in two: Xtrain_meth and Xtrain_blend.</font>"
      ]
    },
    {
      "cell_type": "code",
      "metadata": {
        "colab_type": "code",
        "id": "VOz5fHUgOqxr",
        "colab": {}
      },
      "source": [
        "Xtrain_meth, Xtrain_blend, ytrain_meth, ytrain_blend = train_test_split(Xtrain,ytrain,test_size=0.2)"
      ],
      "execution_count": 0,
      "outputs": []
    },
    {
      "cell_type": "markdown",
      "metadata": {
        "collapsed": true,
        "colab_type": "text",
        "id": "taRGY6UDOqxq"
      },
      "source": [
        "<font color=\"red\">\n",
        "Train a logistic regression on XTrain_meth. Then compute its score on Xtrain_blend and save the score in a vector.</font>"
      ]
    },
    {
      "cell_type": "code",
      "metadata": {
        "colab_type": "code",
        "id": "iLZ9eMbEOqxo",
        "outputId": "f4d5f2ec-c71c-4c7d-b0e7-b43ccca8fe9e",
        "colab": {
          "base_uri": "https://localhost:8080/",
          "height": 68
        }
      },
      "source": [
        "# we re-use the 'cols to keep' that we found in the 'complete model' part\n",
        "# To do so, we one hot encode with the same ohe fit on the total Xtrain set\n",
        "ohe = OneHotEncoder(handle_unknown='ignore')\n",
        "ohe.fit(Xtrain)\n",
        "\n",
        "Xtrain_meth_oh = ohe.transform(Xtrain_meth)\n",
        "Xtrain_blend_oh = ohe.transform(Xtrain_blend)\n",
        "Xtest_oh = ohe.transform(Xtest)\n",
        "\n",
        "lr = LogisticRegression()\n",
        "lr.fit(Xtrain_meth_oh[:, cols_to_keep], ytrain_meth)\n",
        "\n",
        "score_blend_logistic = lr.predict_proba(Xtrain_blend_oh[:, cols_to_keep])[:, 1]\n",
        "score_test_logistic = lr.predict_proba(Xtest_oh[:, cols_to_keep])[:, 1]\n",
        "\n",
        "print(log_loss(ytrain_blend, score_blend_logistic), roc_auc_score(ytrain_blend, score_blend_logistic))"
      ],
      "execution_count": 0,
      "outputs": [
        {
          "output_type": "stream",
          "text": [
            "/usr/local/lib/python3.6/dist-packages/sklearn/linear_model/logistic.py:432: FutureWarning: Default solver will be changed to 'lbfgs' in 0.22. Specify a solver to silence this warning.\n",
            "  FutureWarning)\n"
          ],
          "name": "stderr"
        },
        {
          "output_type": "stream",
          "text": [
            "0.40228090735320776 0.7353545831900072\n"
          ],
          "name": "stdout"
        }
      ]
    },
    {
      "cell_type": "markdown",
      "metadata": {
        "colab_type": "text",
        "id": "dENR18QvOqxn"
      },
      "source": [
        "<font color=\"red\">\n",
        "Do the same thing with XGBoost (save the score).</font>"
      ]
    },
    {
      "cell_type": "code",
      "metadata": {
        "colab_type": "code",
        "id": "8H4Z6I86Oqxl",
        "outputId": "989a73d4-add2-437c-cf2d-72b6eb1f5fa3",
        "colab": {
          "base_uri": "https://localhost:8080/",
          "height": 68
        }
      },
      "source": [
        "from xgboost import XGBClassifier\n",
        "\n",
        "xgb = XGBClassifier(n_estimators=256, learning_rate=0.8, n_jobs=-1)\n",
        "%time xgb.fit(Xtrain_meth_oh[:, cols_to_keep], ytrain_meth)\n",
        "\n",
        "score_blend_xgb = xgb.predict_proba(Xtrain_blend_oh[:, cols_to_keep])[:, 1]\n",
        "score_test_xgb = xgb.predict_proba(Xtest_oh[:, cols_to_keep])[:, 1]\n",
        "\n",
        "print(log_loss(ytrain_blend, score_blend_xgb), roc_auc_score(ytrain_blend, score_blend_xgb))"
      ],
      "execution_count": 0,
      "outputs": [
        {
          "output_type": "stream",
          "text": [
            "CPU times: user 3min 13s, sys: 753 ms, total: 3min 14s\n",
            "Wall time: 52.3 s\n",
            "0.40212903818241835 0.7365877656126009\n"
          ],
          "name": "stdout"
        }
      ]
    },
    {
      "cell_type": "markdown",
      "metadata": {
        "colab_type": "text",
        "id": "b8voXiEwOqxk"
      },
      "source": [
        "<font color=\"red\">\n",
        "Do the same with a RandomForest (save the score).</font>"
      ]
    },
    {
      "cell_type": "code",
      "metadata": {
        "colab_type": "code",
        "id": "At6NVRKZOqxi",
        "outputId": "4a59c377-bb85-41a8-b530-51cc1dfe34ae",
        "colab": {
          "base_uri": "https://localhost:8080/",
          "height": 238
        }
      },
      "source": [
        "from sklearn.ensemble import RandomForestClassifier\n",
        "\n",
        "# To improve performance of the model, we use the same feature engineering process we used in the feature hashing part\n",
        "Xtrain_meth_mg = mg.fit_transform(Xtrain_meth)\n",
        "Xtrain_blend_mg = mg.fit_transform(Xtrain_blend)\n",
        "Xtest_mg = mg.transform(Xtest)\n",
        "\n",
        "Xtrain_meth_ha = pd.DataFrame()\n",
        "Xtrain_blend_ha = pd.DataFrame()\n",
        "Xtest_ha = pd.DataFrame()\n",
        "for col in Xtrain_mg.columns:\n",
        "    Xtrain_meth_ha[col] = Xtrain_meth_mg[col].apply(lambda x: hash(str(x)) % 1000000)\n",
        "    Xtrain_blend_ha[col] = Xtrain_blend_mg[col].apply(lambda x: hash(str(x)) % 1000000)\n",
        "    Xtest_ha[col] = Xtest_mg[col].apply(lambda x: hash(str(x)) % 1000000)\n",
        "\n",
        "# Random Forest classifier\n",
        "rf = RandomForestClassifier(n_estimators=256, min_samples_leaf=20, verbose=1, n_jobs=-1)\n",
        "rf.fit(Xtrain_meth_ha, ytrain_meth)\n",
        "\n",
        "score_blend_rf = rf.predict_proba(Xtrain_blend_ha)[:, 1]\n",
        "score_test_rf = rf.predict_proba(Xtest_ha)[:, 1]\n",
        "\n",
        "log_loss(ytrain_blend, score_blend_rf), roc_auc_score(ytrain_blend, score_blend_rf)"
      ],
      "execution_count": 0,
      "outputs": [
        {
          "output_type": "stream",
          "text": [
            "[Parallel(n_jobs=-1)]: Using backend ThreadingBackend with 4 concurrent workers.\n",
            "[Parallel(n_jobs=-1)]: Done  42 tasks      | elapsed:   28.1s\n",
            "[Parallel(n_jobs=-1)]: Done 192 tasks      | elapsed:  2.1min\n",
            "[Parallel(n_jobs=-1)]: Done 256 out of 256 | elapsed:  2.8min finished\n",
            "[Parallel(n_jobs=4)]: Using backend ThreadingBackend with 4 concurrent workers.\n",
            "[Parallel(n_jobs=4)]: Done  42 tasks      | elapsed:    0.7s\n",
            "[Parallel(n_jobs=4)]: Done 192 tasks      | elapsed:    3.0s\n",
            "[Parallel(n_jobs=4)]: Done 256 out of 256 | elapsed:    4.0s finished\n",
            "[Parallel(n_jobs=4)]: Using backend ThreadingBackend with 4 concurrent workers.\n",
            "[Parallel(n_jobs=4)]: Done  42 tasks      | elapsed:    0.4s\n",
            "[Parallel(n_jobs=4)]: Done 192 tasks      | elapsed:    1.7s\n",
            "[Parallel(n_jobs=4)]: Done 256 out of 256 | elapsed:    2.2s finished\n"
          ],
          "name": "stderr"
        },
        {
          "output_type": "execute_result",
          "data": {
            "text/plain": [
              "(0.4021488973698389, 0.7374994662928884)"
            ]
          },
          "metadata": {
            "tags": []
          },
          "execution_count": 101
        }
      ]
    },
    {
      "cell_type": "markdown",
      "metadata": {
        "colab_type": "text",
        "id": "iJcPtHjLOqxh"
      },
      "source": [
        "<font color=\"red\">\n",
        "Now with an extraTrees.</font>"
      ]
    },
    {
      "cell_type": "code",
      "metadata": {
        "id": "crHLwwiVGwer",
        "colab_type": "code",
        "outputId": "2840f5a1-50c1-49c7-9022-1a0f8361e925",
        "colab": {
          "base_uri": "https://localhost:8080/",
          "height": 34
        }
      },
      "source": [
        "from sklearn.ensemble import ExtraTreesClassifier\n",
        "\n",
        "clf = ExtraTreesClassifier(n_estimators=256, min_samples_leaf=20, random_state=0)\n",
        "clf.fit(Xtrain_meth_ha, ytrain_meth)\n",
        "\n",
        "score_blend_extra_tree = clf.predict_proba(Xtrain_blend_ha)[:, 1]\n",
        "score_test_extra_tree = clf.predict_proba(Xtest_ha)[:, 1]\n",
        "\n",
        "log_loss(ytrain_blend, score_blend_extra_tree), roc_auc_score(ytrain_blend, score_blend_extra_tree)"
      ],
      "execution_count": 0,
      "outputs": [
        {
          "output_type": "execute_result",
          "data": {
            "text/plain": [
              "(0.4070060895481567, 0.7289730710879477)"
            ]
          },
          "metadata": {
            "tags": []
          },
          "execution_count": 141
        }
      ]
    },
    {
      "cell_type": "markdown",
      "metadata": {
        "colab_type": "text",
        "id": "wUy2BfQSOqxe"
      },
      "source": [
        "<font color=\"red\">\n",
        "And again with FFM.</font>"
      ]
    },
    {
      "cell_type": "code",
      "metadata": {
        "colab_type": "code",
        "id": "PmSahlQCOqxb",
        "colab": {}
      },
      "source": [
        "# We are going through the same process than in the FFM part (doing everything again to avoid executing the full notebook).\n",
        "Xtrain_meth_ffm = pd.DataFrame()\n",
        "Xtrain_blend_ffm = pd.DataFrame()\n",
        "Xtest_ffm = pd.DataFrame()\n",
        "for col in Xtrain_meth_ha.columns:\n",
        "    Xtrain_meth_ffm[col] = Xtrain_meth_ha[col].apply(lambda x: hash(col)%10000 + x)\n",
        "    Xtrain_blend_ffm[col] = Xtrain_blend_ha[col].apply(lambda x: hash(col)%10000 + x)\n",
        "    Xtest_ffm[col] = Xtest_ha[col].apply(lambda x: hash(col)%10000 + x)\n",
        "\n",
        "allvals = []\n",
        "allcols_ffm = [col for f in fields for col in f]  # Toutes les colonnes appartenant à l'un des champ\n",
        "for col in allcols_ffm:\n",
        "    allvals.append(np.unique(Xtrain_meth_ffm[col]))\n",
        "allvals= [val for sublist in allvals for val in sublist]\n",
        "\n",
        "dicFeat = {val:i for i,val in enumerate(allvals)}\n",
        "\n",
        "for col in allcols_ffm:\n",
        "    f = dicFields[col]\n",
        "    Xtrain_meth_ffm[col] = Xtrain_meth_ffm[col].apply(lambda x:\"{}:{}:1\".format(f,dicFeat[x]) if x in dicFeat else \"\")\n",
        "    Xtrain_blend_ffm[col] = Xtrain_blend_ffm[col].apply(lambda x:\"{}:{}:1\".format(f,dicFeat[x]) if x in dicFeat else \"\")\n",
        "    Xtest_ffm[col] = Xtest_ffm[col].apply(lambda x:\"{}:{}:1\".format(f,dicFeat[x]) if x in dicFeat else \"\")\n",
        "\n",
        "yXtrain_meth_ffm = pd.concat([ytrain_meth.apply(str), Xtrain_meth_ffm] , axis=1)\n",
        "yXtrain_blend_ffm = pd.concat([ytrain_blend.apply(str), Xtrain_blend_ffm] , axis=1)\n",
        "yXtest_ffm = pd.concat([ytest.apply(str), Xtest_ffm], axis=1)\n",
        "\n",
        "train_meth_w = yXtrain_meth_ffm.apply(lambda row:' '.join(row.values),axis=1).values\n",
        "train_blend_w = yXtrain_blend_ffm.apply(lambda row:' '.join(row.values),axis=1).values\n",
        "test_w = yXtest_ffm.apply(lambda row:' '.join(row.values),axis=1).values"
      ],
      "execution_count": 0,
      "outputs": []
    },
    {
      "cell_type": "code",
      "metadata": {
        "id": "EiZo349mFV3C",
        "colab_type": "code",
        "colab": {}
      },
      "source": [
        "train_meth_file = open('train_meth.txt','w')\n",
        "for item in train_meth_w:\n",
        "    train_meth_file.write(\"%s\\n\" % item)\n",
        "train_meth_file.close()\n",
        "\n",
        "train_blend_file = open('train_blend.txt','w')\n",
        "for item in train_blend_w:\n",
        "    train_blend_file.write(\"%s\\n\" % item)\n",
        "train_blend_file.close()\n",
        "\n",
        "final_test_file = open('final_test.txt','w')\n",
        "for item in test_w:\n",
        "    final_test_file.write(\"%s\\n\" % item)\n",
        "final_test_file.close()"
      ],
      "execution_count": 0,
      "outputs": []
    },
    {
      "cell_type": "code",
      "metadata": {
        "id": "IfwyAmBQUPSS",
        "colab_type": "code",
        "outputId": "3d36d1c1-8173-4b96-937b-4e7914e97f6a",
        "colab": {
          "base_uri": "https://localhost:8080/",
          "height": 34
        }
      },
      "source": [
        "len(train_meth_w), len(train_blend_w), len(test_w)"
      ],
      "execution_count": 0,
      "outputs": [
        {
          "output_type": "execute_result",
          "data": {
            "text/plain": [
              "(720000, 180000, 100000)"
            ]
          },
          "metadata": {
            "tags": []
          },
          "execution_count": 108
        }
      ]
    },
    {
      "cell_type": "code",
      "metadata": {
        "id": "ZSduWFh6Fkft",
        "colab_type": "code",
        "outputId": "b6001922-f790-46cf-b2c9-30276237fc83",
        "colab": {
          "base_uri": "https://localhost:8080/",
          "height": 340
        }
      },
      "source": [
        "!./ffm-train -l 0.0001 -r 0.05 -k 15 -t 30 --auto-stop -p final_test.txt train_meth.txt model_blend.txt"
      ],
      "execution_count": 0,
      "outputs": [
        {
          "output_type": "stream",
          "text": [
            "First check if the text file has already been converted to binary format (0.3 seconds)\n",
            "Binary file found. Skip converting text to binary\n",
            "First check if the text file has already been converted to binary format (0.0 seconds)\n",
            "Binary file NOT found. Convert text file to binary file (0.5 seconds)\n",
            "iter   tr_logloss   va_logloss      tr_time\n",
            "   1      0.41297      0.40629          3.9\n",
            "   2      0.40522      0.40368          7.5\n",
            "   3      0.40319      0.40293         11.1\n",
            "   4      0.40204      0.40221         14.7\n",
            "   5      0.40127      0.40177         18.3\n",
            "   6      0.40069      0.40165         21.9\n",
            "   7      0.40022      0.40152         25.5\n",
            "   8      0.39984      0.40123         29.1\n",
            "   9      0.39956      0.40113         32.7\n",
            "  10      0.39930      0.40102         36.3\n",
            "  11      0.39905      0.40093         39.9\n",
            "  12      0.39884      0.40082         43.5\n",
            "  13      0.39862      0.40085\n",
            "Auto-stop. Use model at 12th iteration.\n"
          ],
          "name": "stdout"
        }
      ]
    },
    {
      "cell_type": "code",
      "metadata": {
        "id": "r4Rv2nVMFpsE",
        "colab_type": "code",
        "outputId": "7288b9cd-510a-4177-bc81-e564e5b1f6db",
        "colab": {
          "base_uri": "https://localhost:8080/",
          "height": 34
        }
      },
      "source": [
        "!./ffm-predict train_blend.txt model_blend.txt prediction_blend.txt"
      ],
      "execution_count": 0,
      "outputs": [
        {
          "output_type": "stream",
          "text": [
            "logloss = 0.40129\n"
          ],
          "name": "stdout"
        }
      ]
    },
    {
      "cell_type": "code",
      "metadata": {
        "id": "ipn8xWMPIH64",
        "colab_type": "code",
        "outputId": "97c8a01c-8a09-43bb-aa7a-55017010e266",
        "colab": {
          "base_uri": "https://localhost:8080/",
          "height": 34
        }
      },
      "source": [
        "!./ffm-predict final_test.txt model_blend.txt prediction_test.txt"
      ],
      "execution_count": 0,
      "outputs": [
        {
          "output_type": "stream",
          "text": [
            "logloss = 0.40082\n"
          ],
          "name": "stdout"
        }
      ]
    },
    {
      "cell_type": "code",
      "metadata": {
        "id": "8MeBQFbsFuUE",
        "colab_type": "code",
        "outputId": "f9fe8499-152d-414d-cdf5-c224fa1be539",
        "colab": {
          "base_uri": "https://localhost:8080/",
          "height": 34
        }
      },
      "source": [
        "ffm_blend_pred = pd.read_csv('./prediction_blend.txt', header=None)\n",
        "ffm_test_pred = pd.read_csv('./prediction_test.txt', header=None)\n",
        "\n",
        "score_blend_ffm = ffm_blend_pred.values.ravel()\n",
        "score_test_ffm = ffm_test_pred.values.ravel()\n",
        "\n",
        "log_loss(ytrain_blend, score_blend_ffm), roc_auc_score(ytrain_blend, score_blend_ffm)"
      ],
      "execution_count": 0,
      "outputs": [
        {
          "output_type": "execute_result",
          "data": {
            "text/plain": [
              "(0.40128969877253023, 0.738248261818606)"
            ]
          },
          "metadata": {
            "tags": []
          },
          "execution_count": 126
        }
      ]
    },
    {
      "cell_type": "markdown",
      "metadata": {
        "colab_type": "text",
        "id": "Jk56lAPTOqxZ"
      },
      "source": [
        "<font color=\"red\">\n",
        "Concatenate all scores on Xtrain_blend to form a Zblend design matrix.</font>"
      ]
    },
    {
      "cell_type": "code",
      "metadata": {
        "colab_type": "code",
        "id": "y4Fz0wSLOqxT",
        "outputId": "0b2214f6-b165-4a28-cd62-833fb34a45fc",
        "colab": {
          "base_uri": "https://localhost:8080/",
          "height": 34
        }
      },
      "source": [
        "Zblend = np.column_stack((score_blend_logistic,\n",
        "                          score_blend_xgb,\n",
        "                          score_blend_rf,\n",
        "                          score_blend_extra_tree,\n",
        "                          score_blend_ffm))\n",
        "\n",
        "Ztest = np.column_stack((score_test_logistic,\n",
        "                         score_test_xgb,\n",
        "                         score_test_rf,\n",
        "                         score_test_extra_tree,\n",
        "                         score_test_ffm))\n",
        "\n",
        "Zblend.shape, Ztest.shape"
      ],
      "execution_count": 0,
      "outputs": [
        {
          "output_type": "execute_result",
          "data": {
            "text/plain": [
              "((180000, 5), (100000, 5))"
            ]
          },
          "metadata": {
            "tags": []
          },
          "execution_count": 142
        }
      ]
    },
    {
      "cell_type": "markdown",
      "metadata": {
        "colab_type": "text",
        "id": "px1CkkL7OqxR"
      },
      "source": [
        "<font color=\"red\">\n",
        "Train a logistic regression on (Zblend,ytrain_blend).</font>"
      ]
    },
    {
      "cell_type": "code",
      "metadata": {
        "colab_type": "code",
        "id": "awqpZTPhOqxN",
        "outputId": "9fd20f48-29f7-44a8-fcd7-ed57f448b0a2",
        "colab": {
          "base_uri": "https://localhost:8080/",
          "height": 136
        }
      },
      "source": [
        "lr = LogisticRegression()\n",
        "lr.fit(Zblend, ytrain_blend)"
      ],
      "execution_count": 0,
      "outputs": [
        {
          "output_type": "stream",
          "text": [
            "/usr/local/lib/python3.6/dist-packages/sklearn/linear_model/logistic.py:432: FutureWarning: Default solver will be changed to 'lbfgs' in 0.22. Specify a solver to silence this warning.\n",
            "  FutureWarning)\n"
          ],
          "name": "stderr"
        },
        {
          "output_type": "execute_result",
          "data": {
            "text/plain": [
              "LogisticRegression(C=1.0, class_weight=None, dual=False, fit_intercept=True,\n",
              "                   intercept_scaling=1, l1_ratio=None, max_iter=100,\n",
              "                   multi_class='warn', n_jobs=None, penalty='l2',\n",
              "                   random_state=None, solver='warn', tol=0.0001, verbose=0,\n",
              "                   warm_start=False)"
            ]
          },
          "metadata": {
            "tags": []
          },
          "execution_count": 143
        }
      ]
    },
    {
      "cell_type": "markdown",
      "metadata": {
        "colab_type": "text",
        "id": "nzWT4vH-OqxJ"
      },
      "source": [
        "<font color=\"red\">\n",
        "Evaluate the performance of this model on the test dataset.</font>"
      ]
    },
    {
      "cell_type": "code",
      "metadata": {
        "colab_type": "code",
        "id": "zq_IriMnOqw6",
        "outputId": "a26cff50-bbef-4ccc-9650-a22654c2faf6",
        "colab": {
          "base_uri": "https://localhost:8080/",
          "height": 34
        }
      },
      "source": [
        "final_score_test = lr.predict_proba(Ztest)[:, 1]\n",
        "\n",
        "print(log_loss(ytest, final_score_test), roc_auc_score(ytest, final_score_test))"
      ],
      "execution_count": 0,
      "outputs": [
        {
          "output_type": "stream",
          "text": [
            "0.4044433700520764 0.744022886416385\n"
          ],
          "name": "stdout"
        }
      ]
    },
    {
      "cell_type": "code",
      "metadata": {
        "id": "jzQJfDN7dBcN",
        "colab_type": "code",
        "outputId": "6de5bcf9-1ff6-4761-f89a-af8288606890",
        "colab": {
          "base_uri": "https://localhost:8080/",
          "height": 322
        }
      },
      "source": [
        "from sklearn.metrics import roc_curve\n",
        "\n",
        "false_pos_rate, true_pos_rate, _ = roc_curve(ytest, final_score_test)\n",
        "plt.plot(false_pos_rate, true_pos_rate)\n",
        "\n",
        "plt.grid()\n",
        "plt.plot([0, 1], [0, 1], 'r--')\n",
        "plt.xlabel('False Positive Rate', fontsize=16)\n",
        "plt.ylabel('True Positive Rate', fontsize=16)\n",
        "plt.title('ROC curve', fontsize=20)"
      ],
      "execution_count": 0,
      "outputs": [
        {
          "output_type": "execute_result",
          "data": {
            "text/plain": [
              "Text(0.5, 1.0, 'ROC curve')"
            ]
          },
          "metadata": {
            "tags": []
          },
          "execution_count": 145
        },
        {
          "output_type": "display_data",
          "data": {
            "image/png": "[encoded data removed]",
            "text/plain": [
              "<Figure size 432x288 with 1 Axes>"
            ]
          },
          "metadata": {
            "tags": []
          }
        }
      ]
    },
    {
      "cell_type": "code",
      "metadata": {
        "id": "chfDF-50dJB2",
        "colab_type": "code",
        "outputId": "4f7ba47f-afe5-4b2d-9743-d7bb02190256",
        "colab": {
          "base_uri": "https://localhost:8080/",
          "height": 322
        }
      },
      "source": [
        "from utils import plotlift\n",
        "\n",
        "plotlift(ytest, final_score_test)\n",
        "# The following line just plots a vertical line for you to answer the second part of the question\n",
        "plt.axvline(x=0.2, linestyle='--', color='r') # Fill here\n",
        "\n",
        "plt.xlabel('Proportion of the dataset', fontsize=16)\n",
        "plt.ylabel('Lift', fontsize=16)\n",
        "plt.title('Lift curve', fontsize=20)\n",
        "plt.plot()"
      ],
      "execution_count": 0,
      "outputs": [
        {
          "output_type": "execute_result",
          "data": {
            "text/plain": [
              "[]"
            ]
          },
          "metadata": {
            "tags": []
          },
          "execution_count": 146
        },
        {
          "output_type": "display_data",
          "data": {
            "image/png": "[encoded data removed]",
            "text/plain": [
              "<Figure size 432x288 with 1 Axes>"
            ]
          },
          "metadata": {
            "tags": []
          }
        }
      ]
    }
  ]
}