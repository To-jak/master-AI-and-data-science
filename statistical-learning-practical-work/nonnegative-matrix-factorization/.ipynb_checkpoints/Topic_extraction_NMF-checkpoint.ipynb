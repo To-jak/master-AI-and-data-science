{
 "cells": [
  {
   "cell_type": "code",
   "execution_count": 2,
   "metadata": {},
   "outputs": [
    {
     "name": "stderr",
     "output_type": "stream",
     "text": [
      "Downloading 20news dataset. This may take a few minutes.\n",
      "Downloading dataset from https://ndownloader.figshare.com/files/5975967 (14 MB)\n"
     ]
    },
    {
     "name": "stdout",
     "output_type": "stream",
     "text": [
      "Loading dataset and extracting TF-IDF features...\n",
      "done in 18.864s.\n",
      "Fitting the NMF model on with n_samples=1000 and n_features=900...\n",
      "done in 18.916s.\n",
      "Topic #0:\n",
      "edu year article team baseball cs players writes game university runs host nntp posting jewish good hit season games win\n",
      "Topic #1:\n",
      "graphics files file uk thanks ac 3d program package help ca image windows university computer need format posting use com\n",
      "Topic #2:\n",
      "com god jesus sandvik people christian writes bible don kent christians brian netcom koresh article life said newton just apple\n",
      "Topic #3:\n",
      "mac apple edu drive scsi quadra monitor problem video centris duo se problems card power drives software internal disk ram\n"
     ]
    }
   ],
   "source": [
    "# Author: Olivier Grisel <olivier.grisel@ensta.org>\n",
    "# License: Simplified BSD\n",
    "\n",
    "from time import time\n",
    "from sklearn.feature_extraction import text\n",
    "from sklearn import decomposition\n",
    "from sklearn import datasets\n",
    "\n",
    "n_samples = 1000\n",
    "n_features = 900\n",
    "n_topics = 4\n",
    "n_top_words = 20\n",
    "\n",
    "# Load the 20 newsgroups dataset and vectorize it using the most common word\n",
    "# frequency with TF-IDF weighting (without top 5% stop words)\n",
    "\n",
    "t0 = time()\n",
    "\n",
    "# Load some categories from the training set\n",
    "categories = ['rec.sport.baseball','comp.graphics', 'comp.sys.mac.hardware',\n",
    "              'talk.religion.misc']\n",
    "\n",
    "print(\"Loading dataset and extracting TF-IDF features...\")\n",
    "dataset = datasets.fetch_20newsgroups(data_home='c:/data/', shuffle=True,\n",
    "                                      categories=categories, random_state=1)\n",
    "\n",
    "vectorizer = text.CountVectorizer(max_df=0.95, max_features=n_features, stop_words='english')\n",
    "counts = vectorizer.fit_transform(dataset.data[:n_samples])\n",
    "tfidf = text.TfidfTransformer().fit_transform(counts)\n",
    "print(\"done in %0.3fs.\" % (time() - t0))\n",
    "\n",
    "# Fit the NMF model\n",
    "print(\"Fitting the NMF model on with n_samples=%d and n_features=%d...\" % (\n",
    "    n_samples, n_features))\n",
    "nmf = decomposition.NMF(n_components=n_topics).fit(tfidf)\n",
    "print(\"done in %0.3fs.\" % (time() - t0))\n",
    "\n",
    "# Inverse the vectorizer vocabulary to be able\n",
    "feature_names = vectorizer.get_feature_names()\n",
    "\n",
    "for topic_idx, topic in enumerate(nmf.components_):\n",
    "    print(\"Topic #%d:\" % topic_idx)\n",
    "    print(\" \".join([feature_names[i]\n",
    "                    for i in topic.argsort()[:-n_top_words - 1:-1]]))\n",
    "\n"
   ]
  }
 ],
 "metadata": {
  "kernelspec": {
   "display_name": "Python 3",
   "language": "python",
   "name": "python3"
  },
  "language_info": {
   "codemirror_mode": {
    "name": "ipython",
    "version": 3
   },
   "file_extension": ".py",
   "mimetype": "text/x-python",
   "name": "python",
   "nbconvert_exporter": "python",
   "pygments_lexer": "ipython3",
   "version": "3.7.1"
  }
 },
 "nbformat": 4,
 "nbformat_minor": 2
}
