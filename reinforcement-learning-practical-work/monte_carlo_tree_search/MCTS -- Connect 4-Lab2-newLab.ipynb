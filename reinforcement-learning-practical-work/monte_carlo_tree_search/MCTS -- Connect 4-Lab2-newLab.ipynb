{
 "cells": [
  {
   "cell_type": "code",
   "execution_count": 2,
   "metadata": {},
   "outputs": [],
   "source": [
    "from __future__ import division\n",
    "import numpy as np\n",
    "import random"
   ]
  },
  {
   "cell_type": "markdown",
   "metadata": {},
   "source": [
    "# Connect 4\n",
    "\n",
    "The game is fully described by the current state of the grid, which is an array of size 6x7 initially filled with zeros. \n",
    "Players are called +1 and -1. Player +1 starts and everytime they play, their ID is placed in the grid array.\n",
    "\n",
    "Note that... For classic Connect Four played on 6 high, 7 wide grid, there are 4,531,985,219,092 positions for all game boards populated with 0 to 42 pieces (wikipedia). So it's a bit hard a visit them all. "
   ]
  },
  {
   "cell_type": "code",
   "execution_count": 3,
   "metadata": {},
   "outputs": [],
   "source": [
    "\n",
    "\n",
    "def create_grid(sizeX=6, sizeY=7):\n",
    "    return np.zeros((sizeX, sizeY), dtype=int)\n",
    "\n",
    "def reset(grid):\n",
    "    return np.zeros(grid.shape, dtype=int)\n",
    "\n",
    "def play(grid_before_play, column, player=None):\n",
    "    \"\"\"\n",
    "    Play at given column, if no player provided, calculate which player must play, otherwise force player to play\n",
    "    Return new grid and winner\n",
    "    \n",
    "    grid_before_play: array containing zero if location empty, 1 or -1 if the respective player already played there. \n",
    "    column: index of the column\n",
    "    player: index of the player (1 or -1)\n",
    "    \"\"\"\n",
    "    grid = grid_before_play.copy()\n",
    "    if player == None:\n",
    "        player = get_player_to_play(grid)\n",
    "\n",
    "    if can_play(grid, column):\n",
    "        row = grid.shape[0] - 1 - np.sum(np.abs(grid[:, column]), dtype=int)\n",
    "        grid[row, column] = player\n",
    "    else:\n",
    "        raise Exception('Error : Column {} is full'.format(column))\n",
    "    return grid\n",
    "\n",
    "def get_row(grid, column):\n",
    "    \"\"\"\n",
    "    return the index of the row where the player's coin is going to be after playing column in state grid.\n",
    "    \"\"\"\n",
    "    return grid.shape[0] - 1 - np.sum(np.abs(grid[:, column]), dtype=int)\n",
    "    \n",
    "\n",
    "def can_play(grid, column):\n",
    "    \"\"\"\n",
    "    Check if the given column is free\n",
    "    \"\"\"\n",
    "    return grid[0, column ] == 0\n",
    "\n",
    "def valid_moves(grid):\n",
    "    \"\"\"\n",
    "    returns the list of available next moves given the current state (grid)\n",
    "    \"\"\"\n",
    "    return [i for i in range(grid.shape[1]) if can_play(grid, i)]\n",
    "\n",
    "def has_won(grid, player, row, column):\n",
    "    \"\"\"\n",
    "    Check if player has won after playing column. \n",
    "    Must check if the new state of the grid after (row, column) is played contains a victory_pattern.\n",
    "    \"\"\"\n",
    "    player += 1\n",
    "    grid += 1\n",
    "    row_str = ''.join(grid[row, :].astype(str).tolist())\n",
    "    col_str = ''.join(grid[:, column].astype(str).tolist())\n",
    "    up_diag_str = ''.join(np.diagonal(grid, offset=(column - row)).astype(str).tolist())\n",
    "    down_diag_str = ''.join(np.diagonal(np.rot90(grid), offset=-grid.shape[1] + (column + row) + 1).astype(str).tolist())\n",
    "\n",
    "    grid -= 1\n",
    "    victory_pattern = str(player)*4\n",
    "    if victory_pattern in row_str:\n",
    "        return True\n",
    "    if victory_pattern in col_str:\n",
    "        return True\n",
    "    if victory_pattern in up_diag_str:\n",
    "        return True\n",
    "    if victory_pattern in down_diag_str:\n",
    "        return True\n",
    "\n",
    "    return False\n",
    "\n",
    "\n",
    "def get_player_to_play(grid):\n",
    "    \"\"\"\n",
    "    Get player to play given a grid\n",
    "    \"\"\"\n",
    "    player_1 = 0.5 * np.abs(np.sum(grid-1))\n",
    "    player_2 = 0.5 * np.sum(grid + 1)\n",
    "\n",
    "    if player_1 > player_2:\n",
    "        return 1\n",
    "    else:\n",
    "        return -1\n",
    "\n",
    "\n",
    "\n",
    "def get_next_state(grid, move):\n",
    "    \"\"\"\n",
    "    Returns the next grid after chosing column move in grid\n",
    "    \"\"\"\n",
    "    if can_play(grid, move) == False:\n",
    "        print(grid)\n",
    "        print(move)\n",
    "        #this should not happen if there is no bug in the selection algorithm\n",
    "        #raise Exception('Error : Column {} is full'.format(move))\n",
    "        print(\"wrong move\")\n",
    "        \n",
    "    \n",
    "    next_grid = play(grid, move)\n",
    "    return next_grid\n",
    "\n",
    "\n",
    "def get_winning_moves(grid, moves, player):\n",
    "        return [move for move in moves if has_won(grid, player, get_row(grid,move),move)]"
   ]
  },
  {
   "cell_type": "code",
   "execution_count": 4,
   "metadata": {},
   "outputs": [],
   "source": [
    "# TESTS\n",
    "test_grid = create_grid()\n",
    "test_grid = play(test_grid, 4)\n",
    "test_grid = play(test_grid, 4)"
   ]
  },
  {
   "cell_type": "code",
   "execution_count": 5,
   "metadata": {},
   "outputs": [],
   "source": [
    "test_grid = play(test_grid, 4) # the state is not preserved"
   ]
  },
  {
   "cell_type": "code",
   "execution_count": 6,
   "metadata": {},
   "outputs": [
    {
     "data": {
      "text/plain": [
       "True"
      ]
     },
     "execution_count": 6,
     "metadata": {},
     "output_type": "execute_result"
    }
   ],
   "source": [
    "can_play(test_grid, 3) "
   ]
  },
  {
   "cell_type": "code",
   "execution_count": 7,
   "metadata": {},
   "outputs": [
    {
     "data": {
      "text/plain": [
       "[0, 1, 2, 3, 4, 5, 6]"
      ]
     },
     "execution_count": 7,
     "metadata": {},
     "output_type": "execute_result"
    }
   ],
   "source": [
    "valid_moves(test_grid)"
   ]
  },
  {
   "cell_type": "code",
   "execution_count": 8,
   "metadata": {},
   "outputs": [],
   "source": [
    "test_grid = play(test_grid, 3)\n",
    "test_grid = play(test_grid, 3)\n",
    "test_grid = play(test_grid, 5)\n",
    "test_grid = play(test_grid, 5)\n",
    "test_grid = play(test_grid, 6)"
   ]
  },
  {
   "cell_type": "code",
   "execution_count": 9,
   "metadata": {},
   "outputs": [
    {
     "data": {
      "text/plain": [
       "array([[ 0,  0,  0,  0,  0,  0,  0],\n",
       "       [ 0,  0,  0,  0,  0,  0,  0],\n",
       "       [ 0,  0,  0,  0,  0,  0,  0],\n",
       "       [ 0,  0,  0,  0, -1,  0,  0],\n",
       "       [ 0,  0,  0, -1,  1, -1,  0],\n",
       "       [ 0,  0,  0,  1, -1,  1,  1]])"
      ]
     },
     "execution_count": 9,
     "metadata": {},
     "output_type": "execute_result"
    }
   ],
   "source": [
    "test_grid"
   ]
  },
  {
   "cell_type": "code",
   "execution_count": 10,
   "metadata": {},
   "outputs": [
    {
     "data": {
      "text/plain": [
       "False"
      ]
     },
     "execution_count": 10,
     "metadata": {},
     "output_type": "execute_result"
    }
   ],
   "source": [
    "has_won(test_grid, -1, 5, 6)"
   ]
  },
  {
   "cell_type": "markdown",
   "metadata": {},
   "source": [
    "# Tree structure (Node class)"
   ]
  },
  {
   "cell_type": "code",
   "execution_count": 12,
   "metadata": {},
   "outputs": [],
   "source": [
    "class Node:\n",
    "\n",
    "    def __init__(self, grid_state, winning, move_from_parent, parent):\n",
    "        self.parent = parent\n",
    "        self.move = move_from_parent\n",
    "        self.win = 1 if winning else 0\n",
    "        self.games = 0\n",
    "        \n",
    "        self.state = grid_state # flattened grid containing 0, +1 and -1\n",
    "        self.children = {} # Dict[int, Node], will be updated by the expand function of the agent\n",
    "        self.winner = winning\n",
    "\n",
    "\n",
    "\n",
    "    def get_state(self):\n",
    "        print(self.state)\n",
    "        return self.state\n"
   ]
  },
  {
   "cell_type": "markdown",
   "metadata": {},
   "source": [
    "# Tree Search Algorithm"
   ]
  },
  {
   "cell_type": "markdown",
   "metadata": {},
   "source": [
    "## Default Policy : random choice among valid moves"
   ]
  },
  {
   "cell_type": "code",
   "execution_count": 15,
   "metadata": {},
   "outputs": [],
   "source": [
    "def random_play(grid, printing=False):\n",
    "    \"\"\"\n",
    "    Play a random game starting by state and player\n",
    "    Return winner\n",
    "    \"\"\"\n",
    "    move_seq = []\n",
    "    while True:\n",
    "        moves = valid_moves(grid)\n",
    "        if len(moves) == 0:\n",
    "            return 0\n",
    "        selected_move = random.choice(moves)\n",
    "        move_seq.append(selected_move)\n",
    "        \n",
    "        player = get_player_to_play(grid)\n",
    "        row = get_row(grid, selected_move )\n",
    "        grid = play(grid, selected_move)\n",
    "        winner = has_won(grid, player, row, selected_move)\n",
    "        if winner :\n",
    "            if printing:\n",
    "                print(\"sequence of moves:\", move_seq)\n",
    "                print(\"final grid: \")\n",
    "                print(grid)\n",
    "            return player"
   ]
  },
  {
   "cell_type": "code",
   "execution_count": 16,
   "metadata": {},
   "outputs": [
    {
     "name": "stdout",
     "output_type": "stream",
     "text": [
      "sequence of moves: [0, 5, 3, 0, 6, 6, 2, 6, 3, 5, 1]\n",
      "final grid: \n",
      "[[ 0  0  0  0  0  0  0]\n",
      " [ 0  0  0  0  0  0  0]\n",
      " [ 0  0  0  0  0  0  0]\n",
      " [ 0  0  0  0  0  0  1]\n",
      " [ 1  0  0 -1  0  1  1]\n",
      " [-1 -1 -1 -1  0  1 -1]]\n"
     ]
    },
    {
     "data": {
      "text/plain": [
       "-1"
      ]
     },
     "execution_count": 16,
     "metadata": {},
     "output_type": "execute_result"
    }
   ],
   "source": [
    "test_grid = create_grid()\n",
    "random_play(test_grid, printing=True)"
   ]
  },
  {
   "cell_type": "markdown",
   "metadata": {},
   "source": [
    "### Question : Can you think of a \"better\" Default policy ?"
   ]
  },
  {
   "cell_type": "markdown",
   "metadata": {},
   "source": [
    "## UCB generic function"
   ]
  },
  {
   "cell_type": "code",
   "execution_count": 29,
   "metadata": {},
   "outputs": [],
   "source": [
    "import operator\n",
    "\n",
    "def break_ties(ucbs):\n",
    "    mixer = np.random.random(ucbs.size)  # Shuffle to avoid always pulling the same arm when ties\n",
    "    UCB_indices = list(np.lexsort((mixer, ucbs)))  # Sort the indices\n",
    "    output = UCB_indices[::-1]  # Reverse list\n",
    "    chosen_arm_index = output[0]\n",
    "    chosen_arm = arms[chosen_arm_index,:]\n",
    "\n",
    "    return chosen_arm\n",
    "\n",
    "def ucb_selection(node, C_p, player, max_value=100.):\n",
    "    \"\"\"\n",
    "    \n",
    "    \"\"\"\n",
    "    #from pdb import set_trace; set_trace()\n",
    "    \n",
    "    moves = valid_moves(node.state)\n",
    "    ucbs = np.empty(7)\n",
    "    \n",
    "    for move in moves:\n",
    "        child = node.children[move]\n",
    "        ucbs[move] = child.win/child.games + C_p * np.sqrt(2 * np.log(node.games) / child.games)\n",
    "    \n",
    "    return np.argmax(ucbs)\n",
    "    \n"
   ]
  },
  {
   "cell_type": "code",
   "execution_count": 30,
   "metadata": {},
   "outputs": [
    {
     "data": {
      "text/plain": [
       "5"
      ]
     },
     "execution_count": 30,
     "metadata": {},
     "output_type": "execute_result"
    }
   ],
   "source": [
    "np.max(np.array([1,3,5,5,5]))"
   ]
  },
  {
   "cell_type": "markdown",
   "metadata": {},
   "source": [
    "## MCTS"
   ]
  },
  {
   "cell_type": "code",
   "execution_count": 31,
   "metadata": {},
   "outputs": [],
   "source": [
    "\n",
    "# define the \n",
    "class MCTS():\n",
    "    def __init__(self, C_p, root_node, train_time = 100, max_value=10., printing=False):\n",
    "        \"\"\"\n",
    "        C_p : exploration boost constant\n",
    "        root_state: array representing the game before any round happened, \n",
    "        train_time : integer, number of games to be played for training using an MCTS algorithm,\n",
    "        max_value: max_value of the ucbs\n",
    "        \"\"\"\n",
    "        self.C_p = C_p\n",
    "        self.max_value = max_value #remove or update\n",
    "        self.root = root_node\n",
    "        self.train_time = train_time\n",
    "        self.printing=printing\n",
    "        \n",
    "        \n",
    "    def select_move(self, current_node):\n",
    "        \"\"\"\n",
    "        Must take a grid (array) as input, not a node, because it is the interacting function\n",
    "        Select best move and advance\n",
    "        :return:\n",
    "        int : the move to be taken from current node \n",
    "        \n",
    "        \"\"\"\n",
    "        # That's a hack :\n",
    "        # check if a child is a winning state, if yes take the according move\n",
    "#         winners = [current_node.children[i] for i in current_node.children.keys() if current_node.children[i].winner]\n",
    "#         if len(winners) > 0:\n",
    "#             return winners[0].move\n",
    "\n",
    "#         player = get_player_to_play(current_node.state)\n",
    "        \n",
    "#         other_player = -1 * player\n",
    "#         valid_moves_other_player = valid_moves(current_node.state)\n",
    "#         winning_moves = get_winning_moves(current_node.state, valid_moves_other_player, other_player)\n",
    "        \n",
    "        return ucb_selection(current_node, self.C_p, player, self.max_value )\n",
    "        \n",
    "        \n",
    "        \n",
    "            \n",
    "    def simulate(self, current_node):\n",
    "        \"\"\"\n",
    "        from current node, generates the sequence of nodes selected by UCT and returns the last one,\n",
    "        that is the one whose UCT move is does not correspond to any existing child. \n",
    "        \n",
    "        return: Tuple(Node, int) : Last visited node and the chosen move for future expansion.\n",
    "        \n",
    "        \"\"\"\n",
    "        \n",
    "        player = get_player_to_play(current_node.state)\n",
    "        \n",
    "        while True:\n",
    "            moves = valid_moves(current_node.state)\n",
    "            for move in moves:\n",
    "                if move not in current_node.children:\n",
    "                    return current_node, move\n",
    "            \n",
    "            \n",
    "            move = ucb_selection(current_node, self.C_p, player, self.max_value)\n",
    "            \n",
    "            if move not in current_node.children:\n",
    "                \n",
    "                return current_node, move\n",
    "            \n",
    "            current_node = current_node.children[move] # update current node to next stage in the tree\n",
    "            \n",
    "        \n",
    "            \n",
    "    def expand(self, current_node, current_player, move):\n",
    "        \"\"\"\n",
    "        creates a new node whose parent is current node and that is reached by choosing column move\n",
    "        \"\"\"\n",
    "        child_state = get_next_state(current_node.state, move)\n",
    "        winning = 0\n",
    "        child_has_won = 0\n",
    "        row = get_row(current_node.state, move)\n",
    "        if has_won(child_state, current_player, row, move):\n",
    "            winning = 1 # that move was winning\n",
    "            child_has_won = 1\n",
    "        else :\n",
    "            winner = random_play(child_state)\n",
    "            if winner == current_player:\n",
    "                child_has_won = 1 #that move was winning        \n",
    "            \n",
    "        new_node = Node(child_state, winning, move, current_node)\n",
    "        new_node.games += 1\n",
    "        new_node.win += child_has_won\n",
    "          \n",
    "        current_node.children[move] = new_node # current node now points to its new child\n",
    "        \n",
    "        \n",
    "        return new_node\n",
    "    \n",
    "    def backward_propagation(self, expanded_node):\n",
    "        \"\"\" propagates back the value received by the expanded node following rollout\"\"\"\n",
    "        winning = expanded_node.win\n",
    "        current_node = expanded_node\n",
    "        \n",
    "        while current_node.parent is not None: \n",
    "            \n",
    "            \n",
    "            current_node.parent.win += winning\n",
    "            \n",
    "            current_node.parent.games += 1\n",
    "            current_node = current_node.parent\n",
    "            winning = 1 - winning # propagate opposite values along the path for each player\n",
    "            \n",
    "    def get_children_values(self, node):\n",
    "        \"\"\"\n",
    "        returns a dict containing the UCBs of the children of the given node\n",
    "        \"\"\"\n",
    "        values = dict()\n",
    "        for move, child in node.children.items():\n",
    "            values[move] = child.win / child.games + self.C_p * np.sqrt(np.log(node.games)/child.games)\n",
    "            \n",
    "        return values\n",
    "            \n",
    "        \n",
    "        \n",
    "\n",
    "\n",
    "    def train(self, node):\n",
    "        \"\"\"\n",
    "        Builds and searches the tree and learns the node values to lead the decisions\n",
    "        \n",
    "        \"\"\"\n",
    "        \n",
    "        \n",
    "        t=0\n",
    "        while t < self.train_time:\n",
    "            \n",
    "            # Select initial path in the \"known\" part of the tree\n",
    "            node_to_expand, move = self.simulate(node)\n",
    "            \n",
    "            \n",
    "            if can_play(node_to_expand.state, move):\n",
    "                \n",
    "                next_grid = get_next_state(node_to_expand.state, move)\n",
    "\n",
    "                player = get_player_to_play(node_to_expand.state)\n",
    "\n",
    "                new_node = self.expand(node_to_expand, player, move)\n",
    "                self.backward_propagation(new_node)\n",
    "                t += 1\n",
    "                if (t % 100)==0 and self.printing:\n",
    "                    print(\"100 more training steps\")\n",
    "            else:\n",
    "                pass\n",
    "\n",
    "    \n",
    "    "
   ]
  },
  {
   "cell_type": "code",
   "execution_count": 32,
   "metadata": {},
   "outputs": [
    {
     "name": "stdout",
     "output_type": "stream",
     "text": [
      "100 more training steps\n"
     ]
    }
   ],
   "source": [
    "root = create_grid()\n",
    "root_node = Node(root, 0, None, None)\n",
    "mcts = MCTS(2, root_node, train_time = 100, printing=True)\n",
    "\n",
    "\n",
    "mcts.train(mcts.root)"
   ]
  },
  {
   "cell_type": "code",
   "execution_count": 33,
   "metadata": {},
   "outputs": [
    {
     "data": {
      "text/plain": [
       "5"
      ]
     },
     "execution_count": 33,
     "metadata": {},
     "output_type": "execute_result"
    }
   ],
   "source": [
    "ucb_selection(root_node,2, -1)"
   ]
  },
  {
   "cell_type": "code",
   "execution_count": 34,
   "metadata": {},
   "outputs": [
    {
     "name": "stdout",
     "output_type": "stream",
     "text": [
      "100 more training steps\n"
     ]
    }
   ],
   "source": [
    "mcts.train(mcts.root)"
   ]
  },
  {
   "cell_type": "code",
   "execution_count": 35,
   "metadata": {},
   "outputs": [
    {
     "name": "stdout",
     "output_type": "stream",
     "text": [
      "200\n"
     ]
    }
   ],
   "source": [
    "print(mcts.root.games)"
   ]
  },
  {
   "cell_type": "code",
   "execution_count": 36,
   "metadata": {},
   "outputs": [
    {
     "data": {
      "text/plain": [
       "{0: 1.350602471000455,\n",
       " 1: 1.3210100743226403,\n",
       " 2: 1.264267874075378,\n",
       " 3: 1.242686352884689,\n",
       " 4: 1.264267874075378,\n",
       " 5: 1.3071678954223052,\n",
       " 6: 1.3138118153593648}"
      ]
     },
     "execution_count": 36,
     "metadata": {},
     "output_type": "execute_result"
    }
   ],
   "source": [
    "mcts.get_children_values(mcts.root)"
   ]
  },
  {
   "cell_type": "markdown",
   "metadata": {},
   "source": [
    "# Playing with the trained tree"
   ]
  },
  {
   "cell_type": "markdown",
   "metadata": {},
   "source": [
    "The print function below allows you to visualize the grid. Feel free to use this function anywhere you need for debugging or testing.  "
   ]
  },
  {
   "cell_type": "code",
   "execution_count": 38,
   "metadata": {},
   "outputs": [],
   "source": [
    "\n",
    "def utils_print(grid):\n",
    "    print_grid = grid.astype(str)\n",
    "    print_grid[print_grid == '-1'] = 'X'\n",
    "    print_grid[print_grid == '1'] = 'O'\n",
    "    print_grid[print_grid == '0'] = ' '\n",
    "    res = str(print_grid).replace(\"'\", \"\")\n",
    "    res = res.replace('[[', '[')\n",
    "    res = res.replace(']]', ']')\n",
    "    print(' ' + res)\n",
    "    print('  ' + ' '.join('0123456'))\n",
    "\n",
    "\n"
   ]
  },
  {
   "cell_type": "code",
   "execution_count": 39,
   "metadata": {},
   "outputs": [
    {
     "name": "stdout",
     "output_type": "stream",
     "text": [
      "training finished\n"
     ]
    }
   ],
   "source": [
    "root_state = create_grid() \n",
    "root_node = Node(root_state, 0, None, None)\n",
    "ai = MCTS(2., root_node, train_time=1000)\n",
    "\n",
    "ai.train(root_node)\n",
    "\n",
    "\n",
    "print('training finished')"
   ]
  },
  {
   "cell_type": "code",
   "execution_count": 40,
   "metadata": {},
   "outputs": [],
   "source": [
    "ai.train(ai.root)"
   ]
  },
  {
   "cell_type": "code",
   "execution_count": 41,
   "metadata": {},
   "outputs": [],
   "source": [
    "N_pretrainings = 1000"
   ]
  },
  {
   "cell_type": "code",
   "execution_count": null,
   "metadata": {},
   "outputs": [],
   "source": [
    "for t in range(N_pretrainings):\n",
    "    ai.train(ai.root)\n",
    "    "
   ]
  },
  {
   "cell_type": "code",
   "execution_count": null,
   "metadata": {},
   "outputs": [],
   "source": [
    "ai.root.games"
   ]
  },
  {
   "cell_type": "code",
   "execution_count": null,
   "metadata": {},
   "outputs": [],
   "source": [
    "print(ai.get_children_values(ai.root))\n",
    "#print(\"interesting, it seems like playing in the middle is a bit better on average\")"
   ]
  },
  {
   "cell_type": "code",
   "execution_count": 215,
   "metadata": {},
   "outputs": [
    {
     "name": "stdout",
     "output_type": "stream",
     "text": [
      " [             ]\n",
      " [             ]\n",
      " [             ]\n",
      " [             ]\n",
      " [             ]\n",
      " [O     X X O  ]\n",
      "  0 1 2 3 4 5 6\n"
     ]
    }
   ],
   "source": [
    "utils_print(ai.root.children[3].children[5].children[4].children[0].state)"
   ]
  },
  {
   "cell_type": "code",
   "execution_count": 223,
   "metadata": {},
   "outputs": [
    {
     "name": "stdout",
     "output_type": "stream",
     "text": [
      "{}\n"
     ]
    }
   ],
   "source": [
    "print(ai.get_children_values(ai.root.children[3].children[5].children[4].children[0]))"
   ]
  },
  {
   "cell_type": "code",
   "execution_count": null,
   "metadata": {
    "scrolled": false
   },
   "outputs": [
    {
     "name": "stdout",
     "output_type": "stream",
     "text": [
      " [             ]\n",
      " [             ]\n",
      " [             ]\n",
      " [             ]\n",
      " [             ]\n",
      " [             ]\n",
      "  0 1 2 3 4 5 6\n",
      "You play, enter a column index\n",
      "4\n",
      " [             ]\n",
      " [             ]\n",
      " [             ]\n",
      " [             ]\n",
      " [             ]\n",
      " [        X    ]\n",
      "  0 1 2 3 4 5 6\n",
      "AI plays\n",
      "{0: 0.9054622998379851, 1: 0.9229887723764063, 2: 0.8194148726887243, 3: 0.8286991577880327, 4: 0.8696122782262095, 5: 0.9054622998379851, 6: 0.9143539574243043}\n",
      " [             ]\n",
      " [             ]\n",
      " [             ]\n",
      " [             ]\n",
      " [        O    ]\n",
      " [        X    ]\n",
      "  0 1 2 3 4 5 6\n",
      "You play, enter a column index\n",
      "3\n",
      " [             ]\n",
      " [             ]\n",
      " [             ]\n",
      " [             ]\n",
      " [        O    ]\n",
      " [      X X    ]\n",
      "  0 1 2 3 4 5 6\n",
      "AI plays\n",
      "{0: 2.050548270340074, 1: 2.1934054131972167, 2: 2.097631871758759, 3: 1.9309652050920927, 4: 2.1934054131972167, 5: 2.097631871758759, 6: 2.264298538425426}\n",
      " [             ]\n",
      " [             ]\n",
      " [             ]\n",
      " [             ]\n",
      " [        O    ]\n",
      " [      X X   O]\n",
      "  0 1 2 3 4 5 6\n",
      "You play, enter a column index\n",
      "5\n",
      " [             ]\n",
      " [             ]\n",
      " [             ]\n",
      " [             ]\n",
      " [        O    ]\n",
      " [      X X X O]\n",
      "  0 1 2 3 4 5 6\n",
      "AI plays\n",
      "{0: 1.6879125854589505, 1: 1.647670661332744, 2: 1.4476706613327441, 3: 1.735531633077998, 4: 1.6879125854589505, 5: 1.735531633077998, 6: 1.647670661332744}\n",
      " [             ]\n",
      " [             ]\n",
      " [             ]\n",
      " [             ]\n",
      " [        O    ]\n",
      " [  O   X X X O]\n",
      "  0 1 2 3 4 5 6\n",
      "You play, enter a column index\n",
      "3\n",
      " [             ]\n",
      " [             ]\n",
      " [             ]\n",
      " [             ]\n",
      " [      X O    ]\n",
      " [  O   X X X O]\n",
      "  0 1 2 3 4 5 6\n",
      "AI plays\n",
      "{0: 2.09629414793641, 1: 2.09629414793641}\n",
      " [             ]\n",
      " [             ]\n",
      " [             ]\n",
      " [             ]\n",
      " [      X O    ]\n",
      " [  O O X X X O]\n",
      "  0 1 2 3 4 5 6\n",
      "You play, enter a column index\n"
     ]
    }
   ],
   "source": [
    "\n",
    "while True:\n",
    "    # test AI with real play\n",
    "     \n",
    "    rounds = 0\n",
    "    current_node = ai.root\n",
    "    utils_print(root_node.state)\n",
    "    while True:\n",
    "        player = get_player_to_play(current_node.state)\n",
    "        if (rounds % 2) == 0:\n",
    "            #player = -1\n",
    "            print('You play, enter a column index')\n",
    "            move = int(input()) # the human player chooses a move in the interface\n",
    "            while move not in valid_moves(current_node.state):\n",
    "                print(\"Invalid move, please select another column\")\n",
    "                move = int(input())\n",
    "        else:\n",
    "            print('AI plays')\n",
    "            #player = 1\n",
    "            print(ai.get_children_values(current_node))\n",
    "            move = ai.select_move(current_node) #ai move\n",
    "            \n",
    "        \n",
    "        # compute the next grid state after the move occurs    \n",
    "        next_state = play(current_node.state, move)\n",
    "        row = get_row(current_node.state, move) # just for the has_won function\n",
    "        \n",
    "        \n",
    "        # check if this was a winning move\n",
    "        if has_won(next_state, player, row, move) == True:\n",
    "            if player == -1:\n",
    "                \n",
    "                print(ai.get_children_values(current_node))\n",
    "                print(\" You win ! Congrats\")\n",
    "                print(\"Number of rounds : \")\n",
    "                print(rounds)\n",
    "                # use this experience to train your AI: \n",
    "                #TODO\n",
    "            else:\n",
    "                print(\"you were just beaten by a mediocre AI\")\n",
    "                print(\"Number of rounds : \")\n",
    "                print(rounds)\n",
    "            \n",
    "            utils_print(next_state) #display last grid before restarting a game\n",
    "            break\n",
    "        \n",
    "        if move in current_node.children:\n",
    "            current_node = current_node.children[move] \n",
    "        else:\n",
    "            # the chosen move has never been seen by the AI... let's allow it to quickly train\n",
    "            next_node = ai.expand(current_node, player,move)\n",
    "            ai.train(current_node)\n",
    "            current_node = next_node\n",
    "\n",
    "        utils_print(next_state)\n",
    "    \n",
    "        \n",
    "        \n",
    "        rounds += 1\n",
    "\n",
    "\n",
    "#from pdb import set_trace; set_trace()\n"
   ]
  },
  {
   "cell_type": "markdown",
   "metadata": {},
   "source": [
    "### Question: What do you think of the behavior of the AI. What is good ? What could be improved ? \n"
   ]
  },
  {
   "cell_type": "markdown",
   "metadata": {},
   "source": [
    "### Question: For the moment, all the games you play with the AI are not really used to train it because you do not backpropagate the outcomes of your games. Can you code this ? \n"
   ]
  },
  {
   "cell_type": "markdown",
   "metadata": {},
   "source": [
    "## Evaluate your AI\n",
    "\n",
    "To evaluate the quality of your player, you want to make it play against several other ones and get a winning rate. The first obvious adversary is the random player. \n",
    "\n",
    "### Question : Can you code a simple test that returns a winning score after playing against a uniform random player ? "
   ]
  },
  {
   "cell_type": "code",
   "execution_count": null,
   "metadata": {
    "scrolled": true
   },
   "outputs": [],
   "source": [
    "N_games = 5\n",
    "wins = 0\n",
    "nb_rounds = 0\n",
    "\n",
    "for n in range(N_games):\n",
    "    if (n % 10 )==0 and n!=0:\n",
    "        print(\"Played 1 more games.\")\n",
    "        \n",
    "    current_node = ai.root\n",
    "   \n",
    "    rounds = 0\n",
    "    while True:\n",
    "        player = get_player_to_play(current_node.state)\n",
    "        if (round % 2) == 0:  \n",
    "            #player = -1\n",
    "            moves = valid_moves(current_node.state)\n",
    "            move = random.choice(moves)\n",
    "            \n",
    "        else: \n",
    "            #player = 1\n",
    "            move = ai.select_move(current_node) #ai move\n",
    "            \n",
    "\n",
    "        next_state = play(current_node.state, move)\n",
    "        row = get_row(current_node.state, move)\n",
    "\n",
    "        if has_won(next_state, player, row, move) == True:\n",
    "            if player == 1:\n",
    "                wins +=1\n",
    "            nb_rounds += rounds\n",
    "            print(rounds)\n",
    "            \n",
    "            \n",
    "            break\n",
    "\n",
    "        if move in current_node.children:\n",
    "            current_node = current_node.children[move] \n",
    "        else:\n",
    "            next_node = ai.expand(current_node, player,move)\n",
    "            ai.train(current_node)\n",
    "            current_node = next_node\n",
    "\n",
    "        rounds += 1\n",
    "\n",
    "# compute score\n",
    "score = wins / N_games\n",
    "print(\" The score of your AI is:\")\n",
    "print(score)\n",
    "print(\"---------------------------\")\n",
    "print(\"The average number of rounds per game is: \")\n",
    "print(nb_rounds / N_games)"
   ]
  },
  {
   "cell_type": "markdown",
   "metadata": {},
   "source": [
    "Indeed, playing against uniform random is a bit of a cheat... it would be better to test your AI against a better player... but who ? You could play against a human (i.e. you) a hundred times and report how many times you won. But that's quite long. \n",
    "\n",
    "### Bonus Question : Can you think of any other way to evaluate an agent ? Could you code it ?"
   ]
  },
  {
   "cell_type": "code",
   "execution_count": null,
   "metadata": {},
   "outputs": [],
   "source": []
  }
 ],
 "metadata": {
  "kernelspec": {
   "display_name": "Python 3",
   "language": "python",
   "name": "python3"
  },
  "language_info": {
   "codemirror_mode": {
    "name": "ipython",
    "version": 3
   },
   "file_extension": ".py",
   "mimetype": "text/x-python",
   "name": "python",
   "nbconvert_exporter": "python",
   "pygments_lexer": "ipython3",
   "version": "3.7.3"
  }
 },
 "nbformat": 4,
 "nbformat_minor": 2
}
